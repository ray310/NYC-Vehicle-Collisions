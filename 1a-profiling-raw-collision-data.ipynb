{
 "cells": [
  {
   "cell_type": "markdown",
   "id": "64afafe5",
   "metadata": {},
   "source": [
    "# Profiling NYC Collisions Data \n",
    "\n",
    "\n",
    "### Key Questions\n",
    "- What fields are there and are they useful? \n",
    "- Are the fields missing data?\n",
    "- Are there significant gaps in the data over time?\n",
    "- Are there inconsistencies in the total number of people injured or killed and their respective breakdowns into motorist, pedestrian, and cyclist?\n",
    "- Are many collisions missing location data? \n",
    "- Does 'location' match 'latititude' and 'longitude'?\n",
    "- Are collision locations near NYC? \n",
    "\n",
    "### Data Sources\n",
    "- Collision data obtained from https://data.cityofnewyork.us/Public-Safety/Motor-Vehicle-Collisions-Crashes/h9gi-nx95\n",
    " "
   ]
  },
  {
   "cell_type": "code",
   "execution_count": 1,
   "id": "ff499edc",
   "metadata": {
    "scrolled": true
   },
   "outputs": [],
   "source": [
    "from datetime import datetime\n",
    "import math\n",
    "import matplotlib as mpl\n",
    "import matplotlib.pyplot as plt\n",
    "import pandas as pd\n",
    "import pandahelper as ph\n",
    "import scipy.stats\n",
    "from src import visualizations as viz\n",
    "from src.constants import (\n",
    "    NYC_WEST_LIMIT,\n",
    "    NYC_EAST_LIMIT,\n",
    "    NYC_SOUTH_LIMIT,\n",
    "    NYC_NORTH_LIMIT,\n",
    ")"
   ]
  },
  {
   "cell_type": "code",
   "execution_count": 2,
   "id": "040946b6",
   "metadata": {},
   "outputs": [],
   "source": [
    "DATA_LOC = \"data/raw/collisions/Collisions.csv\""
   ]
  },
  {
   "cell_type": "code",
   "execution_count": 3,
   "id": "52cd25c8",
   "metadata": {},
   "outputs": [],
   "source": [
    "data = pd.read_csv(\n",
    "    DATA_LOC,\n",
    "    dtype={\"ZIP CODE\": \"object\"},\n",
    "    low_memory=False,\n",
    ")  # read_csv interprets zip code as mixed type"
   ]
  },
  {
   "cell_type": "markdown",
   "id": "0f61aeed",
   "metadata": {},
   "source": [
    "# Overview of DataFrame"
   ]
  },
  {
   "cell_type": "code",
   "execution_count": 4,
   "id": "bed9cf75",
   "metadata": {},
   "outputs": [
    {
     "data": {
      "text/html": [
       "<table>\n",
       "<thead>\n",
       "<tr><th style=\"font-family: monospace, monospace; text-align: left;\">DataFrame-Level Info  </th><th style=\"font-family: monospace, monospace; text-align: left;\"> </th></tr>\n",
       "</thead>\n",
       "<tbody>\n",
       "<tr><td style=\"font-family: monospace, monospace; text-align: left;\">DF Shape              </td><td style=\"font-family: monospace, monospace; text-align: left;\">(2093912, 29)</td></tr>\n",
       "<tr><td style=\"font-family: monospace, monospace; text-align: left;\">Duplicated Rows       </td><td style=\"font-family: monospace, monospace; text-align: left;\">0            </td></tr>\n",
       "<tr><td style=\"font-family: monospace, monospace; text-align: left;\">Memory Usage (MB)     </td><td style=\"font-family: monospace, monospace; text-align: left;\">2,047.936    </td></tr>\n",
       "</tbody>\n",
       "</table><br><table>\n",
       "<thead>\n",
       "<tr><th style=\"font-family: monospace, monospace; text-align: left;\">Series Name                  </th><th style=\"font-family: monospace, monospace; text-align: left;\">Data Type  </th><th style=\"font-family: monospace, monospace; text-align: left;\">  Memory Usage (MB)</th></tr>\n",
       "</thead>\n",
       "<tbody>\n",
       "<tr><td style=\"font-family: monospace, monospace; text-align: left;\">Index                        </td><td style=\"font-family: monospace, monospace; text-align: left;\">int64      </td><td style=\"font-family: monospace, monospace; text-align: left;\">           0.000132</td></tr>\n",
       "<tr><td style=\"font-family: monospace, monospace; text-align: left;\">CRASH DATE                   </td><td style=\"font-family: monospace, monospace; text-align: left;\">object     </td><td style=\"font-family: monospace, monospace; text-align: left;\">         123.541   </td></tr>\n",
       "<tr><td style=\"font-family: monospace, monospace; text-align: left;\">CRASH TIME                   </td><td style=\"font-family: monospace, monospace; text-align: left;\">object     </td><td style=\"font-family: monospace, monospace; text-align: left;\">         112.52    </td></tr>\n",
       "<tr><td style=\"font-family: monospace, monospace; text-align: left;\">BOROUGH                      </td><td style=\"font-family: monospace, monospace; text-align: left;\">object     </td><td style=\"font-family: monospace, monospace; text-align: left;\">         102.276   </td></tr>\n",
       "<tr><td style=\"font-family: monospace, monospace; text-align: left;\">ZIP CODE                     </td><td style=\"font-family: monospace, monospace; text-align: left;\">object     </td><td style=\"font-family: monospace, monospace; text-align: left;\">          98.732   </td></tr>\n",
       "<tr><td style=\"font-family: monospace, monospace; text-align: left;\">LATITUDE                     </td><td style=\"font-family: monospace, monospace; text-align: left;\">float64    </td><td style=\"font-family: monospace, monospace; text-align: left;\">          16.7513  </td></tr>\n",
       "<tr><td style=\"font-family: monospace, monospace; text-align: left;\">LONGITUDE                    </td><td style=\"font-family: monospace, monospace; text-align: left;\">float64    </td><td style=\"font-family: monospace, monospace; text-align: left;\">          16.7513  </td></tr>\n",
       "<tr><td style=\"font-family: monospace, monospace; text-align: left;\">LOCATION                     </td><td style=\"font-family: monospace, monospace; text-align: left;\">object     </td><td style=\"font-family: monospace, monospace; text-align: left;\">         140.938   </td></tr>\n",
       "<tr><td style=\"font-family: monospace, monospace; text-align: left;\">ON STREET NAME               </td><td style=\"font-family: monospace, monospace; text-align: left;\">object     </td><td style=\"font-family: monospace, monospace; text-align: left;\">         143.656   </td></tr>\n",
       "<tr><td style=\"font-family: monospace, monospace; text-align: left;\">CROSS STREET NAME            </td><td style=\"font-family: monospace, monospace; text-align: left;\">object     </td><td style=\"font-family: monospace, monospace; text-align: left;\">         118.537   </td></tr>\n",
       "<tr><td style=\"font-family: monospace, monospace; text-align: left;\">OFF STREET NAME              </td><td style=\"font-family: monospace, monospace; text-align: left;\">object     </td><td style=\"font-family: monospace, monospace; text-align: left;\">          85.6793  </td></tr>\n",
       "<tr><td style=\"font-family: monospace, monospace; text-align: left;\">NUMBER OF PERSONS INJURED    </td><td style=\"font-family: monospace, monospace; text-align: left;\">float64    </td><td style=\"font-family: monospace, monospace; text-align: left;\">          16.7513  </td></tr>\n",
       "<tr><td style=\"font-family: monospace, monospace; text-align: left;\">NUMBER OF PERSONS KILLED     </td><td style=\"font-family: monospace, monospace; text-align: left;\">float64    </td><td style=\"font-family: monospace, monospace; text-align: left;\">          16.7513  </td></tr>\n",
       "<tr><td style=\"font-family: monospace, monospace; text-align: left;\">NUMBER OF PEDESTRIANS INJURED</td><td style=\"font-family: monospace, monospace; text-align: left;\">int64      </td><td style=\"font-family: monospace, monospace; text-align: left;\">          16.7513  </td></tr>\n",
       "<tr><td style=\"font-family: monospace, monospace; text-align: left;\">NUMBER OF PEDESTRIANS KILLED </td><td style=\"font-family: monospace, monospace; text-align: left;\">int64      </td><td style=\"font-family: monospace, monospace; text-align: left;\">          16.7513  </td></tr>\n",
       "<tr><td style=\"font-family: monospace, monospace; text-align: left;\">NUMBER OF CYCLIST INJURED    </td><td style=\"font-family: monospace, monospace; text-align: left;\">int64      </td><td style=\"font-family: monospace, monospace; text-align: left;\">          16.7513  </td></tr>\n",
       "<tr><td style=\"font-family: monospace, monospace; text-align: left;\">NUMBER OF CYCLIST KILLED     </td><td style=\"font-family: monospace, monospace; text-align: left;\">int64      </td><td style=\"font-family: monospace, monospace; text-align: left;\">          16.7513  </td></tr>\n",
       "<tr><td style=\"font-family: monospace, monospace; text-align: left;\">NUMBER OF MOTORIST INJURED   </td><td style=\"font-family: monospace, monospace; text-align: left;\">int64      </td><td style=\"font-family: monospace, monospace; text-align: left;\">          16.7513  </td></tr>\n",
       "<tr><td style=\"font-family: monospace, monospace; text-align: left;\">NUMBER OF MOTORIST KILLED    </td><td style=\"font-family: monospace, monospace; text-align: left;\">int64      </td><td style=\"font-family: monospace, monospace; text-align: left;\">          16.7513  </td></tr>\n",
       "<tr><td style=\"font-family: monospace, monospace; text-align: left;\">CONTRIBUTING FACTOR VEHICLE 1</td><td style=\"font-family: monospace, monospace; text-align: left;\">object     </td><td style=\"font-family: monospace, monospace; text-align: left;\">         143.222   </td></tr>\n",
       "<tr><td style=\"font-family: monospace, monospace; text-align: left;\">CONTRIBUTING FACTOR VEHICLE 2</td><td style=\"font-family: monospace, monospace; text-align: left;\">object     </td><td style=\"font-family: monospace, monospace; text-align: left;\">         120.132   </td></tr>\n",
       "<tr><td style=\"font-family: monospace, monospace; text-align: left;\">CONTRIBUTING FACTOR VEHICLE 3</td><td style=\"font-family: monospace, monospace; text-align: left;\">object     </td><td style=\"font-family: monospace, monospace; text-align: left;\">          71.3014  </td></tr>\n",
       "<tr><td style=\"font-family: monospace, monospace; text-align: left;\">CONTRIBUTING FACTOR VEHICLE 4</td><td style=\"font-family: monospace, monospace; text-align: left;\">object     </td><td style=\"font-family: monospace, monospace; text-align: left;\">          67.9711  </td></tr>\n",
       "<tr><td style=\"font-family: monospace, monospace; text-align: left;\">CONTRIBUTING FACTOR VEHICLE 5</td><td style=\"font-family: monospace, monospace; text-align: left;\">object     </td><td style=\"font-family: monospace, monospace; text-align: left;\">          67.267   </td></tr>\n",
       "<tr><td style=\"font-family: monospace, monospace; text-align: left;\">COLLISION_ID                 </td><td style=\"font-family: monospace, monospace; text-align: left;\">int64      </td><td style=\"font-family: monospace, monospace; text-align: left;\">          16.7513  </td></tr>\n",
       "<tr><td style=\"font-family: monospace, monospace; text-align: left;\">VEHICLE TYPE CODE 1          </td><td style=\"font-family: monospace, monospace; text-align: left;\">object     </td><td style=\"font-family: monospace, monospace; text-align: left;\">         137.473   </td></tr>\n",
       "<tr><td style=\"font-family: monospace, monospace; text-align: left;\">VEHICLE TYPE CODE 2          </td><td style=\"font-family: monospace, monospace; text-align: left;\">object     </td><td style=\"font-family: monospace, monospace; text-align: left;\">         122.944   </td></tr>\n",
       "<tr><td style=\"font-family: monospace, monospace; text-align: left;\">VEHICLE TYPE CODE 3          </td><td style=\"font-family: monospace, monospace; text-align: left;\">object     </td><td style=\"font-family: monospace, monospace; text-align: left;\">          72.0132  </td></tr>\n",
       "<tr><td style=\"font-family: monospace, monospace; text-align: left;\">VEHICLE TYPE CODE 4          </td><td style=\"font-family: monospace, monospace; text-align: left;\">object     </td><td style=\"font-family: monospace, monospace; text-align: left;\">          68.1495  </td></tr>\n",
       "<tr><td style=\"font-family: monospace, monospace; text-align: left;\">VEHICLE TYPE CODE 5          </td><td style=\"font-family: monospace, monospace; text-align: left;\">object     </td><td style=\"font-family: monospace, monospace; text-align: left;\">          67.319   </td></tr>\n",
       "</tbody>\n",
       "</table><br><table>\n",
       "<thead>\n",
       "<tr><th style=\"font-family: monospace, monospace; text-align: left;\">Summary of Nulls Per Row  </th><th style=\"font-family: monospace, monospace; text-align: left;\"> </th></tr>\n",
       "</thead>\n",
       "<tbody>\n",
       "<tr><td style=\"font-family: monospace, monospace; text-align: left;\">Number of Columns         </td><td style=\"font-family: monospace, monospace; text-align: left;\">29       </td></tr>\n",
       "<tr><td style=\"font-family: monospace, monospace; text-align: left;\">min                       </td><td style=\"font-family: monospace, monospace; text-align: left;\"> 1       </td></tr>\n",
       "<tr><td style=\"font-family: monospace, monospace; text-align: left;\">1%                        </td><td style=\"font-family: monospace, monospace; text-align: left;\"> 4       </td></tr>\n",
       "<tr><td style=\"font-family: monospace, monospace; text-align: left;\">5%                        </td><td style=\"font-family: monospace, monospace; text-align: left;\"> 7       </td></tr>\n",
       "<tr><td style=\"font-family: monospace, monospace; text-align: left;\">25%                       </td><td style=\"font-family: monospace, monospace; text-align: left;\"> 7       </td></tr>\n",
       "<tr><td style=\"font-family: monospace, monospace; text-align: left;\">50%                       </td><td style=\"font-family: monospace, monospace; text-align: left;\"> 8       </td></tr>\n",
       "<tr><td style=\"font-family: monospace, monospace; text-align: left;\">75%                       </td><td style=\"font-family: monospace, monospace; text-align: left;\">10       </td></tr>\n",
       "<tr><td style=\"font-family: monospace, monospace; text-align: left;\">95%                       </td><td style=\"font-family: monospace, monospace; text-align: left;\">12       </td></tr>\n",
       "<tr><td style=\"font-family: monospace, monospace; text-align: left;\">99%                       </td><td style=\"font-family: monospace, monospace; text-align: left;\">14       </td></tr>\n",
       "<tr><td style=\"font-family: monospace, monospace; text-align: left;\">max                       </td><td style=\"font-family: monospace, monospace; text-align: left;\">18       </td></tr>\n",
       "<tr><td style=\"font-family: monospace, monospace; text-align: left;\">mean                      </td><td style=\"font-family: monospace, monospace; text-align: left;\"> 8.55919 </td></tr>\n",
       "<tr><td style=\"font-family: monospace, monospace; text-align: left;\">standard deviation        </td><td style=\"font-family: monospace, monospace; text-align: left;\"> 2.10974 </td></tr>\n",
       "<tr><td style=\"font-family: monospace, monospace; text-align: left;\">median                    </td><td style=\"font-family: monospace, monospace; text-align: left;\"> 8       </td></tr>\n",
       "<tr><td style=\"font-family: monospace, monospace; text-align: left;\">median absolute deviation </td><td style=\"font-family: monospace, monospace; text-align: left;\"> 1       </td></tr>\n",
       "<tr><td style=\"font-family: monospace, monospace; text-align: left;\">skew                      </td><td style=\"font-family: monospace, monospace; text-align: left;\"> 0.610835</td></tr>\n",
       "</tbody>\n",
       "</table>"
      ],
      "text/plain": [
       "DataFrame-Level Info\n",
       "----------------------  -------------\n",
       "DF Shape                (2093912, 29)\n",
       "Duplicated Rows         0\n",
       "Memory Usage (MB)       2,047.936\n",
       "\n",
       "Series Name                    Data Type      Memory Usage (MB)\n",
       "-----------------------------  -----------  -------------------\n",
       "Index                          int64                   0.000132\n",
       "CRASH DATE                     object                123.541\n",
       "CRASH TIME                     object                112.52\n",
       "BOROUGH                        object                102.276\n",
       "ZIP CODE                       object                 98.732\n",
       "LATITUDE                       float64                16.7513\n",
       "LONGITUDE                      float64                16.7513\n",
       "LOCATION                       object                140.938\n",
       "ON STREET NAME                 object                143.656\n",
       "CROSS STREET NAME              object                118.537\n",
       "OFF STREET NAME                object                 85.6793\n",
       "NUMBER OF PERSONS INJURED      float64                16.7513\n",
       "NUMBER OF PERSONS KILLED       float64                16.7513\n",
       "NUMBER OF PEDESTRIANS INJURED  int64                  16.7513\n",
       "NUMBER OF PEDESTRIANS KILLED   int64                  16.7513\n",
       "NUMBER OF CYCLIST INJURED      int64                  16.7513\n",
       "NUMBER OF CYCLIST KILLED       int64                  16.7513\n",
       "NUMBER OF MOTORIST INJURED     int64                  16.7513\n",
       "NUMBER OF MOTORIST KILLED      int64                  16.7513\n",
       "CONTRIBUTING FACTOR VEHICLE 1  object                143.222\n",
       "CONTRIBUTING FACTOR VEHICLE 2  object                120.132\n",
       "CONTRIBUTING FACTOR VEHICLE 3  object                 71.3014\n",
       "CONTRIBUTING FACTOR VEHICLE 4  object                 67.9711\n",
       "CONTRIBUTING FACTOR VEHICLE 5  object                 67.267\n",
       "COLLISION_ID                   int64                  16.7513\n",
       "VEHICLE TYPE CODE 1            object                137.473\n",
       "VEHICLE TYPE CODE 2            object                122.944\n",
       "VEHICLE TYPE CODE 3            object                 72.0132\n",
       "VEHICLE TYPE CODE 4            object                 68.1495\n",
       "VEHICLE TYPE CODE 5            object                 67.319\n",
       "\n",
       "Summary of Nulls Per Row\n",
       "--------------------------  ---------\n",
       "Number of Columns           29\n",
       "min                          1\n",
       "1%                           4\n",
       "5%                           7\n",
       "25%                          7\n",
       "50%                          8\n",
       "75%                         10\n",
       "95%                         12\n",
       "99%                         14\n",
       "max                         18\n",
       "mean                         8.55919\n",
       "standard deviation           2.10974\n",
       "median                       8\n",
       "median absolute deviation    1\n",
       "skew                         0.610835"
      ]
     },
     "execution_count": 4,
     "metadata": {},
     "output_type": "execute_result"
    }
   ],
   "source": [
    "ph.DataFrameProfile(data)"
   ]
  },
  {
   "cell_type": "markdown",
   "id": "c943f20e",
   "metadata": {},
   "source": [
    "# Examining individual fields (columns)"
   ]
  },
  {
   "cell_type": "code",
   "execution_count": 5,
   "id": "4b7f0147",
   "metadata": {},
   "outputs": [
    {
     "data": {
      "text/html": [
       "<table>\n",
       "<thead>\n",
       "<tr><th style=\"font-family: monospace, monospace; text-align: left;\">COLLISION_ID Info  </th><th style=\"font-family: monospace, monospace; text-align: left;\"> </th></tr>\n",
       "</thead>\n",
       "<tbody>\n",
       "<tr><td style=\"font-family: monospace, monospace; text-align: left;\">Data Type          </td><td style=\"font-family: monospace, monospace; text-align: left;\">int64  </td></tr>\n",
       "<tr><td style=\"font-family: monospace, monospace; text-align: left;\">Count              </td><td style=\"font-family: monospace, monospace; text-align: left;\">2093912</td></tr>\n",
       "<tr><td style=\"font-family: monospace, monospace; text-align: left;\">Unique Values      </td><td style=\"font-family: monospace, monospace; text-align: left;\">2093912</td></tr>\n",
       "<tr><td style=\"font-family: monospace, monospace; text-align: left;\">Null Values        </td><td style=\"font-family: monospace, monospace; text-align: left;\">0      </td></tr>\n",
       "</tbody>\n",
       "</table><br><table>\n",
       "<thead>\n",
       "<tr><th style=\"font-family: monospace, monospace; text-align: left;\">  Value</th><th style=\"font-family: monospace, monospace; text-align: left;\">  Count</th><th style=\"font-family: monospace, monospace; text-align: left;\">% of total  </th></tr>\n",
       "</thead>\n",
       "<tbody>\n",
       "<tr><td style=\"font-family: monospace, monospace; text-align: left;\">4455765</td><td style=\"font-family: monospace, monospace; text-align: left;\">      1</td><td style=\"font-family: monospace, monospace; text-align: left;\">0.00%       </td></tr>\n",
       "<tr><td style=\"font-family: monospace, monospace; text-align: left;\">4486284</td><td style=\"font-family: monospace, monospace; text-align: left;\">      1</td><td style=\"font-family: monospace, monospace; text-align: left;\">0.00%       </td></tr>\n",
       "<tr><td style=\"font-family: monospace, monospace; text-align: left;\">4486609</td><td style=\"font-family: monospace, monospace; text-align: left;\">      1</td><td style=\"font-family: monospace, monospace; text-align: left;\">0.00%       </td></tr>\n",
       "<tr><td style=\"font-family: monospace, monospace; text-align: left;\">4407458</td><td style=\"font-family: monospace, monospace; text-align: left;\">      1</td><td style=\"font-family: monospace, monospace; text-align: left;\">0.00%       </td></tr>\n",
       "<tr><td style=\"font-family: monospace, monospace; text-align: left;\">4486555</td><td style=\"font-family: monospace, monospace; text-align: left;\">      1</td><td style=\"font-family: monospace, monospace; text-align: left;\">0.00%       </td></tr>\n",
       "<tr><td style=\"font-family: monospace, monospace; text-align: left;\">4486660</td><td style=\"font-family: monospace, monospace; text-align: left;\">      1</td><td style=\"font-family: monospace, monospace; text-align: left;\">0.00%       </td></tr>\n",
       "<tr><td style=\"font-family: monospace, monospace; text-align: left;\">4487074</td><td style=\"font-family: monospace, monospace; text-align: left;\">      1</td><td style=\"font-family: monospace, monospace; text-align: left;\">0.00%       </td></tr>\n",
       "<tr><td style=\"font-family: monospace, monospace; text-align: left;\">4486519</td><td style=\"font-family: monospace, monospace; text-align: left;\">      1</td><td style=\"font-family: monospace, monospace; text-align: left;\">0.00%       </td></tr>\n",
       "<tr><td style=\"font-family: monospace, monospace; text-align: left;\">4486934</td><td style=\"font-family: monospace, monospace; text-align: left;\">      1</td><td style=\"font-family: monospace, monospace; text-align: left;\">0.00%       </td></tr>\n",
       "<tr><td style=\"font-family: monospace, monospace; text-align: left;\">4487127</td><td style=\"font-family: monospace, monospace; text-align: left;\">      1</td><td style=\"font-family: monospace, monospace; text-align: left;\">0.00%       </td></tr>\n",
       "<tr><td style=\"font-family: monospace, monospace; text-align: left;\">4730356</td><td style=\"font-family: monospace, monospace; text-align: left;\">      1</td><td style=\"font-family: monospace, monospace; text-align: left;\">0.00%       </td></tr>\n",
       "<tr><td style=\"font-family: monospace, monospace; text-align: left;\">4730647</td><td style=\"font-family: monospace, monospace; text-align: left;\">      1</td><td style=\"font-family: monospace, monospace; text-align: left;\">0.00%       </td></tr>\n",
       "<tr><td style=\"font-family: monospace, monospace; text-align: left;\">4730503</td><td style=\"font-family: monospace, monospace; text-align: left;\">      1</td><td style=\"font-family: monospace, monospace; text-align: left;\">0.00%       </td></tr>\n",
       "<tr><td style=\"font-family: monospace, monospace; text-align: left;\">4729994</td><td style=\"font-family: monospace, monospace; text-align: left;\">      1</td><td style=\"font-family: monospace, monospace; text-align: left;\">0.00%       </td></tr>\n",
       "<tr><td style=\"font-family: monospace, monospace; text-align: left;\">4730198</td><td style=\"font-family: monospace, monospace; text-align: left;\">      1</td><td style=\"font-family: monospace, monospace; text-align: left;\">0.00%       </td></tr>\n",
       "</tbody>\n",
       "</table><br><table>\n",
       "<thead>\n",
       "<tr><th style=\"font-family: monospace, monospace; text-align: left;\">Statistic                </th><th style=\"font-family: monospace, monospace; text-align: left;\">           Value</th></tr>\n",
       "</thead>\n",
       "<tbody>\n",
       "<tr><td style=\"font-family: monospace, monospace; text-align: left;\">count                    </td><td style=\"font-family: monospace, monospace; text-align: left;\">     2.09391e+06</td></tr>\n",
       "<tr><td style=\"font-family: monospace, monospace; text-align: left;\">min                      </td><td style=\"font-family: monospace, monospace; text-align: left;\">    22          </td></tr>\n",
       "<tr><td style=\"font-family: monospace, monospace; text-align: left;\">1%                       </td><td style=\"font-family: monospace, monospace; text-align: left;\"> 21086.1        </td></tr>\n",
       "<tr><td style=\"font-family: monospace, monospace; text-align: left;\">5%                       </td><td style=\"font-family: monospace, monospace; text-align: left;\">105550          </td></tr>\n",
       "<tr><td style=\"font-family: monospace, monospace; text-align: left;\">25%                      </td><td style=\"font-family: monospace, monospace; text-align: left;\">     3.1596e+06 </td></tr>\n",
       "<tr><td style=\"font-family: monospace, monospace; text-align: left;\">50%                      </td><td style=\"font-family: monospace, monospace; text-align: left;\">     3.6832e+06 </td></tr>\n",
       "<tr><td style=\"font-family: monospace, monospace; text-align: left;\">75%                      </td><td style=\"font-family: monospace, monospace; text-align: left;\">     4.20692e+06</td></tr>\n",
       "<tr><td style=\"font-family: monospace, monospace; text-align: left;\">95%                      </td><td style=\"font-family: monospace, monospace; text-align: left;\">     4.62578e+06</td></tr>\n",
       "<tr><td style=\"font-family: monospace, monospace; text-align: left;\">99%                      </td><td style=\"font-family: monospace, monospace; text-align: left;\">     4.70954e+06</td></tr>\n",
       "<tr><td style=\"font-family: monospace, monospace; text-align: left;\">max                      </td><td style=\"font-family: monospace, monospace; text-align: left;\">     4.73068e+06</td></tr>\n",
       "<tr><td style=\"font-family: monospace, monospace; text-align: left;\">mean                     </td><td style=\"font-family: monospace, monospace; text-align: left;\">     3.17341e+06</td></tr>\n",
       "<tr><td style=\"font-family: monospace, monospace; text-align: left;\">standard deviation       </td><td style=\"font-family: monospace, monospace; text-align: left;\">     1.50559e+06</td></tr>\n",
       "<tr><td style=\"font-family: monospace, monospace; text-align: left;\">median                   </td><td style=\"font-family: monospace, monospace; text-align: left;\">     3.6832e+06 </td></tr>\n",
       "<tr><td style=\"font-family: monospace, monospace; text-align: left;\">median absolute deviation</td><td style=\"font-family: monospace, monospace; text-align: left;\">523663          </td></tr>\n",
       "<tr><td style=\"font-family: monospace, monospace; text-align: left;\">skew                     </td><td style=\"font-family: monospace, monospace; text-align: left;\">    -1.22937    </td></tr>\n",
       "</tbody>\n",
       "</table>"
      ],
      "text/plain": [
       "COLLISION_ID Info\n",
       "-------------------  -------\n",
       "Data Type            int64\n",
       "Count                2093912\n",
       "Unique Values        2093912\n",
       "Null Values          0\n",
       "\n",
       "  Value    Count  % of total\n",
       "-------  -------  ------------\n",
       "4455765        1  0.00%\n",
       "4486284        1  0.00%\n",
       "4486609        1  0.00%\n",
       "4407458        1  0.00%\n",
       "4486555        1  0.00%\n",
       "4486660        1  0.00%\n",
       "4487074        1  0.00%\n",
       "4486519        1  0.00%\n",
       "4486934        1  0.00%\n",
       "4487127        1  0.00%\n",
       "4730356        1  0.00%\n",
       "4730647        1  0.00%\n",
       "4730503        1  0.00%\n",
       "4729994        1  0.00%\n",
       "4730198        1  0.00%\n",
       "\n",
       "Statistic                             Value\n",
       "-------------------------  ----------------\n",
       "count                           2.09391e+06\n",
       "min                            22\n",
       "1%                          21086.1\n",
       "5%                         105550\n",
       "25%                             3.1596e+06\n",
       "50%                             3.6832e+06\n",
       "75%                             4.20692e+06\n",
       "95%                             4.62578e+06\n",
       "99%                             4.70954e+06\n",
       "max                             4.73068e+06\n",
       "mean                            3.17341e+06\n",
       "standard deviation              1.50559e+06\n",
       "median                          3.6832e+06\n",
       "median absolute deviation  523663\n",
       "skew                           -1.22937"
      ]
     },
     "execution_count": 5,
     "metadata": {},
     "output_type": "execute_result"
    }
   ],
   "source": [
    "collision_id_report = ph.SeriesProfile(data[\"COLLISION_ID\"])\n",
    "collision_id_report"
   ]
  },
  {
   "cell_type": "markdown",
   "id": "1c4200bd",
   "metadata": {},
   "source": [
    "Collision_ID is the primary key according to the dataset dictionary. We confirm that all its values are unique."
   ]
  },
  {
   "cell_type": "code",
   "execution_count": 6,
   "id": "eb432080",
   "metadata": {},
   "outputs": [
    {
     "data": {
      "text/html": [
       "<table>\n",
       "<thead>\n",
       "<tr><th style=\"font-family: monospace, monospace; text-align: left;\">CRASH TIME Info  </th><th style=\"font-family: monospace, monospace; text-align: left;\"> </th></tr>\n",
       "</thead>\n",
       "<tbody>\n",
       "<tr><td style=\"font-family: monospace, monospace; text-align: left;\">Data Type        </td><td style=\"font-family: monospace, monospace; text-align: left;\">object </td></tr>\n",
       "<tr><td style=\"font-family: monospace, monospace; text-align: left;\">Count            </td><td style=\"font-family: monospace, monospace; text-align: left;\">2093912</td></tr>\n",
       "<tr><td style=\"font-family: monospace, monospace; text-align: left;\">Unique Values    </td><td style=\"font-family: monospace, monospace; text-align: left;\">1440   </td></tr>\n",
       "<tr><td style=\"font-family: monospace, monospace; text-align: left;\">Null Values      </td><td style=\"font-family: monospace, monospace; text-align: left;\">0      </td></tr>\n",
       "</tbody>\n",
       "</table><br><table>\n",
       "<thead>\n",
       "<tr><th style=\"font-family: monospace, monospace; text-align: left;\">Value  </th><th style=\"font-family: monospace, monospace; text-align: left;\">  Count</th><th style=\"font-family: monospace, monospace; text-align: left;\">% of total  </th></tr>\n",
       "</thead>\n",
       "<tbody>\n",
       "<tr><td style=\"font-family: monospace, monospace; text-align: left;\">16:00  </td><td style=\"font-family: monospace, monospace; text-align: left;\">  28567</td><td style=\"font-family: monospace, monospace; text-align: left;\">1.36%       </td></tr>\n",
       "<tr><td style=\"font-family: monospace, monospace; text-align: left;\">17:00  </td><td style=\"font-family: monospace, monospace; text-align: left;\">  28053</td><td style=\"font-family: monospace, monospace; text-align: left;\">1.34%       </td></tr>\n",
       "<tr><td style=\"font-family: monospace, monospace; text-align: left;\">15:00  </td><td style=\"font-family: monospace, monospace; text-align: left;\">  28019</td><td style=\"font-family: monospace, monospace; text-align: left;\">1.34%       </td></tr>\n",
       "<tr><td style=\"font-family: monospace, monospace; text-align: left;\">18:00  </td><td style=\"font-family: monospace, monospace; text-align: left;\">  25920</td><td style=\"font-family: monospace, monospace; text-align: left;\">1.24%       </td></tr>\n",
       "<tr><td style=\"font-family: monospace, monospace; text-align: left;\">14:00  </td><td style=\"font-family: monospace, monospace; text-align: left;\">  25677</td><td style=\"font-family: monospace, monospace; text-align: left;\">1.23%       </td></tr>\n",
       "<tr><td style=\"font-family: monospace, monospace; text-align: left;\">13:00  </td><td style=\"font-family: monospace, monospace; text-align: left;\">  23875</td><td style=\"font-family: monospace, monospace; text-align: left;\">1.14%       </td></tr>\n",
       "<tr><td style=\"font-family: monospace, monospace; text-align: left;\">9:00   </td><td style=\"font-family: monospace, monospace; text-align: left;\">  21700</td><td style=\"font-family: monospace, monospace; text-align: left;\">1.04%       </td></tr>\n",
       "<tr><td style=\"font-family: monospace, monospace; text-align: left;\">12:00  </td><td style=\"font-family: monospace, monospace; text-align: left;\">  21584</td><td style=\"font-family: monospace, monospace; text-align: left;\">1.03%       </td></tr>\n",
       "<tr><td style=\"font-family: monospace, monospace; text-align: left;\">19:00  </td><td style=\"font-family: monospace, monospace; text-align: left;\">  21566</td><td style=\"font-family: monospace, monospace; text-align: left;\">1.03%       </td></tr>\n",
       "<tr><td style=\"font-family: monospace, monospace; text-align: left;\">0:00   </td><td style=\"font-family: monospace, monospace; text-align: left;\">  21044</td><td style=\"font-family: monospace, monospace; text-align: left;\">1.01%       </td></tr>\n",
       "<tr><td style=\"font-family: monospace, monospace; text-align: left;\">3:41   </td><td style=\"font-family: monospace, monospace; text-align: left;\">    105</td><td style=\"font-family: monospace, monospace; text-align: left;\">0.01%       </td></tr>\n",
       "<tr><td style=\"font-family: monospace, monospace; text-align: left;\">3:31   </td><td style=\"font-family: monospace, monospace; text-align: left;\">    101</td><td style=\"font-family: monospace, monospace; text-align: left;\">0.00%       </td></tr>\n",
       "<tr><td style=\"font-family: monospace, monospace; text-align: left;\">3:59   </td><td style=\"font-family: monospace, monospace; text-align: left;\">    101</td><td style=\"font-family: monospace, monospace; text-align: left;\">0.00%       </td></tr>\n",
       "<tr><td style=\"font-family: monospace, monospace; text-align: left;\">2:31   </td><td style=\"font-family: monospace, monospace; text-align: left;\">     99</td><td style=\"font-family: monospace, monospace; text-align: left;\">0.00%       </td></tr>\n",
       "<tr><td style=\"font-family: monospace, monospace; text-align: left;\">4:31   </td><td style=\"font-family: monospace, monospace; text-align: left;\">     95</td><td style=\"font-family: monospace, monospace; text-align: left;\">0.00%       </td></tr>\n",
       "</tbody>\n",
       "</table>"
      ],
      "text/plain": [
       "CRASH TIME Info\n",
       "-----------------  -------\n",
       "Data Type          object\n",
       "Count              2093912\n",
       "Unique Values      1440\n",
       "Null Values        0\n",
       "\n",
       "Value      Count  % of total\n",
       "-------  -------  ------------\n",
       "16:00      28567  1.36%\n",
       "17:00      28053  1.34%\n",
       "15:00      28019  1.34%\n",
       "18:00      25920  1.24%\n",
       "14:00      25677  1.23%\n",
       "13:00      23875  1.14%\n",
       "9:00       21700  1.04%\n",
       "12:00      21584  1.03%\n",
       "19:00      21566  1.03%\n",
       "0:00       21044  1.01%\n",
       "3:41         105  0.01%\n",
       "3:31         101  0.00%\n",
       "3:59         101  0.00%\n",
       "2:31          99  0.00%\n",
       "4:31          95  0.00%"
      ]
     },
     "execution_count": 6,
     "metadata": {},
     "output_type": "execute_result"
    }
   ],
   "source": [
    "time_report = ph.SeriesProfile(data[\"CRASH TIME\"])\n",
    "time_report"
   ]
  },
  {
   "cell_type": "code",
   "execution_count": 7,
   "id": "b1332a3d-ae49-46c6-9d16-18866a6adafc",
   "metadata": {},
   "outputs": [
    {
     "data": {
      "text/html": [
       "<table>\n",
       "<thead>\n",
       "<tr><th style=\"font-family: monospace, monospace; text-align: left;\">CRASH DATE Info  </th><th style=\"font-family: monospace, monospace; text-align: left;\"> </th></tr>\n",
       "</thead>\n",
       "<tbody>\n",
       "<tr><td style=\"font-family: monospace, monospace; text-align: left;\">Data Type        </td><td style=\"font-family: monospace, monospace; text-align: left;\">object </td></tr>\n",
       "<tr><td style=\"font-family: monospace, monospace; text-align: left;\">Count            </td><td style=\"font-family: monospace, monospace; text-align: left;\">2093912</td></tr>\n",
       "<tr><td style=\"font-family: monospace, monospace; text-align: left;\">Unique Values    </td><td style=\"font-family: monospace, monospace; text-align: left;\">4357   </td></tr>\n",
       "<tr><td style=\"font-family: monospace, monospace; text-align: left;\">Null Values      </td><td style=\"font-family: monospace, monospace; text-align: left;\">0      </td></tr>\n",
       "</tbody>\n",
       "</table><br><table>\n",
       "<thead>\n",
       "<tr><th style=\"font-family: monospace, monospace; text-align: left;\">Value     </th><th style=\"font-family: monospace, monospace; text-align: left;\">  Count</th><th style=\"font-family: monospace, monospace; text-align: left;\">% of total  </th></tr>\n",
       "</thead>\n",
       "<tbody>\n",
       "<tr><td style=\"font-family: monospace, monospace; text-align: left;\">01/21/2014</td><td style=\"font-family: monospace, monospace; text-align: left;\">   1161</td><td style=\"font-family: monospace, monospace; text-align: left;\">0.06%       </td></tr>\n",
       "<tr><td style=\"font-family: monospace, monospace; text-align: left;\">11/15/2018</td><td style=\"font-family: monospace, monospace; text-align: left;\">   1065</td><td style=\"font-family: monospace, monospace; text-align: left;\">0.05%       </td></tr>\n",
       "<tr><td style=\"font-family: monospace, monospace; text-align: left;\">12/15/2017</td><td style=\"font-family: monospace, monospace; text-align: left;\">    999</td><td style=\"font-family: monospace, monospace; text-align: left;\">0.05%       </td></tr>\n",
       "<tr><td style=\"font-family: monospace, monospace; text-align: left;\">05/19/2017</td><td style=\"font-family: monospace, monospace; text-align: left;\">    974</td><td style=\"font-family: monospace, monospace; text-align: left;\">0.05%       </td></tr>\n",
       "<tr><td style=\"font-family: monospace, monospace; text-align: left;\">01/18/2015</td><td style=\"font-family: monospace, monospace; text-align: left;\">    961</td><td style=\"font-family: monospace, monospace; text-align: left;\">0.05%       </td></tr>\n",
       "<tr><td style=\"font-family: monospace, monospace; text-align: left;\">02/03/2014</td><td style=\"font-family: monospace, monospace; text-align: left;\">    960</td><td style=\"font-family: monospace, monospace; text-align: left;\">0.05%       </td></tr>\n",
       "<tr><td style=\"font-family: monospace, monospace; text-align: left;\">03/06/2015</td><td style=\"font-family: monospace, monospace; text-align: left;\">    939</td><td style=\"font-family: monospace, monospace; text-align: left;\">0.04%       </td></tr>\n",
       "<tr><td style=\"font-family: monospace, monospace; text-align: left;\">05/18/2017</td><td style=\"font-family: monospace, monospace; text-align: left;\">    911</td><td style=\"font-family: monospace, monospace; text-align: left;\">0.04%       </td></tr>\n",
       "<tr><td style=\"font-family: monospace, monospace; text-align: left;\">01/07/2017</td><td style=\"font-family: monospace, monospace; text-align: left;\">    896</td><td style=\"font-family: monospace, monospace; text-align: left;\">0.04%       </td></tr>\n",
       "<tr><td style=\"font-family: monospace, monospace; text-align: left;\">03/02/2018</td><td style=\"font-family: monospace, monospace; text-align: left;\">    884</td><td style=\"font-family: monospace, monospace; text-align: left;\">0.04%       </td></tr>\n",
       "<tr><td style=\"font-family: monospace, monospace; text-align: left;\">04/23/2020</td><td style=\"font-family: monospace, monospace; text-align: left;\">    108</td><td style=\"font-family: monospace, monospace; text-align: left;\">0.01%       </td></tr>\n",
       "<tr><td style=\"font-family: monospace, monospace; text-align: left;\">04/12/2020</td><td style=\"font-family: monospace, monospace; text-align: left;\">    106</td><td style=\"font-family: monospace, monospace; text-align: left;\">0.01%       </td></tr>\n",
       "<tr><td style=\"font-family: monospace, monospace; text-align: left;\">04/09/2020</td><td style=\"font-family: monospace, monospace; text-align: left;\">    103</td><td style=\"font-family: monospace, monospace; text-align: left;\">0.00%       </td></tr>\n",
       "<tr><td style=\"font-family: monospace, monospace; text-align: left;\">04/19/2020</td><td style=\"font-family: monospace, monospace; text-align: left;\">    102</td><td style=\"font-family: monospace, monospace; text-align: left;\">0.00%       </td></tr>\n",
       "<tr><td style=\"font-family: monospace, monospace; text-align: left;\">04/05/2020</td><td style=\"font-family: monospace, monospace; text-align: left;\">     94</td><td style=\"font-family: monospace, monospace; text-align: left;\">0.00%       </td></tr>\n",
       "</tbody>\n",
       "</table>"
      ],
      "text/plain": [
       "CRASH DATE Info\n",
       "-----------------  -------\n",
       "Data Type          object\n",
       "Count              2093912\n",
       "Unique Values      4357\n",
       "Null Values        0\n",
       "\n",
       "Value         Count  % of total\n",
       "----------  -------  ------------\n",
       "01/21/2014     1161  0.06%\n",
       "11/15/2018     1065  0.05%\n",
       "12/15/2017      999  0.05%\n",
       "05/19/2017      974  0.05%\n",
       "01/18/2015      961  0.05%\n",
       "02/03/2014      960  0.05%\n",
       "03/06/2015      939  0.04%\n",
       "05/18/2017      911  0.04%\n",
       "01/07/2017      896  0.04%\n",
       "03/02/2018      884  0.04%\n",
       "04/23/2020      108  0.01%\n",
       "04/12/2020      106  0.01%\n",
       "04/09/2020      103  0.00%\n",
       "04/19/2020      102  0.00%\n",
       "04/05/2020       94  0.00%"
      ]
     },
     "execution_count": 7,
     "metadata": {},
     "output_type": "execute_result"
    }
   ],
   "source": [
    "date_report = ph.SeriesProfile(data[\"CRASH DATE\"])\n",
    "date_report"
   ]
  },
  {
   "cell_type": "markdown",
   "id": "f9367ae3",
   "metadata": {},
   "source": [
    "#### __There are no obvious issues with the time and  date info__\n",
    "- There are no null values in CRASH TIME and CRASH DATE\n",
    "- All 1440 minutes in a day are represented in time data\n",
    "- Times tend to be rounded estimates. For example: 16:00 is more common that 4:31, which is unsurprising\n",
    "- ~3800 unique dates correspond to ~11+ years of data (which is what we have)"
   ]
  },
  {
   "cell_type": "code",
   "execution_count": 8,
   "id": "3459fe5c-bbd0-4f92-a3a3-1f295559336a",
   "metadata": {},
   "outputs": [
    {
     "data": {
      "text/html": [
       "<table>\n",
       "<thead>\n",
       "<tr><th style=\"font-family: monospace, monospace; text-align: left;\">LOCATION Info  </th><th style=\"font-family: monospace, monospace; text-align: left;\"> </th></tr>\n",
       "</thead>\n",
       "<tbody>\n",
       "<tr><td style=\"font-family: monospace, monospace; text-align: left;\">Data Type      </td><td style=\"font-family: monospace, monospace; text-align: left;\">object </td></tr>\n",
       "<tr><td style=\"font-family: monospace, monospace; text-align: left;\">Count          </td><td style=\"font-family: monospace, monospace; text-align: left;\">1859026</td></tr>\n",
       "<tr><td style=\"font-family: monospace, monospace; text-align: left;\">Unique Values  </td><td style=\"font-family: monospace, monospace; text-align: left;\">285842 </td></tr>\n",
       "<tr><td style=\"font-family: monospace, monospace; text-align: left;\">Null Values    </td><td style=\"font-family: monospace, monospace; text-align: left;\">234886 </td></tr>\n",
       "</tbody>\n",
       "</table><br><table>\n",
       "<thead>\n",
       "<tr><th style=\"font-family: monospace, monospace; text-align: left;\">Value                    </th><th style=\"font-family: monospace, monospace; text-align: left;\">  Count</th><th style=\"font-family: monospace, monospace; text-align: left;\">% of total  </th></tr>\n",
       "</thead>\n",
       "<tbody>\n",
       "<tr><td style=\"font-family: monospace, monospace; text-align: left;\">(0.0, 0.0)               </td><td style=\"font-family: monospace, monospace; text-align: left;\">   4432</td><td style=\"font-family: monospace, monospace; text-align: left;\">0.24%       </td></tr>\n",
       "<tr><td style=\"font-family: monospace, monospace; text-align: left;\">(40.861862, -73.91282)   </td><td style=\"font-family: monospace, monospace; text-align: left;\">    685</td><td style=\"font-family: monospace, monospace; text-align: left;\">0.04%       </td></tr>\n",
       "<tr><td style=\"font-family: monospace, monospace; text-align: left;\">(40.608757, -74.038086)  </td><td style=\"font-family: monospace, monospace; text-align: left;\">    670</td><td style=\"font-family: monospace, monospace; text-align: left;\">0.04%       </td></tr>\n",
       "<tr><td style=\"font-family: monospace, monospace; text-align: left;\">(40.696033, -73.98453)   </td><td style=\"font-family: monospace, monospace; text-align: left;\">    646</td><td style=\"font-family: monospace, monospace; text-align: left;\">0.03%       </td></tr>\n",
       "<tr><td style=\"font-family: monospace, monospace; text-align: left;\">(40.8047, -73.91243)     </td><td style=\"font-family: monospace, monospace; text-align: left;\">    597</td><td style=\"font-family: monospace, monospace; text-align: left;\">0.03%       </td></tr>\n",
       "<tr><td style=\"font-family: monospace, monospace; text-align: left;\">(40.6960346, -73.9845292)</td><td style=\"font-family: monospace, monospace; text-align: left;\">    587</td><td style=\"font-family: monospace, monospace; text-align: left;\">0.03%       </td></tr>\n",
       "<tr><td style=\"font-family: monospace, monospace; text-align: left;\">(40.675735, -73.89686)   </td><td style=\"font-family: monospace, monospace; text-align: left;\">    563</td><td style=\"font-family: monospace, monospace; text-align: left;\">0.03%       </td></tr>\n",
       "<tr><td style=\"font-family: monospace, monospace; text-align: left;\">(40.658577, -73.89063)   </td><td style=\"font-family: monospace, monospace; text-align: left;\">    513</td><td style=\"font-family: monospace, monospace; text-align: left;\">0.03%       </td></tr>\n",
       "<tr><td style=\"font-family: monospace, monospace; text-align: left;\">(40.7606005, -73.9643142)</td><td style=\"font-family: monospace, monospace; text-align: left;\">    474</td><td style=\"font-family: monospace, monospace; text-align: left;\">0.03%       </td></tr>\n",
       "<tr><td style=\"font-family: monospace, monospace; text-align: left;\">(40.820305, -73.89083)   </td><td style=\"font-family: monospace, monospace; text-align: left;\">    467</td><td style=\"font-family: monospace, monospace; text-align: left;\">0.03%       </td></tr>\n",
       "<tr><td style=\"font-family: monospace, monospace; text-align: left;\">(40.6097888, -73.9916623)</td><td style=\"font-family: monospace, monospace; text-align: left;\">      1</td><td style=\"font-family: monospace, monospace; text-align: left;\">0.00%       </td></tr>\n",
       "<tr><td style=\"font-family: monospace, monospace; text-align: left;\">(40.653835, -73.95952)   </td><td style=\"font-family: monospace, monospace; text-align: left;\">      1</td><td style=\"font-family: monospace, monospace; text-align: left;\">0.00%       </td></tr>\n",
       "<tr><td style=\"font-family: monospace, monospace; text-align: left;\">(40.7896857, -73.9544505)</td><td style=\"font-family: monospace, monospace; text-align: left;\">      1</td><td style=\"font-family: monospace, monospace; text-align: left;\">0.00%       </td></tr>\n",
       "<tr><td style=\"font-family: monospace, monospace; text-align: left;\">(40.8978, -73.839676)    </td><td style=\"font-family: monospace, monospace; text-align: left;\">      1</td><td style=\"font-family: monospace, monospace; text-align: left;\">0.00%       </td></tr>\n",
       "<tr><td style=\"font-family: monospace, monospace; text-align: left;\">(40.76764, -73.74379)    </td><td style=\"font-family: monospace, monospace; text-align: left;\">      1</td><td style=\"font-family: monospace, monospace; text-align: left;\">0.00%       </td></tr>\n",
       "</tbody>\n",
       "</table>"
      ],
      "text/plain": [
       "LOCATION Info\n",
       "---------------  -------\n",
       "Data Type        object\n",
       "Count            1859026\n",
       "Unique Values    285842\n",
       "Null Values      234886\n",
       "\n",
       "Value                        Count  % of total\n",
       "-------------------------  -------  ------------\n",
       "(0.0, 0.0)                    4432  0.24%\n",
       "(40.861862, -73.91282)         685  0.04%\n",
       "(40.608757, -74.038086)        670  0.04%\n",
       "(40.696033, -73.98453)         646  0.03%\n",
       "(40.8047, -73.91243)           597  0.03%\n",
       "(40.6960346, -73.9845292)      587  0.03%\n",
       "(40.675735, -73.89686)         563  0.03%\n",
       "(40.658577, -73.89063)         513  0.03%\n",
       "(40.7606005, -73.9643142)      474  0.03%\n",
       "(40.820305, -73.89083)         467  0.03%\n",
       "(40.6097888, -73.9916623)        1  0.00%\n",
       "(40.653835, -73.95952)           1  0.00%\n",
       "(40.7896857, -73.9544505)        1  0.00%\n",
       "(40.8978, -73.839676)            1  0.00%\n",
       "(40.76764, -73.74379)            1  0.00%"
      ]
     },
     "execution_count": 8,
     "metadata": {},
     "output_type": "execute_result"
    }
   ],
   "source": [
    "loc_report = ph.SeriesProfile(data[\"LOCATION\"])\n",
    "loc_report"
   ]
  },
  {
   "cell_type": "code",
   "execution_count": 9,
   "id": "e9f2e21a-3e3e-45f0-bc23-1c6662861f7f",
   "metadata": {},
   "outputs": [
    {
     "data": {
      "text/html": [
       "<table>\n",
       "<thead>\n",
       "<tr><th style=\"font-family: monospace, monospace; text-align: left;\">LATITUDE Info  </th><th style=\"font-family: monospace, monospace; text-align: left;\"> </th></tr>\n",
       "</thead>\n",
       "<tbody>\n",
       "<tr><td style=\"font-family: monospace, monospace; text-align: left;\">Data Type      </td><td style=\"font-family: monospace, monospace; text-align: left;\">float64</td></tr>\n",
       "<tr><td style=\"font-family: monospace, monospace; text-align: left;\">Count          </td><td style=\"font-family: monospace, monospace; text-align: left;\">1859026</td></tr>\n",
       "<tr><td style=\"font-family: monospace, monospace; text-align: left;\">Unique Values  </td><td style=\"font-family: monospace, monospace; text-align: left;\">126836 </td></tr>\n",
       "<tr><td style=\"font-family: monospace, monospace; text-align: left;\">Null Values    </td><td style=\"font-family: monospace, monospace; text-align: left;\">234886 </td></tr>\n",
       "</tbody>\n",
       "</table><br><table>\n",
       "<thead>\n",
       "<tr><th style=\"font-family: monospace, monospace; text-align: left;\">  Value</th><th style=\"font-family: monospace, monospace; text-align: left;\">  Count</th><th style=\"font-family: monospace, monospace; text-align: left;\">% of total  </th></tr>\n",
       "</thead>\n",
       "<tbody>\n",
       "<tr><td style=\"font-family: monospace, monospace; text-align: left;\"> 0     </td><td style=\"font-family: monospace, monospace; text-align: left;\">   4432</td><td style=\"font-family: monospace, monospace; text-align: left;\">0.24%       </td></tr>\n",
       "<tr><td style=\"font-family: monospace, monospace; text-align: left;\">40.8619</td><td style=\"font-family: monospace, monospace; text-align: left;\">    895</td><td style=\"font-family: monospace, monospace; text-align: left;\">0.05%       </td></tr>\n",
       "<tr><td style=\"font-family: monospace, monospace; text-align: left;\">40.696 </td><td style=\"font-family: monospace, monospace; text-align: left;\">    773</td><td style=\"font-family: monospace, monospace; text-align: left;\">0.04%       </td></tr>\n",
       "<tr><td style=\"font-family: monospace, monospace; text-align: left;\">40.8047</td><td style=\"font-family: monospace, monospace; text-align: left;\">    692</td><td style=\"font-family: monospace, monospace; text-align: left;\">0.04%       </td></tr>\n",
       "<tr><td style=\"font-family: monospace, monospace; text-align: left;\">40.6088</td><td style=\"font-family: monospace, monospace; text-align: left;\">    671</td><td style=\"font-family: monospace, monospace; text-align: left;\">0.04%       </td></tr>\n",
       "<tr><td style=\"font-family: monospace, monospace; text-align: left;\">40.7983</td><td style=\"font-family: monospace, monospace; text-align: left;\">    627</td><td style=\"font-family: monospace, monospace; text-align: left;\">0.03%       </td></tr>\n",
       "<tr><td style=\"font-family: monospace, monospace; text-align: left;\">40.7593</td><td style=\"font-family: monospace, monospace; text-align: left;\">    625</td><td style=\"font-family: monospace, monospace; text-align: left;\">0.03%       </td></tr>\n",
       "<tr><td style=\"font-family: monospace, monospace; text-align: left;\">40.696 </td><td style=\"font-family: monospace, monospace; text-align: left;\">    587</td><td style=\"font-family: monospace, monospace; text-align: left;\">0.03%       </td></tr>\n",
       "<tr><td style=\"font-family: monospace, monospace; text-align: left;\">40.6757</td><td style=\"font-family: monospace, monospace; text-align: left;\">    564</td><td style=\"font-family: monospace, monospace; text-align: left;\">0.03%       </td></tr>\n",
       "<tr><td style=\"font-family: monospace, monospace; text-align: left;\">40.6586</td><td style=\"font-family: monospace, monospace; text-align: left;\">    525</td><td style=\"font-family: monospace, monospace; text-align: left;\">0.03%       </td></tr>\n",
       "<tr><td style=\"font-family: monospace, monospace; text-align: left;\">40.5799</td><td style=\"font-family: monospace, monospace; text-align: left;\">      1</td><td style=\"font-family: monospace, monospace; text-align: left;\">0.00%       </td></tr>\n",
       "<tr><td style=\"font-family: monospace, monospace; text-align: left;\">40.5872</td><td style=\"font-family: monospace, monospace; text-align: left;\">      1</td><td style=\"font-family: monospace, monospace; text-align: left;\">0.00%       </td></tr>\n",
       "<tr><td style=\"font-family: monospace, monospace; text-align: left;\">40.654 </td><td style=\"font-family: monospace, monospace; text-align: left;\">      1</td><td style=\"font-family: monospace, monospace; text-align: left;\">0.00%       </td></tr>\n",
       "<tr><td style=\"font-family: monospace, monospace; text-align: left;\">40.6133</td><td style=\"font-family: monospace, monospace; text-align: left;\">      1</td><td style=\"font-family: monospace, monospace; text-align: left;\">0.00%       </td></tr>\n",
       "<tr><td style=\"font-family: monospace, monospace; text-align: left;\">40.794 </td><td style=\"font-family: monospace, monospace; text-align: left;\">      1</td><td style=\"font-family: monospace, monospace; text-align: left;\">0.00%       </td></tr>\n",
       "</tbody>\n",
       "</table><br><table>\n",
       "<thead>\n",
       "<tr><th style=\"font-family: monospace, monospace; text-align: left;\">Statistic                </th><th style=\"font-family: monospace, monospace; text-align: left;\">        Value</th></tr>\n",
       "</thead>\n",
       "<tbody>\n",
       "<tr><td style=\"font-family: monospace, monospace; text-align: left;\">count                    </td><td style=\"font-family: monospace, monospace; text-align: left;\">  1.85903e+06</td></tr>\n",
       "<tr><td style=\"font-family: monospace, monospace; text-align: left;\">min                      </td><td style=\"font-family: monospace, monospace; text-align: left;\">  0          </td></tr>\n",
       "<tr><td style=\"font-family: monospace, monospace; text-align: left;\">1%                       </td><td style=\"font-family: monospace, monospace; text-align: left;\"> 40.5511     </td></tr>\n",
       "<tr><td style=\"font-family: monospace, monospace; text-align: left;\">5%                       </td><td style=\"font-family: monospace, monospace; text-align: left;\"> 40.5966     </td></tr>\n",
       "<tr><td style=\"font-family: monospace, monospace; text-align: left;\">25%                      </td><td style=\"font-family: monospace, monospace; text-align: left;\"> 40.6677     </td></tr>\n",
       "<tr><td style=\"font-family: monospace, monospace; text-align: left;\">50%                      </td><td style=\"font-family: monospace, monospace; text-align: left;\"> 40.7207     </td></tr>\n",
       "<tr><td style=\"font-family: monospace, monospace; text-align: left;\">75%                      </td><td style=\"font-family: monospace, monospace; text-align: left;\"> 40.7696     </td></tr>\n",
       "<tr><td style=\"font-family: monospace, monospace; text-align: left;\">95%                      </td><td style=\"font-family: monospace, monospace; text-align: left;\"> 40.862      </td></tr>\n",
       "<tr><td style=\"font-family: monospace, monospace; text-align: left;\">99%                      </td><td style=\"font-family: monospace, monospace; text-align: left;\"> 40.8887     </td></tr>\n",
       "<tr><td style=\"font-family: monospace, monospace; text-align: left;\">max                      </td><td style=\"font-family: monospace, monospace; text-align: left;\"> 43.3444     </td></tr>\n",
       "<tr><td style=\"font-family: monospace, monospace; text-align: left;\">mean                     </td><td style=\"font-family: monospace, monospace; text-align: left;\"> 40.627      </td></tr>\n",
       "<tr><td style=\"font-family: monospace, monospace; text-align: left;\">standard deviation       </td><td style=\"font-family: monospace, monospace; text-align: left;\">  1.98764    </td></tr>\n",
       "<tr><td style=\"font-family: monospace, monospace; text-align: left;\">median                   </td><td style=\"font-family: monospace, monospace; text-align: left;\"> 40.7207     </td></tr>\n",
       "<tr><td style=\"font-family: monospace, monospace; text-align: left;\">median absolute deviation</td><td style=\"font-family: monospace, monospace; text-align: left;\">  0.0513199  </td></tr>\n",
       "<tr><td style=\"font-family: monospace, monospace; text-align: left;\">skew                     </td><td style=\"font-family: monospace, monospace; text-align: left;\">-20.3581     </td></tr>\n",
       "</tbody>\n",
       "</table>"
      ],
      "text/plain": [
       "LATITUDE Info\n",
       "---------------  -------\n",
       "Data Type        float64\n",
       "Count            1859026\n",
       "Unique Values    126836\n",
       "Null Values      234886\n",
       "\n",
       "  Value    Count  % of total\n",
       "-------  -------  ------------\n",
       " 0          4432  0.24%\n",
       "40.8619      895  0.05%\n",
       "40.696       773  0.04%\n",
       "40.8047      692  0.04%\n",
       "40.6088      671  0.04%\n",
       "40.7983      627  0.03%\n",
       "40.7593      625  0.03%\n",
       "40.696       587  0.03%\n",
       "40.6757      564  0.03%\n",
       "40.6586      525  0.03%\n",
       "40.5799        1  0.00%\n",
       "40.5872        1  0.00%\n",
       "40.654         1  0.00%\n",
       "40.6133        1  0.00%\n",
       "40.794         1  0.00%\n",
       "\n",
       "Statistic                          Value\n",
       "-------------------------  -------------\n",
       "count                        1.85903e+06\n",
       "min                          0\n",
       "1%                          40.5511\n",
       "5%                          40.5966\n",
       "25%                         40.6677\n",
       "50%                         40.7207\n",
       "75%                         40.7696\n",
       "95%                         40.862\n",
       "99%                         40.8887\n",
       "max                         43.3444\n",
       "mean                        40.627\n",
       "standard deviation           1.98764\n",
       "median                      40.7207\n",
       "median absolute deviation    0.0513199\n",
       "skew                       -20.3581"
      ]
     },
     "execution_count": 9,
     "metadata": {},
     "output_type": "execute_result"
    }
   ],
   "source": [
    "lat_report = ph.SeriesProfile(data[\"LATITUDE\"])\n",
    "lat_report"
   ]
  },
  {
   "cell_type": "code",
   "execution_count": 10,
   "id": "e8a513d9",
   "metadata": {},
   "outputs": [
    {
     "data": {
      "text/html": [
       "<table>\n",
       "<thead>\n",
       "<tr><th style=\"font-family: monospace, monospace; text-align: left;\">LONGITUDE Info  </th><th style=\"font-family: monospace, monospace; text-align: left;\"> </th></tr>\n",
       "</thead>\n",
       "<tbody>\n",
       "<tr><td style=\"font-family: monospace, monospace; text-align: left;\">Data Type       </td><td style=\"font-family: monospace, monospace; text-align: left;\">float64</td></tr>\n",
       "<tr><td style=\"font-family: monospace, monospace; text-align: left;\">Count           </td><td style=\"font-family: monospace, monospace; text-align: left;\">1859026</td></tr>\n",
       "<tr><td style=\"font-family: monospace, monospace; text-align: left;\">Unique Values   </td><td style=\"font-family: monospace, monospace; text-align: left;\">98511  </td></tr>\n",
       "<tr><td style=\"font-family: monospace, monospace; text-align: left;\">Null Values     </td><td style=\"font-family: monospace, monospace; text-align: left;\">234886 </td></tr>\n",
       "</tbody>\n",
       "</table><br><table>\n",
       "<thead>\n",
       "<tr><th style=\"font-family: monospace, monospace; text-align: left;\">   Value</th><th style=\"font-family: monospace, monospace; text-align: left;\">  Count</th><th style=\"font-family: monospace, monospace; text-align: left;\">% of total  </th></tr>\n",
       "</thead>\n",
       "<tbody>\n",
       "<tr><td style=\"font-family: monospace, monospace; text-align: left;\">  0     </td><td style=\"font-family: monospace, monospace; text-align: left;\">   4432</td><td style=\"font-family: monospace, monospace; text-align: left;\">0.24%       </td></tr>\n",
       "<tr><td style=\"font-family: monospace, monospace; text-align: left;\">-73.8906</td><td style=\"font-family: monospace, monospace; text-align: left;\">    771</td><td style=\"font-family: monospace, monospace; text-align: left;\">0.04%       </td></tr>\n",
       "<tr><td style=\"font-family: monospace, monospace; text-align: left;\">-73.9128</td><td style=\"font-family: monospace, monospace; text-align: left;\">    719</td><td style=\"font-family: monospace, monospace; text-align: left;\">0.04%       </td></tr>\n",
       "<tr><td style=\"font-family: monospace, monospace; text-align: left;\">-73.9845</td><td style=\"font-family: monospace, monospace; text-align: left;\">    701</td><td style=\"font-family: monospace, monospace; text-align: left;\">0.04%       </td></tr>\n",
       "<tr><td style=\"font-family: monospace, monospace; text-align: left;\">-74.0381</td><td style=\"font-family: monospace, monospace; text-align: left;\">    672</td><td style=\"font-family: monospace, monospace; text-align: left;\">0.04%       </td></tr>\n",
       "<tr><td style=\"font-family: monospace, monospace; text-align: left;\">-73.8969</td><td style=\"font-family: monospace, monospace; text-align: left;\">    664</td><td style=\"font-family: monospace, monospace; text-align: left;\">0.04%       </td></tr>\n",
       "<tr><td style=\"font-family: monospace, monospace; text-align: left;\">-73.9124</td><td style=\"font-family: monospace, monospace; text-align: left;\">    654</td><td style=\"font-family: monospace, monospace; text-align: left;\">0.04%       </td></tr>\n",
       "<tr><td style=\"font-family: monospace, monospace; text-align: left;\">-73.9448</td><td style=\"font-family: monospace, monospace; text-align: left;\">    596</td><td style=\"font-family: monospace, monospace; text-align: left;\">0.03%       </td></tr>\n",
       "<tr><td style=\"font-family: monospace, monospace; text-align: left;\">-73.9845</td><td style=\"font-family: monospace, monospace; text-align: left;\">    587</td><td style=\"font-family: monospace, monospace; text-align: left;\">0.03%       </td></tr>\n",
       "<tr><td style=\"font-family: monospace, monospace; text-align: left;\">-73.9112</td><td style=\"font-family: monospace, monospace; text-align: left;\">    585</td><td style=\"font-family: monospace, monospace; text-align: left;\">0.03%       </td></tr>\n",
       "<tr><td style=\"font-family: monospace, monospace; text-align: left;\">-73.9604</td><td style=\"font-family: monospace, monospace; text-align: left;\">      1</td><td style=\"font-family: monospace, monospace; text-align: left;\">0.00%       </td></tr>\n",
       "<tr><td style=\"font-family: monospace, monospace; text-align: left;\">-73.8186</td><td style=\"font-family: monospace, monospace; text-align: left;\">      1</td><td style=\"font-family: monospace, monospace; text-align: left;\">0.00%       </td></tr>\n",
       "<tr><td style=\"font-family: monospace, monospace; text-align: left;\">-73.9635</td><td style=\"font-family: monospace, monospace; text-align: left;\">      1</td><td style=\"font-family: monospace, monospace; text-align: left;\">0.00%       </td></tr>\n",
       "<tr><td style=\"font-family: monospace, monospace; text-align: left;\">-74.2115</td><td style=\"font-family: monospace, monospace; text-align: left;\">      1</td><td style=\"font-family: monospace, monospace; text-align: left;\">0.00%       </td></tr>\n",
       "<tr><td style=\"font-family: monospace, monospace; text-align: left;\">-74.0162</td><td style=\"font-family: monospace, monospace; text-align: left;\">      1</td><td style=\"font-family: monospace, monospace; text-align: left;\">0.00%       </td></tr>\n",
       "</tbody>\n",
       "</table><br><table>\n",
       "<thead>\n",
       "<tr><th style=\"font-family: monospace, monospace; text-align: left;\">Statistic                </th><th style=\"font-family: monospace, monospace; text-align: left;\">         Value</th></tr>\n",
       "</thead>\n",
       "<tbody>\n",
       "<tr><td style=\"font-family: monospace, monospace; text-align: left;\">count                    </td><td style=\"font-family: monospace, monospace; text-align: left;\">   1.85903e+06</td></tr>\n",
       "<tr><td style=\"font-family: monospace, monospace; text-align: left;\">min                      </td><td style=\"font-family: monospace, monospace; text-align: left;\">-201.36       </td></tr>\n",
       "<tr><td style=\"font-family: monospace, monospace; text-align: left;\">1%                       </td><td style=\"font-family: monospace, monospace; text-align: left;\"> -74.168      </td></tr>\n",
       "<tr><td style=\"font-family: monospace, monospace; text-align: left;\">5%                       </td><td style=\"font-family: monospace, monospace; text-align: left;\"> -74.0364     </td></tr>\n",
       "<tr><td style=\"font-family: monospace, monospace; text-align: left;\">25%                      </td><td style=\"font-family: monospace, monospace; text-align: left;\"> -73.9748     </td></tr>\n",
       "<tr><td style=\"font-family: monospace, monospace; text-align: left;\">50%                      </td><td style=\"font-family: monospace, monospace; text-align: left;\"> -73.9272     </td></tr>\n",
       "<tr><td style=\"font-family: monospace, monospace; text-align: left;\">75%                      </td><td style=\"font-family: monospace, monospace; text-align: left;\"> -73.8667     </td></tr>\n",
       "<tr><td style=\"font-family: monospace, monospace; text-align: left;\">95%                      </td><td style=\"font-family: monospace, monospace; text-align: left;\"> -73.7632     </td></tr>\n",
       "<tr><td style=\"font-family: monospace, monospace; text-align: left;\">99%                      </td><td style=\"font-family: monospace, monospace; text-align: left;\"> -73.7283     </td></tr>\n",
       "<tr><td style=\"font-family: monospace, monospace; text-align: left;\">max                      </td><td style=\"font-family: monospace, monospace; text-align: left;\">   0          </td></tr>\n",
       "<tr><td style=\"font-family: monospace, monospace; text-align: left;\">mean                     </td><td style=\"font-family: monospace, monospace; text-align: left;\"> -73.7508     </td></tr>\n",
       "<tr><td style=\"font-family: monospace, monospace; text-align: left;\">standard deviation       </td><td style=\"font-family: monospace, monospace; text-align: left;\">   3.73441    </td></tr>\n",
       "<tr><td style=\"font-family: monospace, monospace; text-align: left;\">median                   </td><td style=\"font-family: monospace, monospace; text-align: left;\"> -73.9272     </td></tr>\n",
       "<tr><td style=\"font-family: monospace, monospace; text-align: left;\">median absolute deviation</td><td style=\"font-family: monospace, monospace; text-align: left;\">   0.0526032  </td></tr>\n",
       "<tr><td style=\"font-family: monospace, monospace; text-align: left;\">skew                     </td><td style=\"font-family: monospace, monospace; text-align: left;\">  16.1063     </td></tr>\n",
       "</tbody>\n",
       "</table>"
      ],
      "text/plain": [
       "LONGITUDE Info\n",
       "----------------  -------\n",
       "Data Type         float64\n",
       "Count             1859026\n",
       "Unique Values     98511\n",
       "Null Values       234886\n",
       "\n",
       "   Value    Count  % of total\n",
       "--------  -------  ------------\n",
       "  0          4432  0.24%\n",
       "-73.8906      771  0.04%\n",
       "-73.9128      719  0.04%\n",
       "-73.9845      701  0.04%\n",
       "-74.0381      672  0.04%\n",
       "-73.8969      664  0.04%\n",
       "-73.9124      654  0.04%\n",
       "-73.9448      596  0.03%\n",
       "-73.9845      587  0.03%\n",
       "-73.9112      585  0.03%\n",
       "-73.9604        1  0.00%\n",
       "-73.8186        1  0.00%\n",
       "-73.9635        1  0.00%\n",
       "-74.2115        1  0.00%\n",
       "-74.0162        1  0.00%\n",
       "\n",
       "Statistic                           Value\n",
       "-------------------------  --------------\n",
       "count                         1.85903e+06\n",
       "min                        -201.36\n",
       "1%                          -74.168\n",
       "5%                          -74.0364\n",
       "25%                         -73.9748\n",
       "50%                         -73.9272\n",
       "75%                         -73.8667\n",
       "95%                         -73.7632\n",
       "99%                         -73.7283\n",
       "max                           0\n",
       "mean                        -73.7508\n",
       "standard deviation            3.73441\n",
       "median                      -73.9272\n",
       "median absolute deviation     0.0526032\n",
       "skew                         16.1063"
      ]
     },
     "execution_count": 10,
     "metadata": {},
     "output_type": "execute_result"
    }
   ],
   "source": [
    "long_report = ph.SeriesProfile(data[\"LONGITUDE\"])\n",
    "long_report"
   ]
  },
  {
   "cell_type": "code",
   "execution_count": 11,
   "id": "56c3ebbe",
   "metadata": {},
   "outputs": [
    {
     "data": {
      "text/plain": [
       "0.11217567882508911"
      ]
     },
     "execution_count": 11,
     "metadata": {},
     "output_type": "execute_result"
    }
   ],
   "source": [
    "percent_missing_loc = sum(data[\"LOCATION\"].isna()) / len(data)\n",
    "percent_missing_loc"
   ]
  },
  {
   "cell_type": "markdown",
   "id": "a97fdf1a",
   "metadata": {},
   "source": [
    "__~11.2% of collisions are missing location data__\n",
    "- LOCATION is just the tuple, (LATITUDE, LONGITUDE)\n",
    "- Some lat-long coordinates are invalid. For example: (0, 0) or a latitiude of 43.3444 (max latitude), which is far from NYC"
   ]
  },
  {
   "cell_type": "code",
   "execution_count": 12,
   "id": "3cb01d5f-ac8e-4097-85ac-ea1c2b97c6c7",
   "metadata": {},
   "outputs": [
    {
     "data": {
      "text/html": [
       "<table>\n",
       "<thead>\n",
       "<tr><th style=\"font-family: monospace, monospace; text-align: left;\">NUMBER OF PERSONS INJURED Info  </th><th style=\"font-family: monospace, monospace; text-align: left;\"> </th></tr>\n",
       "</thead>\n",
       "<tbody>\n",
       "<tr><td style=\"font-family: monospace, monospace; text-align: left;\">Data Type                       </td><td style=\"font-family: monospace, monospace; text-align: left;\">float64</td></tr>\n",
       "<tr><td style=\"font-family: monospace, monospace; text-align: left;\">Count                           </td><td style=\"font-family: monospace, monospace; text-align: left;\">2093894</td></tr>\n",
       "<tr><td style=\"font-family: monospace, monospace; text-align: left;\">Unique Values                   </td><td style=\"font-family: monospace, monospace; text-align: left;\">32     </td></tr>\n",
       "<tr><td style=\"font-family: monospace, monospace; text-align: left;\">Null Values                     </td><td style=\"font-family: monospace, monospace; text-align: left;\">18     </td></tr>\n",
       "</tbody>\n",
       "</table><br><table>\n",
       "<thead>\n",
       "<tr><th style=\"font-family: monospace, monospace; text-align: left;\">  Value</th><th style=\"font-family: monospace, monospace; text-align: left;\">  Count</th><th style=\"font-family: monospace, monospace; text-align: left;\">% of total  </th></tr>\n",
       "</thead>\n",
       "<tbody>\n",
       "<tr><td style=\"font-family: monospace, monospace; text-align: left;\">      0</td><td style=\"font-family: monospace, monospace; text-align: left;\">1611736</td><td style=\"font-family: monospace, monospace; text-align: left;\">76.97%      </td></tr>\n",
       "<tr><td style=\"font-family: monospace, monospace; text-align: left;\">      1</td><td style=\"font-family: monospace, monospace; text-align: left;\"> 374201</td><td style=\"font-family: monospace, monospace; text-align: left;\">17.87%      </td></tr>\n",
       "<tr><td style=\"font-family: monospace, monospace; text-align: left;\">      2</td><td style=\"font-family: monospace, monospace; text-align: left;\">  70505</td><td style=\"font-family: monospace, monospace; text-align: left;\">3.37%       </td></tr>\n",
       "<tr><td style=\"font-family: monospace, monospace; text-align: left;\">      3</td><td style=\"font-family: monospace, monospace; text-align: left;\">  23037</td><td style=\"font-family: monospace, monospace; text-align: left;\">1.10%       </td></tr>\n",
       "<tr><td style=\"font-family: monospace, monospace; text-align: left;\">      4</td><td style=\"font-family: monospace, monospace; text-align: left;\">   8536</td><td style=\"font-family: monospace, monospace; text-align: left;\">0.41%       </td></tr>\n",
       "<tr><td style=\"font-family: monospace, monospace; text-align: left;\">      5</td><td style=\"font-family: monospace, monospace; text-align: left;\">   3272</td><td style=\"font-family: monospace, monospace; text-align: left;\">0.16%       </td></tr>\n",
       "<tr><td style=\"font-family: monospace, monospace; text-align: left;\">      6</td><td style=\"font-family: monospace, monospace; text-align: left;\">   1374</td><td style=\"font-family: monospace, monospace; text-align: left;\">0.07%       </td></tr>\n",
       "<tr><td style=\"font-family: monospace, monospace; text-align: left;\">      7</td><td style=\"font-family: monospace, monospace; text-align: left;\">    581</td><td style=\"font-family: monospace, monospace; text-align: left;\">0.03%       </td></tr>\n",
       "<tr><td style=\"font-family: monospace, monospace; text-align: left;\">      8</td><td style=\"font-family: monospace, monospace; text-align: left;\">    261</td><td style=\"font-family: monospace, monospace; text-align: left;\">0.01%       </td></tr>\n",
       "<tr><td style=\"font-family: monospace, monospace; text-align: left;\">      9</td><td style=\"font-family: monospace, monospace; text-align: left;\">    131</td><td style=\"font-family: monospace, monospace; text-align: left;\">0.01%       </td></tr>\n",
       "<tr><td style=\"font-family: monospace, monospace; text-align: left;\">     31</td><td style=\"font-family: monospace, monospace; text-align: left;\">      1</td><td style=\"font-family: monospace, monospace; text-align: left;\">0.00%       </td></tr>\n",
       "<tr><td style=\"font-family: monospace, monospace; text-align: left;\">     32</td><td style=\"font-family: monospace, monospace; text-align: left;\">      1</td><td style=\"font-family: monospace, monospace; text-align: left;\">0.00%       </td></tr>\n",
       "<tr><td style=\"font-family: monospace, monospace; text-align: left;\">     27</td><td style=\"font-family: monospace, monospace; text-align: left;\">      1</td><td style=\"font-family: monospace, monospace; text-align: left;\">0.00%       </td></tr>\n",
       "<tr><td style=\"font-family: monospace, monospace; text-align: left;\">     40</td><td style=\"font-family: monospace, monospace; text-align: left;\">      1</td><td style=\"font-family: monospace, monospace; text-align: left;\">0.00%       </td></tr>\n",
       "<tr><td style=\"font-family: monospace, monospace; text-align: left;\">     25</td><td style=\"font-family: monospace, monospace; text-align: left;\">      1</td><td style=\"font-family: monospace, monospace; text-align: left;\">0.00%       </td></tr>\n",
       "</tbody>\n",
       "</table><br><table>\n",
       "<thead>\n",
       "<tr><th style=\"font-family: monospace, monospace; text-align: left;\">Statistic                </th><th style=\"font-family: monospace, monospace; text-align: left;\">       Value</th></tr>\n",
       "</thead>\n",
       "<tbody>\n",
       "<tr><td style=\"font-family: monospace, monospace; text-align: left;\">count                    </td><td style=\"font-family: monospace, monospace; text-align: left;\"> 2.09389e+06</td></tr>\n",
       "<tr><td style=\"font-family: monospace, monospace; text-align: left;\">min                      </td><td style=\"font-family: monospace, monospace; text-align: left;\"> 0          </td></tr>\n",
       "<tr><td style=\"font-family: monospace, monospace; text-align: left;\">1%                       </td><td style=\"font-family: monospace, monospace; text-align: left;\"> 0          </td></tr>\n",
       "<tr><td style=\"font-family: monospace, monospace; text-align: left;\">5%                       </td><td style=\"font-family: monospace, monospace; text-align: left;\"> 0          </td></tr>\n",
       "<tr><td style=\"font-family: monospace, monospace; text-align: left;\">25%                      </td><td style=\"font-family: monospace, monospace; text-align: left;\"> 0          </td></tr>\n",
       "<tr><td style=\"font-family: monospace, monospace; text-align: left;\">50%                      </td><td style=\"font-family: monospace, monospace; text-align: left;\"> 0          </td></tr>\n",
       "<tr><td style=\"font-family: monospace, monospace; text-align: left;\">75%                      </td><td style=\"font-family: monospace, monospace; text-align: left;\"> 0          </td></tr>\n",
       "<tr><td style=\"font-family: monospace, monospace; text-align: left;\">95%                      </td><td style=\"font-family: monospace, monospace; text-align: left;\"> 2          </td></tr>\n",
       "<tr><td style=\"font-family: monospace, monospace; text-align: left;\">99%                      </td><td style=\"font-family: monospace, monospace; text-align: left;\"> 3          </td></tr>\n",
       "<tr><td style=\"font-family: monospace, monospace; text-align: left;\">max                      </td><td style=\"font-family: monospace, monospace; text-align: left;\">43          </td></tr>\n",
       "<tr><td style=\"font-family: monospace, monospace; text-align: left;\">mean                     </td><td style=\"font-family: monospace, monospace; text-align: left;\"> 0.312226   </td></tr>\n",
       "<tr><td style=\"font-family: monospace, monospace; text-align: left;\">standard deviation       </td><td style=\"font-family: monospace, monospace; text-align: left;\"> 0.702075   </td></tr>\n",
       "<tr><td style=\"font-family: monospace, monospace; text-align: left;\">median                   </td><td style=\"font-family: monospace, monospace; text-align: left;\"> 0          </td></tr>\n",
       "<tr><td style=\"font-family: monospace, monospace; text-align: left;\">median absolute deviation</td><td style=\"font-family: monospace, monospace; text-align: left;\"> 0          </td></tr>\n",
       "<tr><td style=\"font-family: monospace, monospace; text-align: left;\">skew                     </td><td style=\"font-family: monospace, monospace; text-align: left;\"> 4.23576    </td></tr>\n",
       "</tbody>\n",
       "</table>"
      ],
      "text/plain": [
       "NUMBER OF PERSONS INJURED Info\n",
       "--------------------------------  -------\n",
       "Data Type                         float64\n",
       "Count                             2093894\n",
       "Unique Values                     32\n",
       "Null Values                       18\n",
       "\n",
       "  Value    Count  % of total\n",
       "-------  -------  ------------\n",
       "      0  1611736  76.97%\n",
       "      1   374201  17.87%\n",
       "      2    70505  3.37%\n",
       "      3    23037  1.10%\n",
       "      4     8536  0.41%\n",
       "      5     3272  0.16%\n",
       "      6     1374  0.07%\n",
       "      7      581  0.03%\n",
       "      8      261  0.01%\n",
       "      9      131  0.01%\n",
       "     31        1  0.00%\n",
       "     32        1  0.00%\n",
       "     27        1  0.00%\n",
       "     40        1  0.00%\n",
       "     25        1  0.00%\n",
       "\n",
       "Statistic                         Value\n",
       "-------------------------  ------------\n",
       "count                       2.09389e+06\n",
       "min                         0\n",
       "1%                          0\n",
       "5%                          0\n",
       "25%                         0\n",
       "50%                         0\n",
       "75%                         0\n",
       "95%                         2\n",
       "99%                         3\n",
       "max                        43\n",
       "mean                        0.312226\n",
       "standard deviation          0.702075\n",
       "median                      0\n",
       "median absolute deviation   0\n",
       "skew                        4.23576"
      ]
     },
     "execution_count": 12,
     "metadata": {},
     "output_type": "execute_result"
    }
   ],
   "source": [
    "injured_report = ph.SeriesProfile(data[\"NUMBER OF PERSONS INJURED\"])\n",
    "injured_report"
   ]
  },
  {
   "cell_type": "code",
   "execution_count": 13,
   "id": "dd41569c-b412-485c-98b1-0129211982ff",
   "metadata": {},
   "outputs": [
    {
     "data": {
      "text/html": [
       "<table>\n",
       "<thead>\n",
       "<tr><th style=\"font-family: monospace, monospace; text-align: left;\">NUMBER OF PEDESTRIANS INJURED Info  </th><th style=\"font-family: monospace, monospace; text-align: left;\"> </th></tr>\n",
       "</thead>\n",
       "<tbody>\n",
       "<tr><td style=\"font-family: monospace, monospace; text-align: left;\">Data Type                           </td><td style=\"font-family: monospace, monospace; text-align: left;\">int64  </td></tr>\n",
       "<tr><td style=\"font-family: monospace, monospace; text-align: left;\">Count                               </td><td style=\"font-family: monospace, monospace; text-align: left;\">2093912</td></tr>\n",
       "<tr><td style=\"font-family: monospace, monospace; text-align: left;\">Unique Values                       </td><td style=\"font-family: monospace, monospace; text-align: left;\">14     </td></tr>\n",
       "<tr><td style=\"font-family: monospace, monospace; text-align: left;\">Null Values                         </td><td style=\"font-family: monospace, monospace; text-align: left;\">0      </td></tr>\n",
       "</tbody>\n",
       "</table><br><table>\n",
       "<thead>\n",
       "<tr><th style=\"font-family: monospace, monospace; text-align: left;\">  Value</th><th style=\"font-family: monospace, monospace; text-align: left;\">  Count</th><th style=\"font-family: monospace, monospace; text-align: left;\">% of total  </th></tr>\n",
       "</thead>\n",
       "<tbody>\n",
       "<tr><td style=\"font-family: monospace, monospace; text-align: left;\">      0</td><td style=\"font-family: monospace, monospace; text-align: left;\">1979735</td><td style=\"font-family: monospace, monospace; text-align: left;\">94.55%      </td></tr>\n",
       "<tr><td style=\"font-family: monospace, monospace; text-align: left;\">      1</td><td style=\"font-family: monospace, monospace; text-align: left;\"> 109996</td><td style=\"font-family: monospace, monospace; text-align: left;\">5.25%       </td></tr>\n",
       "<tr><td style=\"font-family: monospace, monospace; text-align: left;\">      2</td><td style=\"font-family: monospace, monospace; text-align: left;\">   3702</td><td style=\"font-family: monospace, monospace; text-align: left;\">0.18%       </td></tr>\n",
       "<tr><td style=\"font-family: monospace, monospace; text-align: left;\">      3</td><td style=\"font-family: monospace, monospace; text-align: left;\">    369</td><td style=\"font-family: monospace, monospace; text-align: left;\">0.02%       </td></tr>\n",
       "<tr><td style=\"font-family: monospace, monospace; text-align: left;\">      4</td><td style=\"font-family: monospace, monospace; text-align: left;\">     61</td><td style=\"font-family: monospace, monospace; text-align: left;\">0.00%       </td></tr>\n",
       "<tr><td style=\"font-family: monospace, monospace; text-align: left;\">      5</td><td style=\"font-family: monospace, monospace; text-align: left;\">     26</td><td style=\"font-family: monospace, monospace; text-align: left;\">0.00%       </td></tr>\n",
       "<tr><td style=\"font-family: monospace, monospace; text-align: left;\">      6</td><td style=\"font-family: monospace, monospace; text-align: left;\">     11</td><td style=\"font-family: monospace, monospace; text-align: left;\">0.00%       </td></tr>\n",
       "<tr><td style=\"font-family: monospace, monospace; text-align: left;\">      7</td><td style=\"font-family: monospace, monospace; text-align: left;\">      4</td><td style=\"font-family: monospace, monospace; text-align: left;\">0.00%       </td></tr>\n",
       "<tr><td style=\"font-family: monospace, monospace; text-align: left;\">      9</td><td style=\"font-family: monospace, monospace; text-align: left;\">      2</td><td style=\"font-family: monospace, monospace; text-align: left;\">0.00%       </td></tr>\n",
       "<tr><td style=\"font-family: monospace, monospace; text-align: left;\">      8</td><td style=\"font-family: monospace, monospace; text-align: left;\">      2</td><td style=\"font-family: monospace, monospace; text-align: left;\">0.00%       </td></tr>\n",
       "<tr><td style=\"font-family: monospace, monospace; text-align: left;\">     27</td><td style=\"font-family: monospace, monospace; text-align: left;\">      1</td><td style=\"font-family: monospace, monospace; text-align: left;\">0.00%       </td></tr>\n",
       "<tr><td style=\"font-family: monospace, monospace; text-align: left;\">     13</td><td style=\"font-family: monospace, monospace; text-align: left;\">      1</td><td style=\"font-family: monospace, monospace; text-align: left;\">0.00%       </td></tr>\n",
       "<tr><td style=\"font-family: monospace, monospace; text-align: left;\">     15</td><td style=\"font-family: monospace, monospace; text-align: left;\">      1</td><td style=\"font-family: monospace, monospace; text-align: left;\">0.00%       </td></tr>\n",
       "<tr><td style=\"font-family: monospace, monospace; text-align: left;\">     19</td><td style=\"font-family: monospace, monospace; text-align: left;\">      1</td><td style=\"font-family: monospace, monospace; text-align: left;\">0.00%       </td></tr>\n",
       "</tbody>\n",
       "</table><br><table>\n",
       "<thead>\n",
       "<tr><th style=\"font-family: monospace, monospace; text-align: left;\">Statistic                </th><th style=\"font-family: monospace, monospace; text-align: left;\">       Value</th></tr>\n",
       "</thead>\n",
       "<tbody>\n",
       "<tr><td style=\"font-family: monospace, monospace; text-align: left;\">count                    </td><td style=\"font-family: monospace, monospace; text-align: left;\"> 2.09391e+06</td></tr>\n",
       "<tr><td style=\"font-family: monospace, monospace; text-align: left;\">min                      </td><td style=\"font-family: monospace, monospace; text-align: left;\"> 0          </td></tr>\n",
       "<tr><td style=\"font-family: monospace, monospace; text-align: left;\">1%                       </td><td style=\"font-family: monospace, monospace; text-align: left;\"> 0          </td></tr>\n",
       "<tr><td style=\"font-family: monospace, monospace; text-align: left;\">5%                       </td><td style=\"font-family: monospace, monospace; text-align: left;\"> 0          </td></tr>\n",
       "<tr><td style=\"font-family: monospace, monospace; text-align: left;\">25%                      </td><td style=\"font-family: monospace, monospace; text-align: left;\"> 0          </td></tr>\n",
       "<tr><td style=\"font-family: monospace, monospace; text-align: left;\">50%                      </td><td style=\"font-family: monospace, monospace; text-align: left;\"> 0          </td></tr>\n",
       "<tr><td style=\"font-family: monospace, monospace; text-align: left;\">75%                      </td><td style=\"font-family: monospace, monospace; text-align: left;\"> 0          </td></tr>\n",
       "<tr><td style=\"font-family: monospace, monospace; text-align: left;\">95%                      </td><td style=\"font-family: monospace, monospace; text-align: left;\"> 1          </td></tr>\n",
       "<tr><td style=\"font-family: monospace, monospace; text-align: left;\">99%                      </td><td style=\"font-family: monospace, monospace; text-align: left;\"> 1          </td></tr>\n",
       "<tr><td style=\"font-family: monospace, monospace; text-align: left;\">max                      </td><td style=\"font-family: monospace, monospace; text-align: left;\">27          </td></tr>\n",
       "<tr><td style=\"font-family: monospace, monospace; text-align: left;\">mean                     </td><td style=\"font-family: monospace, monospace; text-align: left;\"> 0.0568711  </td></tr>\n",
       "<tr><td style=\"font-family: monospace, monospace; text-align: left;\">standard deviation       </td><td style=\"font-family: monospace, monospace; text-align: left;\"> 0.244666   </td></tr>\n",
       "<tr><td style=\"font-family: monospace, monospace; text-align: left;\">median                   </td><td style=\"font-family: monospace, monospace; text-align: left;\"> 0          </td></tr>\n",
       "<tr><td style=\"font-family: monospace, monospace; text-align: left;\">median absolute deviation</td><td style=\"font-family: monospace, monospace; text-align: left;\"> 0          </td></tr>\n",
       "<tr><td style=\"font-family: monospace, monospace; text-align: left;\">skew                     </td><td style=\"font-family: monospace, monospace; text-align: left;\"> 5.651      </td></tr>\n",
       "</tbody>\n",
       "</table>"
      ],
      "text/plain": [
       "NUMBER OF PEDESTRIANS INJURED Info\n",
       "------------------------------------  -------\n",
       "Data Type                             int64\n",
       "Count                                 2093912\n",
       "Unique Values                         14\n",
       "Null Values                           0\n",
       "\n",
       "  Value    Count  % of total\n",
       "-------  -------  ------------\n",
       "      0  1979735  94.55%\n",
       "      1   109996  5.25%\n",
       "      2     3702  0.18%\n",
       "      3      369  0.02%\n",
       "      4       61  0.00%\n",
       "      5       26  0.00%\n",
       "      6       11  0.00%\n",
       "      7        4  0.00%\n",
       "      9        2  0.00%\n",
       "      8        2  0.00%\n",
       "     27        1  0.00%\n",
       "     13        1  0.00%\n",
       "     15        1  0.00%\n",
       "     19        1  0.00%\n",
       "\n",
       "Statistic                         Value\n",
       "-------------------------  ------------\n",
       "count                       2.09391e+06\n",
       "min                         0\n",
       "1%                          0\n",
       "5%                          0\n",
       "25%                         0\n",
       "50%                         0\n",
       "75%                         0\n",
       "95%                         1\n",
       "99%                         1\n",
       "max                        27\n",
       "mean                        0.0568711\n",
       "standard deviation          0.244666\n",
       "median                      0\n",
       "median absolute deviation   0\n",
       "skew                        5.651"
      ]
     },
     "execution_count": 13,
     "metadata": {},
     "output_type": "execute_result"
    }
   ],
   "source": [
    "pedestrian_injured_report = ph.SeriesProfile(data[\"NUMBER OF PEDESTRIANS INJURED\"])\n",
    "pedestrian_injured_report"
   ]
  },
  {
   "cell_type": "code",
   "execution_count": 14,
   "id": "1be982b4-8e13-4ea2-917e-43a07b3cbe2e",
   "metadata": {},
   "outputs": [
    {
     "data": {
      "text/html": [
       "<table>\n",
       "<thead>\n",
       "<tr><th style=\"font-family: monospace, monospace; text-align: left;\">NUMBER OF CYCLIST INJURED Info  </th><th style=\"font-family: monospace, monospace; text-align: left;\"> </th></tr>\n",
       "</thead>\n",
       "<tbody>\n",
       "<tr><td style=\"font-family: monospace, monospace; text-align: left;\">Data Type                       </td><td style=\"font-family: monospace, monospace; text-align: left;\">int64  </td></tr>\n",
       "<tr><td style=\"font-family: monospace, monospace; text-align: left;\">Count                           </td><td style=\"font-family: monospace, monospace; text-align: left;\">2093912</td></tr>\n",
       "<tr><td style=\"font-family: monospace, monospace; text-align: left;\">Unique Values                   </td><td style=\"font-family: monospace, monospace; text-align: left;\">5      </td></tr>\n",
       "<tr><td style=\"font-family: monospace, monospace; text-align: left;\">Null Values                     </td><td style=\"font-family: monospace, monospace; text-align: left;\">0      </td></tr>\n",
       "</tbody>\n",
       "</table><br><table>\n",
       "<thead>\n",
       "<tr><th style=\"font-family: monospace, monospace; text-align: left;\">  Value</th><th style=\"font-family: monospace, monospace; text-align: left;\">  Count</th><th style=\"font-family: monospace, monospace; text-align: left;\">% of total  </th></tr>\n",
       "</thead>\n",
       "<tbody>\n",
       "<tr><td style=\"font-family: monospace, monospace; text-align: left;\">      0</td><td style=\"font-family: monospace, monospace; text-align: left;\">2037940</td><td style=\"font-family: monospace, monospace; text-align: left;\">97.33%      </td></tr>\n",
       "<tr><td style=\"font-family: monospace, monospace; text-align: left;\">      1</td><td style=\"font-family: monospace, monospace; text-align: left;\">  55328</td><td style=\"font-family: monospace, monospace; text-align: left;\">2.64%       </td></tr>\n",
       "<tr><td style=\"font-family: monospace, monospace; text-align: left;\">      2</td><td style=\"font-family: monospace, monospace; text-align: left;\">    619</td><td style=\"font-family: monospace, monospace; text-align: left;\">0.03%       </td></tr>\n",
       "<tr><td style=\"font-family: monospace, monospace; text-align: left;\">      3</td><td style=\"font-family: monospace, monospace; text-align: left;\">     24</td><td style=\"font-family: monospace, monospace; text-align: left;\">0.00%       </td></tr>\n",
       "<tr><td style=\"font-family: monospace, monospace; text-align: left;\">      4</td><td style=\"font-family: monospace, monospace; text-align: left;\">      1</td><td style=\"font-family: monospace, monospace; text-align: left;\">0.00%       </td></tr>\n",
       "</tbody>\n",
       "</table><br><table>\n",
       "<thead>\n",
       "<tr><th style=\"font-family: monospace, monospace; text-align: left;\">Statistic                </th><th style=\"font-family: monospace, monospace; text-align: left;\">      Value</th></tr>\n",
       "</thead>\n",
       "<tbody>\n",
       "<tr><td style=\"font-family: monospace, monospace; text-align: left;\">count                    </td><td style=\"font-family: monospace, monospace; text-align: left;\">2.09391e+06</td></tr>\n",
       "<tr><td style=\"font-family: monospace, monospace; text-align: left;\">min                      </td><td style=\"font-family: monospace, monospace; text-align: left;\">0          </td></tr>\n",
       "<tr><td style=\"font-family: monospace, monospace; text-align: left;\">1%                       </td><td style=\"font-family: monospace, monospace; text-align: left;\">0          </td></tr>\n",
       "<tr><td style=\"font-family: monospace, monospace; text-align: left;\">5%                       </td><td style=\"font-family: monospace, monospace; text-align: left;\">0          </td></tr>\n",
       "<tr><td style=\"font-family: monospace, monospace; text-align: left;\">25%                      </td><td style=\"font-family: monospace, monospace; text-align: left;\">0          </td></tr>\n",
       "<tr><td style=\"font-family: monospace, monospace; text-align: left;\">50%                      </td><td style=\"font-family: monospace, monospace; text-align: left;\">0          </td></tr>\n",
       "<tr><td style=\"font-family: monospace, monospace; text-align: left;\">75%                      </td><td style=\"font-family: monospace, monospace; text-align: left;\">0          </td></tr>\n",
       "<tr><td style=\"font-family: monospace, monospace; text-align: left;\">95%                      </td><td style=\"font-family: monospace, monospace; text-align: left;\">0          </td></tr>\n",
       "<tr><td style=\"font-family: monospace, monospace; text-align: left;\">99%                      </td><td style=\"font-family: monospace, monospace; text-align: left;\">1          </td></tr>\n",
       "<tr><td style=\"font-family: monospace, monospace; text-align: left;\">max                      </td><td style=\"font-family: monospace, monospace; text-align: left;\">4          </td></tr>\n",
       "<tr><td style=\"font-family: monospace, monospace; text-align: left;\">mean                     </td><td style=\"font-family: monospace, monospace; text-align: left;\">0.0270508  </td></tr>\n",
       "<tr><td style=\"font-family: monospace, monospace; text-align: left;\">standard deviation       </td><td style=\"font-family: monospace, monospace; text-align: left;\">0.164271   </td></tr>\n",
       "<tr><td style=\"font-family: monospace, monospace; text-align: left;\">median                   </td><td style=\"font-family: monospace, monospace; text-align: left;\">0          </td></tr>\n",
       "<tr><td style=\"font-family: monospace, monospace; text-align: left;\">median absolute deviation</td><td style=\"font-family: monospace, monospace; text-align: left;\">0          </td></tr>\n",
       "<tr><td style=\"font-family: monospace, monospace; text-align: left;\">skew                     </td><td style=\"font-family: monospace, monospace; text-align: left;\">6.07259    </td></tr>\n",
       "</tbody>\n",
       "</table>"
      ],
      "text/plain": [
       "NUMBER OF CYCLIST INJURED Info\n",
       "--------------------------------  -------\n",
       "Data Type                         int64\n",
       "Count                             2093912\n",
       "Unique Values                     5\n",
       "Null Values                       0\n",
       "\n",
       "  Value    Count  % of total\n",
       "-------  -------  ------------\n",
       "      0  2037940  97.33%\n",
       "      1    55328  2.64%\n",
       "      2      619  0.03%\n",
       "      3       24  0.00%\n",
       "      4        1  0.00%\n",
       "\n",
       "Statistic                        Value\n",
       "-------------------------  -----------\n",
       "count                      2.09391e+06\n",
       "min                        0\n",
       "1%                         0\n",
       "5%                         0\n",
       "25%                        0\n",
       "50%                        0\n",
       "75%                        0\n",
       "95%                        0\n",
       "99%                        1\n",
       "max                        4\n",
       "mean                       0.0270508\n",
       "standard deviation         0.164271\n",
       "median                     0\n",
       "median absolute deviation  0\n",
       "skew                       6.07259"
      ]
     },
     "execution_count": 14,
     "metadata": {},
     "output_type": "execute_result"
    }
   ],
   "source": [
    "cyclist_injured_report = ph.SeriesProfile(data[\"NUMBER OF CYCLIST INJURED\"])\n",
    "cyclist_injured_report"
   ]
  },
  {
   "cell_type": "code",
   "execution_count": 15,
   "id": "ea482bf8",
   "metadata": {
    "scrolled": true
   },
   "outputs": [
    {
     "data": {
      "text/html": [
       "<table>\n",
       "<thead>\n",
       "<tr><th style=\"font-family: monospace, monospace; text-align: left;\">NUMBER OF MOTORIST INJURED Info  </th><th style=\"font-family: monospace, monospace; text-align: left;\"> </th></tr>\n",
       "</thead>\n",
       "<tbody>\n",
       "<tr><td style=\"font-family: monospace, monospace; text-align: left;\">Data Type                        </td><td style=\"font-family: monospace, monospace; text-align: left;\">int64  </td></tr>\n",
       "<tr><td style=\"font-family: monospace, monospace; text-align: left;\">Count                            </td><td style=\"font-family: monospace, monospace; text-align: left;\">2093912</td></tr>\n",
       "<tr><td style=\"font-family: monospace, monospace; text-align: left;\">Unique Values                    </td><td style=\"font-family: monospace, monospace; text-align: left;\">31     </td></tr>\n",
       "<tr><td style=\"font-family: monospace, monospace; text-align: left;\">Null Values                      </td><td style=\"font-family: monospace, monospace; text-align: left;\">0      </td></tr>\n",
       "</tbody>\n",
       "</table><br><table>\n",
       "<thead>\n",
       "<tr><th style=\"font-family: monospace, monospace; text-align: left;\">  Value</th><th style=\"font-family: monospace, monospace; text-align: left;\">  Count</th><th style=\"font-family: monospace, monospace; text-align: left;\">% of total  </th></tr>\n",
       "</thead>\n",
       "<tbody>\n",
       "<tr><td style=\"font-family: monospace, monospace; text-align: left;\">      0</td><td style=\"font-family: monospace, monospace; text-align: left;\">1786399</td><td style=\"font-family: monospace, monospace; text-align: left;\">85.31%      </td></tr>\n",
       "<tr><td style=\"font-family: monospace, monospace; text-align: left;\">      1</td><td style=\"font-family: monospace, monospace; text-align: left;\"> 206767</td><td style=\"font-family: monospace, monospace; text-align: left;\">9.87%       </td></tr>\n",
       "<tr><td style=\"font-family: monospace, monospace; text-align: left;\">      2</td><td style=\"font-family: monospace, monospace; text-align: left;\">  64316</td><td style=\"font-family: monospace, monospace; text-align: left;\">3.07%       </td></tr>\n",
       "<tr><td style=\"font-family: monospace, monospace; text-align: left;\">      3</td><td style=\"font-family: monospace, monospace; text-align: left;\">  22341</td><td style=\"font-family: monospace, monospace; text-align: left;\">1.07%       </td></tr>\n",
       "<tr><td style=\"font-family: monospace, monospace; text-align: left;\">      4</td><td style=\"font-family: monospace, monospace; text-align: left;\">   8359</td><td style=\"font-family: monospace, monospace; text-align: left;\">0.40%       </td></tr>\n",
       "<tr><td style=\"font-family: monospace, monospace; text-align: left;\">      5</td><td style=\"font-family: monospace, monospace; text-align: left;\">   3220</td><td style=\"font-family: monospace, monospace; text-align: left;\">0.15%       </td></tr>\n",
       "<tr><td style=\"font-family: monospace, monospace; text-align: left;\">      6</td><td style=\"font-family: monospace, monospace; text-align: left;\">   1327</td><td style=\"font-family: monospace, monospace; text-align: left;\">0.06%       </td></tr>\n",
       "<tr><td style=\"font-family: monospace, monospace; text-align: left;\">      7</td><td style=\"font-family: monospace, monospace; text-align: left;\">    555</td><td style=\"font-family: monospace, monospace; text-align: left;\">0.03%       </td></tr>\n",
       "<tr><td style=\"font-family: monospace, monospace; text-align: left;\">      8</td><td style=\"font-family: monospace, monospace; text-align: left;\">    253</td><td style=\"font-family: monospace, monospace; text-align: left;\">0.01%       </td></tr>\n",
       "<tr><td style=\"font-family: monospace, monospace; text-align: left;\">      9</td><td style=\"font-family: monospace, monospace; text-align: left;\">    126</td><td style=\"font-family: monospace, monospace; text-align: left;\">0.01%       </td></tr>\n",
       "<tr><td style=\"font-family: monospace, monospace; text-align: left;\">     30</td><td style=\"font-family: monospace, monospace; text-align: left;\">      1</td><td style=\"font-family: monospace, monospace; text-align: left;\">0.00%       </td></tr>\n",
       "<tr><td style=\"font-family: monospace, monospace; text-align: left;\">     43</td><td style=\"font-family: monospace, monospace; text-align: left;\">      1</td><td style=\"font-family: monospace, monospace; text-align: left;\">0.00%       </td></tr>\n",
       "<tr><td style=\"font-family: monospace, monospace; text-align: left;\">     23</td><td style=\"font-family: monospace, monospace; text-align: left;\">      1</td><td style=\"font-family: monospace, monospace; text-align: left;\">0.00%       </td></tr>\n",
       "<tr><td style=\"font-family: monospace, monospace; text-align: left;\">     34</td><td style=\"font-family: monospace, monospace; text-align: left;\">      1</td><td style=\"font-family: monospace, monospace; text-align: left;\">0.00%       </td></tr>\n",
       "<tr><td style=\"font-family: monospace, monospace; text-align: left;\">     25</td><td style=\"font-family: monospace, monospace; text-align: left;\">      1</td><td style=\"font-family: monospace, monospace; text-align: left;\">0.00%       </td></tr>\n",
       "</tbody>\n",
       "</table><br><table>\n",
       "<thead>\n",
       "<tr><th style=\"font-family: monospace, monospace; text-align: left;\">Statistic                </th><th style=\"font-family: monospace, monospace; text-align: left;\">       Value</th></tr>\n",
       "</thead>\n",
       "<tbody>\n",
       "<tr><td style=\"font-family: monospace, monospace; text-align: left;\">count                    </td><td style=\"font-family: monospace, monospace; text-align: left;\"> 2.09391e+06</td></tr>\n",
       "<tr><td style=\"font-family: monospace, monospace; text-align: left;\">min                      </td><td style=\"font-family: monospace, monospace; text-align: left;\"> 0          </td></tr>\n",
       "<tr><td style=\"font-family: monospace, monospace; text-align: left;\">1%                       </td><td style=\"font-family: monospace, monospace; text-align: left;\"> 0          </td></tr>\n",
       "<tr><td style=\"font-family: monospace, monospace; text-align: left;\">5%                       </td><td style=\"font-family: monospace, monospace; text-align: left;\"> 0          </td></tr>\n",
       "<tr><td style=\"font-family: monospace, monospace; text-align: left;\">25%                      </td><td style=\"font-family: monospace, monospace; text-align: left;\"> 0          </td></tr>\n",
       "<tr><td style=\"font-family: monospace, monospace; text-align: left;\">50%                      </td><td style=\"font-family: monospace, monospace; text-align: left;\"> 0          </td></tr>\n",
       "<tr><td style=\"font-family: monospace, monospace; text-align: left;\">75%                      </td><td style=\"font-family: monospace, monospace; text-align: left;\"> 0          </td></tr>\n",
       "<tr><td style=\"font-family: monospace, monospace; text-align: left;\">95%                      </td><td style=\"font-family: monospace, monospace; text-align: left;\"> 1          </td></tr>\n",
       "<tr><td style=\"font-family: monospace, monospace; text-align: left;\">99%                      </td><td style=\"font-family: monospace, monospace; text-align: left;\"> 3          </td></tr>\n",
       "<tr><td style=\"font-family: monospace, monospace; text-align: left;\">max                      </td><td style=\"font-family: monospace, monospace; text-align: left;\">43          </td></tr>\n",
       "<tr><td style=\"font-family: monospace, monospace; text-align: left;\">mean                     </td><td style=\"font-family: monospace, monospace; text-align: left;\"> 0.224536   </td></tr>\n",
       "<tr><td style=\"font-family: monospace, monospace; text-align: left;\">standard deviation       </td><td style=\"font-family: monospace, monospace; text-align: left;\"> 0.663279   </td></tr>\n",
       "<tr><td style=\"font-family: monospace, monospace; text-align: left;\">median                   </td><td style=\"font-family: monospace, monospace; text-align: left;\"> 0          </td></tr>\n",
       "<tr><td style=\"font-family: monospace, monospace; text-align: left;\">median absolute deviation</td><td style=\"font-family: monospace, monospace; text-align: left;\"> 0          </td></tr>\n",
       "<tr><td style=\"font-family: monospace, monospace; text-align: left;\">skew                     </td><td style=\"font-family: monospace, monospace; text-align: left;\"> 5.09775    </td></tr>\n",
       "</tbody>\n",
       "</table>"
      ],
      "text/plain": [
       "NUMBER OF MOTORIST INJURED Info\n",
       "---------------------------------  -------\n",
       "Data Type                          int64\n",
       "Count                              2093912\n",
       "Unique Values                      31\n",
       "Null Values                        0\n",
       "\n",
       "  Value    Count  % of total\n",
       "-------  -------  ------------\n",
       "      0  1786399  85.31%\n",
       "      1   206767  9.87%\n",
       "      2    64316  3.07%\n",
       "      3    22341  1.07%\n",
       "      4     8359  0.40%\n",
       "      5     3220  0.15%\n",
       "      6     1327  0.06%\n",
       "      7      555  0.03%\n",
       "      8      253  0.01%\n",
       "      9      126  0.01%\n",
       "     30        1  0.00%\n",
       "     43        1  0.00%\n",
       "     23        1  0.00%\n",
       "     34        1  0.00%\n",
       "     25        1  0.00%\n",
       "\n",
       "Statistic                         Value\n",
       "-------------------------  ------------\n",
       "count                       2.09391e+06\n",
       "min                         0\n",
       "1%                          0\n",
       "5%                          0\n",
       "25%                         0\n",
       "50%                         0\n",
       "75%                         0\n",
       "95%                         1\n",
       "99%                         3\n",
       "max                        43\n",
       "mean                        0.224536\n",
       "standard deviation          0.663279\n",
       "median                      0\n",
       "median absolute deviation   0\n",
       "skew                        5.09775"
      ]
     },
     "execution_count": 15,
     "metadata": {},
     "output_type": "execute_result"
    }
   ],
   "source": [
    "motorist_injured_report = ph.SeriesProfile(data[\"NUMBER OF MOTORIST INJURED\"])\n",
    "motorist_injured_report"
   ]
  },
  {
   "cell_type": "markdown",
   "id": "8a31c079",
   "metadata": {},
   "source": [
    "__A few observations (< 50) are missing the the total number of people injured.__\n",
    "\n",
    "There are no missing values for the individual pedestrian, cyclist, and motorist injured fields"
   ]
  },
  {
   "cell_type": "code",
   "execution_count": 16,
   "id": "8825a603-ee00-4f3f-8874-ee679c83c504",
   "metadata": {},
   "outputs": [
    {
     "data": {
      "text/html": [
       "<table>\n",
       "<thead>\n",
       "<tr><th style=\"font-family: monospace, monospace; text-align: left;\">NUMBER OF PERSONS KILLED Info  </th><th style=\"font-family: monospace, monospace; text-align: left;\"> </th></tr>\n",
       "</thead>\n",
       "<tbody>\n",
       "<tr><td style=\"font-family: monospace, monospace; text-align: left;\">Data Type                      </td><td style=\"font-family: monospace, monospace; text-align: left;\">float64</td></tr>\n",
       "<tr><td style=\"font-family: monospace, monospace; text-align: left;\">Count                          </td><td style=\"font-family: monospace, monospace; text-align: left;\">2093881</td></tr>\n",
       "<tr><td style=\"font-family: monospace, monospace; text-align: left;\">Unique Values                  </td><td style=\"font-family: monospace, monospace; text-align: left;\">7      </td></tr>\n",
       "<tr><td style=\"font-family: monospace, monospace; text-align: left;\">Null Values                    </td><td style=\"font-family: monospace, monospace; text-align: left;\">31     </td></tr>\n",
       "</tbody>\n",
       "</table><br><table>\n",
       "<thead>\n",
       "<tr><th style=\"font-family: monospace, monospace; text-align: left;\">  Value</th><th style=\"font-family: monospace, monospace; text-align: left;\">  Count</th><th style=\"font-family: monospace, monospace; text-align: left;\">% of total  </th></tr>\n",
       "</thead>\n",
       "<tbody>\n",
       "<tr><td style=\"font-family: monospace, monospace; text-align: left;\">      0</td><td style=\"font-family: monospace, monospace; text-align: left;\">2090855</td><td style=\"font-family: monospace, monospace; text-align: left;\">99.86%      </td></tr>\n",
       "<tr><td style=\"font-family: monospace, monospace; text-align: left;\">      1</td><td style=\"font-family: monospace, monospace; text-align: left;\">   2932</td><td style=\"font-family: monospace, monospace; text-align: left;\">0.14%       </td></tr>\n",
       "<tr><td style=\"font-family: monospace, monospace; text-align: left;\">      2</td><td style=\"font-family: monospace, monospace; text-align: left;\">     76</td><td style=\"font-family: monospace, monospace; text-align: left;\">0.00%       </td></tr>\n",
       "<tr><td style=\"font-family: monospace, monospace; text-align: left;\">      3</td><td style=\"font-family: monospace, monospace; text-align: left;\">     12</td><td style=\"font-family: monospace, monospace; text-align: left;\">0.00%       </td></tr>\n",
       "<tr><td style=\"font-family: monospace, monospace; text-align: left;\">      4</td><td style=\"font-family: monospace, monospace; text-align: left;\">      3</td><td style=\"font-family: monospace, monospace; text-align: left;\">0.00%       </td></tr>\n",
       "<tr><td style=\"font-family: monospace, monospace; text-align: left;\">      5</td><td style=\"font-family: monospace, monospace; text-align: left;\">      2</td><td style=\"font-family: monospace, monospace; text-align: left;\">0.00%       </td></tr>\n",
       "<tr><td style=\"font-family: monospace, monospace; text-align: left;\">      8</td><td style=\"font-family: monospace, monospace; text-align: left;\">      1</td><td style=\"font-family: monospace, monospace; text-align: left;\">0.00%       </td></tr>\n",
       "</tbody>\n",
       "</table><br><table>\n",
       "<thead>\n",
       "<tr><th style=\"font-family: monospace, monospace; text-align: left;\">Statistic                </th><th style=\"font-family: monospace, monospace; text-align: left;\">       Value</th></tr>\n",
       "</thead>\n",
       "<tbody>\n",
       "<tr><td style=\"font-family: monospace, monospace; text-align: left;\">count                    </td><td style=\"font-family: monospace, monospace; text-align: left;\"> 2.09388e+06</td></tr>\n",
       "<tr><td style=\"font-family: monospace, monospace; text-align: left;\">min                      </td><td style=\"font-family: monospace, monospace; text-align: left;\"> 0          </td></tr>\n",
       "<tr><td style=\"font-family: monospace, monospace; text-align: left;\">1%                       </td><td style=\"font-family: monospace, monospace; text-align: left;\"> 0          </td></tr>\n",
       "<tr><td style=\"font-family: monospace, monospace; text-align: left;\">5%                       </td><td style=\"font-family: monospace, monospace; text-align: left;\"> 0          </td></tr>\n",
       "<tr><td style=\"font-family: monospace, monospace; text-align: left;\">25%                      </td><td style=\"font-family: monospace, monospace; text-align: left;\"> 0          </td></tr>\n",
       "<tr><td style=\"font-family: monospace, monospace; text-align: left;\">50%                      </td><td style=\"font-family: monospace, monospace; text-align: left;\"> 0          </td></tr>\n",
       "<tr><td style=\"font-family: monospace, monospace; text-align: left;\">75%                      </td><td style=\"font-family: monospace, monospace; text-align: left;\"> 0          </td></tr>\n",
       "<tr><td style=\"font-family: monospace, monospace; text-align: left;\">95%                      </td><td style=\"font-family: monospace, monospace; text-align: left;\"> 0          </td></tr>\n",
       "<tr><td style=\"font-family: monospace, monospace; text-align: left;\">99%                      </td><td style=\"font-family: monospace, monospace; text-align: left;\"> 0          </td></tr>\n",
       "<tr><td style=\"font-family: monospace, monospace; text-align: left;\">max                      </td><td style=\"font-family: monospace, monospace; text-align: left;\"> 8          </td></tr>\n",
       "<tr><td style=\"font-family: monospace, monospace; text-align: left;\">mean                     </td><td style=\"font-family: monospace, monospace; text-align: left;\"> 0.00150438 </td></tr>\n",
       "<tr><td style=\"font-family: monospace, monospace; text-align: left;\">standard deviation       </td><td style=\"font-family: monospace, monospace; text-align: left;\"> 0.0408918  </td></tr>\n",
       "<tr><td style=\"font-family: monospace, monospace; text-align: left;\">median                   </td><td style=\"font-family: monospace, monospace; text-align: left;\"> 0          </td></tr>\n",
       "<tr><td style=\"font-family: monospace, monospace; text-align: left;\">median absolute deviation</td><td style=\"font-family: monospace, monospace; text-align: left;\"> 0          </td></tr>\n",
       "<tr><td style=\"font-family: monospace, monospace; text-align: left;\">skew                     </td><td style=\"font-family: monospace, monospace; text-align: left;\">33.5412     </td></tr>\n",
       "</tbody>\n",
       "</table>"
      ],
      "text/plain": [
       "NUMBER OF PERSONS KILLED Info\n",
       "-------------------------------  -------\n",
       "Data Type                        float64\n",
       "Count                            2093881\n",
       "Unique Values                    7\n",
       "Null Values                      31\n",
       "\n",
       "  Value    Count  % of total\n",
       "-------  -------  ------------\n",
       "      0  2090855  99.86%\n",
       "      1     2932  0.14%\n",
       "      2       76  0.00%\n",
       "      3       12  0.00%\n",
       "      4        3  0.00%\n",
       "      5        2  0.00%\n",
       "      8        1  0.00%\n",
       "\n",
       "Statistic                         Value\n",
       "-------------------------  ------------\n",
       "count                       2.09388e+06\n",
       "min                         0\n",
       "1%                          0\n",
       "5%                          0\n",
       "25%                         0\n",
       "50%                         0\n",
       "75%                         0\n",
       "95%                         0\n",
       "99%                         0\n",
       "max                         8\n",
       "mean                        0.00150438\n",
       "standard deviation          0.0408918\n",
       "median                      0\n",
       "median absolute deviation   0\n",
       "skew                       33.5412"
      ]
     },
     "execution_count": 16,
     "metadata": {},
     "output_type": "execute_result"
    }
   ],
   "source": [
    "killed_report = ph.SeriesProfile(data[\"NUMBER OF PERSONS KILLED\"])\n",
    "killed_report"
   ]
  },
  {
   "cell_type": "code",
   "execution_count": 17,
   "id": "7d975b0b-bc9b-45d8-bb6d-00fe7f1913b1",
   "metadata": {
    "scrolled": true
   },
   "outputs": [
    {
     "data": {
      "text/html": [
       "<table>\n",
       "<thead>\n",
       "<tr><th style=\"font-family: monospace, monospace; text-align: left;\">NUMBER OF PEDESTRIANS KILLED Info  </th><th style=\"font-family: monospace, monospace; text-align: left;\"> </th></tr>\n",
       "</thead>\n",
       "<tbody>\n",
       "<tr><td style=\"font-family: monospace, monospace; text-align: left;\">Data Type                          </td><td style=\"font-family: monospace, monospace; text-align: left;\">int64  </td></tr>\n",
       "<tr><td style=\"font-family: monospace, monospace; text-align: left;\">Count                              </td><td style=\"font-family: monospace, monospace; text-align: left;\">2093912</td></tr>\n",
       "<tr><td style=\"font-family: monospace, monospace; text-align: left;\">Unique Values                      </td><td style=\"font-family: monospace, monospace; text-align: left;\">4      </td></tr>\n",
       "<tr><td style=\"font-family: monospace, monospace; text-align: left;\">Null Values                        </td><td style=\"font-family: monospace, monospace; text-align: left;\">0      </td></tr>\n",
       "</tbody>\n",
       "</table><br><table>\n",
       "<thead>\n",
       "<tr><th style=\"font-family: monospace, monospace; text-align: left;\">  Value</th><th style=\"font-family: monospace, monospace; text-align: left;\">  Count</th><th style=\"font-family: monospace, monospace; text-align: left;\">% of total  </th></tr>\n",
       "</thead>\n",
       "<tbody>\n",
       "<tr><td style=\"font-family: monospace, monospace; text-align: left;\">      0</td><td style=\"font-family: monospace, monospace; text-align: left;\">2092368</td><td style=\"font-family: monospace, monospace; text-align: left;\">99.93%      </td></tr>\n",
       "<tr><td style=\"font-family: monospace, monospace; text-align: left;\">      1</td><td style=\"font-family: monospace, monospace; text-align: left;\">   1531</td><td style=\"font-family: monospace, monospace; text-align: left;\">0.07%       </td></tr>\n",
       "<tr><td style=\"font-family: monospace, monospace; text-align: left;\">      2</td><td style=\"font-family: monospace, monospace; text-align: left;\">     12</td><td style=\"font-family: monospace, monospace; text-align: left;\">0.00%       </td></tr>\n",
       "<tr><td style=\"font-family: monospace, monospace; text-align: left;\">      6</td><td style=\"font-family: monospace, monospace; text-align: left;\">      1</td><td style=\"font-family: monospace, monospace; text-align: left;\">0.00%       </td></tr>\n",
       "</tbody>\n",
       "</table><br><table>\n",
       "<thead>\n",
       "<tr><th style=\"font-family: monospace, monospace; text-align: left;\">Statistic                </th><th style=\"font-family: monospace, monospace; text-align: left;\">       Value</th></tr>\n",
       "</thead>\n",
       "<tbody>\n",
       "<tr><td style=\"font-family: monospace, monospace; text-align: left;\">count                    </td><td style=\"font-family: monospace, monospace; text-align: left;\"> 2.09391e+06</td></tr>\n",
       "<tr><td style=\"font-family: monospace, monospace; text-align: left;\">min                      </td><td style=\"font-family: monospace, monospace; text-align: left;\"> 0          </td></tr>\n",
       "<tr><td style=\"font-family: monospace, monospace; text-align: left;\">1%                       </td><td style=\"font-family: monospace, monospace; text-align: left;\"> 0          </td></tr>\n",
       "<tr><td style=\"font-family: monospace, monospace; text-align: left;\">5%                       </td><td style=\"font-family: monospace, monospace; text-align: left;\"> 0          </td></tr>\n",
       "<tr><td style=\"font-family: monospace, monospace; text-align: left;\">25%                      </td><td style=\"font-family: monospace, monospace; text-align: left;\"> 0          </td></tr>\n",
       "<tr><td style=\"font-family: monospace, monospace; text-align: left;\">50%                      </td><td style=\"font-family: monospace, monospace; text-align: left;\"> 0          </td></tr>\n",
       "<tr><td style=\"font-family: monospace, monospace; text-align: left;\">75%                      </td><td style=\"font-family: monospace, monospace; text-align: left;\"> 0          </td></tr>\n",
       "<tr><td style=\"font-family: monospace, monospace; text-align: left;\">95%                      </td><td style=\"font-family: monospace, monospace; text-align: left;\"> 0          </td></tr>\n",
       "<tr><td style=\"font-family: monospace, monospace; text-align: left;\">99%                      </td><td style=\"font-family: monospace, monospace; text-align: left;\"> 0          </td></tr>\n",
       "<tr><td style=\"font-family: monospace, monospace; text-align: left;\">max                      </td><td style=\"font-family: monospace, monospace; text-align: left;\"> 6          </td></tr>\n",
       "<tr><td style=\"font-family: monospace, monospace; text-align: left;\">mean                     </td><td style=\"font-family: monospace, monospace; text-align: left;\"> 0.000745495</td></tr>\n",
       "<tr><td style=\"font-family: monospace, monospace; text-align: left;\">standard deviation       </td><td style=\"font-family: monospace, monospace; text-align: left;\"> 0.027762   </td></tr>\n",
       "<tr><td style=\"font-family: monospace, monospace; text-align: left;\">median                   </td><td style=\"font-family: monospace, monospace; text-align: left;\"> 0          </td></tr>\n",
       "<tr><td style=\"font-family: monospace, monospace; text-align: left;\">median absolute deviation</td><td style=\"font-family: monospace, monospace; text-align: left;\"> 0          </td></tr>\n",
       "<tr><td style=\"font-family: monospace, monospace; text-align: left;\">skew                     </td><td style=\"font-family: monospace, monospace; text-align: left;\">41.0548     </td></tr>\n",
       "</tbody>\n",
       "</table>"
      ],
      "text/plain": [
       "NUMBER OF PEDESTRIANS KILLED Info\n",
       "-----------------------------------  -------\n",
       "Data Type                            int64\n",
       "Count                                2093912\n",
       "Unique Values                        4\n",
       "Null Values                          0\n",
       "\n",
       "  Value    Count  % of total\n",
       "-------  -------  ------------\n",
       "      0  2092368  99.93%\n",
       "      1     1531  0.07%\n",
       "      2       12  0.00%\n",
       "      6        1  0.00%\n",
       "\n",
       "Statistic                         Value\n",
       "-------------------------  ------------\n",
       "count                       2.09391e+06\n",
       "min                         0\n",
       "1%                          0\n",
       "5%                          0\n",
       "25%                         0\n",
       "50%                         0\n",
       "75%                         0\n",
       "95%                         0\n",
       "99%                         0\n",
       "max                         6\n",
       "mean                        0.000745495\n",
       "standard deviation          0.027762\n",
       "median                      0\n",
       "median absolute deviation   0\n",
       "skew                       41.0548"
      ]
     },
     "execution_count": 17,
     "metadata": {},
     "output_type": "execute_result"
    }
   ],
   "source": [
    "pedestrian_killed_report = ph.SeriesProfile(data[\"NUMBER OF PEDESTRIANS KILLED\"])\n",
    "pedestrian_killed_report"
   ]
  },
  {
   "cell_type": "code",
   "execution_count": 18,
   "id": "89332759-144c-4241-953e-03e8055423fe",
   "metadata": {
    "scrolled": true
   },
   "outputs": [
    {
     "data": {
      "text/html": [
       "<table>\n",
       "<thead>\n",
       "<tr><th style=\"font-family: monospace, monospace; text-align: left;\">NUMBER OF CYCLIST KILLED Info  </th><th style=\"font-family: monospace, monospace; text-align: left;\"> </th></tr>\n",
       "</thead>\n",
       "<tbody>\n",
       "<tr><td style=\"font-family: monospace, monospace; text-align: left;\">Data Type                      </td><td style=\"font-family: monospace, monospace; text-align: left;\">int64  </td></tr>\n",
       "<tr><td style=\"font-family: monospace, monospace; text-align: left;\">Count                          </td><td style=\"font-family: monospace, monospace; text-align: left;\">2093912</td></tr>\n",
       "<tr><td style=\"font-family: monospace, monospace; text-align: left;\">Unique Values                  </td><td style=\"font-family: monospace, monospace; text-align: left;\">3      </td></tr>\n",
       "<tr><td style=\"font-family: monospace, monospace; text-align: left;\">Null Values                    </td><td style=\"font-family: monospace, monospace; text-align: left;\">0      </td></tr>\n",
       "</tbody>\n",
       "</table><br><table>\n",
       "<thead>\n",
       "<tr><th style=\"font-family: monospace, monospace; text-align: left;\">  Value</th><th style=\"font-family: monospace, monospace; text-align: left;\">  Count</th><th style=\"font-family: monospace, monospace; text-align: left;\">% of total  </th></tr>\n",
       "</thead>\n",
       "<tbody>\n",
       "<tr><td style=\"font-family: monospace, monospace; text-align: left;\">      0</td><td style=\"font-family: monospace, monospace; text-align: left;\">2093669</td><td style=\"font-family: monospace, monospace; text-align: left;\">99.99%      </td></tr>\n",
       "<tr><td style=\"font-family: monospace, monospace; text-align: left;\">      1</td><td style=\"font-family: monospace, monospace; text-align: left;\">    242</td><td style=\"font-family: monospace, monospace; text-align: left;\">0.01%       </td></tr>\n",
       "<tr><td style=\"font-family: monospace, monospace; text-align: left;\">      2</td><td style=\"font-family: monospace, monospace; text-align: left;\">      1</td><td style=\"font-family: monospace, monospace; text-align: left;\">0.00%       </td></tr>\n",
       "</tbody>\n",
       "</table><br><table>\n",
       "<thead>\n",
       "<tr><th style=\"font-family: monospace, monospace; text-align: left;\">Statistic                </th><th style=\"font-family: monospace, monospace; text-align: left;\">       Value</th></tr>\n",
       "</thead>\n",
       "<tbody>\n",
       "<tr><td style=\"font-family: monospace, monospace; text-align: left;\">count                    </td><td style=\"font-family: monospace, monospace; text-align: left;\"> 2.09391e+06</td></tr>\n",
       "<tr><td style=\"font-family: monospace, monospace; text-align: left;\">min                      </td><td style=\"font-family: monospace, monospace; text-align: left;\"> 0          </td></tr>\n",
       "<tr><td style=\"font-family: monospace, monospace; text-align: left;\">1%                       </td><td style=\"font-family: monospace, monospace; text-align: left;\"> 0          </td></tr>\n",
       "<tr><td style=\"font-family: monospace, monospace; text-align: left;\">5%                       </td><td style=\"font-family: monospace, monospace; text-align: left;\"> 0          </td></tr>\n",
       "<tr><td style=\"font-family: monospace, monospace; text-align: left;\">25%                      </td><td style=\"font-family: monospace, monospace; text-align: left;\"> 0          </td></tr>\n",
       "<tr><td style=\"font-family: monospace, monospace; text-align: left;\">50%                      </td><td style=\"font-family: monospace, monospace; text-align: left;\"> 0          </td></tr>\n",
       "<tr><td style=\"font-family: monospace, monospace; text-align: left;\">75%                      </td><td style=\"font-family: monospace, monospace; text-align: left;\"> 0          </td></tr>\n",
       "<tr><td style=\"font-family: monospace, monospace; text-align: left;\">95%                      </td><td style=\"font-family: monospace, monospace; text-align: left;\"> 0          </td></tr>\n",
       "<tr><td style=\"font-family: monospace, monospace; text-align: left;\">99%                      </td><td style=\"font-family: monospace, monospace; text-align: left;\"> 0          </td></tr>\n",
       "<tr><td style=\"font-family: monospace, monospace; text-align: left;\">max                      </td><td style=\"font-family: monospace, monospace; text-align: left;\"> 2          </td></tr>\n",
       "<tr><td style=\"font-family: monospace, monospace; text-align: left;\">mean                     </td><td style=\"font-family: monospace, monospace; text-align: left;\"> 0.000116528</td></tr>\n",
       "<tr><td style=\"font-family: monospace, monospace; text-align: left;\">standard deviation       </td><td style=\"font-family: monospace, monospace; text-align: left;\"> 0.0108384  </td></tr>\n",
       "<tr><td style=\"font-family: monospace, monospace; text-align: left;\">median                   </td><td style=\"font-family: monospace, monospace; text-align: left;\"> 0          </td></tr>\n",
       "<tr><td style=\"font-family: monospace, monospace; text-align: left;\">median absolute deviation</td><td style=\"font-family: monospace, monospace; text-align: left;\"> 0          </td></tr>\n",
       "<tr><td style=\"font-family: monospace, monospace; text-align: left;\">skew                     </td><td style=\"font-family: monospace, monospace; text-align: left;\">93.7438     </td></tr>\n",
       "</tbody>\n",
       "</table>"
      ],
      "text/plain": [
       "NUMBER OF CYCLIST KILLED Info\n",
       "-------------------------------  -------\n",
       "Data Type                        int64\n",
       "Count                            2093912\n",
       "Unique Values                    3\n",
       "Null Values                      0\n",
       "\n",
       "  Value    Count  % of total\n",
       "-------  -------  ------------\n",
       "      0  2093669  99.99%\n",
       "      1      242  0.01%\n",
       "      2        1  0.00%\n",
       "\n",
       "Statistic                         Value\n",
       "-------------------------  ------------\n",
       "count                       2.09391e+06\n",
       "min                         0\n",
       "1%                          0\n",
       "5%                          0\n",
       "25%                         0\n",
       "50%                         0\n",
       "75%                         0\n",
       "95%                         0\n",
       "99%                         0\n",
       "max                         2\n",
       "mean                        0.000116528\n",
       "standard deviation          0.0108384\n",
       "median                      0\n",
       "median absolute deviation   0\n",
       "skew                       93.7438"
      ]
     },
     "execution_count": 18,
     "metadata": {},
     "output_type": "execute_result"
    }
   ],
   "source": [
    "cyclist_killed_report = ph.SeriesProfile(data[\"NUMBER OF CYCLIST KILLED\"])\n",
    "cyclist_killed_report"
   ]
  },
  {
   "cell_type": "code",
   "execution_count": 19,
   "id": "7cdca086",
   "metadata": {
    "scrolled": true
   },
   "outputs": [
    {
     "data": {
      "text/html": [
       "<table>\n",
       "<thead>\n",
       "<tr><th style=\"font-family: monospace, monospace; text-align: left;\">NUMBER OF MOTORIST KILLED Info  </th><th style=\"font-family: monospace, monospace; text-align: left;\"> </th></tr>\n",
       "</thead>\n",
       "<tbody>\n",
       "<tr><td style=\"font-family: monospace, monospace; text-align: left;\">Data Type                       </td><td style=\"font-family: monospace, monospace; text-align: left;\">int64  </td></tr>\n",
       "<tr><td style=\"font-family: monospace, monospace; text-align: left;\">Count                           </td><td style=\"font-family: monospace, monospace; text-align: left;\">2093912</td></tr>\n",
       "<tr><td style=\"font-family: monospace, monospace; text-align: left;\">Unique Values                   </td><td style=\"font-family: monospace, monospace; text-align: left;\">6      </td></tr>\n",
       "<tr><td style=\"font-family: monospace, monospace; text-align: left;\">Null Values                     </td><td style=\"font-family: monospace, monospace; text-align: left;\">0      </td></tr>\n",
       "</tbody>\n",
       "</table><br><table>\n",
       "<thead>\n",
       "<tr><th style=\"font-family: monospace, monospace; text-align: left;\">  Value</th><th style=\"font-family: monospace, monospace; text-align: left;\">  Count</th><th style=\"font-family: monospace, monospace; text-align: left;\">% of total  </th></tr>\n",
       "</thead>\n",
       "<tbody>\n",
       "<tr><td style=\"font-family: monospace, monospace; text-align: left;\">      0</td><td style=\"font-family: monospace, monospace; text-align: left;\">2092714</td><td style=\"font-family: monospace, monospace; text-align: left;\">99.94%      </td></tr>\n",
       "<tr><td style=\"font-family: monospace, monospace; text-align: left;\">      1</td><td style=\"font-family: monospace, monospace; text-align: left;\">   1122</td><td style=\"font-family: monospace, monospace; text-align: left;\">0.05%       </td></tr>\n",
       "<tr><td style=\"font-family: monospace, monospace; text-align: left;\">      2</td><td style=\"font-family: monospace, monospace; text-align: left;\">     60</td><td style=\"font-family: monospace, monospace; text-align: left;\">0.00%       </td></tr>\n",
       "<tr><td style=\"font-family: monospace, monospace; text-align: left;\">      3</td><td style=\"font-family: monospace, monospace; text-align: left;\">     12</td><td style=\"font-family: monospace, monospace; text-align: left;\">0.00%       </td></tr>\n",
       "<tr><td style=\"font-family: monospace, monospace; text-align: left;\">      4</td><td style=\"font-family: monospace, monospace; text-align: left;\">      2</td><td style=\"font-family: monospace, monospace; text-align: left;\">0.00%       </td></tr>\n",
       "<tr><td style=\"font-family: monospace, monospace; text-align: left;\">      5</td><td style=\"font-family: monospace, monospace; text-align: left;\">      2</td><td style=\"font-family: monospace, monospace; text-align: left;\">0.00%       </td></tr>\n",
       "</tbody>\n",
       "</table><br><table>\n",
       "<thead>\n",
       "<tr><th style=\"font-family: monospace, monospace; text-align: left;\">Statistic                </th><th style=\"font-family: monospace, monospace; text-align: left;\">       Value</th></tr>\n",
       "</thead>\n",
       "<tbody>\n",
       "<tr><td style=\"font-family: monospace, monospace; text-align: left;\">count                    </td><td style=\"font-family: monospace, monospace; text-align: left;\"> 2.09391e+06</td></tr>\n",
       "<tr><td style=\"font-family: monospace, monospace; text-align: left;\">min                      </td><td style=\"font-family: monospace, monospace; text-align: left;\"> 0          </td></tr>\n",
       "<tr><td style=\"font-family: monospace, monospace; text-align: left;\">1%                       </td><td style=\"font-family: monospace, monospace; text-align: left;\"> 0          </td></tr>\n",
       "<tr><td style=\"font-family: monospace, monospace; text-align: left;\">5%                       </td><td style=\"font-family: monospace, monospace; text-align: left;\"> 0          </td></tr>\n",
       "<tr><td style=\"font-family: monospace, monospace; text-align: left;\">25%                      </td><td style=\"font-family: monospace, monospace; text-align: left;\"> 0          </td></tr>\n",
       "<tr><td style=\"font-family: monospace, monospace; text-align: left;\">50%                      </td><td style=\"font-family: monospace, monospace; text-align: left;\"> 0          </td></tr>\n",
       "<tr><td style=\"font-family: monospace, monospace; text-align: left;\">75%                      </td><td style=\"font-family: monospace, monospace; text-align: left;\"> 0          </td></tr>\n",
       "<tr><td style=\"font-family: monospace, monospace; text-align: left;\">95%                      </td><td style=\"font-family: monospace, monospace; text-align: left;\"> 0          </td></tr>\n",
       "<tr><td style=\"font-family: monospace, monospace; text-align: left;\">99%                      </td><td style=\"font-family: monospace, monospace; text-align: left;\"> 0          </td></tr>\n",
       "<tr><td style=\"font-family: monospace, monospace; text-align: left;\">max                      </td><td style=\"font-family: monospace, monospace; text-align: left;\"> 5          </td></tr>\n",
       "<tr><td style=\"font-family: monospace, monospace; text-align: left;\">mean                     </td><td style=\"font-family: monospace, monospace; text-align: left;\"> 0.000618937</td></tr>\n",
       "<tr><td style=\"font-family: monospace, monospace; text-align: left;\">standard deviation       </td><td style=\"font-family: monospace, monospace; text-align: left;\"> 0.0272179  </td></tr>\n",
       "<tr><td style=\"font-family: monospace, monospace; text-align: left;\">median                   </td><td style=\"font-family: monospace, monospace; text-align: left;\"> 0          </td></tr>\n",
       "<tr><td style=\"font-family: monospace, monospace; text-align: left;\">median absolute deviation</td><td style=\"font-family: monospace, monospace; text-align: left;\"> 0          </td></tr>\n",
       "<tr><td style=\"font-family: monospace, monospace; text-align: left;\">skew                     </td><td style=\"font-family: monospace, monospace; text-align: left;\">54.5027     </td></tr>\n",
       "</tbody>\n",
       "</table>"
      ],
      "text/plain": [
       "NUMBER OF MOTORIST KILLED Info\n",
       "--------------------------------  -------\n",
       "Data Type                         int64\n",
       "Count                             2093912\n",
       "Unique Values                     6\n",
       "Null Values                       0\n",
       "\n",
       "  Value    Count  % of total\n",
       "-------  -------  ------------\n",
       "      0  2092714  99.94%\n",
       "      1     1122  0.05%\n",
       "      2       60  0.00%\n",
       "      3       12  0.00%\n",
       "      4        2  0.00%\n",
       "      5        2  0.00%\n",
       "\n",
       "Statistic                         Value\n",
       "-------------------------  ------------\n",
       "count                       2.09391e+06\n",
       "min                         0\n",
       "1%                          0\n",
       "5%                          0\n",
       "25%                         0\n",
       "50%                         0\n",
       "75%                         0\n",
       "95%                         0\n",
       "99%                         0\n",
       "max                         5\n",
       "mean                        0.000618937\n",
       "standard deviation          0.0272179\n",
       "median                      0\n",
       "median absolute deviation   0\n",
       "skew                       54.5027"
      ]
     },
     "execution_count": 19,
     "metadata": {},
     "output_type": "execute_result"
    }
   ],
   "source": [
    "motorist_killed_report = ph.SeriesProfile(data[\"NUMBER OF MOTORIST KILLED\"])\n",
    "motorist_killed_report"
   ]
  },
  {
   "cell_type": "markdown",
   "id": "908c5be8",
   "metadata": {},
   "source": [
    "__A few observations (< 50) are missing the the total number of people killed.__\n",
    "\n",
    "There are no missing values for the individual pedestrian, cyclist, and motorist killed fields"
   ]
  },
  {
   "cell_type": "code",
   "execution_count": 20,
   "id": "065b2e8a-e36b-4421-b42a-281140274fed",
   "metadata": {
    "scrolled": true
   },
   "outputs": [
    {
     "data": {
      "text/html": [
       "<table>\n",
       "<thead>\n",
       "<tr><th style=\"font-family: monospace, monospace; text-align: left;\">CONTRIBUTING FACTOR VEHICLE 1 Info  </th><th style=\"font-family: monospace, monospace; text-align: left;\"> </th></tr>\n",
       "</thead>\n",
       "<tbody>\n",
       "<tr><td style=\"font-family: monospace, monospace; text-align: left;\">Data Type                           </td><td style=\"font-family: monospace, monospace; text-align: left;\">object </td></tr>\n",
       "<tr><td style=\"font-family: monospace, monospace; text-align: left;\">Count                               </td><td style=\"font-family: monospace, monospace; text-align: left;\">2086982</td></tr>\n",
       "<tr><td style=\"font-family: monospace, monospace; text-align: left;\">Unique Values                       </td><td style=\"font-family: monospace, monospace; text-align: left;\">61     </td></tr>\n",
       "<tr><td style=\"font-family: monospace, monospace; text-align: left;\">Null Values                         </td><td style=\"font-family: monospace, monospace; text-align: left;\">6930   </td></tr>\n",
       "</tbody>\n",
       "</table><br><table>\n",
       "<thead>\n",
       "<tr><th style=\"font-family: monospace, monospace; text-align: left;\">Value                         </th><th style=\"font-family: monospace, monospace; text-align: left;\">  Count</th><th style=\"font-family: monospace, monospace; text-align: left;\">% of total  </th></tr>\n",
       "</thead>\n",
       "<tbody>\n",
       "<tr><td style=\"font-family: monospace, monospace; text-align: left;\">Unspecified                   </td><td style=\"font-family: monospace, monospace; text-align: left;\"> 711277</td><td style=\"font-family: monospace, monospace; text-align: left;\">34.08%      </td></tr>\n",
       "<tr><td style=\"font-family: monospace, monospace; text-align: left;\">Driver Inattention/Distraction</td><td style=\"font-family: monospace, monospace; text-align: left;\"> 419758</td><td style=\"font-family: monospace, monospace; text-align: left;\">20.11%      </td></tr>\n",
       "<tr><td style=\"font-family: monospace, monospace; text-align: left;\">Failure to Yield Right-of-Way </td><td style=\"font-family: monospace, monospace; text-align: left;\"> 124543</td><td style=\"font-family: monospace, monospace; text-align: left;\">5.97%       </td></tr>\n",
       "<tr><td style=\"font-family: monospace, monospace; text-align: left;\">Following Too Closely         </td><td style=\"font-family: monospace, monospace; text-align: left;\"> 112135</td><td style=\"font-family: monospace, monospace; text-align: left;\">5.37%       </td></tr>\n",
       "<tr><td style=\"font-family: monospace, monospace; text-align: left;\">Backing Unsafely              </td><td style=\"font-family: monospace, monospace; text-align: left;\">  77300</td><td style=\"font-family: monospace, monospace; text-align: left;\">3.70%       </td></tr>\n",
       "<tr><td style=\"font-family: monospace, monospace; text-align: left;\">Other Vehicular               </td><td style=\"font-family: monospace, monospace; text-align: left;\">  64993</td><td style=\"font-family: monospace, monospace; text-align: left;\">3.11%       </td></tr>\n",
       "<tr><td style=\"font-family: monospace, monospace; text-align: left;\">Passing or Lane Usage Improper</td><td style=\"font-family: monospace, monospace; text-align: left;\">  58604</td><td style=\"font-family: monospace, monospace; text-align: left;\">2.81%       </td></tr>\n",
       "<tr><td style=\"font-family: monospace, monospace; text-align: left;\">Passing Too Closely           </td><td style=\"font-family: monospace, monospace; text-align: left;\">  52230</td><td style=\"font-family: monospace, monospace; text-align: left;\">2.50%       </td></tr>\n",
       "<tr><td style=\"font-family: monospace, monospace; text-align: left;\">Turning Improperly            </td><td style=\"font-family: monospace, monospace; text-align: left;\">  51692</td><td style=\"font-family: monospace, monospace; text-align: left;\">2.48%       </td></tr>\n",
       "<tr><td style=\"font-family: monospace, monospace; text-align: left;\">Fatigued/Drowsy               </td><td style=\"font-family: monospace, monospace; text-align: left;\">  47422</td><td style=\"font-family: monospace, monospace; text-align: left;\">2.27%       </td></tr>\n",
       "<tr><td style=\"font-family: monospace, monospace; text-align: left;\">Windshield Inadequate         </td><td style=\"font-family: monospace, monospace; text-align: left;\">     81</td><td style=\"font-family: monospace, monospace; text-align: left;\">0.00%       </td></tr>\n",
       "<tr><td style=\"font-family: monospace, monospace; text-align: left;\">Cell Phone (hand-held)        </td><td style=\"font-family: monospace, monospace; text-align: left;\">     79</td><td style=\"font-family: monospace, monospace; text-align: left;\">0.00%       </td></tr>\n",
       "<tr><td style=\"font-family: monospace, monospace; text-align: left;\">Texting                       </td><td style=\"font-family: monospace, monospace; text-align: left;\">     53</td><td style=\"font-family: monospace, monospace; text-align: left;\">0.00%       </td></tr>\n",
       "<tr><td style=\"font-family: monospace, monospace; text-align: left;\">Listening/Using Headphones    </td><td style=\"font-family: monospace, monospace; text-align: left;\">     26</td><td style=\"font-family: monospace, monospace; text-align: left;\">0.00%       </td></tr>\n",
       "<tr><td style=\"font-family: monospace, monospace; text-align: left;\">1                             </td><td style=\"font-family: monospace, monospace; text-align: left;\">     10</td><td style=\"font-family: monospace, monospace; text-align: left;\">0.00%       </td></tr>\n",
       "</tbody>\n",
       "</table>"
      ],
      "text/plain": [
       "CONTRIBUTING FACTOR VEHICLE 1 Info\n",
       "------------------------------------  -------\n",
       "Data Type                             object\n",
       "Count                                 2086982\n",
       "Unique Values                         61\n",
       "Null Values                           6930\n",
       "\n",
       "Value                             Count  % of total\n",
       "------------------------------  -------  ------------\n",
       "Unspecified                      711277  34.08%\n",
       "Driver Inattention/Distraction   419758  20.11%\n",
       "Failure to Yield Right-of-Way    124543  5.97%\n",
       "Following Too Closely            112135  5.37%\n",
       "Backing Unsafely                  77300  3.70%\n",
       "Other Vehicular                   64993  3.11%\n",
       "Passing or Lane Usage Improper    58604  2.81%\n",
       "Passing Too Closely               52230  2.50%\n",
       "Turning Improperly                51692  2.48%\n",
       "Fatigued/Drowsy                   47422  2.27%\n",
       "Windshield Inadequate                81  0.00%\n",
       "Cell Phone (hand-held)               79  0.00%\n",
       "Texting                              53  0.00%\n",
       "Listening/Using Headphones           26  0.00%\n",
       "1                                    10  0.00%"
      ]
     },
     "execution_count": 20,
     "metadata": {},
     "output_type": "execute_result"
    }
   ],
   "source": [
    "factor1_report = ph.SeriesProfile(data[\"CONTRIBUTING FACTOR VEHICLE 1\"])\n",
    "factor1_report"
   ]
  },
  {
   "cell_type": "code",
   "execution_count": 21,
   "id": "fc311c40-5b75-4251-b3aa-f86db765eb45",
   "metadata": {
    "scrolled": true
   },
   "outputs": [
    {
     "data": {
      "text/html": [
       "<table>\n",
       "<thead>\n",
       "<tr><th style=\"font-family: monospace, monospace; text-align: left;\">CONTRIBUTING FACTOR VEHICLE 2 Info  </th><th style=\"font-family: monospace, monospace; text-align: left;\"> </th></tr>\n",
       "</thead>\n",
       "<tbody>\n",
       "<tr><td style=\"font-family: monospace, monospace; text-align: left;\">Data Type                           </td><td style=\"font-family: monospace, monospace; text-align: left;\">object </td></tr>\n",
       "<tr><td style=\"font-family: monospace, monospace; text-align: left;\">Count                               </td><td style=\"font-family: monospace, monospace; text-align: left;\">1767970</td></tr>\n",
       "<tr><td style=\"font-family: monospace, monospace; text-align: left;\">Unique Values                       </td><td style=\"font-family: monospace, monospace; text-align: left;\">61     </td></tr>\n",
       "<tr><td style=\"font-family: monospace, monospace; text-align: left;\">Null Values                         </td><td style=\"font-family: monospace, monospace; text-align: left;\">325942 </td></tr>\n",
       "</tbody>\n",
       "</table><br><table>\n",
       "<thead>\n",
       "<tr><th style=\"font-family: monospace, monospace; text-align: left;\">Value                         </th><th style=\"font-family: monospace, monospace; text-align: left;\">  Count</th><th style=\"font-family: monospace, monospace; text-align: left;\">% of total  </th></tr>\n",
       "</thead>\n",
       "<tbody>\n",
       "<tr><td style=\"font-family: monospace, monospace; text-align: left;\">Unspecified                   </td><td style=\"font-family: monospace, monospace; text-align: left;\">1488536</td><td style=\"font-family: monospace, monospace; text-align: left;\">84.19%      </td></tr>\n",
       "<tr><td style=\"font-family: monospace, monospace; text-align: left;\">Driver Inattention/Distraction</td><td style=\"font-family: monospace, monospace; text-align: left;\">  95035</td><td style=\"font-family: monospace, monospace; text-align: left;\">5.38%       </td></tr>\n",
       "<tr><td style=\"font-family: monospace, monospace; text-align: left;\">Other Vehicular               </td><td style=\"font-family: monospace, monospace; text-align: left;\">  32295</td><td style=\"font-family: monospace, monospace; text-align: left;\">1.83%       </td></tr>\n",
       "<tr><td style=\"font-family: monospace, monospace; text-align: left;\">Following Too Closely         </td><td style=\"font-family: monospace, monospace; text-align: left;\">  19243</td><td style=\"font-family: monospace, monospace; text-align: left;\">1.09%       </td></tr>\n",
       "<tr><td style=\"font-family: monospace, monospace; text-align: left;\">Failure to Yield Right-of-Way </td><td style=\"font-family: monospace, monospace; text-align: left;\">  17248</td><td style=\"font-family: monospace, monospace; text-align: left;\">0.98%       </td></tr>\n",
       "<tr><td style=\"font-family: monospace, monospace; text-align: left;\">Passing or Lane Usage Improper</td><td style=\"font-family: monospace, monospace; text-align: left;\">  12978</td><td style=\"font-family: monospace, monospace; text-align: left;\">0.73%       </td></tr>\n",
       "<tr><td style=\"font-family: monospace, monospace; text-align: left;\">Fatigued/Drowsy               </td><td style=\"font-family: monospace, monospace; text-align: left;\">  10837</td><td style=\"font-family: monospace, monospace; text-align: left;\">0.61%       </td></tr>\n",
       "<tr><td style=\"font-family: monospace, monospace; text-align: left;\">Passing Too Closely           </td><td style=\"font-family: monospace, monospace; text-align: left;\">   8785</td><td style=\"font-family: monospace, monospace; text-align: left;\">0.50%       </td></tr>\n",
       "<tr><td style=\"font-family: monospace, monospace; text-align: left;\">Turning Improperly            </td><td style=\"font-family: monospace, monospace; text-align: left;\">   8777</td><td style=\"font-family: monospace, monospace; text-align: left;\">0.50%       </td></tr>\n",
       "<tr><td style=\"font-family: monospace, monospace; text-align: left;\">Backing Unsafely              </td><td style=\"font-family: monospace, monospace; text-align: left;\">   7927</td><td style=\"font-family: monospace, monospace; text-align: left;\">0.45%       </td></tr>\n",
       "<tr><td style=\"font-family: monospace, monospace; text-align: left;\">Eating or Drinking            </td><td style=\"font-family: monospace, monospace; text-align: left;\">     12</td><td style=\"font-family: monospace, monospace; text-align: left;\">0.00%       </td></tr>\n",
       "<tr><td style=\"font-family: monospace, monospace; text-align: left;\">Listening/Using Headphones    </td><td style=\"font-family: monospace, monospace; text-align: left;\">     11</td><td style=\"font-family: monospace, monospace; text-align: left;\">0.00%       </td></tr>\n",
       "<tr><td style=\"font-family: monospace, monospace; text-align: left;\">Windshield Inadequate         </td><td style=\"font-family: monospace, monospace; text-align: left;\">      7</td><td style=\"font-family: monospace, monospace; text-align: left;\">0.00%       </td></tr>\n",
       "<tr><td style=\"font-family: monospace, monospace; text-align: left;\">1                             </td><td style=\"font-family: monospace, monospace; text-align: left;\">      5</td><td style=\"font-family: monospace, monospace; text-align: left;\">0.00%       </td></tr>\n",
       "<tr><td style=\"font-family: monospace, monospace; text-align: left;\">Texting                       </td><td style=\"font-family: monospace, monospace; text-align: left;\">      3</td><td style=\"font-family: monospace, monospace; text-align: left;\">0.00%       </td></tr>\n",
       "</tbody>\n",
       "</table>"
      ],
      "text/plain": [
       "CONTRIBUTING FACTOR VEHICLE 2 Info\n",
       "------------------------------------  -------\n",
       "Data Type                             object\n",
       "Count                                 1767970\n",
       "Unique Values                         61\n",
       "Null Values                           325942\n",
       "\n",
       "Value                             Count  % of total\n",
       "------------------------------  -------  ------------\n",
       "Unspecified                     1488536  84.19%\n",
       "Driver Inattention/Distraction    95035  5.38%\n",
       "Other Vehicular                   32295  1.83%\n",
       "Following Too Closely             19243  1.09%\n",
       "Failure to Yield Right-of-Way     17248  0.98%\n",
       "Passing or Lane Usage Improper    12978  0.73%\n",
       "Fatigued/Drowsy                   10837  0.61%\n",
       "Passing Too Closely                8785  0.50%\n",
       "Turning Improperly                 8777  0.50%\n",
       "Backing Unsafely                   7927  0.45%\n",
       "Eating or Drinking                   12  0.00%\n",
       "Listening/Using Headphones           11  0.00%\n",
       "Windshield Inadequate                 7  0.00%\n",
       "1                                     5  0.00%\n",
       "Texting                               3  0.00%"
      ]
     },
     "execution_count": 21,
     "metadata": {},
     "output_type": "execute_result"
    }
   ],
   "source": [
    "factor2_report = ph.SeriesProfile(data[\"CONTRIBUTING FACTOR VEHICLE 2\"])\n",
    "factor2_report"
   ]
  },
  {
   "cell_type": "code",
   "execution_count": 22,
   "id": "df6d2569-9129-4284-9d80-51afc42c8387",
   "metadata": {
    "scrolled": true
   },
   "outputs": [
    {
     "data": {
      "text/html": [
       "<table>\n",
       "<thead>\n",
       "<tr><th style=\"font-family: monospace, monospace; text-align: left;\">CONTRIBUTING FACTOR VEHICLE 3 Info  </th><th style=\"font-family: monospace, monospace; text-align: left;\"> </th></tr>\n",
       "</thead>\n",
       "<tbody>\n",
       "<tr><td style=\"font-family: monospace, monospace; text-align: left;\">Data Type                           </td><td style=\"font-family: monospace, monospace; text-align: left;\">object </td></tr>\n",
       "<tr><td style=\"font-family: monospace, monospace; text-align: left;\">Count                               </td><td style=\"font-family: monospace, monospace; text-align: left;\">149913 </td></tr>\n",
       "<tr><td style=\"font-family: monospace, monospace; text-align: left;\">Unique Values                       </td><td style=\"font-family: monospace, monospace; text-align: left;\">51     </td></tr>\n",
       "<tr><td style=\"font-family: monospace, monospace; text-align: left;\">Null Values                         </td><td style=\"font-family: monospace, monospace; text-align: left;\">1943999</td></tr>\n",
       "</tbody>\n",
       "</table><br><table>\n",
       "<thead>\n",
       "<tr><th style=\"font-family: monospace, monospace; text-align: left;\">Value                               </th><th style=\"font-family: monospace, monospace; text-align: left;\">  Count</th><th style=\"font-family: monospace, monospace; text-align: left;\">% of total  </th></tr>\n",
       "</thead>\n",
       "<tbody>\n",
       "<tr><td style=\"font-family: monospace, monospace; text-align: left;\">Unspecified                         </td><td style=\"font-family: monospace, monospace; text-align: left;\"> 139739</td><td style=\"font-family: monospace, monospace; text-align: left;\">93.21%      </td></tr>\n",
       "<tr><td style=\"font-family: monospace, monospace; text-align: left;\">Other Vehicular                     </td><td style=\"font-family: monospace, monospace; text-align: left;\">   2819</td><td style=\"font-family: monospace, monospace; text-align: left;\">1.88%       </td></tr>\n",
       "<tr><td style=\"font-family: monospace, monospace; text-align: left;\">Following Too Closely               </td><td style=\"font-family: monospace, monospace; text-align: left;\">   1986</td><td style=\"font-family: monospace, monospace; text-align: left;\">1.32%       </td></tr>\n",
       "<tr><td style=\"font-family: monospace, monospace; text-align: left;\">Driver Inattention/Distraction      </td><td style=\"font-family: monospace, monospace; text-align: left;\">   1982</td><td style=\"font-family: monospace, monospace; text-align: left;\">1.32%       </td></tr>\n",
       "<tr><td style=\"font-family: monospace, monospace; text-align: left;\">Fatigued/Drowsy                     </td><td style=\"font-family: monospace, monospace; text-align: left;\">    853</td><td style=\"font-family: monospace, monospace; text-align: left;\">0.57%       </td></tr>\n",
       "<tr><td style=\"font-family: monospace, monospace; text-align: left;\">Pavement Slippery                   </td><td style=\"font-family: monospace, monospace; text-align: left;\">    399</td><td style=\"font-family: monospace, monospace; text-align: left;\">0.27%       </td></tr>\n",
       "<tr><td style=\"font-family: monospace, monospace; text-align: left;\">Reaction to Uninvolved Vehicle      </td><td style=\"font-family: monospace, monospace; text-align: left;\">    213</td><td style=\"font-family: monospace, monospace; text-align: left;\">0.14%       </td></tr>\n",
       "<tr><td style=\"font-family: monospace, monospace; text-align: left;\">Driver Inexperience                 </td><td style=\"font-family: monospace, monospace; text-align: left;\">    183</td><td style=\"font-family: monospace, monospace; text-align: left;\">0.12%       </td></tr>\n",
       "<tr><td style=\"font-family: monospace, monospace; text-align: left;\">Unsafe Speed                        </td><td style=\"font-family: monospace, monospace; text-align: left;\">    165</td><td style=\"font-family: monospace, monospace; text-align: left;\">0.11%       </td></tr>\n",
       "<tr><td style=\"font-family: monospace, monospace; text-align: left;\">Outside Car Distraction             </td><td style=\"font-family: monospace, monospace; text-align: left;\">    163</td><td style=\"font-family: monospace, monospace; text-align: left;\">0.11%       </td></tr>\n",
       "<tr><td style=\"font-family: monospace, monospace; text-align: left;\">Reaction to Other Uninvolved Vehicle</td><td style=\"font-family: monospace, monospace; text-align: left;\">      2</td><td style=\"font-family: monospace, monospace; text-align: left;\">0.00%       </td></tr>\n",
       "<tr><td style=\"font-family: monospace, monospace; text-align: left;\">Eating or Drinking                  </td><td style=\"font-family: monospace, monospace; text-align: left;\">      1</td><td style=\"font-family: monospace, monospace; text-align: left;\">0.00%       </td></tr>\n",
       "<tr><td style=\"font-family: monospace, monospace; text-align: left;\">Cell Phone (hand-Held)              </td><td style=\"font-family: monospace, monospace; text-align: left;\">      1</td><td style=\"font-family: monospace, monospace; text-align: left;\">0.00%       </td></tr>\n",
       "<tr><td style=\"font-family: monospace, monospace; text-align: left;\">1                                   </td><td style=\"font-family: monospace, monospace; text-align: left;\">      1</td><td style=\"font-family: monospace, monospace; text-align: left;\">0.00%       </td></tr>\n",
       "<tr><td style=\"font-family: monospace, monospace; text-align: left;\">Illnes                              </td><td style=\"font-family: monospace, monospace; text-align: left;\">      1</td><td style=\"font-family: monospace, monospace; text-align: left;\">0.00%       </td></tr>\n",
       "</tbody>\n",
       "</table>"
      ],
      "text/plain": [
       "CONTRIBUTING FACTOR VEHICLE 3 Info\n",
       "------------------------------------  -------\n",
       "Data Type                             object\n",
       "Count                                 149913\n",
       "Unique Values                         51\n",
       "Null Values                           1943999\n",
       "\n",
       "Value                                   Count  % of total\n",
       "------------------------------------  -------  ------------\n",
       "Unspecified                            139739  93.21%\n",
       "Other Vehicular                          2819  1.88%\n",
       "Following Too Closely                    1986  1.32%\n",
       "Driver Inattention/Distraction           1982  1.32%\n",
       "Fatigued/Drowsy                           853  0.57%\n",
       "Pavement Slippery                         399  0.27%\n",
       "Reaction to Uninvolved Vehicle            213  0.14%\n",
       "Driver Inexperience                       183  0.12%\n",
       "Unsafe Speed                              165  0.11%\n",
       "Outside Car Distraction                   163  0.11%\n",
       "Reaction to Other Uninvolved Vehicle        2  0.00%\n",
       "Eating or Drinking                          1  0.00%\n",
       "Cell Phone (hand-Held)                      1  0.00%\n",
       "1                                           1  0.00%\n",
       "Illnes                                      1  0.00%"
      ]
     },
     "execution_count": 22,
     "metadata": {},
     "output_type": "execute_result"
    }
   ],
   "source": [
    "factor3_report = ph.SeriesProfile(data[\"CONTRIBUTING FACTOR VEHICLE 3\"])\n",
    "factor3_report"
   ]
  },
  {
   "cell_type": "code",
   "execution_count": 23,
   "id": "b2f58598-2bb2-4023-8241-d9a5f7a09423",
   "metadata": {
    "scrolled": true
   },
   "outputs": [
    {
     "data": {
      "text/html": [
       "<table>\n",
       "<thead>\n",
       "<tr><th style=\"font-family: monospace, monospace; text-align: left;\">CONTRIBUTING FACTOR VEHICLE 4 Info  </th><th style=\"font-family: monospace, monospace; text-align: left;\"> </th></tr>\n",
       "</thead>\n",
       "<tbody>\n",
       "<tr><td style=\"font-family: monospace, monospace; text-align: left;\">Data Type                           </td><td style=\"font-family: monospace, monospace; text-align: left;\">object </td></tr>\n",
       "<tr><td style=\"font-family: monospace, monospace; text-align: left;\">Count                               </td><td style=\"font-family: monospace, monospace; text-align: left;\">33904  </td></tr>\n",
       "<tr><td style=\"font-family: monospace, monospace; text-align: left;\">Unique Values                       </td><td style=\"font-family: monospace, monospace; text-align: left;\">42     </td></tr>\n",
       "<tr><td style=\"font-family: monospace, monospace; text-align: left;\">Null Values                         </td><td style=\"font-family: monospace, monospace; text-align: left;\">2060008</td></tr>\n",
       "</tbody>\n",
       "</table><br><table>\n",
       "<thead>\n",
       "<tr><th style=\"font-family: monospace, monospace; text-align: left;\">Value                         </th><th style=\"font-family: monospace, monospace; text-align: left;\">  Count</th><th style=\"font-family: monospace, monospace; text-align: left;\">% of total  </th></tr>\n",
       "</thead>\n",
       "<tbody>\n",
       "<tr><td style=\"font-family: monospace, monospace; text-align: left;\">Unspecified                   </td><td style=\"font-family: monospace, monospace; text-align: left;\">  31978</td><td style=\"font-family: monospace, monospace; text-align: left;\">94.32%      </td></tr>\n",
       "<tr><td style=\"font-family: monospace, monospace; text-align: left;\">Other Vehicular               </td><td style=\"font-family: monospace, monospace; text-align: left;\">    628</td><td style=\"font-family: monospace, monospace; text-align: left;\">1.85%       </td></tr>\n",
       "<tr><td style=\"font-family: monospace, monospace; text-align: left;\">Following Too Closely         </td><td style=\"font-family: monospace, monospace; text-align: left;\">    393</td><td style=\"font-family: monospace, monospace; text-align: left;\">1.16%       </td></tr>\n",
       "<tr><td style=\"font-family: monospace, monospace; text-align: left;\">Driver Inattention/Distraction</td><td style=\"font-family: monospace, monospace; text-align: left;\">    280</td><td style=\"font-family: monospace, monospace; text-align: left;\">0.83%       </td></tr>\n",
       "<tr><td style=\"font-family: monospace, monospace; text-align: left;\">Fatigued/Drowsy               </td><td style=\"font-family: monospace, monospace; text-align: left;\">    170</td><td style=\"font-family: monospace, monospace; text-align: left;\">0.50%       </td></tr>\n",
       "<tr><td style=\"font-family: monospace, monospace; text-align: left;\">Pavement Slippery             </td><td style=\"font-family: monospace, monospace; text-align: left;\">    119</td><td style=\"font-family: monospace, monospace; text-align: left;\">0.35%       </td></tr>\n",
       "<tr><td style=\"font-family: monospace, monospace; text-align: left;\">Reaction to Uninvolved Vehicle</td><td style=\"font-family: monospace, monospace; text-align: left;\">     42</td><td style=\"font-family: monospace, monospace; text-align: left;\">0.12%       </td></tr>\n",
       "<tr><td style=\"font-family: monospace, monospace; text-align: left;\">Unsafe Speed                  </td><td style=\"font-family: monospace, monospace; text-align: left;\">     33</td><td style=\"font-family: monospace, monospace; text-align: left;\">0.10%       </td></tr>\n",
       "<tr><td style=\"font-family: monospace, monospace; text-align: left;\">Outside Car Distraction       </td><td style=\"font-family: monospace, monospace; text-align: left;\">     29</td><td style=\"font-family: monospace, monospace; text-align: left;\">0.09%       </td></tr>\n",
       "<tr><td style=\"font-family: monospace, monospace; text-align: left;\">Driver Inexperience           </td><td style=\"font-family: monospace, monospace; text-align: left;\">     27</td><td style=\"font-family: monospace, monospace; text-align: left;\">0.08%       </td></tr>\n",
       "<tr><td style=\"font-family: monospace, monospace; text-align: left;\">Animals Action                </td><td style=\"font-family: monospace, monospace; text-align: left;\">      1</td><td style=\"font-family: monospace, monospace; text-align: left;\">0.00%       </td></tr>\n",
       "<tr><td style=\"font-family: monospace, monospace; text-align: left;\">Windshield Inadequate         </td><td style=\"font-family: monospace, monospace; text-align: left;\">      1</td><td style=\"font-family: monospace, monospace; text-align: left;\">0.00%       </td></tr>\n",
       "<tr><td style=\"font-family: monospace, monospace; text-align: left;\">Tire Failure/Inadequate       </td><td style=\"font-family: monospace, monospace; text-align: left;\">      1</td><td style=\"font-family: monospace, monospace; text-align: left;\">0.00%       </td></tr>\n",
       "<tr><td style=\"font-family: monospace, monospace; text-align: left;\">Oversized Vehicle             </td><td style=\"font-family: monospace, monospace; text-align: left;\">      1</td><td style=\"font-family: monospace, monospace; text-align: left;\">0.00%       </td></tr>\n",
       "<tr><td style=\"font-family: monospace, monospace; text-align: left;\">Passenger Distraction         </td><td style=\"font-family: monospace, monospace; text-align: left;\">      1</td><td style=\"font-family: monospace, monospace; text-align: left;\">0.00%       </td></tr>\n",
       "</tbody>\n",
       "</table>"
      ],
      "text/plain": [
       "CONTRIBUTING FACTOR VEHICLE 4 Info\n",
       "------------------------------------  -------\n",
       "Data Type                             object\n",
       "Count                                 33904\n",
       "Unique Values                         42\n",
       "Null Values                           2060008\n",
       "\n",
       "Value                             Count  % of total\n",
       "------------------------------  -------  ------------\n",
       "Unspecified                       31978  94.32%\n",
       "Other Vehicular                     628  1.85%\n",
       "Following Too Closely               393  1.16%\n",
       "Driver Inattention/Distraction      280  0.83%\n",
       "Fatigued/Drowsy                     170  0.50%\n",
       "Pavement Slippery                   119  0.35%\n",
       "Reaction to Uninvolved Vehicle       42  0.12%\n",
       "Unsafe Speed                         33  0.10%\n",
       "Outside Car Distraction              29  0.09%\n",
       "Driver Inexperience                  27  0.08%\n",
       "Animals Action                        1  0.00%\n",
       "Windshield Inadequate                 1  0.00%\n",
       "Tire Failure/Inadequate               1  0.00%\n",
       "Oversized Vehicle                     1  0.00%\n",
       "Passenger Distraction                 1  0.00%"
      ]
     },
     "execution_count": 23,
     "metadata": {},
     "output_type": "execute_result"
    }
   ],
   "source": [
    "factor4_report = ph.SeriesProfile(data[\"CONTRIBUTING FACTOR VEHICLE 4\"])\n",
    "factor4_report"
   ]
  },
  {
   "cell_type": "code",
   "execution_count": 24,
   "id": "2a8f8f4e",
   "metadata": {
    "scrolled": true
   },
   "outputs": [
    {
     "data": {
      "text/html": [
       "<table>\n",
       "<thead>\n",
       "<tr><th style=\"font-family: monospace, monospace; text-align: left;\">CONTRIBUTING FACTOR VEHICLE 5 Info  </th><th style=\"font-family: monospace, monospace; text-align: left;\"> </th></tr>\n",
       "</thead>\n",
       "<tbody>\n",
       "<tr><td style=\"font-family: monospace, monospace; text-align: left;\">Data Type                           </td><td style=\"font-family: monospace, monospace; text-align: left;\">object </td></tr>\n",
       "<tr><td style=\"font-family: monospace, monospace; text-align: left;\">Count                               </td><td style=\"font-family: monospace, monospace; text-align: left;\">9196   </td></tr>\n",
       "<tr><td style=\"font-family: monospace, monospace; text-align: left;\">Unique Values                       </td><td style=\"font-family: monospace, monospace; text-align: left;\">30     </td></tr>\n",
       "<tr><td style=\"font-family: monospace, monospace; text-align: left;\">Null Values                         </td><td style=\"font-family: monospace, monospace; text-align: left;\">2084716</td></tr>\n",
       "</tbody>\n",
       "</table><br><table>\n",
       "<thead>\n",
       "<tr><th style=\"font-family: monospace, monospace; text-align: left;\">Value                         </th><th style=\"font-family: monospace, monospace; text-align: left;\">  Count</th><th style=\"font-family: monospace, monospace; text-align: left;\">% of total  </th></tr>\n",
       "</thead>\n",
       "<tbody>\n",
       "<tr><td style=\"font-family: monospace, monospace; text-align: left;\">Unspecified                   </td><td style=\"font-family: monospace, monospace; text-align: left;\">   8669</td><td style=\"font-family: monospace, monospace; text-align: left;\">94.27%      </td></tr>\n",
       "<tr><td style=\"font-family: monospace, monospace; text-align: left;\">Other Vehicular               </td><td style=\"font-family: monospace, monospace; text-align: left;\">    182</td><td style=\"font-family: monospace, monospace; text-align: left;\">1.98%       </td></tr>\n",
       "<tr><td style=\"font-family: monospace, monospace; text-align: left;\">Following Too Closely         </td><td style=\"font-family: monospace, monospace; text-align: left;\">     99</td><td style=\"font-family: monospace, monospace; text-align: left;\">1.08%       </td></tr>\n",
       "<tr><td style=\"font-family: monospace, monospace; text-align: left;\">Driver Inattention/Distraction</td><td style=\"font-family: monospace, monospace; text-align: left;\">     65</td><td style=\"font-family: monospace, monospace; text-align: left;\">0.71%       </td></tr>\n",
       "<tr><td style=\"font-family: monospace, monospace; text-align: left;\">Pavement Slippery             </td><td style=\"font-family: monospace, monospace; text-align: left;\">     50</td><td style=\"font-family: monospace, monospace; text-align: left;\">0.54%       </td></tr>\n",
       "<tr><td style=\"font-family: monospace, monospace; text-align: left;\">Fatigued/Drowsy               </td><td style=\"font-family: monospace, monospace; text-align: left;\">     41</td><td style=\"font-family: monospace, monospace; text-align: left;\">0.45%       </td></tr>\n",
       "<tr><td style=\"font-family: monospace, monospace; text-align: left;\">Reaction to Uninvolved Vehicle</td><td style=\"font-family: monospace, monospace; text-align: left;\">     12</td><td style=\"font-family: monospace, monospace; text-align: left;\">0.13%       </td></tr>\n",
       "<tr><td style=\"font-family: monospace, monospace; text-align: left;\">Alcohol Involvement           </td><td style=\"font-family: monospace, monospace; text-align: left;\">     11</td><td style=\"font-family: monospace, monospace; text-align: left;\">0.12%       </td></tr>\n",
       "<tr><td style=\"font-family: monospace, monospace; text-align: left;\">Driver Inexperience           </td><td style=\"font-family: monospace, monospace; text-align: left;\">     10</td><td style=\"font-family: monospace, monospace; text-align: left;\">0.11%       </td></tr>\n",
       "<tr><td style=\"font-family: monospace, monospace; text-align: left;\">Obstruction/Debris            </td><td style=\"font-family: monospace, monospace; text-align: left;\">     10</td><td style=\"font-family: monospace, monospace; text-align: left;\">0.11%       </td></tr>\n",
       "<tr><td style=\"font-family: monospace, monospace; text-align: left;\">Illness                       </td><td style=\"font-family: monospace, monospace; text-align: left;\">      1</td><td style=\"font-family: monospace, monospace; text-align: left;\">0.01%       </td></tr>\n",
       "<tr><td style=\"font-family: monospace, monospace; text-align: left;\">Passing or Lane Usage Improper</td><td style=\"font-family: monospace, monospace; text-align: left;\">      1</td><td style=\"font-family: monospace, monospace; text-align: left;\">0.01%       </td></tr>\n",
       "<tr><td style=\"font-family: monospace, monospace; text-align: left;\">Aggressive Driving/Road Rage  </td><td style=\"font-family: monospace, monospace; text-align: left;\">      1</td><td style=\"font-family: monospace, monospace; text-align: left;\">0.01%       </td></tr>\n",
       "<tr><td style=\"font-family: monospace, monospace; text-align: left;\">Pavement Defective            </td><td style=\"font-family: monospace, monospace; text-align: left;\">      1</td><td style=\"font-family: monospace, monospace; text-align: left;\">0.01%       </td></tr>\n",
       "<tr><td style=\"font-family: monospace, monospace; text-align: left;\">Oversized Vehicle             </td><td style=\"font-family: monospace, monospace; text-align: left;\">      1</td><td style=\"font-family: monospace, monospace; text-align: left;\">0.01%       </td></tr>\n",
       "</tbody>\n",
       "</table>"
      ],
      "text/plain": [
       "CONTRIBUTING FACTOR VEHICLE 5 Info\n",
       "------------------------------------  -------\n",
       "Data Type                             object\n",
       "Count                                 9196\n",
       "Unique Values                         30\n",
       "Null Values                           2084716\n",
       "\n",
       "Value                             Count  % of total\n",
       "------------------------------  -------  ------------\n",
       "Unspecified                        8669  94.27%\n",
       "Other Vehicular                     182  1.98%\n",
       "Following Too Closely                99  1.08%\n",
       "Driver Inattention/Distraction       65  0.71%\n",
       "Pavement Slippery                    50  0.54%\n",
       "Fatigued/Drowsy                      41  0.45%\n",
       "Reaction to Uninvolved Vehicle       12  0.13%\n",
       "Alcohol Involvement                  11  0.12%\n",
       "Driver Inexperience                  10  0.11%\n",
       "Obstruction/Debris                   10  0.11%\n",
       "Illness                               1  0.01%\n",
       "Passing or Lane Usage Improper        1  0.01%\n",
       "Aggressive Driving/Road Rage          1  0.01%\n",
       "Pavement Defective                    1  0.01%\n",
       "Oversized Vehicle                     1  0.01%"
      ]
     },
     "execution_count": 24,
     "metadata": {},
     "output_type": "execute_result"
    }
   ],
   "source": [
    "factor5_report = ph.SeriesProfile(data[\"CONTRIBUTING FACTOR VEHICLE 5\"])\n",
    "factor5_report"
   ]
  },
  {
   "cell_type": "markdown",
   "id": "8b8286e0",
   "metadata": {},
   "source": [
    "__The 'CONTRIBUTING FACTOR VEHICLE' fields seem to have some issues__\n",
    "- \"Unspecified\" is the most common response\n",
    "- They are not mutually exclusive and in some cases, difficult to differentiate. For example: 'Passing or Lane Usage Improper' vs 'Passing Too Closely'\n",
    "- Without knowing more about the processes that generated these _'contributing factor'_ fields, it would be difficult to use them with confidence"
   ]
  },
  {
   "cell_type": "code",
   "execution_count": 25,
   "id": "341d05cc-3367-49e9-b569-410b5ebb4f3d",
   "metadata": {},
   "outputs": [
    {
     "data": {
      "text/html": [
       "<table>\n",
       "<thead>\n",
       "<tr><th style=\"font-family: monospace, monospace; text-align: left;\">VEHICLE TYPE CODE 1 Info  </th><th style=\"font-family: monospace, monospace; text-align: left;\"> </th></tr>\n",
       "</thead>\n",
       "<tbody>\n",
       "<tr><td style=\"font-family: monospace, monospace; text-align: left;\">Data Type                 </td><td style=\"font-family: monospace, monospace; text-align: left;\">object </td></tr>\n",
       "<tr><td style=\"font-family: monospace, monospace; text-align: left;\">Count                     </td><td style=\"font-family: monospace, monospace; text-align: left;\">2079921</td></tr>\n",
       "<tr><td style=\"font-family: monospace, monospace; text-align: left;\">Unique Values             </td><td style=\"font-family: monospace, monospace; text-align: left;\">1671   </td></tr>\n",
       "<tr><td style=\"font-family: monospace, monospace; text-align: left;\">Null Values               </td><td style=\"font-family: monospace, monospace; text-align: left;\">13991  </td></tr>\n",
       "</tbody>\n",
       "</table><br><table>\n",
       "<thead>\n",
       "<tr><th style=\"font-family: monospace, monospace; text-align: left;\">Value                              </th><th style=\"font-family: monospace, monospace; text-align: left;\">  Count</th><th style=\"font-family: monospace, monospace; text-align: left;\">% of total  </th></tr>\n",
       "</thead>\n",
       "<tbody>\n",
       "<tr><td style=\"font-family: monospace, monospace; text-align: left;\">Sedan                              </td><td style=\"font-family: monospace, monospace; text-align: left;\"> 584855</td><td style=\"font-family: monospace, monospace; text-align: left;\">28.12%      </td></tr>\n",
       "<tr><td style=\"font-family: monospace, monospace; text-align: left;\">Station Wagon/Sport Utility Vehicle</td><td style=\"font-family: monospace, monospace; text-align: left;\"> 459960</td><td style=\"font-family: monospace, monospace; text-align: left;\">22.11%      </td></tr>\n",
       "<tr><td style=\"font-family: monospace, monospace; text-align: left;\">PASSENGER VEHICLE                  </td><td style=\"font-family: monospace, monospace; text-align: left;\"> 416206</td><td style=\"font-family: monospace, monospace; text-align: left;\">20.01%      </td></tr>\n",
       "<tr><td style=\"font-family: monospace, monospace; text-align: left;\">SPORT UTILITY / STATION WAGON      </td><td style=\"font-family: monospace, monospace; text-align: left;\"> 180291</td><td style=\"font-family: monospace, monospace; text-align: left;\">8.67%       </td></tr>\n",
       "<tr><td style=\"font-family: monospace, monospace; text-align: left;\">Taxi                               </td><td style=\"font-family: monospace, monospace; text-align: left;\">  52057</td><td style=\"font-family: monospace, monospace; text-align: left;\">2.50%       </td></tr>\n",
       "<tr><td style=\"font-family: monospace, monospace; text-align: left;\">4 dr sedan                         </td><td style=\"font-family: monospace, monospace; text-align: left;\">  40179</td><td style=\"font-family: monospace, monospace; text-align: left;\">1.93%       </td></tr>\n",
       "<tr><td style=\"font-family: monospace, monospace; text-align: left;\">Pick-up Truck                      </td><td style=\"font-family: monospace, monospace; text-align: left;\">  35147</td><td style=\"font-family: monospace, monospace; text-align: left;\">1.69%       </td></tr>\n",
       "<tr><td style=\"font-family: monospace, monospace; text-align: left;\">TAXI                               </td><td style=\"font-family: monospace, monospace; text-align: left;\">  31911</td><td style=\"font-family: monospace, monospace; text-align: left;\">1.53%       </td></tr>\n",
       "<tr><td style=\"font-family: monospace, monospace; text-align: left;\">VAN                                </td><td style=\"font-family: monospace, monospace; text-align: left;\">  25266</td><td style=\"font-family: monospace, monospace; text-align: left;\">1.21%       </td></tr>\n",
       "<tr><td style=\"font-family: monospace, monospace; text-align: left;\">Box Truck                          </td><td style=\"font-family: monospace, monospace; text-align: left;\">  24603</td><td style=\"font-family: monospace, monospace; text-align: left;\">1.18%       </td></tr>\n",
       "<tr><td style=\"font-family: monospace, monospace; text-align: left;\">LSA                                </td><td style=\"font-family: monospace, monospace; text-align: left;\">      1</td><td style=\"font-family: monospace, monospace; text-align: left;\">0.00%       </td></tr>\n",
       "<tr><td style=\"font-family: monospace, monospace; text-align: left;\">FLED                               </td><td style=\"font-family: monospace, monospace; text-align: left;\">      1</td><td style=\"font-family: monospace, monospace; text-align: left;\">0.00%       </td></tr>\n",
       "<tr><td style=\"font-family: monospace, monospace; text-align: left;\">TLC P                              </td><td style=\"font-family: monospace, monospace; text-align: left;\">      1</td><td style=\"font-family: monospace, monospace; text-align: left;\">0.00%       </td></tr>\n",
       "<tr><td style=\"font-family: monospace, monospace; text-align: left;\">vAN                                </td><td style=\"font-family: monospace, monospace; text-align: left;\">      1</td><td style=\"font-family: monospace, monospace; text-align: left;\">0.00%       </td></tr>\n",
       "<tr><td style=\"font-family: monospace, monospace; text-align: left;\">COT                                </td><td style=\"font-family: monospace, monospace; text-align: left;\">      1</td><td style=\"font-family: monospace, monospace; text-align: left;\">0.00%       </td></tr>\n",
       "</tbody>\n",
       "</table>"
      ],
      "text/plain": [
       "VEHICLE TYPE CODE 1 Info\n",
       "--------------------------  -------\n",
       "Data Type                   object\n",
       "Count                       2079921\n",
       "Unique Values               1671\n",
       "Null Values                 13991\n",
       "\n",
       "Value                                  Count  % of total\n",
       "-----------------------------------  -------  ------------\n",
       "Sedan                                 584855  28.12%\n",
       "Station Wagon/Sport Utility Vehicle   459960  22.11%\n",
       "PASSENGER VEHICLE                     416206  20.01%\n",
       "SPORT UTILITY / STATION WAGON         180291  8.67%\n",
       "Taxi                                   52057  2.50%\n",
       "4 dr sedan                             40179  1.93%\n",
       "Pick-up Truck                          35147  1.69%\n",
       "TAXI                                   31911  1.53%\n",
       "VAN                                    25266  1.21%\n",
       "Box Truck                              24603  1.18%\n",
       "LSA                                        1  0.00%\n",
       "FLED                                       1  0.00%\n",
       "TLC P                                      1  0.00%\n",
       "vAN                                        1  0.00%\n",
       "COT                                        1  0.00%"
      ]
     },
     "execution_count": 25,
     "metadata": {},
     "output_type": "execute_result"
    }
   ],
   "source": [
    "vtype1_report = ph.SeriesProfile(data[\"VEHICLE TYPE CODE 1\"])\n",
    "vtype1_report"
   ]
  },
  {
   "cell_type": "code",
   "execution_count": 26,
   "id": "795841ba-51e6-4468-a27f-6b069c7795c9",
   "metadata": {},
   "outputs": [
    {
     "data": {
      "text/html": [
       "<table>\n",
       "<thead>\n",
       "<tr><th style=\"font-family: monospace, monospace; text-align: left;\">VEHICLE TYPE CODE 2 Info  </th><th style=\"font-family: monospace, monospace; text-align: left;\"> </th></tr>\n",
       "</thead>\n",
       "<tbody>\n",
       "<tr><td style=\"font-family: monospace, monospace; text-align: left;\">Data Type                 </td><td style=\"font-family: monospace, monospace; text-align: left;\">object </td></tr>\n",
       "<tr><td style=\"font-family: monospace, monospace; text-align: left;\">Count                     </td><td style=\"font-family: monospace, monospace; text-align: left;\">1691225</td></tr>\n",
       "<tr><td style=\"font-family: monospace, monospace; text-align: left;\">Unique Values             </td><td style=\"font-family: monospace, monospace; text-align: left;\">1849   </td></tr>\n",
       "<tr><td style=\"font-family: monospace, monospace; text-align: left;\">Null Values               </td><td style=\"font-family: monospace, monospace; text-align: left;\">402687 </td></tr>\n",
       "</tbody>\n",
       "</table><br><table>\n",
       "<thead>\n",
       "<tr><th style=\"font-family: monospace, monospace; text-align: left;\">Value                              </th><th style=\"font-family: monospace, monospace; text-align: left;\">  Count</th><th style=\"font-family: monospace, monospace; text-align: left;\">% of total  </th></tr>\n",
       "</thead>\n",
       "<tbody>\n",
       "<tr><td style=\"font-family: monospace, monospace; text-align: left;\">Sedan                              </td><td style=\"font-family: monospace, monospace; text-align: left;\"> 408420</td><td style=\"font-family: monospace, monospace; text-align: left;\">24.15%      </td></tr>\n",
       "<tr><td style=\"font-family: monospace, monospace; text-align: left;\">Station Wagon/Sport Utility Vehicle</td><td style=\"font-family: monospace, monospace; text-align: left;\"> 330362</td><td style=\"font-family: monospace, monospace; text-align: left;\">19.53%      </td></tr>\n",
       "<tr><td style=\"font-family: monospace, monospace; text-align: left;\">PASSENGER VEHICLE                  </td><td style=\"font-family: monospace, monospace; text-align: left;\"> 318607</td><td style=\"font-family: monospace, monospace; text-align: left;\">18.84%      </td></tr>\n",
       "<tr><td style=\"font-family: monospace, monospace; text-align: left;\">SPORT UTILITY / STATION WAGON      </td><td style=\"font-family: monospace, monospace; text-align: left;\"> 140204</td><td style=\"font-family: monospace, monospace; text-align: left;\">8.29%       </td></tr>\n",
       "<tr><td style=\"font-family: monospace, monospace; text-align: left;\">UNKNOWN                            </td><td style=\"font-family: monospace, monospace; text-align: left;\">  81509</td><td style=\"font-family: monospace, monospace; text-align: left;\">4.82%       </td></tr>\n",
       "<tr><td style=\"font-family: monospace, monospace; text-align: left;\">Taxi                               </td><td style=\"font-family: monospace, monospace; text-align: left;\">  37530</td><td style=\"font-family: monospace, monospace; text-align: left;\">2.22%       </td></tr>\n",
       "<tr><td style=\"font-family: monospace, monospace; text-align: left;\">Bike                               </td><td style=\"font-family: monospace, monospace; text-align: left;\">  32446</td><td style=\"font-family: monospace, monospace; text-align: left;\">1.92%       </td></tr>\n",
       "<tr><td style=\"font-family: monospace, monospace; text-align: left;\">Pick-up Truck                      </td><td style=\"font-family: monospace, monospace; text-align: left;\">  31740</td><td style=\"font-family: monospace, monospace; text-align: left;\">1.88%       </td></tr>\n",
       "<tr><td style=\"font-family: monospace, monospace; text-align: left;\">4 dr sedan                         </td><td style=\"font-family: monospace, monospace; text-align: left;\">  30084</td><td style=\"font-family: monospace, monospace; text-align: left;\">1.78%       </td></tr>\n",
       "<tr><td style=\"font-family: monospace, monospace; text-align: left;\">Box Truck                          </td><td style=\"font-family: monospace, monospace; text-align: left;\">  28475</td><td style=\"font-family: monospace, monospace; text-align: left;\">1.68%       </td></tr>\n",
       "<tr><td style=\"font-family: monospace, monospace; text-align: left;\">OMNI                               </td><td style=\"font-family: monospace, monospace; text-align: left;\">      1</td><td style=\"font-family: monospace, monospace; text-align: left;\">0.00%       </td></tr>\n",
       "<tr><td style=\"font-family: monospace, monospace; text-align: left;\">OMNIB                              </td><td style=\"font-family: monospace, monospace; text-align: left;\">      1</td><td style=\"font-family: monospace, monospace; text-align: left;\">0.00%       </td></tr>\n",
       "<tr><td style=\"font-family: monospace, monospace; text-align: left;\">tilla                              </td><td style=\"font-family: monospace, monospace; text-align: left;\">      1</td><td style=\"font-family: monospace, monospace; text-align: left;\">0.00%       </td></tr>\n",
       "<tr><td style=\"font-family: monospace, monospace; text-align: left;\">MAC F                              </td><td style=\"font-family: monospace, monospace; text-align: left;\">      1</td><td style=\"font-family: monospace, monospace; text-align: left;\">0.00%       </td></tr>\n",
       "<tr><td style=\"font-family: monospace, monospace; text-align: left;\">Dodge                              </td><td style=\"font-family: monospace, monospace; text-align: left;\">      1</td><td style=\"font-family: monospace, monospace; text-align: left;\">0.00%       </td></tr>\n",
       "</tbody>\n",
       "</table>"
      ],
      "text/plain": [
       "VEHICLE TYPE CODE 2 Info\n",
       "--------------------------  -------\n",
       "Data Type                   object\n",
       "Count                       1691225\n",
       "Unique Values               1849\n",
       "Null Values                 402687\n",
       "\n",
       "Value                                  Count  % of total\n",
       "-----------------------------------  -------  ------------\n",
       "Sedan                                 408420  24.15%\n",
       "Station Wagon/Sport Utility Vehicle   330362  19.53%\n",
       "PASSENGER VEHICLE                     318607  18.84%\n",
       "SPORT UTILITY / STATION WAGON         140204  8.29%\n",
       "UNKNOWN                                81509  4.82%\n",
       "Taxi                                   37530  2.22%\n",
       "Bike                                   32446  1.92%\n",
       "Pick-up Truck                          31740  1.88%\n",
       "4 dr sedan                             30084  1.78%\n",
       "Box Truck                              28475  1.68%\n",
       "OMNI                                       1  0.00%\n",
       "OMNIB                                      1  0.00%\n",
       "tilla                                      1  0.00%\n",
       "MAC F                                      1  0.00%\n",
       "Dodge                                      1  0.00%"
      ]
     },
     "execution_count": 26,
     "metadata": {},
     "output_type": "execute_result"
    }
   ],
   "source": [
    "vtype2_report = ph.SeriesProfile(data[\"VEHICLE TYPE CODE 2\"])\n",
    "vtype2_report"
   ]
  },
  {
   "cell_type": "code",
   "execution_count": 27,
   "id": "44fe8c1d-136c-49f1-8eda-9a22afeb46b3",
   "metadata": {},
   "outputs": [
    {
     "data": {
      "text/html": [
       "<table>\n",
       "<thead>\n",
       "<tr><th style=\"font-family: monospace, monospace; text-align: left;\">VEHICLE TYPE CODE 3 Info  </th><th style=\"font-family: monospace, monospace; text-align: left;\"> </th></tr>\n",
       "</thead>\n",
       "<tbody>\n",
       "<tr><td style=\"font-family: monospace, monospace; text-align: left;\">Data Type                 </td><td style=\"font-family: monospace, monospace; text-align: left;\">object </td></tr>\n",
       "<tr><td style=\"font-family: monospace, monospace; text-align: left;\">Count                     </td><td style=\"font-family: monospace, monospace; text-align: left;\">144412 </td></tr>\n",
       "<tr><td style=\"font-family: monospace, monospace; text-align: left;\">Unique Values             </td><td style=\"font-family: monospace, monospace; text-align: left;\">265    </td></tr>\n",
       "<tr><td style=\"font-family: monospace, monospace; text-align: left;\">Null Values               </td><td style=\"font-family: monospace, monospace; text-align: left;\">1949500</td></tr>\n",
       "</tbody>\n",
       "</table><br><table>\n",
       "<thead>\n",
       "<tr><th style=\"font-family: monospace, monospace; text-align: left;\">Value                              </th><th style=\"font-family: monospace, monospace; text-align: left;\">  Count</th><th style=\"font-family: monospace, monospace; text-align: left;\">% of total  </th></tr>\n",
       "</thead>\n",
       "<tbody>\n",
       "<tr><td style=\"font-family: monospace, monospace; text-align: left;\">Sedan                              </td><td style=\"font-family: monospace, monospace; text-align: left;\">  45129</td><td style=\"font-family: monospace, monospace; text-align: left;\">31.25%      </td></tr>\n",
       "<tr><td style=\"font-family: monospace, monospace; text-align: left;\">Station Wagon/Sport Utility Vehicle</td><td style=\"font-family: monospace, monospace; text-align: left;\">  36714</td><td style=\"font-family: monospace, monospace; text-align: left;\">25.42%      </td></tr>\n",
       "<tr><td style=\"font-family: monospace, monospace; text-align: left;\">PASSENGER VEHICLE                  </td><td style=\"font-family: monospace, monospace; text-align: left;\">  27713</td><td style=\"font-family: monospace, monospace; text-align: left;\">19.19%      </td></tr>\n",
       "<tr><td style=\"font-family: monospace, monospace; text-align: left;\">SPORT UTILITY / STATION WAGON      </td><td style=\"font-family: monospace, monospace; text-align: left;\">  13358</td><td style=\"font-family: monospace, monospace; text-align: left;\">9.25%       </td></tr>\n",
       "<tr><td style=\"font-family: monospace, monospace; text-align: left;\">UNKNOWN                            </td><td style=\"font-family: monospace, monospace; text-align: left;\">   3284</td><td style=\"font-family: monospace, monospace; text-align: left;\">2.27%       </td></tr>\n",
       "<tr><td style=\"font-family: monospace, monospace; text-align: left;\">4 dr sedan                         </td><td style=\"font-family: monospace, monospace; text-align: left;\">   2564</td><td style=\"font-family: monospace, monospace; text-align: left;\">1.78%       </td></tr>\n",
       "<tr><td style=\"font-family: monospace, monospace; text-align: left;\">Pick-up Truck                      </td><td style=\"font-family: monospace, monospace; text-align: left;\">   2355</td><td style=\"font-family: monospace, monospace; text-align: left;\">1.63%       </td></tr>\n",
       "<tr><td style=\"font-family: monospace, monospace; text-align: left;\">Taxi                               </td><td style=\"font-family: monospace, monospace; text-align: left;\">   2243</td><td style=\"font-family: monospace, monospace; text-align: left;\">1.55%       </td></tr>\n",
       "<tr><td style=\"font-family: monospace, monospace; text-align: left;\">VAN                                </td><td style=\"font-family: monospace, monospace; text-align: left;\">   1366</td><td style=\"font-family: monospace, monospace; text-align: left;\">0.95%       </td></tr>\n",
       "<tr><td style=\"font-family: monospace, monospace; text-align: left;\">OTHER                              </td><td style=\"font-family: monospace, monospace; text-align: left;\">   1045</td><td style=\"font-family: monospace, monospace; text-align: left;\">0.72%       </td></tr>\n",
       "<tr><td style=\"font-family: monospace, monospace; text-align: left;\">POLICE VEH                         </td><td style=\"font-family: monospace, monospace; text-align: left;\">      1</td><td style=\"font-family: monospace, monospace; text-align: left;\">0.00%       </td></tr>\n",
       "<tr><td style=\"font-family: monospace, monospace; text-align: left;\">DELV                               </td><td style=\"font-family: monospace, monospace; text-align: left;\">      1</td><td style=\"font-family: monospace, monospace; text-align: left;\">0.00%       </td></tr>\n",
       "<tr><td style=\"font-family: monospace, monospace; text-align: left;\">MINIVAN                            </td><td style=\"font-family: monospace, monospace; text-align: left;\">      1</td><td style=\"font-family: monospace, monospace; text-align: left;\">0.00%       </td></tr>\n",
       "<tr><td style=\"font-family: monospace, monospace; text-align: left;\">Ford                               </td><td style=\"font-family: monospace, monospace; text-align: left;\">      1</td><td style=\"font-family: monospace, monospace; text-align: left;\">0.00%       </td></tr>\n",
       "<tr><td style=\"font-family: monospace, monospace; text-align: left;\">PICK-UP TR                         </td><td style=\"font-family: monospace, monospace; text-align: left;\">      1</td><td style=\"font-family: monospace, monospace; text-align: left;\">0.00%       </td></tr>\n",
       "</tbody>\n",
       "</table>"
      ],
      "text/plain": [
       "VEHICLE TYPE CODE 3 Info\n",
       "--------------------------  -------\n",
       "Data Type                   object\n",
       "Count                       144412\n",
       "Unique Values               265\n",
       "Null Values                 1949500\n",
       "\n",
       "Value                                  Count  % of total\n",
       "-----------------------------------  -------  ------------\n",
       "Sedan                                  45129  31.25%\n",
       "Station Wagon/Sport Utility Vehicle    36714  25.42%\n",
       "PASSENGER VEHICLE                      27713  19.19%\n",
       "SPORT UTILITY / STATION WAGON          13358  9.25%\n",
       "UNKNOWN                                 3284  2.27%\n",
       "4 dr sedan                              2564  1.78%\n",
       "Pick-up Truck                           2355  1.63%\n",
       "Taxi                                    2243  1.55%\n",
       "VAN                                     1366  0.95%\n",
       "OTHER                                   1045  0.72%\n",
       "POLICE VEH                                 1  0.00%\n",
       "DELV                                       1  0.00%\n",
       "MINIVAN                                    1  0.00%\n",
       "Ford                                       1  0.00%\n",
       "PICK-UP TR                                 1  0.00%"
      ]
     },
     "execution_count": 27,
     "metadata": {},
     "output_type": "execute_result"
    }
   ],
   "source": [
    "vtype3_report = ph.SeriesProfile(data[\"VEHICLE TYPE CODE 3\"])\n",
    "vtype3_report"
   ]
  },
  {
   "cell_type": "code",
   "execution_count": 28,
   "id": "6409f400-90c0-4cf0-9ae0-2d83056d069c",
   "metadata": {},
   "outputs": [
    {
     "data": {
      "text/html": [
       "<table>\n",
       "<thead>\n",
       "<tr><th style=\"font-family: monospace, monospace; text-align: left;\">VEHICLE TYPE CODE 4 Info  </th><th style=\"font-family: monospace, monospace; text-align: left;\"> </th></tr>\n",
       "</thead>\n",
       "<tbody>\n",
       "<tr><td style=\"font-family: monospace, monospace; text-align: left;\">Data Type                 </td><td style=\"font-family: monospace, monospace; text-align: left;\">object </td></tr>\n",
       "<tr><td style=\"font-family: monospace, monospace; text-align: left;\">Count                     </td><td style=\"font-family: monospace, monospace; text-align: left;\">32721  </td></tr>\n",
       "<tr><td style=\"font-family: monospace, monospace; text-align: left;\">Unique Values             </td><td style=\"font-family: monospace, monospace; text-align: left;\">103    </td></tr>\n",
       "<tr><td style=\"font-family: monospace, monospace; text-align: left;\">Null Values               </td><td style=\"font-family: monospace, monospace; text-align: left;\">2061191</td></tr>\n",
       "</tbody>\n",
       "</table><br><table>\n",
       "<thead>\n",
       "<tr><th style=\"font-family: monospace, monospace; text-align: left;\">Value                              </th><th style=\"font-family: monospace, monospace; text-align: left;\">  Count</th><th style=\"font-family: monospace, monospace; text-align: left;\">% of total  </th></tr>\n",
       "</thead>\n",
       "<tbody>\n",
       "<tr><td style=\"font-family: monospace, monospace; text-align: left;\">Sedan                              </td><td style=\"font-family: monospace, monospace; text-align: left;\">  10996</td><td style=\"font-family: monospace, monospace; text-align: left;\">33.61%      </td></tr>\n",
       "<tr><td style=\"font-family: monospace, monospace; text-align: left;\">Station Wagon/Sport Utility Vehicle</td><td style=\"font-family: monospace, monospace; text-align: left;\">   9034</td><td style=\"font-family: monospace, monospace; text-align: left;\">27.61%      </td></tr>\n",
       "<tr><td style=\"font-family: monospace, monospace; text-align: left;\">PASSENGER VEHICLE                  </td><td style=\"font-family: monospace, monospace; text-align: left;\">   5969</td><td style=\"font-family: monospace, monospace; text-align: left;\">18.24%      </td></tr>\n",
       "<tr><td style=\"font-family: monospace, monospace; text-align: left;\">SPORT UTILITY / STATION WAGON      </td><td style=\"font-family: monospace, monospace; text-align: left;\">   2852</td><td style=\"font-family: monospace, monospace; text-align: left;\">8.72%       </td></tr>\n",
       "<tr><td style=\"font-family: monospace, monospace; text-align: left;\">UNKNOWN                            </td><td style=\"font-family: monospace, monospace; text-align: left;\">    595</td><td style=\"font-family: monospace, monospace; text-align: left;\">1.82%       </td></tr>\n",
       "<tr><td style=\"font-family: monospace, monospace; text-align: left;\">4 dr sedan                         </td><td style=\"font-family: monospace, monospace; text-align: left;\">    568</td><td style=\"font-family: monospace, monospace; text-align: left;\">1.74%       </td></tr>\n",
       "<tr><td style=\"font-family: monospace, monospace; text-align: left;\">Pick-up Truck                      </td><td style=\"font-family: monospace, monospace; text-align: left;\">    496</td><td style=\"font-family: monospace, monospace; text-align: left;\">1.52%       </td></tr>\n",
       "<tr><td style=\"font-family: monospace, monospace; text-align: left;\">Taxi                               </td><td style=\"font-family: monospace, monospace; text-align: left;\">    449</td><td style=\"font-family: monospace, monospace; text-align: left;\">1.37%       </td></tr>\n",
       "<tr><td style=\"font-family: monospace, monospace; text-align: left;\">VAN                                </td><td style=\"font-family: monospace, monospace; text-align: left;\">    242</td><td style=\"font-family: monospace, monospace; text-align: left;\">0.74%       </td></tr>\n",
       "<tr><td style=\"font-family: monospace, monospace; text-align: left;\">OTHER                              </td><td style=\"font-family: monospace, monospace; text-align: left;\">    189</td><td style=\"font-family: monospace, monospace; text-align: left;\">0.58%       </td></tr>\n",
       "<tr><td style=\"font-family: monospace, monospace; text-align: left;\">PICK-UP TR                         </td><td style=\"font-family: monospace, monospace; text-align: left;\">      1</td><td style=\"font-family: monospace, monospace; text-align: left;\">0.00%       </td></tr>\n",
       "<tr><td style=\"font-family: monospace, monospace; text-align: left;\">bus                                </td><td style=\"font-family: monospace, monospace; text-align: left;\">      1</td><td style=\"font-family: monospace, monospace; text-align: left;\">0.00%       </td></tr>\n",
       "<tr><td style=\"font-family: monospace, monospace; text-align: left;\">DELIVERY T                         </td><td style=\"font-family: monospace, monospace; text-align: left;\">      1</td><td style=\"font-family: monospace, monospace; text-align: left;\">0.00%       </td></tr>\n",
       "<tr><td style=\"font-family: monospace, monospace; text-align: left;\">Pedicab                            </td><td style=\"font-family: monospace, monospace; text-align: left;\">      1</td><td style=\"font-family: monospace, monospace; text-align: left;\">0.00%       </td></tr>\n",
       "<tr><td style=\"font-family: monospace, monospace; text-align: left;\">FIRETRUCK                          </td><td style=\"font-family: monospace, monospace; text-align: left;\">      1</td><td style=\"font-family: monospace, monospace; text-align: left;\">0.00%       </td></tr>\n",
       "</tbody>\n",
       "</table>"
      ],
      "text/plain": [
       "VEHICLE TYPE CODE 4 Info\n",
       "--------------------------  -------\n",
       "Data Type                   object\n",
       "Count                       32721\n",
       "Unique Values               103\n",
       "Null Values                 2061191\n",
       "\n",
       "Value                                  Count  % of total\n",
       "-----------------------------------  -------  ------------\n",
       "Sedan                                  10996  33.61%\n",
       "Station Wagon/Sport Utility Vehicle     9034  27.61%\n",
       "PASSENGER VEHICLE                       5969  18.24%\n",
       "SPORT UTILITY / STATION WAGON           2852  8.72%\n",
       "UNKNOWN                                  595  1.82%\n",
       "4 dr sedan                               568  1.74%\n",
       "Pick-up Truck                            496  1.52%\n",
       "Taxi                                     449  1.37%\n",
       "VAN                                      242  0.74%\n",
       "OTHER                                    189  0.58%\n",
       "PICK-UP TR                                 1  0.00%\n",
       "bus                                        1  0.00%\n",
       "DELIVERY T                                 1  0.00%\n",
       "Pedicab                                    1  0.00%\n",
       "FIRETRUCK                                  1  0.00%"
      ]
     },
     "execution_count": 28,
     "metadata": {},
     "output_type": "execute_result"
    }
   ],
   "source": [
    "vtype4_report = ph.SeriesProfile(data[\"VEHICLE TYPE CODE 4\"])\n",
    "vtype4_report"
   ]
  },
  {
   "cell_type": "code",
   "execution_count": 29,
   "id": "40426162",
   "metadata": {
    "scrolled": true
   },
   "outputs": [
    {
     "data": {
      "text/html": [
       "<table>\n",
       "<thead>\n",
       "<tr><th style=\"font-family: monospace, monospace; text-align: left;\">VEHICLE TYPE CODE 5 Info  </th><th style=\"font-family: monospace, monospace; text-align: left;\"> </th></tr>\n",
       "</thead>\n",
       "<tbody>\n",
       "<tr><td style=\"font-family: monospace, monospace; text-align: left;\">Data Type                 </td><td style=\"font-family: monospace, monospace; text-align: left;\">object </td></tr>\n",
       "<tr><td style=\"font-family: monospace, monospace; text-align: left;\">Count                     </td><td style=\"font-family: monospace, monospace; text-align: left;\">8915   </td></tr>\n",
       "<tr><td style=\"font-family: monospace, monospace; text-align: left;\">Unique Values             </td><td style=\"font-family: monospace, monospace; text-align: left;\">71     </td></tr>\n",
       "<tr><td style=\"font-family: monospace, monospace; text-align: left;\">Null Values               </td><td style=\"font-family: monospace, monospace; text-align: left;\">2084997</td></tr>\n",
       "</tbody>\n",
       "</table><br><table>\n",
       "<thead>\n",
       "<tr><th style=\"font-family: monospace, monospace; text-align: left;\">Value                              </th><th style=\"font-family: monospace, monospace; text-align: left;\">  Count</th><th style=\"font-family: monospace, monospace; text-align: left;\">% of total  </th></tr>\n",
       "</thead>\n",
       "<tbody>\n",
       "<tr><td style=\"font-family: monospace, monospace; text-align: left;\">Sedan                              </td><td style=\"font-family: monospace, monospace; text-align: left;\">   3112</td><td style=\"font-family: monospace, monospace; text-align: left;\">34.91%      </td></tr>\n",
       "<tr><td style=\"font-family: monospace, monospace; text-align: left;\">Station Wagon/Sport Utility Vehicle</td><td style=\"font-family: monospace, monospace; text-align: left;\">   2572</td><td style=\"font-family: monospace, monospace; text-align: left;\">28.85%      </td></tr>\n",
       "<tr><td style=\"font-family: monospace, monospace; text-align: left;\">PASSENGER VEHICLE                  </td><td style=\"font-family: monospace, monospace; text-align: left;\">   1487</td><td style=\"font-family: monospace, monospace; text-align: left;\">16.68%      </td></tr>\n",
       "<tr><td style=\"font-family: monospace, monospace; text-align: left;\">SPORT UTILITY / STATION WAGON      </td><td style=\"font-family: monospace, monospace; text-align: left;\">    802</td><td style=\"font-family: monospace, monospace; text-align: left;\">9.00%       </td></tr>\n",
       "<tr><td style=\"font-family: monospace, monospace; text-align: left;\">Pick-up Truck                      </td><td style=\"font-family: monospace, monospace; text-align: left;\">    155</td><td style=\"font-family: monospace, monospace; text-align: left;\">1.74%       </td></tr>\n",
       "<tr><td style=\"font-family: monospace, monospace; text-align: left;\">4 dr sedan                         </td><td style=\"font-family: monospace, monospace; text-align: left;\">    123</td><td style=\"font-family: monospace, monospace; text-align: left;\">1.38%       </td></tr>\n",
       "<tr><td style=\"font-family: monospace, monospace; text-align: left;\">Taxi                               </td><td style=\"font-family: monospace, monospace; text-align: left;\">    112</td><td style=\"font-family: monospace, monospace; text-align: left;\">1.26%       </td></tr>\n",
       "<tr><td style=\"font-family: monospace, monospace; text-align: left;\">UNKNOWN                            </td><td style=\"font-family: monospace, monospace; text-align: left;\">     94</td><td style=\"font-family: monospace, monospace; text-align: left;\">1.05%       </td></tr>\n",
       "<tr><td style=\"font-family: monospace, monospace; text-align: left;\">VAN                                </td><td style=\"font-family: monospace, monospace; text-align: left;\">     50</td><td style=\"font-family: monospace, monospace; text-align: left;\">0.56%       </td></tr>\n",
       "<tr><td style=\"font-family: monospace, monospace; text-align: left;\">OTHER                              </td><td style=\"font-family: monospace, monospace; text-align: left;\">     49</td><td style=\"font-family: monospace, monospace; text-align: left;\">0.55%       </td></tr>\n",
       "<tr><td style=\"font-family: monospace, monospace; text-align: left;\">Lunch Wagon                        </td><td style=\"font-family: monospace, monospace; text-align: left;\">      1</td><td style=\"font-family: monospace, monospace; text-align: left;\">0.01%       </td></tr>\n",
       "<tr><td style=\"font-family: monospace, monospace; text-align: left;\">Truck                              </td><td style=\"font-family: monospace, monospace; text-align: left;\">      1</td><td style=\"font-family: monospace, monospace; text-align: left;\">0.01%       </td></tr>\n",
       "<tr><td style=\"font-family: monospace, monospace; text-align: left;\">TRAILER                            </td><td style=\"font-family: monospace, monospace; text-align: left;\">      1</td><td style=\"font-family: monospace, monospace; text-align: left;\">0.01%       </td></tr>\n",
       "<tr><td style=\"font-family: monospace, monospace; text-align: left;\">TRUCK                              </td><td style=\"font-family: monospace, monospace; text-align: left;\">      1</td><td style=\"font-family: monospace, monospace; text-align: left;\">0.01%       </td></tr>\n",
       "<tr><td style=\"font-family: monospace, monospace; text-align: left;\">Soccer                             </td><td style=\"font-family: monospace, monospace; text-align: left;\">      1</td><td style=\"font-family: monospace, monospace; text-align: left;\">0.01%       </td></tr>\n",
       "</tbody>\n",
       "</table>"
      ],
      "text/plain": [
       "VEHICLE TYPE CODE 5 Info\n",
       "--------------------------  -------\n",
       "Data Type                   object\n",
       "Count                       8915\n",
       "Unique Values               71\n",
       "Null Values                 2084997\n",
       "\n",
       "Value                                  Count  % of total\n",
       "-----------------------------------  -------  ------------\n",
       "Sedan                                   3112  34.91%\n",
       "Station Wagon/Sport Utility Vehicle     2572  28.85%\n",
       "PASSENGER VEHICLE                       1487  16.68%\n",
       "SPORT UTILITY / STATION WAGON            802  9.00%\n",
       "Pick-up Truck                            155  1.74%\n",
       "4 dr sedan                               123  1.38%\n",
       "Taxi                                     112  1.26%\n",
       "UNKNOWN                                   94  1.05%\n",
       "VAN                                       50  0.56%\n",
       "OTHER                                     49  0.55%\n",
       "Lunch Wagon                                1  0.01%\n",
       "Truck                                      1  0.01%\n",
       "TRAILER                                    1  0.01%\n",
       "TRUCK                                      1  0.01%\n",
       "Soccer                                     1  0.01%"
      ]
     },
     "execution_count": 29,
     "metadata": {},
     "output_type": "execute_result"
    }
   ],
   "source": [
    "vtype5_report = ph.SeriesProfile(data[\"VEHICLE TYPE CODE 5\"])\n",
    "vtype5_report"
   ]
  },
  {
   "cell_type": "markdown",
   "id": "67fcfca4",
   "metadata": {},
   "source": [
    "__Vehicle type categories are somewhat unclear__\n",
    "- \"Passenger vehicle\" is one of the biggest categories. What does 'passenger vehicle' mean given that there are already categories for sedans and SUVs?"
   ]
  },
  {
   "cell_type": "markdown",
   "id": "1ed343a4",
   "metadata": {},
   "source": [
    "# Are there significant gaps in data collection over time?"
   ]
  },
  {
   "cell_type": "markdown",
   "id": "fe824301",
   "metadata": {},
   "source": [
    "Adding a datetime column to make temporal analysis easier"
   ]
  },
  {
   "cell_type": "code",
   "execution_count": 30,
   "id": "5c3c5a85",
   "metadata": {},
   "outputs": [],
   "source": [
    "dt_format = \"%m/%d/%Y %H:%M\"\n",
    "data[\"datetime\"] = data[\"CRASH DATE\"] + \" \" + data[\"CRASH TIME\"]\n",
    "data[\"datetime\"] = data[\"datetime\"].apply(lambda x: datetime.strptime(x, dt_format))"
   ]
  },
  {
   "cell_type": "markdown",
   "id": "920398c4-868d-4b75-9ac4-52492054fa14",
   "metadata": {},
   "source": [
    "There do not appear to be any extended periods of time without reported collisions."
   ]
  },
  {
   "cell_type": "code",
   "execution_count": 31,
   "id": "816e2a05-54bf-4ec4-b691-bcdb256bc55f",
   "metadata": {},
   "outputs": [
    {
     "data": {
      "text/html": [
       "<div>\n",
       "<style scoped>\n",
       "    .dataframe tbody tr th:only-of-type {\n",
       "        vertical-align: middle;\n",
       "    }\n",
       "\n",
       "    .dataframe tbody tr th {\n",
       "        vertical-align: top;\n",
       "    }\n",
       "\n",
       "    .dataframe thead th {\n",
       "        text-align: right;\n",
       "    }\n",
       "</style>\n",
       "<table border=\"1\" class=\"dataframe\">\n",
       "  <thead>\n",
       "    <tr style=\"text-align: right;\">\n",
       "      <th></th>\n",
       "      <th>diffs</th>\n",
       "    </tr>\n",
       "    <tr>\n",
       "      <th>datetime</th>\n",
       "      <th></th>\n",
       "    </tr>\n",
       "  </thead>\n",
       "  <tbody>\n",
       "    <tr>\n",
       "      <th>2020-04-02 04:49:00</th>\n",
       "      <td>0 days 03:59:00</td>\n",
       "    </tr>\n",
       "    <tr>\n",
       "      <th>2020-06-18 05:25:00</th>\n",
       "      <td>0 days 03:12:00</td>\n",
       "    </tr>\n",
       "    <tr>\n",
       "      <th>2021-04-22 05:45:00</th>\n",
       "      <td>0 days 03:10:00</td>\n",
       "    </tr>\n",
       "    <tr>\n",
       "      <th>2020-03-22 04:18:00</th>\n",
       "      <td>0 days 03:00:00</td>\n",
       "    </tr>\n",
       "    <tr>\n",
       "      <th>2023-06-06 05:00:00</th>\n",
       "      <td>0 days 03:00:00</td>\n",
       "    </tr>\n",
       "    <tr>\n",
       "      <th>2020-04-28 05:51:00</th>\n",
       "      <td>0 days 02:51:00</td>\n",
       "    </tr>\n",
       "    <tr>\n",
       "      <th>2024-01-04 05:00:00</th>\n",
       "      <td>0 days 02:45:00</td>\n",
       "    </tr>\n",
       "    <tr>\n",
       "      <th>2021-01-06 06:00:00</th>\n",
       "      <td>0 days 02:42:00</td>\n",
       "    </tr>\n",
       "    <tr>\n",
       "      <th>2024-04-18 04:30:00</th>\n",
       "      <td>0 days 02:40:00</td>\n",
       "    </tr>\n",
       "    <tr>\n",
       "      <th>2020-03-25 04:58:00</th>\n",
       "      <td>0 days 02:35:00</td>\n",
       "    </tr>\n",
       "    <tr>\n",
       "      <th>2020-04-10 05:15:00</th>\n",
       "      <td>0 days 02:35:00</td>\n",
       "    </tr>\n",
       "    <tr>\n",
       "      <th>2020-03-31 04:57:00</th>\n",
       "      <td>0 days 02:33:00</td>\n",
       "    </tr>\n",
       "    <tr>\n",
       "      <th>2021-01-05 04:00:00</th>\n",
       "      <td>0 days 02:30:00</td>\n",
       "    </tr>\n",
       "    <tr>\n",
       "      <th>2023-02-21 04:00:00</th>\n",
       "      <td>0 days 02:30:00</td>\n",
       "    </tr>\n",
       "    <tr>\n",
       "      <th>2022-02-24 04:30:00</th>\n",
       "      <td>0 days 02:30:00</td>\n",
       "    </tr>\n",
       "    <tr>\n",
       "      <th>2021-03-02 02:40:00</th>\n",
       "      <td>0 days 02:28:00</td>\n",
       "    </tr>\n",
       "    <tr>\n",
       "      <th>2013-03-20 04:10:00</th>\n",
       "      <td>0 days 02:25:00</td>\n",
       "    </tr>\n",
       "    <tr>\n",
       "      <th>2015-03-24 04:48:00</th>\n",
       "      <td>0 days 02:23:00</td>\n",
       "    </tr>\n",
       "    <tr>\n",
       "      <th>2020-04-15 05:10:00</th>\n",
       "      <td>0 days 02:22:00</td>\n",
       "    </tr>\n",
       "    <tr>\n",
       "      <th>2021-01-24 07:36:00</th>\n",
       "      <td>0 days 02:21:00</td>\n",
       "    </tr>\n",
       "    <tr>\n",
       "      <th>2023-06-20 06:20:00</th>\n",
       "      <td>0 days 02:20:00</td>\n",
       "    </tr>\n",
       "    <tr>\n",
       "      <th>2021-04-08 05:50:00</th>\n",
       "      <td>0 days 02:20:00</td>\n",
       "    </tr>\n",
       "    <tr>\n",
       "      <th>2020-04-05 05:45:00</th>\n",
       "      <td>0 days 02:18:00</td>\n",
       "    </tr>\n",
       "    <tr>\n",
       "      <th>2021-05-26 04:59:00</th>\n",
       "      <td>0 days 02:16:00</td>\n",
       "    </tr>\n",
       "    <tr>\n",
       "      <th>2023-07-12 06:31:00</th>\n",
       "      <td>0 days 02:16:00</td>\n",
       "    </tr>\n",
       "    <tr>\n",
       "      <th>2014-04-01 05:00:00</th>\n",
       "      <td>0 days 02:15:00</td>\n",
       "    </tr>\n",
       "    <tr>\n",
       "      <th>2020-05-12 03:30:00</th>\n",
       "      <td>0 days 02:15:00</td>\n",
       "    </tr>\n",
       "    <tr>\n",
       "      <th>2014-09-30 05:15:00</th>\n",
       "      <td>0 days 02:15:00</td>\n",
       "    </tr>\n",
       "    <tr>\n",
       "      <th>2019-05-10 05:00:00</th>\n",
       "      <td>0 days 02:15:00</td>\n",
       "    </tr>\n",
       "    <tr>\n",
       "      <th>2015-02-05 05:30:00</th>\n",
       "      <td>0 days 02:13:00</td>\n",
       "    </tr>\n",
       "    <tr>\n",
       "      <th>2020-12-30 04:38:00</th>\n",
       "      <td>0 days 02:13:00</td>\n",
       "    </tr>\n",
       "    <tr>\n",
       "      <th>2020-04-07 06:05:00</th>\n",
       "      <td>0 days 02:13:00</td>\n",
       "    </tr>\n",
       "    <tr>\n",
       "      <th>2020-04-26 07:45:00</th>\n",
       "      <td>0 days 02:11:00</td>\n",
       "    </tr>\n",
       "    <tr>\n",
       "      <th>2020-04-14 04:03:00</th>\n",
       "      <td>0 days 02:11:00</td>\n",
       "    </tr>\n",
       "    <tr>\n",
       "      <th>2020-03-03 04:45:00</th>\n",
       "      <td>0 days 02:10:00</td>\n",
       "    </tr>\n",
       "    <tr>\n",
       "      <th>2021-03-12 05:00:00</th>\n",
       "      <td>0 days 02:10:00</td>\n",
       "    </tr>\n",
       "    <tr>\n",
       "      <th>2019-03-07 04:50:00</th>\n",
       "      <td>0 days 02:10:00</td>\n",
       "    </tr>\n",
       "    <tr>\n",
       "      <th>2013-01-22 05:00:00</th>\n",
       "      <td>0 days 02:10:00</td>\n",
       "    </tr>\n",
       "    <tr>\n",
       "      <th>2017-02-28 05:40:00</th>\n",
       "      <td>0 days 02:10:00</td>\n",
       "    </tr>\n",
       "    <tr>\n",
       "      <th>2021-11-16 03:59:00</th>\n",
       "      <td>0 days 02:09:00</td>\n",
       "    </tr>\n",
       "    <tr>\n",
       "      <th>2023-09-21 04:10:00</th>\n",
       "      <td>0 days 02:07:00</td>\n",
       "    </tr>\n",
       "    <tr>\n",
       "      <th>2020-12-28 04:58:00</th>\n",
       "      <td>0 days 02:07:00</td>\n",
       "    </tr>\n",
       "    <tr>\n",
       "      <th>2020-04-18 05:21:00</th>\n",
       "      <td>0 days 02:06:00</td>\n",
       "    </tr>\n",
       "    <tr>\n",
       "      <th>2012-09-26 04:40:00</th>\n",
       "      <td>0 days 02:05:00</td>\n",
       "    </tr>\n",
       "    <tr>\n",
       "      <th>2023-07-06 04:36:00</th>\n",
       "      <td>0 days 02:03:00</td>\n",
       "    </tr>\n",
       "    <tr>\n",
       "      <th>2020-10-14 05:05:00</th>\n",
       "      <td>0 days 02:02:00</td>\n",
       "    </tr>\n",
       "    <tr>\n",
       "      <th>2023-04-25 03:30:00</th>\n",
       "      <td>0 days 02:01:00</td>\n",
       "    </tr>\n",
       "    <tr>\n",
       "      <th>2020-12-17 03:40:00</th>\n",
       "      <td>0 days 02:01:00</td>\n",
       "    </tr>\n",
       "  </tbody>\n",
       "</table>\n",
       "</div>"
      ],
      "text/plain": [
       "                              diffs\n",
       "datetime                           \n",
       "2020-04-02 04:49:00 0 days 03:59:00\n",
       "2020-06-18 05:25:00 0 days 03:12:00\n",
       "2021-04-22 05:45:00 0 days 03:10:00\n",
       "2020-03-22 04:18:00 0 days 03:00:00\n",
       "2023-06-06 05:00:00 0 days 03:00:00\n",
       "2020-04-28 05:51:00 0 days 02:51:00\n",
       "2024-01-04 05:00:00 0 days 02:45:00\n",
       "2021-01-06 06:00:00 0 days 02:42:00\n",
       "2024-04-18 04:30:00 0 days 02:40:00\n",
       "2020-03-25 04:58:00 0 days 02:35:00\n",
       "2020-04-10 05:15:00 0 days 02:35:00\n",
       "2020-03-31 04:57:00 0 days 02:33:00\n",
       "2021-01-05 04:00:00 0 days 02:30:00\n",
       "2023-02-21 04:00:00 0 days 02:30:00\n",
       "2022-02-24 04:30:00 0 days 02:30:00\n",
       "2021-03-02 02:40:00 0 days 02:28:00\n",
       "2013-03-20 04:10:00 0 days 02:25:00\n",
       "2015-03-24 04:48:00 0 days 02:23:00\n",
       "2020-04-15 05:10:00 0 days 02:22:00\n",
       "2021-01-24 07:36:00 0 days 02:21:00\n",
       "2023-06-20 06:20:00 0 days 02:20:00\n",
       "2021-04-08 05:50:00 0 days 02:20:00\n",
       "2020-04-05 05:45:00 0 days 02:18:00\n",
       "2021-05-26 04:59:00 0 days 02:16:00\n",
       "2023-07-12 06:31:00 0 days 02:16:00\n",
       "2014-04-01 05:00:00 0 days 02:15:00\n",
       "2020-05-12 03:30:00 0 days 02:15:00\n",
       "2014-09-30 05:15:00 0 days 02:15:00\n",
       "2019-05-10 05:00:00 0 days 02:15:00\n",
       "2015-02-05 05:30:00 0 days 02:13:00\n",
       "2020-12-30 04:38:00 0 days 02:13:00\n",
       "2020-04-07 06:05:00 0 days 02:13:00\n",
       "2020-04-26 07:45:00 0 days 02:11:00\n",
       "2020-04-14 04:03:00 0 days 02:11:00\n",
       "2020-03-03 04:45:00 0 days 02:10:00\n",
       "2021-03-12 05:00:00 0 days 02:10:00\n",
       "2019-03-07 04:50:00 0 days 02:10:00\n",
       "2013-01-22 05:00:00 0 days 02:10:00\n",
       "2017-02-28 05:40:00 0 days 02:10:00\n",
       "2021-11-16 03:59:00 0 days 02:09:00\n",
       "2023-09-21 04:10:00 0 days 02:07:00\n",
       "2020-12-28 04:58:00 0 days 02:07:00\n",
       "2020-04-18 05:21:00 0 days 02:06:00\n",
       "2012-09-26 04:40:00 0 days 02:05:00\n",
       "2023-07-06 04:36:00 0 days 02:03:00\n",
       "2020-10-14 05:05:00 0 days 02:02:00\n",
       "2023-04-25 03:30:00 0 days 02:01:00\n",
       "2020-12-17 03:40:00 0 days 02:01:00"
      ]
     },
     "execution_count": 31,
     "metadata": {},
     "output_type": "execute_result"
    }
   ],
   "source": [
    "ph.id_gaps(data[\"datetime\"], threshold=pd.Timedelta(hours=2))"
   ]
  },
  {
   "cell_type": "markdown",
   "id": "1b02dbf2",
   "metadata": {},
   "source": [
    "Examining daily collisions, injuries, and deaths to check to gaps in the data"
   ]
  },
  {
   "cell_type": "code",
   "execution_count": 32,
   "id": "26cc8dc7",
   "metadata": {},
   "outputs": [],
   "source": [
    "daily_collisions = data.groupby(by=data[\"datetime\"].dt.date)[\"COLLISION_ID\"].count()\n",
    "daily_injuries = data.groupby(by=data[\"datetime\"].dt.date)[\n",
    "    \"NUMBER OF PERSONS INJURED\"\n",
    "].sum()\n",
    "daily_deaths = data.groupby(by=data[\"datetime\"].dt.date)[\n",
    "    \"NUMBER OF PERSONS KILLED\"\n",
    "].sum()"
   ]
  },
  {
   "cell_type": "code",
   "execution_count": 33,
   "id": "fab9942c-bd74-47f7-a9f7-1979dcca23cc",
   "metadata": {},
   "outputs": [
    {
     "data": {
      "image/png": "[encoded data removed]",
      "text/plain": [
       "<Figure size 1800x1000 with 1 Axes>"
      ]
     },
     "metadata": {},
     "output_type": "display_data"
    }
   ],
   "source": [
    "scatter_params = {\n",
    "    \"title\": \"Daily NYC Vehicle Collisions, Injuries, and Deaths\",\n",
    "    \"ylabel\": \"Daily Sum\\n(log scale)\",\n",
    "    \"yaxis_format\": \"{x:.0f}\",\n",
    "    \"ylogscale\": True,\n",
    "}\n",
    "with plt.style.context(\"default\"):\n",
    "    fig, ax = viz.setup_chart(**scatter_params)\n",
    "    ax.xaxis.set_major_locator(mpl.dates.YearLocator(1))\n",
    "    ax.scatter(y=daily_collisions, x=daily_collisions.index, s=4)  # s is marker size\n",
    "    ax.scatter(y=daily_injuries, x=daily_injuries.index, s=4)\n",
    "    ax.scatter(y=daily_deaths, x=daily_deaths.index, s=4)\n",
    "    ax.legend([\"Collisions\", \"Injuries\", \"Deaths\"], fontsize=14, markerscale=3)\n",
    "    plt.show()"
   ]
  },
  {
   "cell_type": "code",
   "execution_count": 34,
   "id": "0b45dac2-24a9-4217-85e0-f64ff1b82046",
   "metadata": {},
   "outputs": [
    {
     "data": {
      "image/png": "[encoded data removed]",
      "text/plain": [
       "<Figure size 1800x1000 with 1 Axes>"
      ]
     },
     "metadata": {},
     "output_type": "display_data"
    }
   ],
   "source": [
    "annual = pd.DataFrame()\n",
    "annual[\"Collisions\"] = data.groupby(by=data[\"datetime\"].dt.year)[\"COLLISION_ID\"].count()\n",
    "annual[\"Injured\"] = data.groupby(by=data[\"datetime\"].dt.year)[\n",
    "    \"NUMBER OF PERSONS INJURED\"\n",
    "].sum()\n",
    "annual[\"Deaths\"] = data.groupby(by=data[\"datetime\"].dt.year)[\n",
    "    \"NUMBER OF PERSONS KILLED\"\n",
    "].sum()\n",
    "viz.grouped_bar_chart(\n",
    "    annual,\n",
    "    title=\"Annual NYC Vehicle Collisions, Injuries, and Deaths\",\n",
    "    ylabel=\"(log scale)\",\n",
    "    ylabel_rotation=\"vertical\",\n",
    "    ylabel_pad=10,\n",
    "    ylogscale=True,\n",
    "    yaxis_format=\"{x:,.0f}\",\n",
    "    bar_label_bbox={\"facecolor\": \"white\", \"edgecolor\": \"none\", \"alpha\": 0.8},\n",
    "    legend_labels=[\"Collisions\", \"Injuries\", \"Deaths\"],\n",
    "    legend_args={\"legend_bbox\": (1.02, 0.9), \"legend_handleheight\": 2.0},\n",
    ")"
   ]
  },
  {
   "cell_type": "code",
   "execution_count": 35,
   "id": "5af00b6f-ff09-40aa-ad11-fdede01fb77a",
   "metadata": {},
   "outputs": [
    {
     "data": {
      "image/png": "[encoded data removed]",
      "text/plain": [
       "<Figure size 1800x1000 with 1 Axes>"
      ]
     },
     "metadata": {},
     "output_type": "display_data"
    }
   ],
   "source": [
    "annual = pd.DataFrame()\n",
    "annual[\"Collisions\"] = data.groupby(by=data[\"datetime\"].dt.year)[\"COLLISION_ID\"].count()\n",
    "annual[\"Injured\"] = data.groupby(by=data[\"datetime\"].dt.year)[\n",
    "    \"NUMBER OF PERSONS INJURED\"\n",
    "].sum()\n",
    "annual[\"Deaths\"] = data.groupby(by=data[\"datetime\"].dt.year)[\n",
    "    \"NUMBER OF PERSONS KILLED\"\n",
    "].sum()\n",
    "viz.grouped_bar_chart(\n",
    "    annual,\n",
    "    title=\"Annual NYC Vehicle Collisions, Injuries, and Deaths\",\n",
    "    ylabel=\"(log scale)\",\n",
    "    ylabel_rotation=\"vertical\",\n",
    "    ylabel_pad=10,\n",
    "    ylogscale=True,\n",
    "    bar_label_bbox={\"facecolor\": \"white\", \"edgecolor\": \"none\", \"alpha\": 0.8},\n",
    "    legend_labels=[\"Collisions\", \"Injuries\", \"Deaths\"],\n",
    "    legend_args={\"legend_bbox\": (1.02, 0.9), \"legend_handleheight\": 2.0},\n",
    ")"
   ]
  },
  {
   "cell_type": "code",
   "execution_count": 36,
   "id": "22aa6a45",
   "metadata": {},
   "outputs": [
    {
     "data": {
      "text/plain": [
       "(Timestamp('2012-07-01 00:05:00'), Timestamp('2024-06-04 23:58:00'))"
      ]
     },
     "execution_count": 36,
     "metadata": {},
     "output_type": "execute_result"
    }
   ],
   "source": [
    "data[\"datetime\"].min(), data[\"datetime\"].max()"
   ]
  },
  {
   "cell_type": "markdown",
   "id": "c2fe3a18-08be-47ef-bc2b-f7eee543e7c0",
   "metadata": {},
   "source": [
    "__It appears that the dramatic drop in overall collisions (but not injuries and deaths) starting in 2020 may be due to a change in New York Police Department (NYPD) policy where police will no longer respond to collisions without injuries. As a result it is likely that fewer MV104-AN forms are being filled out by motorists and going into the dataset.__\n",
    "\n",
    "- https://nyc.streetsblog.org/2020/03/30/breaking-nypd-will-no-longer-respond-to-minor-car-crashes\n",
    "- https://nyc.streetsblog.org/2020/04/03/nypd-gives-a-few-details-of-new-no-report-crash-policy"
   ]
  },
  {
   "cell_type": "markdown",
   "id": "41dac481",
   "metadata": {},
   "source": [
    "### __There does not appear to a major gaps in data regarding injuries and deaths going back to the start of the data set (July 2012)__\n",
    "- __Total collisions numbers after 2018 are unlikely to be accurate or consistent with previous years due to a change in police policy and the data generating process__\n",
    "- __Fatal collisions are a small percentage of the dataset. Collisions with injuries are more common__\n",
    "- __Let's limit the scope of analysis to 1 January 2013 to 31 December 2023, a 11 year span__"
   ]
  },
  {
   "cell_type": "code",
   "execution_count": 37,
   "id": "ae351ba3",
   "metadata": {},
   "outputs": [
    {
     "data": {
      "text/plain": [
       "(Timestamp('2013-01-01 00:01:00'), Timestamp('2023-12-31 23:18:00'))"
      ]
     },
     "execution_count": 37,
     "metadata": {},
     "output_type": "execute_result"
    }
   ],
   "source": [
    "start = datetime(year=2013, month=1, day=1)\n",
    "end = datetime(year=2024, month=1, day=1)\n",
    "crashes = data[data[\"datetime\"].between(start, end, inclusive=\"left\")].copy()\n",
    "crashes[\"datetime\"].min(), crashes[\"datetime\"].max()"
   ]
  },
  {
   "cell_type": "markdown",
   "id": "ff831fc9",
   "metadata": {},
   "source": [
    "# Does 'NUMBER OF PERSONS INJURED' match the separate 'INJURED' categories?"
   ]
  },
  {
   "cell_type": "code",
   "execution_count": 38,
   "id": "2e537552",
   "metadata": {},
   "outputs": [
    {
     "data": {
      "text/plain": [
       "7314"
      ]
     },
     "execution_count": 38,
     "metadata": {},
     "output_type": "execute_result"
    }
   ],
   "source": [
    "crashes[\"sum injured categories\"] = (\n",
    "    crashes[\"NUMBER OF PEDESTRIANS INJURED\"]\n",
    "    + crashes[\"NUMBER OF CYCLIST INJURED\"]\n",
    "    + crashes[\"NUMBER OF MOTORIST INJURED\"]\n",
    ")\n",
    "num_mismatch = len(\n",
    "    crashes[crashes[\"sum injured categories\"] != crashes[\"NUMBER OF PERSONS INJURED\"]]\n",
    ")\n",
    "num_mismatch"
   ]
  },
  {
   "cell_type": "code",
   "execution_count": 39,
   "id": "9ad525d8",
   "metadata": {},
   "outputs": [
    {
     "data": {
      "text/plain": [
       "0.0037406043781539294"
      ]
     },
     "execution_count": 39,
     "metadata": {},
     "output_type": "execute_result"
    }
   ],
   "source": [
    "num_mismatch / len(crashes)"
   ]
  },
  {
   "cell_type": "markdown",
   "id": "587868a1",
   "metadata": {},
   "source": [
    "### There do appear to be ~7300 collisions (or < 0.4% of total collisions) where the 'NUMBER OF PERSONS INJURED' field does not match the sum of the distinct injured categories (pedestrian, cyclist, motorist)"
   ]
  },
  {
   "cell_type": "code",
   "execution_count": 40,
   "id": "5f8cf5db",
   "metadata": {},
   "outputs": [
    {
     "data": {
      "text/plain": [
       "7214.0"
      ]
     },
     "execution_count": 40,
     "metadata": {},
     "output_type": "execute_result"
    }
   ],
   "source": [
    "total_injured = crashes[\"NUMBER OF PERSONS INJURED\"].sum()\n",
    "difference = (\n",
    "    crashes[\"NUMBER OF PERSONS INJURED\"].sum() - crashes[\"sum injured categories\"].sum()\n",
    ")\n",
    "difference"
   ]
  },
  {
   "cell_type": "code",
   "execution_count": 41,
   "id": "1dfe619e",
   "metadata": {},
   "outputs": [
    {
     "data": {
      "text/plain": [
       "0.011932171542746749"
      ]
     },
     "execution_count": 41,
     "metadata": {},
     "output_type": "execute_result"
    }
   ],
   "source": [
    "(difference / total_injured)"
   ]
  },
  {
   "cell_type": "markdown",
   "id": "0649abcf",
   "metadata": {},
   "source": [
    "- The cumulative discrepancy between the 'NUMBER OF PERSONS INJURED' field and the sum of the distinct injury fields (pedestrian, cyclist, motorist) is ~7200 injuries or < 1.2%\n",
    "- __Given the relatively small difference, we will use the separate 'injury' fields in our analyses going forward__\n"
   ]
  },
  {
   "cell_type": "markdown",
   "id": "6d308884",
   "metadata": {},
   "source": [
    "# Does 'NUMBER OF PERSONS KILLED' match the separate 'KILLED' categories?"
   ]
  },
  {
   "cell_type": "code",
   "execution_count": 42,
   "id": "3c0d5275",
   "metadata": {},
   "outputs": [
    {
     "data": {
      "text/plain": [
       "91"
      ]
     },
     "execution_count": 42,
     "metadata": {},
     "output_type": "execute_result"
    }
   ],
   "source": [
    "crashes[\"sum killed categories\"] = (\n",
    "    crashes[\"NUMBER OF PEDESTRIANS KILLED\"]\n",
    "    + crashes[\"NUMBER OF CYCLIST KILLED\"]\n",
    "    + crashes[\"NUMBER OF MOTORIST KILLED\"]\n",
    ")\n",
    "len(crashes[crashes[\"sum killed categories\"] != crashes[\"NUMBER OF PERSONS KILLED\"]])"
   ]
  },
  {
   "cell_type": "code",
   "execution_count": 43,
   "id": "8a47744c",
   "metadata": {},
   "outputs": [
    {
     "data": {
      "text/plain": [
       "48.0"
      ]
     },
     "execution_count": 43,
     "metadata": {},
     "output_type": "execute_result"
    }
   ],
   "source": [
    "total_killed = crashes[\"NUMBER OF PERSONS KILLED\"].sum()\n",
    "difference_deaths = (\n",
    "    crashes[\"NUMBER OF PERSONS KILLED\"].sum() - crashes[\"sum killed categories\"].sum()\n",
    ")\n",
    "difference_deaths"
   ]
  },
  {
   "cell_type": "code",
   "execution_count": 44,
   "id": "a1f5d702",
   "metadata": {},
   "outputs": [
    {
     "data": {
      "text/plain": [
       "0.016506189821182942"
      ]
     },
     "execution_count": 44,
     "metadata": {},
     "output_type": "execute_result"
    }
   ],
   "source": [
    "(difference_deaths / total_killed)"
   ]
  },
  {
   "cell_type": "markdown",
   "id": "53efc9f7",
   "metadata": {},
   "source": [
    "- There are ~90 collisions with differences between the 'NUMBER OF PERSONS KILLED' field and the sum of the separate killed fields (pedestrian, cyclist, motorist). The 48 death discrepancy represents a small percent of the total deaths (< 1.7%)\n",
    "\n",
    "- __Once again given the relatively small difference, we will use the separate 'killed' fields in our analyses going forward__"
   ]
  },
  {
   "cell_type": "markdown",
   "id": "ad73515e",
   "metadata": {},
   "source": [
    "# Are many serious collisions missing location information? \n",
    "\n",
    "- We define _serious_ as a collision that results in injury or death. \n",
    "- Future analyses will tend to focus on serious collisions"
   ]
  },
  {
   "cell_type": "code",
   "execution_count": 45,
   "id": "b991bdf5",
   "metadata": {
    "scrolled": true
   },
   "outputs": [],
   "source": [
    "crashes[\"serious_accident\"] = (crashes[\"NUMBER OF PERSONS INJURED\"] > 0) | (\n",
    "    crashes[\"NUMBER OF PERSONS KILLED\"] > 0\n",
    ")\n",
    "crashes[\"lat_long_missing\"] = crashes[\"LOCATION\"].isna()"
   ]
  },
  {
   "cell_type": "code",
   "execution_count": 46,
   "id": "e8023113",
   "metadata": {
    "scrolled": true
   },
   "outputs": [
    {
     "data": {
      "text/plain": [
       "0.8888308130879216"
      ]
     },
     "execution_count": 46,
     "metadata": {},
     "output_type": "execute_result"
    }
   ],
   "source": [
    "(len(crashes) - crashes[\"lat_long_missing\"].sum()) / len(crashes)"
   ]
  },
  {
   "cell_type": "markdown",
   "id": "082290ad",
   "metadata": {},
   "source": [
    "~89% of collisions have lat_long coordinates"
   ]
  },
  {
   "cell_type": "code",
   "execution_count": 47,
   "id": "ce810689",
   "metadata": {
    "scrolled": true
   },
   "outputs": [
    {
     "data": {
      "text/html": [
       "<div>\n",
       "<style scoped>\n",
       "    .dataframe tbody tr th:only-of-type {\n",
       "        vertical-align: middle;\n",
       "    }\n",
       "\n",
       "    .dataframe tbody tr th {\n",
       "        vertical-align: top;\n",
       "    }\n",
       "\n",
       "    .dataframe thead th {\n",
       "        text-align: right;\n",
       "    }\n",
       "</style>\n",
       "<table border=\"1\" class=\"dataframe\">\n",
       "  <thead>\n",
       "    <tr style=\"text-align: right;\">\n",
       "      <th>serious_accident</th>\n",
       "      <th>False</th>\n",
       "      <th>True</th>\n",
       "      <th>All</th>\n",
       "    </tr>\n",
       "    <tr>\n",
       "      <th>lat_long_missing</th>\n",
       "      <th></th>\n",
       "      <th></th>\n",
       "      <th></th>\n",
       "    </tr>\n",
       "  </thead>\n",
       "  <tbody>\n",
       "    <tr>\n",
       "      <th>False</th>\n",
       "      <td>0.683194</td>\n",
       "      <td>0.205637</td>\n",
       "      <td>0.888831</td>\n",
       "    </tr>\n",
       "    <tr>\n",
       "      <th>True</th>\n",
       "      <td>0.087632</td>\n",
       "      <td>0.023537</td>\n",
       "      <td>0.111169</td>\n",
       "    </tr>\n",
       "    <tr>\n",
       "      <th>All</th>\n",
       "      <td>0.770826</td>\n",
       "      <td>0.229174</td>\n",
       "      <td>1.000000</td>\n",
       "    </tr>\n",
       "  </tbody>\n",
       "</table>\n",
       "</div>"
      ],
      "text/plain": [
       "serious_accident     False      True       All\n",
       "lat_long_missing                              \n",
       "False             0.683194  0.205637  0.888831\n",
       "True              0.087632  0.023537  0.111169\n",
       "All               0.770826  0.229174  1.000000"
      ]
     },
     "execution_count": 47,
     "metadata": {},
     "output_type": "execute_result"
    }
   ],
   "source": [
    "pd.crosstab(\n",
    "    index=crashes[\"lat_long_missing\"],\n",
    "    columns=crashes[\"serious_accident\"],\n",
    "    margins=True,\n",
    "    normalize=True,\n",
    ")"
   ]
  },
  {
   "cell_type": "code",
   "execution_count": 48,
   "id": "9eb9192b",
   "metadata": {},
   "outputs": [
    {
     "data": {
      "text/plain": [
       "1.152463904854277e-93"
      ]
     },
     "execution_count": 48,
     "metadata": {},
     "output_type": "execute_result"
    }
   ],
   "source": [
    "contingency_table = pd.crosstab(\n",
    "    index=crashes[\"lat_long_missing\"], columns=crashes[\"serious_accident\"]\n",
    ")\n",
    "chi2_results = scipy.stats.chi2_contingency(contingency_table)\n",
    "p_val = chi2_results[1]\n",
    "p_val"
   ]
  },
  {
   "cell_type": "code",
   "execution_count": 49,
   "id": "f71ab91d-5ce8-4b60-998f-2939522ee2c3",
   "metadata": {},
   "outputs": [
    {
     "data": {
      "text/html": [
       "<div>\n",
       "<style scoped>\n",
       "    .dataframe tbody tr th:only-of-type {\n",
       "        vertical-align: middle;\n",
       "    }\n",
       "\n",
       "    .dataframe tbody tr th {\n",
       "        vertical-align: top;\n",
       "    }\n",
       "\n",
       "    .dataframe thead th {\n",
       "        text-align: right;\n",
       "    }\n",
       "</style>\n",
       "<table border=\"1\" class=\"dataframe\">\n",
       "  <thead>\n",
       "    <tr style=\"text-align: right;\">\n",
       "      <th>serious_accident</th>\n",
       "      <th>False</th>\n",
       "      <th>True</th>\n",
       "    </tr>\n",
       "    <tr>\n",
       "      <th>lat_long_missing</th>\n",
       "      <th></th>\n",
       "      <th></th>\n",
       "    </tr>\n",
       "  </thead>\n",
       "  <tbody>\n",
       "    <tr>\n",
       "      <th>False</th>\n",
       "      <td>1335848</td>\n",
       "      <td>402082</td>\n",
       "    </tr>\n",
       "    <tr>\n",
       "      <th>True</th>\n",
       "      <td>171347</td>\n",
       "      <td>46022</td>\n",
       "    </tr>\n",
       "  </tbody>\n",
       "</table>\n",
       "</div>"
      ],
      "text/plain": [
       "serious_accident    False   True \n",
       "lat_long_missing                 \n",
       "False             1335848  402082\n",
       "True               171347   46022"
      ]
     },
     "execution_count": 49,
     "metadata": {},
     "output_type": "execute_result"
    }
   ],
   "source": [
    "contingency_table"
   ]
  },
  {
   "cell_type": "code",
   "execution_count": 50,
   "id": "e38d4c94",
   "metadata": {},
   "outputs": [
    {
     "data": {
      "text/plain": [
       "0.23135684406161353"
      ]
     },
     "execution_count": 50,
     "metadata": {},
     "output_type": "execute_result"
    }
   ],
   "source": [
    "# col, row indexing\n",
    "percent_with_lat_long_that_are_serious = contingency_table.iloc[0].iloc[1] / (\n",
    "    contingency_table.iloc[0].iloc[0] + contingency_table.iloc[0].iloc[1]\n",
    ")\n",
    "\n",
    "percent_with_lat_long_that_are_serious"
   ]
  },
  {
   "cell_type": "code",
   "execution_count": 51,
   "id": "ba953755",
   "metadata": {},
   "outputs": [
    {
     "data": {
      "text/plain": [
       "0.2117229227718764"
      ]
     },
     "execution_count": 51,
     "metadata": {},
     "output_type": "execute_result"
    }
   ],
   "source": [
    "percent_missing_lat_long_that_are_serious = contingency_table.iloc[1].iloc[1] / (\n",
    "    contingency_table.iloc[1].iloc[0] + contingency_table.iloc[1].iloc[1]\n",
    ")\n",
    "percent_missing_lat_long_that_are_serious"
   ]
  },
  {
   "cell_type": "code",
   "execution_count": 52,
   "id": "82c66fd8",
   "metadata": {},
   "outputs": [
    {
     "data": {
      "text/plain": [
       "0.10270383660935854"
      ]
     },
     "execution_count": 52,
     "metadata": {},
     "output_type": "execute_result"
    }
   ],
   "source": [
    "percent_serious_missing_lat_long = contingency_table.iloc[1].iloc[1] / (\n",
    "    contingency_table.iloc[0].iloc[1] + contingency_table.iloc[1].iloc[1]\n",
    ")\n",
    "percent_serious_missing_lat_long"
   ]
  },
  {
   "cell_type": "markdown",
   "id": "87853bc0",
   "metadata": {},
   "source": [
    "- The p-value of the Chi-squared test is ~0\n",
    "- Using the Chi-squared test, we reject the null hypothesis that the percentage of collisions with injuries is the same for the population with lat-longs coordinates as for the population without lat-longs coordinates\n",
    "- Approximately ~23% of the collisions that have lat-long coordinates are serious (with injuries or deaths)\n",
    "- Approximately ~21% of the collisions that are missing coordinates are serious\n",
    "- Serious collisions seem to be more likely to have lat-long coordinates with than less serious collisions\n",
    "- ___The good news is that an analysis requiring lat-longs will not exclude data with a higher concentration of serious collisions___\n",
    "- ___The bad news is that ~10% of serious accidents will be removed from the dataset by excluding collisions without lat-long coordinates___"
   ]
  },
  {
   "cell_type": "markdown",
   "id": "10a12814",
   "metadata": {},
   "source": [
    "A quick view of some serious accidents that are missing coordinates suggests that a more in-depth analysis could obtain approximate lat-long coordinates for some of the serious accidents based on other location data"
   ]
  },
  {
   "cell_type": "code",
   "execution_count": 53,
   "id": "50156a5c",
   "metadata": {},
   "outputs": [
    {
     "data": {
      "text/html": [
       "<div>\n",
       "<style scoped>\n",
       "    .dataframe tbody tr th:only-of-type {\n",
       "        vertical-align: middle;\n",
       "    }\n",
       "\n",
       "    .dataframe tbody tr th {\n",
       "        vertical-align: top;\n",
       "    }\n",
       "\n",
       "    .dataframe thead th {\n",
       "        text-align: right;\n",
       "    }\n",
       "</style>\n",
       "<table border=\"1\" class=\"dataframe\">\n",
       "  <thead>\n",
       "    <tr style=\"text-align: right;\">\n",
       "      <th></th>\n",
       "      <th>ON STREET NAME</th>\n",
       "      <th>CROSS STREET NAME</th>\n",
       "      <th>OFF STREET NAME</th>\n",
       "    </tr>\n",
       "  </thead>\n",
       "  <tbody>\n",
       "    <tr>\n",
       "      <th>0</th>\n",
       "      <td>WHITESTONE EXPRESSWAY</td>\n",
       "      <td>20 AVENUE</td>\n",
       "      <td>NaN</td>\n",
       "    </tr>\n",
       "    <tr>\n",
       "      <th>1</th>\n",
       "      <td>QUEENSBORO BRIDGE UPPER</td>\n",
       "      <td>NaN</td>\n",
       "      <td>NaN</td>\n",
       "    </tr>\n",
       "    <tr>\n",
       "      <th>17</th>\n",
       "      <td>MEEKER AVENUE</td>\n",
       "      <td>LORIMER STREET</td>\n",
       "      <td>NaN</td>\n",
       "    </tr>\n",
       "    <tr>\n",
       "      <th>33</th>\n",
       "      <td>KINGSLAND AVENUE</td>\n",
       "      <td>MEEKER AVENUE</td>\n",
       "      <td>NaN</td>\n",
       "    </tr>\n",
       "    <tr>\n",
       "      <th>34</th>\n",
       "      <td>WILLIAMSBURG BRIDGE OUTER ROADWA</td>\n",
       "      <td>NaN</td>\n",
       "      <td>NaN</td>\n",
       "    </tr>\n",
       "    <tr>\n",
       "      <th>36</th>\n",
       "      <td>THROGS NECK BRIDGE</td>\n",
       "      <td>NaN</td>\n",
       "      <td>NaN</td>\n",
       "    </tr>\n",
       "    <tr>\n",
       "      <th>61</th>\n",
       "      <td>VANWYCK EXPRESSWAY</td>\n",
       "      <td>109 AVENUE</td>\n",
       "      <td>NaN</td>\n",
       "    </tr>\n",
       "    <tr>\n",
       "      <th>82</th>\n",
       "      <td>OCEAN PARKWAY</td>\n",
       "      <td>NaN</td>\n",
       "      <td>NaN</td>\n",
       "    </tr>\n",
       "    <tr>\n",
       "      <th>125</th>\n",
       "      <td>GRAND AVENUE</td>\n",
       "      <td>GREENE AVENUE</td>\n",
       "      <td>NaN</td>\n",
       "    </tr>\n",
       "    <tr>\n",
       "      <th>144</th>\n",
       "      <td>49 street</td>\n",
       "      <td>5 avenue</td>\n",
       "      <td>NaN</td>\n",
       "    </tr>\n",
       "    <tr>\n",
       "      <th>282</th>\n",
       "      <td>CROSS BRONX EXPY RAMP</td>\n",
       "      <td>NaN</td>\n",
       "      <td>NaN</td>\n",
       "    </tr>\n",
       "    <tr>\n",
       "      <th>344</th>\n",
       "      <td>BRONX RIVER PARKWAY RAMP</td>\n",
       "      <td>NaN</td>\n",
       "      <td>NaN</td>\n",
       "    </tr>\n",
       "    <tr>\n",
       "      <th>384</th>\n",
       "      <td>LAYTON AVENUE</td>\n",
       "      <td>THROGMORTAN AVENUE</td>\n",
       "      <td>NaN</td>\n",
       "    </tr>\n",
       "    <tr>\n",
       "      <th>437</th>\n",
       "      <td>NEW ENGLAND THRUWAY</td>\n",
       "      <td>NaN</td>\n",
       "      <td>NaN</td>\n",
       "    </tr>\n",
       "    <tr>\n",
       "      <th>483</th>\n",
       "      <td>ROCKAWAY BOULEVARD</td>\n",
       "      <td>225 STREET</td>\n",
       "      <td>NaN</td>\n",
       "    </tr>\n",
       "    <tr>\n",
       "      <th>570</th>\n",
       "      <td>PARSONS BLVD</td>\n",
       "      <td>90 AVENUE</td>\n",
       "      <td>NaN</td>\n",
       "    </tr>\n",
       "    <tr>\n",
       "      <th>571</th>\n",
       "      <td>STATEN ISLAND EXPRESSWAY</td>\n",
       "      <td>NaN</td>\n",
       "      <td>NaN</td>\n",
       "    </tr>\n",
       "    <tr>\n",
       "      <th>605</th>\n",
       "      <td>Trans- Manhattan Expressway</td>\n",
       "      <td>Amsterdam Avenue</td>\n",
       "      <td>NaN</td>\n",
       "    </tr>\n",
       "    <tr>\n",
       "      <th>625</th>\n",
       "      <td>REVIEW AVENUE</td>\n",
       "      <td>RAILROAD AVENUE</td>\n",
       "      <td>NaN</td>\n",
       "    </tr>\n",
       "    <tr>\n",
       "      <th>642</th>\n",
       "      <td>ARCHER AVENUE</td>\n",
       "      <td>GUY R BREWER BLVD</td>\n",
       "      <td>NaN</td>\n",
       "    </tr>\n",
       "  </tbody>\n",
       "</table>\n",
       "</div>"
      ],
      "text/plain": [
       "                       ON STREET NAME   CROSS STREET NAME OFF STREET NAME\n",
       "0               WHITESTONE EXPRESSWAY           20 AVENUE             NaN\n",
       "1             QUEENSBORO BRIDGE UPPER                 NaN             NaN\n",
       "17                      MEEKER AVENUE      LORIMER STREET             NaN\n",
       "33                   KINGSLAND AVENUE       MEEKER AVENUE             NaN\n",
       "34   WILLIAMSBURG BRIDGE OUTER ROADWA                 NaN             NaN\n",
       "36                 THROGS NECK BRIDGE                 NaN             NaN\n",
       "61                 VANWYCK EXPRESSWAY          109 AVENUE             NaN\n",
       "82                      OCEAN PARKWAY                 NaN             NaN\n",
       "125                      GRAND AVENUE       GREENE AVENUE             NaN\n",
       "144                         49 street            5 avenue             NaN\n",
       "282             CROSS BRONX EXPY RAMP                 NaN             NaN\n",
       "344          BRONX RIVER PARKWAY RAMP                 NaN             NaN\n",
       "384                     LAYTON AVENUE  THROGMORTAN AVENUE             NaN\n",
       "437               NEW ENGLAND THRUWAY                 NaN             NaN\n",
       "483                ROCKAWAY BOULEVARD          225 STREET             NaN\n",
       "570                      PARSONS BLVD           90 AVENUE             NaN\n",
       "571          STATEN ISLAND EXPRESSWAY                 NaN             NaN\n",
       "605       Trans- Manhattan Expressway    Amsterdam Avenue             NaN\n",
       "625                     REVIEW AVENUE     RAILROAD AVENUE             NaN\n",
       "642                     ARCHER AVENUE   GUY R BREWER BLVD             NaN"
      ]
     },
     "execution_count": 53,
     "metadata": {},
     "output_type": "execute_result"
    }
   ],
   "source": [
    "serious_missing_location = crashes[\n",
    "    (crashes[\"LOCATION\"].isna()) & (crashes[\"serious_accident\"])\n",
    "]\n",
    "serious_missing_location[\n",
    "    [\"ON STREET NAME\", \"CROSS STREET NAME\", \"OFF STREET NAME\"]\n",
    "].head(20)"
   ]
  },
  {
   "cell_type": "markdown",
   "id": "edbdc282",
   "metadata": {},
   "source": [
    "# Does 'LOCATION' match the individual 'LATITUDE' and 'LONGITUDE' fields?"
   ]
  },
  {
   "cell_type": "code",
   "execution_count": 54,
   "id": "3cc6d5d4",
   "metadata": {},
   "outputs": [],
   "source": [
    "def loc_string_to_tuple(s):\n",
    "    \"\"\"Helper function to convert strings in 'LOCATION' to numeric tuple.\"\"\"\n",
    "    s = str(s)  # to handle 'nan's without checking type\n",
    "    if s == \"nan\":\n",
    "        ret = (float(\"nan\"), float(\"nan\"))\n",
    "    else:\n",
    "        s_list = s.strip().split(\",\")\n",
    "        ret = tuple(float(s.strip(\"()\")) for s in s_list)\n",
    "    return ret\n",
    "\n",
    "\n",
    "def tuples_match(tup1, tup2):\n",
    "    \"\"\"Check for tuple equality given that values may be float('nan').\n",
    "    \n",
    "        float('nan') != float('nan'). \n",
    "    \"\"\"\n",
    "    if math.isnan(tup1[0]):\n",
    "        return all(math.isnan(x) for x in (tup1 + tup2))\n",
    "    return tup1 == tup2"
   ]
  },
  {
   "cell_type": "code",
   "execution_count": 55,
   "id": "109a44f2",
   "metadata": {},
   "outputs": [
    {
     "data": {
      "text/plain": [
       "True"
      ]
     },
     "execution_count": 55,
     "metadata": {},
     "output_type": "execute_result"
    }
   ],
   "source": [
    "location = crashes[\"LOCATION\"].apply(loc_string_to_tuple)\n",
    "lat_long = list(zip(crashes[\"LATITUDE\"], crashes[\"LONGITUDE\"]))\n",
    "matches = [tuples_match(x[0], x[1]) for x in zip(location, lat_long)]\n",
    "all(matches)"
   ]
  },
  {
   "cell_type": "markdown",
   "id": "eb49c4d8",
   "metadata": {},
   "source": [
    "__'LOCATION' matches the individual 'LATITUDE' and 'LONGITUDE' fields__"
   ]
  },
  {
   "cell_type": "markdown",
   "id": "66959ec6",
   "metadata": {},
   "source": [
    "# Are there obviously wrong lat-long coordinates (far outside NYC)?"
   ]
  },
  {
   "cell_type": "code",
   "execution_count": 56,
   "id": "5a3b9825",
   "metadata": {},
   "outputs": [],
   "source": [
    "crashes[\"good_lat_long\"] = (\n",
    "    crashes[\"LONGITUDE\"].between(NYC_WEST_LIMIT, NYC_EAST_LIMIT)\n",
    ") & (crashes[\"LATITUDE\"].between(NYC_SOUTH_LIMIT, NYC_NORTH_LIMIT))"
   ]
  },
  {
   "cell_type": "code",
   "execution_count": 57,
   "id": "dbc9f953",
   "metadata": {
    "scrolled": true
   },
   "outputs": [
    {
     "data": {
      "text/plain": [
       "0.9974239468793334"
      ]
     },
     "execution_count": 57,
     "metadata": {},
     "output_type": "execute_result"
    }
   ],
   "source": [
    "with_lat_long_sum = crashes[~crashes[\"lat_long_missing\"]][\"good_lat_long\"].count()\n",
    "good_lat_long_sum = crashes[~crashes[\"lat_long_missing\"]][\"good_lat_long\"].sum()\n",
    "good_lat_long_sum / with_lat_long_sum"
   ]
  },
  {
   "cell_type": "code",
   "execution_count": 58,
   "id": "36f9c4d5",
   "metadata": {},
   "outputs": [
    {
     "data": {
      "text/plain": [
       "4477"
      ]
     },
     "execution_count": 58,
     "metadata": {},
     "output_type": "execute_result"
    }
   ],
   "source": [
    "with_lat_long_sum - good_lat_long_sum"
   ]
  },
  {
   "cell_type": "markdown",
   "id": "2e1d2d93",
   "metadata": {},
   "source": [
    "~99.7% (or all but ~4500) of the collisions that have coordinates, have coordinates that are in vicinity of NYC. "
   ]
  },
  {
   "cell_type": "markdown",
   "id": "a5183bac",
   "metadata": {
    "jp-MarkdownHeadingCollapsed": true
   },
   "source": [
    "# Conclusions\n",
    "\n",
    "- The data contains time, location (in most cases), and the number of people injured or killed in automobile collisions dating back to 2012\n",
    "- There do not appear to be any significant gaps regarding injuries and deaths going back to 2012. The total number of collisions appears to be inconsistent with previous years and less accurate after 2018 due to changes in the data generating process\n",
    "- There are some minor inconsistencies between the total number of people injured or killed and their respective breakdown into pedestrian, cyclist, and motorist categories. We will be using the distinct categories going forward rather than the provided sum. The sum injured and killed fields can be recomputed from the separate categories\n",
    "- ~10% of serious collisions are missing location data\n",
    "- The 'LOCATION' field matches \"LATITUDE' and 'LONGITUDE' with no inconsistencies \n",
    "- ~99.7% of collisions with location data have coordinates that correspond to the NYC area"
   ]
  }
 ],
 "metadata": {
  "kernelspec": {
   "display_name": "Python 3 (ipykernel)",
   "language": "python",
   "name": "python3"
  },
  "language_info": {
   "codemirror_mode": {
    "name": "ipython",
    "version": 3
   },
   "file_extension": ".py",
   "mimetype": "text/x-python",
   "name": "python",
   "nbconvert_exporter": "python",
   "pygments_lexer": "ipython3",
   "version": "3.12.4"
  }
 },
 "nbformat": 4,
 "nbformat_minor": 5
}
