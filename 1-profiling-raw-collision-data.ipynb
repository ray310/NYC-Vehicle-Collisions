{
 "cells": [
  {
   "cell_type": "markdown",
   "id": "64afafe5",
   "metadata": {},
   "source": [
    "# Profiling NYC Collisions Data \n",
    "\n",
    "\n",
    "### Key Questions\n",
    "- What fields are there and are they useful? \n",
    "- Are the fields missing data?\n",
    "- Are there significant gaps in the data over time?\n",
    "- Are there inconsistencies in the total number of people injured or killed and their respective breakdowns into motorist, pedestrian, and cyclist?\n",
    "- Are many collisions missing location data? \n",
    "- Does 'location' match 'latititude' and 'longitude'?\n",
    "- Are collision locations near NYC? \n",
    "\n",
    "### Data Sources\n",
    "- Collision data obtained from https://data.cityofnewyork.us/Public-Safety/Motor-Vehicle-Collisions-Crashes/h9gi-nx95\n",
    " "
   ]
  },
  {
   "cell_type": "code",
   "execution_count": 1,
   "id": "ff499edc",
   "metadata": {
    "scrolled": true
   },
   "outputs": [],
   "source": [
    "from datetime import datetime\n",
    "import math\n",
    "import matplotlib.pyplot as plt\n",
    "import pandas as pd\n",
    "import pandahelper.reports as ph\n",
    "import scipy.stats\n",
    "from src import visualizations as viz"
   ]
  },
  {
   "cell_type": "code",
   "execution_count": 2,
   "id": "040946b6",
   "metadata": {},
   "outputs": [],
   "source": [
    "DATA_LOC = \"data/raw/Collisions.csv\""
   ]
  },
  {
   "cell_type": "code",
   "execution_count": 3,
   "id": "52cd25c8",
   "metadata": {},
   "outputs": [],
   "source": [
    "data = pd.read_csv(\n",
    "    DATA_LOC, dtype={\"ZIP CODE\": \"object\"}, low_memory=False,\n",
    ")  # read_csv interprets zip code as mixed type"
   ]
  },
  {
   "cell_type": "markdown",
   "id": "0f61aeed",
   "metadata": {},
   "source": [
    "# Overview of DataFrame"
   ]
  },
  {
   "cell_type": "code",
   "execution_count": 4,
   "id": "bed9cf75",
   "metadata": {
    "scrolled": true
   },
   "outputs": [
    {
     "data": {
      "text/plain": [
       "DataFrame-Level Info\n",
       "----------------------  -------------\n",
       "DF Shape                (1946954, 29)\n",
       "Duplicated Rows         0\n",
       "\n",
       "Series Name                    Data Type\n",
       "-----------------------------  -----------\n",
       "CRASH DATE                     object\n",
       "CRASH TIME                     object\n",
       "BOROUGH                        object\n",
       "ZIP CODE                       object\n",
       "LATITUDE                       float64\n",
       "LONGITUDE                      float64\n",
       "LOCATION                       object\n",
       "ON STREET NAME                 object\n",
       "CROSS STREET NAME              object\n",
       "OFF STREET NAME                object\n",
       "NUMBER OF PERSONS INJURED      float64\n",
       "NUMBER OF PERSONS KILLED       float64\n",
       "NUMBER OF PEDESTRIANS INJURED  int64\n",
       "NUMBER OF PEDESTRIANS KILLED   int64\n",
       "NUMBER OF CYCLIST INJURED      int64\n",
       "NUMBER OF CYCLIST KILLED       int64\n",
       "NUMBER OF MOTORIST INJURED     int64\n",
       "NUMBER OF MOTORIST KILLED      int64\n",
       "CONTRIBUTING FACTOR VEHICLE 1  object\n",
       "CONTRIBUTING FACTOR VEHICLE 2  object\n",
       "CONTRIBUTING FACTOR VEHICLE 3  object\n",
       "CONTRIBUTING FACTOR VEHICLE 4  object\n",
       "CONTRIBUTING FACTOR VEHICLE 5  object\n",
       "COLLISION_ID                   int64\n",
       "VEHICLE TYPE CODE 1            object\n",
       "VEHICLE TYPE CODE 2            object\n",
       "VEHICLE TYPE CODE 3            object\n",
       "VEHICLE TYPE CODE 4            object\n",
       "VEHICLE TYPE CODE 5            object\n",
       "\n",
       "Summary of Nulls Per Row\n",
       "--------------------------  ------------\n",
       "count                        1.94695e+06\n",
       "min                          1\n",
       "1%                           4\n",
       "5%                           7\n",
       "25%                          7\n",
       "50%                          8\n",
       "75%                         10\n",
       "95%                         12\n",
       "99%                         14\n",
       "max                         18\n",
       "median                       8\n",
       "mean                         8.54613\n",
       "median absolute deviation    1\n",
       "standard deviation           2.11603\n",
       "skew                         0.63945\n"
      ]
     },
     "execution_count": 4,
     "metadata": {},
     "output_type": "execute_result"
    }
   ],
   "source": [
    "ph.DataFrameProfile(data)"
   ]
  },
  {
   "cell_type": "markdown",
   "id": "c943f20e",
   "metadata": {},
   "source": [
    "# Examining individual fields (columns)"
   ]
  },
  {
   "cell_type": "code",
   "execution_count": 5,
   "id": "4b7f0147",
   "metadata": {
    "scrolled": true
   },
   "outputs": [
    {
     "data": {
      "text/plain": [
       "COLLISION_ID Info\n",
       "-------------------  -------\n",
       "Data Type            int64\n",
       "Count                1946954\n",
       "Unique Values        1946954\n",
       "Null Values          0\n",
       "\n",
       "  Value    Count  % of total\n",
       "-------  -------  ------------\n",
       "4455765        1  0.00%\n",
       "3274498        1  0.00%\n",
       "3263458        1  0.00%\n",
       "3268252        1  0.00%\n",
       "3266859        1  0.00%\n",
       "3261536        1  0.00%\n",
       "3269886        1  0.00%\n",
       "3262146        1  0.00%\n",
       "3273046        1  0.00%\n",
       "3273309        1  0.00%\n",
       "3272894        1  0.00%\n",
       "3260200        1  0.00%\n",
       "3263260        1  0.00%\n",
       "3262875        1  0.00%\n",
       "3268122        1  0.00%\n",
       "3262329        1  0.00%\n",
       "3274417        1  0.00%\n",
       "3266979        1  0.00%\n",
       "3268134        1  0.00%\n",
       "3267813        1  0.00%\n",
       "3918002        1  0.00%\n",
       "3916727        1  0.00%\n",
       "3918527        1  0.00%\n",
       "3916307        1  0.00%\n",
       "4583167        1  0.00%\n",
       "\n",
       "Statistic                             Value\n",
       "-------------------------  ----------------\n",
       "count                           1.94695e+06\n",
       "min                            22\n",
       "1%                          19616.5\n",
       "5%                          98180.7\n",
       "25%                             3.12145e+06\n",
       "50%                             3.60968e+06\n",
       "75%                             4.09667e+06\n",
       "95%                             4.48615e+06\n",
       "99%                             4.56404e+06\n",
       "max                             4.58376e+06\n",
       "median                          3.60968e+06\n",
       "mean                            3.06143e+06\n",
       "median absolute deviation  487612\n",
       "standard deviation              1.50303e+06\n",
       "skew                           -1.17778\n"
      ]
     },
     "execution_count": 5,
     "metadata": {},
     "output_type": "execute_result"
    }
   ],
   "source": [
    "collision_id_report = ph.SeriesProfile(data[\"COLLISION_ID\"])\n",
    "collision_id_report"
   ]
  },
  {
   "cell_type": "markdown",
   "id": "1c4200bd",
   "metadata": {},
   "source": [
    "Collision_ID is the primary key according to the dataset dictionary. We confirm that all its values are unique."
   ]
  },
  {
   "cell_type": "code",
   "execution_count": 6,
   "id": "eb432080",
   "metadata": {
    "scrolled": true
   },
   "outputs": [
    {
     "data": {
      "text/plain": [
       "(CRASH TIME Info\n",
       " -----------------  -------\n",
       " Data Type          object\n",
       " Count              1946954\n",
       " Unique Values      1440\n",
       " Null Values        0\n",
       " \n",
       " Value      Count  % of total\n",
       " -------  -------  ------------\n",
       " 16:00      27287  1.40%\n",
       " 17:00      26727  1.37%\n",
       " 15:00      26625  1.37%\n",
       " 18:00      24690  1.27%\n",
       " 14:00      24437  1.26%\n",
       " 13:00      22684  1.17%\n",
       " 9:00       20495  1.05%\n",
       " 12:00      20447  1.05%\n",
       " 19:00      20415  1.05%\n",
       " 16:30      19711  1.01%\n",
       " 8:00       19045  0.98%\n",
       " 14:30      18940  0.97%\n",
       " 10:00      18894  0.97%\n",
       " 0:00       18622  0.96%\n",
       " 11:00      18510  0.95%\n",
       " 17:30      18496  0.95%\n",
       " 18:30      16497  0.85%\n",
       " 20:00      16416  0.84%\n",
       " 8:30       15967  0.82%\n",
       " 13:30      15879  0.82%\n",
       " 2:31          86  0.00%\n",
       " 5:31          86  0.00%\n",
       " 4:02          84  0.00%\n",
       " 3:31          84  0.00%\n",
       " 4:31          81  0.00%\n",
       " \n",
       " \n",
       " ,\n",
       " CRASH DATE Info\n",
       " -----------------  -------\n",
       " Data Type          object\n",
       " Count              1946954\n",
       " Unique Values      3794\n",
       " Null Values        0\n",
       " \n",
       " Value         Count  % of total\n",
       " ----------  -------  ------------\n",
       " 01/21/2014     1161  0.06%\n",
       " 11/15/2018     1065  0.05%\n",
       " 12/15/2017      999  0.05%\n",
       " 05/19/2017      974  0.05%\n",
       " 01/18/2015      961  0.05%\n",
       " 02/03/2014      960  0.05%\n",
       " 03/06/2015      939  0.05%\n",
       " 05/18/2017      911  0.05%\n",
       " 01/07/2017      896  0.05%\n",
       " 03/02/2018      884  0.05%\n",
       " 12/14/2017      883  0.05%\n",
       " 09/30/2016      872  0.04%\n",
       " 11/09/2018      867  0.04%\n",
       " 11/26/2013      867  0.04%\n",
       " 04/28/2017      857  0.04%\n",
       " 03/08/2013      851  0.04%\n",
       " 10/21/2016      851  0.04%\n",
       " 06/29/2018      845  0.04%\n",
       " 06/22/2017      845  0.04%\n",
       " 12/14/2018      841  0.04%\n",
       " 04/23/2020      108  0.01%\n",
       " 04/12/2020      106  0.01%\n",
       " 04/09/2020      103  0.01%\n",
       " 04/19/2020      102  0.01%\n",
       " 04/05/2020       94  0.00%\n",
       " \n",
       " \n",
       " )"
      ]
     },
     "execution_count": 6,
     "metadata": {},
     "output_type": "execute_result"
    }
   ],
   "source": [
    "time_report = ph.SeriesProfile(data[\"CRASH TIME\"])\n",
    "date_report = ph.SeriesProfile(data[\"CRASH DATE\"])\n",
    "time_report, date_report"
   ]
  },
  {
   "cell_type": "markdown",
   "id": "f9367ae3",
   "metadata": {},
   "source": [
    "__There are no obvious issues with the time and  date info__\n",
    "- There are no null values in CRASH TIME and CRASH DATE\n",
    "- All 1440 minutes in a day are represented in time data\n",
    "- Times tend to be rounded estimates. For example: 16:00 is more common that 4:31, which is unsurprising\n",
    "- ~3800 unique dates correspond to ~10+ years of data (which is what we have)"
   ]
  },
  {
   "cell_type": "code",
   "execution_count": 7,
   "id": "e8a513d9",
   "metadata": {
    "scrolled": true
   },
   "outputs": [
    {
     "data": {
      "text/plain": [
       "(LOCATION Info\n",
       " ---------------  -------\n",
       " Data Type        object\n",
       " Count            1722744\n",
       " Unique Values    262432\n",
       " Null Values      224210\n",
       " \n",
       " Value                        Count  % of total\n",
       " -------------------------  -------  ------------\n",
       " (0.0, 0.0)                    3778  0.22%\n",
       " (40.861862, -73.91282)         685  0.04%\n",
       " (40.608757, -74.038086)        670  0.04%\n",
       " (40.696033, -73.98453)         646  0.04%\n",
       " (40.8047, -73.91243)           597  0.03%\n",
       " (40.6960346, -73.9845292)      587  0.03%\n",
       " (40.675735, -73.89686)         503  0.03%\n",
       " (40.7606005, -73.9643142)      474  0.03%\n",
       " (40.820305, -73.89083)         467  0.03%\n",
       " (40.798256, -73.82744)         462  0.03%\n",
       " (40.658577, -73.89063)         458  0.03%\n",
       " (40.7572323, -73.9897922)      456  0.03%\n",
       " (40.77077, -73.91727)          450  0.03%\n",
       " (40.604153, -74.05198)         440  0.03%\n",
       " (40.6757357, -73.8968533)      435  0.03%\n",
       " (40.6585778, -73.8906229)      418  0.02%\n",
       " (40.733536, -73.87035)         415  0.02%\n",
       " (40.7606, -73.96434)           408  0.02%\n",
       " (40.816864, -73.882744)        407  0.02%\n",
       " (40.83801, -73.87329)          401  0.02%\n",
       " (40.617054, -74.015755)          1  0.00%\n",
       " (40.70017, -73.99225)            1  0.00%\n",
       " (40.61246, -74.07123)            1  0.00%\n",
       " (40.669662, -73.92252)           1  0.00%\n",
       " (40.716156, -73.99724)           1  0.00%\n",
       " \n",
       " \n",
       " ,\n",
       " LATITUDE Info\n",
       " ---------------  -------\n",
       " Data Type        float64\n",
       " Count            1722744\n",
       " Unique Values    124526\n",
       " Null Values      224210\n",
       " \n",
       "   Value    Count  % of total\n",
       " -------  -------  ------------\n",
       "  0          3778  0.22%\n",
       " 40.8619      796  0.05%\n",
       " 40.696       710  0.04%\n",
       " 40.8047      691  0.04%\n",
       " 40.6088      670  0.04%\n",
       " 40.7983      626  0.04%\n",
       " 40.7593      603  0.04%\n",
       " 40.696       587  0.03%\n",
       " 40.6757      504  0.03%\n",
       " 40.7606      474  0.03%\n",
       " 40.6586      470  0.03%\n",
       " 40.7044      469  0.03%\n",
       " 40.8203      468  0.03%\n",
       " 40.7572      456  0.03%\n",
       " 40.759       455  0.03%\n",
       " 40.7708      454  0.03%\n",
       " 40.6917      443  0.03%\n",
       " 40.6042      441  0.03%\n",
       " 40.7606      438  0.03%\n",
       " 40.6757      435  0.03%\n",
       " 40.7994        1  0.00%\n",
       " 40.5912        1  0.00%\n",
       " 40.8976        1  0.00%\n",
       " 40.5758        1  0.00%\n",
       " 40.8323        1  0.00%\n",
       " \n",
       " Statistic                          Value\n",
       " -------------------------  -------------\n",
       " count                        1.72274e+06\n",
       " min                          0\n",
       " 1%                          40.5516\n",
       " 5%                          40.5968\n",
       " 25%                         40.6681\n",
       " 50%                         40.7214\n",
       " 75%                         40.7694\n",
       " 95%                         40.862\n",
       " 99%                         40.8887\n",
       " max                         43.3444\n",
       " median                      40.7214\n",
       " mean                        40.6349\n",
       " median absolute deviation    0.0512255\n",
       " standard deviation           1.90666\n",
       " skew                       -21.2282\n",
       " ,\n",
       " LONGITUDE Info\n",
       " ----------------  -------\n",
       " Data Type         float64\n",
       " Count             1722744\n",
       " Unique Values     97145\n",
       " Null Values       224210\n",
       " \n",
       "    Value    Count  % of total\n",
       " --------  -------  ------------\n",
       "   0          3778  0.22%\n",
       " -73.9128      717  0.04%\n",
       " -73.9845      697  0.04%\n",
       " -73.8906      688  0.04%\n",
       " -74.0381      672  0.04%\n",
       " -73.9124      651  0.04%\n",
       " -73.8969      600  0.03%\n",
       " -73.9845      587  0.03%\n",
       " -73.8827      558  0.03%\n",
       " -73.8908      539  0.03%\n",
       " -73.9173      523  0.03%\n",
       " -73.9112      522  0.03%\n",
       " -73.9448      520  0.03%\n",
       " -73.8274      480  0.03%\n",
       " -73.9643      474  0.03%\n",
       " -73.9898      456  0.03%\n",
       " -73.9749      450  0.03%\n",
       " -73.9992      448  0.03%\n",
       " -73.9772      442  0.03%\n",
       " -74.052       440  0.03%\n",
       " -73.7304        1  0.00%\n",
       " -74.1579        1  0.00%\n",
       " -74.1492        1  0.00%\n",
       " -74.2356        1  0.00%\n",
       " -74.0376        1  0.00%\n",
       " \n",
       " Statistic                           Value\n",
       " -------------------------  --------------\n",
       " count                         1.72274e+06\n",
       " min                        -201.36\n",
       " 1%                          -74.1679\n",
       " 5%                          -74.0349\n",
       " 25%                         -73.9751\n",
       " 50%                         -73.9275\n",
       " 75%                         -73.8666\n",
       " 95%                         -73.7632\n",
       " 99%                         -73.7284\n",
       " max                           0\n",
       " median                      -73.9275\n",
       " mean                        -73.7655\n",
       " median absolute deviation     0.05281\n",
       " standard deviation            3.60294\n",
       " skew                         16.1097\n",
       " )"
      ]
     },
     "execution_count": 7,
     "metadata": {},
     "output_type": "execute_result"
    }
   ],
   "source": [
    "loc_report = ph.SeriesProfile(data[\"LOCATION\"])\n",
    "lat_report = ph.SeriesProfile(data[\"LATITUDE\"])\n",
    "long_report = ph.SeriesProfile(data[\"LONGITUDE\"])\n",
    "loc_report, lat_report, long_report"
   ]
  },
  {
   "cell_type": "code",
   "execution_count": 8,
   "id": "56c3ebbe",
   "metadata": {},
   "outputs": [
    {
     "data": {
      "text/plain": [
       "0.11515937202419779"
      ]
     },
     "execution_count": 8,
     "metadata": {},
     "output_type": "execute_result"
    }
   ],
   "source": [
    "percent_missing_loc = sum(data[\"LOCATION\"].isna()) / len(data)\n",
    "percent_missing_loc"
   ]
  },
  {
   "cell_type": "markdown",
   "id": "a97fdf1a",
   "metadata": {},
   "source": [
    "__~11.5% of collisions are missing location data__\n",
    "- LOCATION is just the tuple, (LATITUDE, LONGITUDE)\n",
    "- Some lat-long coordinates are invalid. For example: (0, 0) or a latitiude of 43.3444 (max latitude), which is far from NYC"
   ]
  },
  {
   "cell_type": "code",
   "execution_count": 9,
   "id": "ea482bf8",
   "metadata": {
    "scrolled": true
   },
   "outputs": [
    {
     "data": {
      "text/plain": [
       "(NUMBER OF PERSONS INJURED Info\n",
       " --------------------------------  -------\n",
       " Data Type                         float64\n",
       " Count                             1946936\n",
       " Unique Values                     28\n",
       " Null Values                       18\n",
       " \n",
       "   Value    Count  % of total\n",
       " -------  -------  ------------\n",
       "       0  1525788  78.37%\n",
       "       1   326681  16.78%\n",
       "       2    61572  3.16%\n",
       "       3    20117  1.03%\n",
       "       4     7545  0.39%\n",
       "       5     2950  0.15%\n",
       "       6     1198  0.06%\n",
       "       7      528  0.03%\n",
       "       8      218  0.01%\n",
       "       9      117  0.01%\n",
       "      10       75  0.00%\n",
       "      11       44  0.00%\n",
       "      12       28  0.00%\n",
       "      13       21  0.00%\n",
       "      15       10  0.00%\n",
       "      14        9  0.00%\n",
       "      16        8  0.00%\n",
       "      17        5  0.00%\n",
       "      18        5  0.00%\n",
       "      19        4  0.00%\n",
       "      40        1  0.00%\n",
       "      31        1  0.00%\n",
       "      27        1  0.00%\n",
       "      32        1  0.00%\n",
       "      43        1  0.00%\n",
       " \n",
       " Statistic                         Value\n",
       " -------------------------  ------------\n",
       " count                       1.94694e+06\n",
       " min                         0\n",
       " 1%                          0\n",
       " 5%                          0\n",
       " 25%                         0\n",
       " 50%                         0\n",
       " 75%                         0\n",
       " 95%                         1\n",
       " 99%                         3\n",
       " max                        43\n",
       " median                      0\n",
       " mean                        0.293608\n",
       " median absolute deviation   0\n",
       " standard deviation          0.685245\n",
       " skew                        4.32902\n",
       " ,\n",
       " NUMBER OF PEDESTRIANS INJURED Info\n",
       " ------------------------------------  -------\n",
       " Data Type                             int64\n",
       " Count                                 1946954\n",
       " Unique Values                         13\n",
       " Null Values                           0\n",
       " \n",
       "   Value    Count  % of total\n",
       " -------  -------  ------------\n",
       "       0  1846518  94.84%\n",
       "       1    96763  4.97%\n",
       "       2     3242  0.17%\n",
       "       3      333  0.02%\n",
       "       4       55  0.00%\n",
       "       5       23  0.00%\n",
       "       6       11  0.00%\n",
       "       7        3  0.00%\n",
       "       9        2  0.00%\n",
       "      27        1  0.00%\n",
       "      13        1  0.00%\n",
       "      15        1  0.00%\n",
       "       8        1  0.00%\n",
       " \n",
       " Statistic                         Value\n",
       " -------------------------  ------------\n",
       " count                       1.94695e+06\n",
       " min                         0\n",
       " 1%                          0\n",
       " 5%                          0\n",
       " 25%                         0\n",
       " 50%                         0\n",
       " 75%                         0\n",
       " 95%                         1\n",
       " 99%                         1\n",
       " max                        27\n",
       " median                      0\n",
       " mean                        0.0538015\n",
       " median absolute deviation   0\n",
       " standard deviation          0.238168\n",
       " skew                        5.72504\n",
       " ,\n",
       " NUMBER OF CYCLIST INJURED Info\n",
       " --------------------------------  -------\n",
       " Data Type                         int64\n",
       " Count                             1946954\n",
       " Unique Values                     5\n",
       " Null Values                       0\n",
       " \n",
       "   Value    Count  % of total\n",
       " -------  -------  ------------\n",
       "       0  1898235  97.50%\n",
       "       1    48185  2.47%\n",
       "       2      512  0.03%\n",
       "       3       21  0.00%\n",
       "       4        1  0.00%\n",
       " \n",
       " Statistic                        Value\n",
       " -------------------------  -----------\n",
       " count                      1.94695e+06\n",
       " min                        0\n",
       " 1%                         0\n",
       " 5%                         0\n",
       " 25%                        0\n",
       " 50%                        0\n",
       " 75%                        0\n",
       " 95%                        0\n",
       " 99%                        1\n",
       " max                        4\n",
       " median                     0\n",
       " mean                       0.0253093\n",
       " median absolute deviation  0\n",
       " standard deviation         0.158951\n",
       " skew                       6.28543\n",
       " ,\n",
       " NUMBER OF MOTORIST INJURED Info\n",
       " ---------------------------------  -------\n",
       " Data Type                          int64\n",
       " Count                              1946954\n",
       " Unique Values                      28\n",
       " Null Values                        0\n",
       " \n",
       "   Value    Count  % of total\n",
       " -------  -------  ------------\n",
       "       0  1676852  86.13%\n",
       "       1   181696  9.33%\n",
       "       2    56397  2.90%\n",
       "       3    19515  1.00%\n",
       "       4     7394  0.38%\n",
       "       5     2902  0.15%\n",
       "       6     1157  0.06%\n",
       "       7      504  0.03%\n",
       "       8      210  0.01%\n",
       "       9      113  0.01%\n",
       "      10       73  0.00%\n",
       "      11       43  0.00%\n",
       "      12       27  0.00%\n",
       "      13       21  0.00%\n",
       "      14       10  0.00%\n",
       "      15        8  0.00%\n",
       "      16        8  0.00%\n",
       "      18        5  0.00%\n",
       "      17        4  0.00%\n",
       "      19        3  0.00%\n",
       "      40        1  0.00%\n",
       "      21        1  0.00%\n",
       "      31        1  0.00%\n",
       "      30        1  0.00%\n",
       "      43        1  0.00%\n",
       " \n",
       " Statistic                         Value\n",
       " -------------------------  ------------\n",
       " count                       1.94695e+06\n",
       " min                         0\n",
       " 1%                          0\n",
       " 5%                          0\n",
       " 25%                         0\n",
       " 50%                         0\n",
       " 75%                         0\n",
       " 95%                         1\n",
       " 99%                         3\n",
       " max                        43\n",
       " median                      0\n",
       " mean                        0.212132\n",
       " median absolute deviation   0\n",
       " standard deviation          0.64658\n",
       " skew                        5.20589\n",
       " )"
      ]
     },
     "execution_count": 9,
     "metadata": {},
     "output_type": "execute_result"
    }
   ],
   "source": [
    "injured_report = ph.SeriesProfile(data[\"NUMBER OF PERSONS INJURED\"])\n",
    "pedestrian_injured_report = ph.SeriesProfile(data[\"NUMBER OF PEDESTRIANS INJURED\"])\n",
    "cyclist_injured_report = ph.SeriesProfile(data[\"NUMBER OF CYCLIST INJURED\"])\n",
    "motorist_injured_report = ph.SeriesProfile(data[\"NUMBER OF MOTORIST INJURED\"])\n",
    "injured_report, pedestrian_injured_report, cyclist_injured_report, motorist_injured_report"
   ]
  },
  {
   "cell_type": "markdown",
   "id": "8a31c079",
   "metadata": {},
   "source": [
    "__A few observations (< 50) are missing the the total number of people injured.__\n",
    "\n",
    "There are no missing values for the individual pedestrian, cyclist, and motorist injured fields"
   ]
  },
  {
   "cell_type": "code",
   "execution_count": 10,
   "id": "7cdca086",
   "metadata": {
    "scrolled": true
   },
   "outputs": [
    {
     "data": {
      "text/plain": [
       "(NUMBER OF PERSONS KILLED Info\n",
       " -------------------------------  -------\n",
       " Data Type                        float64\n",
       " Count                            1946923\n",
       " Unique Values                    7\n",
       " Null Values                      31\n",
       " \n",
       "   Value    Count  % of total\n",
       " -------  -------  ------------\n",
       "       0  1944316  99.87%\n",
       "       1     2526  0.13%\n",
       "       2       65  0.00%\n",
       "       3       11  0.00%\n",
       "       4        3  0.00%\n",
       "       8        1  0.00%\n",
       "       5        1  0.00%\n",
       " \n",
       " Statistic                         Value\n",
       " -------------------------  ------------\n",
       " count                       1.94692e+06\n",
       " min                         0\n",
       " 1%                          0\n",
       " 5%                          0\n",
       " 25%                         0\n",
       " 50%                         0\n",
       " 75%                         0\n",
       " 95%                         0\n",
       " 99%                         0\n",
       " max                         8\n",
       " median                      0\n",
       " mean                        0.00139399\n",
       " median absolute deviation   0\n",
       " standard deviation          0.0393732\n",
       " skew                       35.0007\n",
       " ,\n",
       " NUMBER OF PEDESTRIANS KILLED Info\n",
       " -----------------------------------  -------\n",
       " Data Type                            int64\n",
       " Count                                1946954\n",
       " Unique Values                        4\n",
       " Null Values                          0\n",
       " \n",
       "   Value    Count  % of total\n",
       " -------  -------  ------------\n",
       "       0  1945591  99.93%\n",
       "       1     1350  0.07%\n",
       "       2       12  0.00%\n",
       "       6        1  0.00%\n",
       " \n",
       " Statistic                         Value\n",
       " -------------------------  ------------\n",
       " count                       1.94695e+06\n",
       " min                         0\n",
       " 1%                          0\n",
       " 5%                          0\n",
       " 25%                         0\n",
       " 50%                         0\n",
       " 75%                         0\n",
       " 95%                         0\n",
       " 99%                         0\n",
       " max                         6\n",
       " median                      0\n",
       " mean                        0.000708799\n",
       " median absolute deviation   0\n",
       " standard deviation          0.0271299\n",
       " skew                       42.671\n",
       " ,\n",
       " NUMBER OF CYCLIST KILLED Info\n",
       " -------------------------------  -------\n",
       " Data Type                        int64\n",
       " Count                            1946954\n",
       " Unique Values                    3\n",
       " Null Values                      0\n",
       " \n",
       "   Value    Count  % of total\n",
       " -------  -------  ------------\n",
       "       0  1946755  99.99%\n",
       "       1      198  0.01%\n",
       "       2        1  0.00%\n",
       " \n",
       " Statistic                          Value\n",
       " -------------------------  -------------\n",
       " count                        1.94695e+06\n",
       " min                          0\n",
       " 1%                           0\n",
       " 5%                           0\n",
       " 25%                          0\n",
       " 50%                          0\n",
       " 75%                          0\n",
       " 95%                          0\n",
       " 99%                          0\n",
       " max                          2\n",
       " median                       0\n",
       " mean                         0.000102725\n",
       " median absolute deviation    0\n",
       " standard deviation           0.0101853\n",
       " skew                       100.104\n",
       " ,\n",
       " NUMBER OF MOTORIST KILLED Info\n",
       " --------------------------------  -------\n",
       " Data Type                         int64\n",
       " Count                             1946954\n",
       " Unique Values                     6\n",
       " Null Values                       0\n",
       " \n",
       "   Value    Count  % of total\n",
       " -------  -------  ------------\n",
       "       0  1945935  99.95%\n",
       "       1      955  0.05%\n",
       "       2       50  0.00%\n",
       "       3       11  0.00%\n",
       "       4        2  0.00%\n",
       "       5        1  0.00%\n",
       " \n",
       " Statistic                         Value\n",
       " -------------------------  ------------\n",
       " count                       1.94695e+06\n",
       " min                         0\n",
       " 1%                          0\n",
       " 5%                          0\n",
       " 25%                         0\n",
       " 50%                         0\n",
       " 75%                         0\n",
       " 95%                         0\n",
       " 99%                         0\n",
       " max                         5\n",
       " median                      0\n",
       " mean                        0.000565499\n",
       " median absolute deviation   0\n",
       " standard deviation          0.025943\n",
       " skew                       55.9721\n",
       " )"
      ]
     },
     "execution_count": 10,
     "metadata": {},
     "output_type": "execute_result"
    }
   ],
   "source": [
    "killed_report = ph.SeriesProfile(data[\"NUMBER OF PERSONS KILLED\"])\n",
    "pedestrian_killed_report = ph.SeriesProfile(data[\"NUMBER OF PEDESTRIANS KILLED\"])\n",
    "cyclist_killed_report = ph.SeriesProfile(data[\"NUMBER OF CYCLIST KILLED\"])\n",
    "motorist_killed_report = ph.SeriesProfile(data[\"NUMBER OF MOTORIST KILLED\"])\n",
    "killed_report, pedestrian_killed_report, cyclist_killed_report, motorist_killed_report"
   ]
  },
  {
   "cell_type": "markdown",
   "id": "908c5be8",
   "metadata": {},
   "source": [
    "__A few observations (< 50) are missing the the total number of people killed.__\n",
    "\n",
    "There are no missing values for the individual pedestrian, cyclist, and motorist killed fields"
   ]
  },
  {
   "cell_type": "code",
   "execution_count": 11,
   "id": "2a8f8f4e",
   "metadata": {
    "scrolled": true
   },
   "outputs": [
    {
     "data": {
      "text/plain": [
       "(CONTRIBUTING FACTOR VEHICLE 1 Info\n",
       " ------------------------------------  -------\n",
       " Data Type                             object\n",
       " Count                                 1941055\n",
       " Unique Values                         61\n",
       " Null Values                           5899\n",
       " \n",
       " Value                             Count  % of total\n",
       " ------------------------------  -------  ------------\n",
       " Unspecified                      675976  34.83%\n",
       " Driver Inattention/Distraction   383393  19.75%\n",
       " Failure to Yield Right-of-Way    114295  5.89%\n",
       " Following Too Closely            102899  5.30%\n",
       " Backing Unsafely                  72856  3.75%\n",
       " Other Vehicular                   60542  3.12%\n",
       " Passing or Lane Usage Improper    52232  2.69%\n",
       " Turning Improperly                48249  2.49%\n",
       " Passing Too Closely               47397  2.44%\n",
       " Fatigued/Drowsy                   47270  2.44%\n",
       " Unsafe Lane Changing              38258  1.97%\n",
       " Traffic Control Disregarded       33105  1.71%\n",
       " Driver Inexperience               29743  1.53%\n",
       " Unsafe Speed                      24093  1.24%\n",
       " Alcohol Involvement               20343  1.05%\n",
       " Lost Consciousness                20227  1.04%\n",
       " Pavement Slippery                 18851  0.97%\n",
       " Reaction to Uninvolved Vehicle    18664  0.96%\n",
       " Prescription Medication           15392  0.79%\n",
       " View Obstructed/Limited           12619  0.65%\n",
       " Cell Phone (hand-held)               79  0.00%\n",
       " Windshield Inadequate                74  0.00%\n",
       " Texting                              46  0.00%\n",
       " Listening/Using Headphones           24  0.00%\n",
       " 1                                    10  0.00%\n",
       " \n",
       " \n",
       " ,\n",
       " CONTRIBUTING FACTOR VEHICLE 2 Info\n",
       " ------------------------------------  -------\n",
       " Data Type                             object\n",
       " Count                                 1655643\n",
       " Unique Values                         61\n",
       " Null Values                           291311\n",
       " \n",
       " Value                             Count  % of total\n",
       " ------------------------------  -------  ------------\n",
       " Unspecified                     1393909  84.19%\n",
       " Driver Inattention/Distraction    88522  5.35%\n",
       " Other Vehicular                   30525  1.84%\n",
       " Following Too Closely             17498  1.06%\n",
       " Failure to Yield Right-of-Way     16308  0.98%\n",
       " Passing or Lane Usage Improper    11881  0.72%\n",
       " Fatigued/Drowsy                   10833  0.65%\n",
       " Turning Improperly                 8455  0.51%\n",
       " Passing Too Closely                8164  0.49%\n",
       " Backing Unsafely                   7678  0.46%\n",
       " Traffic Control Disregarded        6721  0.41%\n",
       " Unsafe Lane Changing               6354  0.38%\n",
       " Driver Inexperience                6312  0.38%\n",
       " Lost Consciousness                 5228  0.32%\n",
       " Unsafe Speed                       4537  0.27%\n",
       " Pavement Slippery                  3943  0.24%\n",
       " Reaction to Uninvolved Vehicle     3126  0.19%\n",
       " Prescription Medication            3020  0.18%\n",
       " View Obstructed/Limited            2922  0.18%\n",
       " Outside Car Distraction            2523  0.15%\n",
       " Listening/Using Headphones           10  0.00%\n",
       " Eating or Drinking                    9  0.00%\n",
       " Windshield Inadequate                 7  0.00%\n",
       " 1                                     5  0.00%\n",
       " Texting                               3  0.00%\n",
       " \n",
       " \n",
       " ,\n",
       " CONTRIBUTING FACTOR VEHICLE 3 Info\n",
       " ------------------------------------  -------\n",
       " Data Type                             object\n",
       " Count                                 136422\n",
       " Unique Values                         51\n",
       " Null Values                           1810532\n",
       " \n",
       " Value                             Count  % of total\n",
       " ------------------------------  -------  ------------\n",
       " Unspecified                      127169  93.22%\n",
       " Other Vehicular                    2530  1.85%\n",
       " Driver Inattention/Distraction     1803  1.32%\n",
       " Following Too Closely              1743  1.28%\n",
       " Fatigued/Drowsy                     853  0.63%\n",
       " Pavement Slippery                   371  0.27%\n",
       " Reaction to Uninvolved Vehicle      195  0.14%\n",
       " Driver Inexperience                 169  0.12%\n",
       " Outside Car Distraction             158  0.12%\n",
       " Traffic Control Disregarded         150  0.11%\n",
       " Failure to Yield Right-of-Way       140  0.10%\n",
       " Unsafe Speed                        132  0.10%\n",
       " Passing or Lane Usage Improper       96  0.07%\n",
       " Alcohol Involvement                  95  0.07%\n",
       " Backing Unsafely                     92  0.07%\n",
       " Turning Improperly                   74  0.05%\n",
       " Unsafe Lane Changing                 65  0.05%\n",
       " Obstruction/Debris                   64  0.05%\n",
       " Fell Asleep                          58  0.04%\n",
       " Passing Too Closely                  46  0.03%\n",
       " Eating or Drinking                    1  0.00%\n",
       " Cell Phone (hand-Held)                1  0.00%\n",
       " 1                                     1  0.00%\n",
       " Tinted Windows                        1  0.00%\n",
       " Illnes                                1  0.00%\n",
       " \n",
       " \n",
       " ,\n",
       " CONTRIBUTING FACTOR VEHICLE 4 Info\n",
       " ------------------------------------  -------\n",
       " Data Type                             object\n",
       " Count                                 30323\n",
       " Unique Values                         40\n",
       " Null Values                           1916631\n",
       " \n",
       " Value                             Count  % of total\n",
       " ------------------------------  -------  ------------\n",
       " Unspecified                       28621  94.39%\n",
       " Other Vehicular                     539  1.78%\n",
       " Following Too Closely               340  1.12%\n",
       " Driver Inattention/Distraction      248  0.82%\n",
       " Fatigued/Drowsy                     170  0.56%\n",
       " Pavement Slippery                   106  0.35%\n",
       " Reaction to Uninvolved Vehicle       38  0.13%\n",
       " Unsafe Speed                         26  0.09%\n",
       " Outside Car Distraction              26  0.09%\n",
       " Driver Inexperience                  24  0.08%\n",
       " Traffic Control Disregarded          22  0.07%\n",
       " Fell Asleep                          19  0.06%\n",
       " Alcohol Involvement                  19  0.06%\n",
       " Obstruction/Debris                   18  0.06%\n",
       " Failure to Yield Right-of-Way        16  0.05%\n",
       " Passing or Lane Usage Improper        9  0.03%\n",
       " Backing Unsafely                      9  0.03%\n",
       " Other Electronic Device               9  0.03%\n",
       " Brakes Defective                      7  0.02%\n",
       " Failure to Keep Right                 7  0.02%\n",
       " Glare                                 1  0.00%\n",
       " Animals Action                        1  0.00%\n",
       " Steering Failure                      1  0.00%\n",
       " Windshield Inadequate                 1  0.00%\n",
       " Tire Failure/Inadequate               1  0.00%\n",
       " \n",
       " \n",
       " ,\n",
       " CONTRIBUTING FACTOR VEHICLE 5 Info\n",
       " ------------------------------------  -------\n",
       " Data Type                             object\n",
       " Count                                 8128\n",
       " Unique Values                         29\n",
       " Null Values                           1938826\n",
       " \n",
       " Value                                          Count  % of total\n",
       " -------------------------------------------  -------  ------------\n",
       " Unspecified                                     7666  94.32%\n",
       " Other Vehicular                                  158  1.94%\n",
       " Following Too Closely                             81  1.00%\n",
       " Driver Inattention/Distraction                    59  0.73%\n",
       " Pavement Slippery                                 44  0.54%\n",
       " Fatigued/Drowsy                                   41  0.50%\n",
       " Reaction to Uninvolved Vehicle                    11  0.14%\n",
       " Alcohol Involvement                               10  0.12%\n",
       " Driver Inexperience                                9  0.11%\n",
       " Unsafe Speed                                       7  0.09%\n",
       " Obstruction/Debris                                 7  0.09%\n",
       " Outside Car Distraction                            6  0.07%\n",
       " Failure to Yield Right-of-Way                      5  0.06%\n",
       " Fell Asleep                                        3  0.04%\n",
       " Traffic Control Disregarded                        3  0.04%\n",
       " Drugs (illegal)                                    2  0.02%\n",
       " Failure to Keep Right                              2  0.02%\n",
       " Passing Too Closely                                2  0.02%\n",
       " Other Electronic Device                            2  0.02%\n",
       " Brakes Defective                                   1  0.01%\n",
       " Illness                                            1  0.01%\n",
       " Passing or Lane Usage Improper                     1  0.01%\n",
       " Tire Failure/Inadequate                            1  0.01%\n",
       " Pavement Defective                                 1  0.01%\n",
       " Traffic Control Device Improper/Non-Working        1  0.01%\n",
       " \n",
       " \n",
       " )"
      ]
     },
     "execution_count": 11,
     "metadata": {},
     "output_type": "execute_result"
    }
   ],
   "source": [
    "factor1_report = ph.SeriesProfile(data[\"CONTRIBUTING FACTOR VEHICLE 1\"])\n",
    "factor2_report = ph.SeriesProfile(data[\"CONTRIBUTING FACTOR VEHICLE 2\"])\n",
    "factor3_report = ph.SeriesProfile(data[\"CONTRIBUTING FACTOR VEHICLE 3\"])\n",
    "factor4_report = ph.SeriesProfile(data[\"CONTRIBUTING FACTOR VEHICLE 4\"])\n",
    "factor5_report = ph.SeriesProfile(data[\"CONTRIBUTING FACTOR VEHICLE 5\"])\n",
    "factor1_report, factor2_report, factor3_report, factor4_report, factor5_report"
   ]
  },
  {
   "cell_type": "markdown",
   "id": "8b8286e0",
   "metadata": {},
   "source": [
    "__The 'CONTRIBUTING FACTOR VEHICLE' fields seem to have some issues__\n",
    "- \"Unspecified\" is the most common response\n",
    "- They are not mutually exclusive and in some cases, difficult to differentiate. For example: 'Passing or Lane Usage Improper' vs 'Passing Too Closely'\n",
    "- Without knowing more about the processes that generated these _'contributing factor'_ fields, it would be difficult to use them with confidence"
   ]
  },
  {
   "cell_type": "code",
   "execution_count": 12,
   "id": "40426162",
   "metadata": {
    "scrolled": true
   },
   "outputs": [
    {
     "data": {
      "text/plain": [
       "(VEHICLE TYPE CODE 1 Info\n",
       " --------------------------  -------\n",
       " Data Type                   object\n",
       " Count                       1935411\n",
       " Unique Values               1449\n",
       " Null Values                 11543\n",
       " \n",
       " Value                                  Count  % of total\n",
       " -----------------------------------  -------  ------------\n",
       " Sedan                                 517669  26.75%\n",
       " PASSENGER VEHICLE                     416206  21.50%\n",
       " Station Wagon/Sport Utility Vehicle   408924  21.13%\n",
       " SPORT UTILITY / STATION WAGON         180291  9.32%\n",
       " Taxi                                   48128  2.49%\n",
       " 4 dr sedan                             40134  2.07%\n",
       " TAXI                                   31911  1.65%\n",
       " Pick-up Truck                          31786  1.64%\n",
       " VAN                                    25266  1.31%\n",
       " OTHER                                  22967  1.19%\n",
       " Box Truck                              22274  1.15%\n",
       " UNKNOWN                                19935  1.03%\n",
       " Bus                                    19096  0.99%\n",
       " LARGE COM VEH(6 OR MORE TIRES)         14397  0.74%\n",
       " BUS                                    13993  0.72%\n",
       " SMALL COM VEH(4 TIRES)                 13216  0.68%\n",
       " Bike                                   12739  0.66%\n",
       " PICK-UP TRUCK                          11505  0.59%\n",
       " LIVERY VEHICLE                         10481  0.54%\n",
       " Tractor Truck Diesel                    9509  0.49%\n",
       " SUBN WHI                                   1  0.00%\n",
       " E bike                                     1  0.00%\n",
       " FDNY Fire                                  1  0.00%\n",
       " CARGO VAN                                  1  0.00%\n",
       " E BIKE                                     1  0.00%\n",
       " \n",
       " \n",
       " ,\n",
       " VEHICLE TYPE CODE 2 Info\n",
       " --------------------------  -------\n",
       " Data Type                   object\n",
       " Count                       1593995\n",
       " Unique Values               1617\n",
       " Null Values                 352959\n",
       " \n",
       " Value                                  Count  % of total\n",
       " -----------------------------------  -------  ------------\n",
       " Sedan                                 369604  23.19%\n",
       " PASSENGER VEHICLE                     318607  19.99%\n",
       " Station Wagon/Sport Utility Vehicle   300668  18.86%\n",
       " SPORT UTILITY / STATION WAGON         140204  8.80%\n",
       " UNKNOWN                                81486  5.11%\n",
       " Taxi                                   35821  2.25%\n",
       " 4 dr sedan                             30069  1.89%\n",
       " Pick-up Truck                          29072  1.82%\n",
       " TAXI                                   27702  1.74%\n",
       " Bike                                   27100  1.70%\n",
       " Box Truck                              25344  1.59%\n",
       " VAN                                    22769  1.43%\n",
       " OTHER                                  21691  1.36%\n",
       " BICYCLE                                18554  1.16%\n",
       " Bus                                    17006  1.07%\n",
       " LARGE COM VEH(6 OR MORE TIRES)         13687  0.86%\n",
       " SMALL COM VEH(4 TIRES)                 12962  0.81%\n",
       " BUS                                    11502  0.72%\n",
       " PICK-UP TRUCK                          10672  0.67%\n",
       " Tractor Truck Diesel                    9264  0.58%\n",
       " EC3                                        1  0.00%\n",
       " E SKATEBOA                                 1  0.00%\n",
       " PRIV AMBUL                                 1  0.00%\n",
       " Liebh                                      1  0.00%\n",
       " White box                                  1  0.00%\n",
       " \n",
       " \n",
       " ,\n",
       " VEHICLE TYPE CODE 3 Info\n",
       " --------------------------  -------\n",
       " Data Type                   object\n",
       " Count                       131912\n",
       " Unique Values               230\n",
       " Null Values                 1815042\n",
       " \n",
       " Value                                  Count  % of total\n",
       " -----------------------------------  -------  ------------\n",
       " Sedan                                  39156  29.68%\n",
       " Station Wagon/Sport Utility Vehicle    31636  23.98%\n",
       " PASSENGER VEHICLE                      27713  21.01%\n",
       " SPORT UTILITY / STATION WAGON          13358  10.13%\n",
       " UNKNOWN                                 3283  2.49%\n",
       " 4 dr sedan                              2561  1.94%\n",
       " Taxi                                    2050  1.55%\n",
       " Pick-up Truck                           1976  1.50%\n",
       " VAN                                     1366  1.04%\n",
       " OTHER                                   1045  0.79%\n",
       " TAXI                                     980  0.74%\n",
       " Box Truck                                727  0.55%\n",
       " PICK-UP TRUCK                            619  0.47%\n",
       " Bus                                      463  0.35%\n",
       " LARGE COM VEH(6 OR MORE TIRES)           441  0.33%\n",
       " SMALL COM VEH(4 TIRES)                   435  0.33%\n",
       " LIVERY VEHICLE                           424  0.32%\n",
       " Bike                                     401  0.30%\n",
       " BUS                                      395  0.30%\n",
       " Motorcycle                               347  0.26%\n",
       " E-BIKE                                     1  0.00%\n",
       " CARGO VAN                                  1  0.00%\n",
       " UNATTACHED                                 1  0.00%\n",
       " MTA BUS                                    1  0.00%\n",
       " Rental van                                 1  0.00%\n",
       " \n",
       " \n",
       " ,\n",
       " VEHICLE TYPE CODE 4 Info\n",
       " --------------------------  -------\n",
       " Data Type                   object\n",
       " Count                       29346\n",
       " Unique Values               90\n",
       " Null Values                 1917608\n",
       " \n",
       " Value                                  Count  % of total\n",
       " -----------------------------------  -------  ------------\n",
       " Sedan                                   9338  31.82%\n",
       " Station Wagon/Sport Utility Vehicle     7591  25.87%\n",
       " PASSENGER VEHICLE                       5969  20.34%\n",
       " SPORT UTILITY / STATION WAGON           2852  9.72%\n",
       " UNKNOWN                                  595  2.03%\n",
       " 4 dr sedan                               566  1.93%\n",
       " Pick-up Truck                            416  1.42%\n",
       " Taxi                                     407  1.39%\n",
       " VAN                                      242  0.82%\n",
       " OTHER                                    189  0.64%\n",
       " TAXI                                     144  0.49%\n",
       " PICK-UP TRUCK                            112  0.38%\n",
       " Box Truck                                104  0.35%\n",
       " Bus                                       87  0.30%\n",
       " Motorcycle                                66  0.22%\n",
       " LARGE COM VEH(6 OR MORE TIRES)            58  0.20%\n",
       " Van                                       56  0.19%\n",
       " SMALL COM VEH(4 TIRES)                    56  0.19%\n",
       " LIVERY VEHICLE                            54  0.18%\n",
       " BUS                                       52  0.18%\n",
       " FDNY                                       1  0.00%\n",
       " TLR                                        1  0.00%\n",
       " TOYOT                                      1  0.00%\n",
       " SPRIN                                      1  0.00%\n",
       " PICK UP TR                                 1  0.00%\n",
       " \n",
       " \n",
       " ,\n",
       " VEHICLE TYPE CODE 5 Info\n",
       " --------------------------  -------\n",
       " Data Type                   object\n",
       " Count                       7893\n",
       " Unique Values               63\n",
       " Null Values                 1939061\n",
       " \n",
       " Value                                  Count  % of total\n",
       " -----------------------------------  -------  ------------\n",
       " Sedan                                   2594  32.86%\n",
       " Station Wagon/Sport Utility Vehicle     2135  27.05%\n",
       " PASSENGER VEHICLE                       1487  18.84%\n",
       " SPORT UTILITY / STATION WAGON            802  10.16%\n",
       " Pick-up Truck                            137  1.74%\n",
       " 4 dr sedan                               123  1.56%\n",
       " Taxi                                      97  1.23%\n",
       " UNKNOWN                                   94  1.19%\n",
       " VAN                                       50  0.63%\n",
       " OTHER                                     49  0.62%\n",
       " Box Truck                                 32  0.41%\n",
       " PICK-UP TRUCK                             31  0.39%\n",
       " TAXI                                      31  0.39%\n",
       " Van                                       22  0.28%\n",
       " Motorcycle                                19  0.24%\n",
       " Bus                                       17  0.22%\n",
       " 2 dr sedan                                14  0.18%\n",
       " Convertible                               14  0.18%\n",
       " LARGE COM VEH(6 OR MORE TIRES)            13  0.16%\n",
       " Bike                                      13  0.16%\n",
       " Bulk Agriculture                           1  0.01%\n",
       " Flat Rack                                  1  0.01%\n",
       " OML                                        1  0.01%\n",
       " dump                                       1  0.01%\n",
       " TRAILER                                    1  0.01%\n",
       " \n",
       " \n",
       " )"
      ]
     },
     "execution_count": 12,
     "metadata": {},
     "output_type": "execute_result"
    }
   ],
   "source": [
    "vtype1_report = ph.SeriesProfile(data[\"VEHICLE TYPE CODE 1\"])\n",
    "vtype2_report = ph.SeriesProfile(data[\"VEHICLE TYPE CODE 2\"])\n",
    "vtype3_report = ph.SeriesProfile(data[\"VEHICLE TYPE CODE 3\"])\n",
    "vtype4_report = ph.SeriesProfile(data[\"VEHICLE TYPE CODE 4\"])\n",
    "vtype5_report = ph.SeriesProfile(data[\"VEHICLE TYPE CODE 5\"])\n",
    "vtype1_report, vtype2_report, vtype3_report, vtype4_report, vtype5_report"
   ]
  },
  {
   "cell_type": "markdown",
   "id": "67fcfca4",
   "metadata": {},
   "source": [
    "__Vehicle type categories are somewhat unclear__\n",
    "- \"Passenger vehicle\" is one of the biggest categories. What does 'passenger vehicle' mean given that there are already categories for sedans and SUVs?"
   ]
  },
  {
   "cell_type": "markdown",
   "id": "1ed343a4",
   "metadata": {},
   "source": [
    "# Are there significant gaps in data collection over time?"
   ]
  },
  {
   "cell_type": "markdown",
   "id": "fe824301",
   "metadata": {},
   "source": [
    "Adding a datetime column to make temporal analysis easier"
   ]
  },
  {
   "cell_type": "code",
   "execution_count": 13,
   "id": "5c3c5a85",
   "metadata": {},
   "outputs": [],
   "source": [
    "dt_format = \"%m/%d/%Y %H:%M\"\n",
    "data[\"datetime\"] = data[\"CRASH DATE\"] + \" \" + data[\"CRASH TIME\"]\n",
    "data[\"datetime\"] = data[\"datetime\"].apply(lambda x: datetime.strptime(x, dt_format))"
   ]
  },
  {
   "cell_type": "markdown",
   "id": "1b02dbf2",
   "metadata": {},
   "source": [
    "Examining daily collisions, injuries, and deaths to check to gaps in the data"
   ]
  },
  {
   "cell_type": "code",
   "execution_count": 14,
   "id": "26cc8dc7",
   "metadata": {},
   "outputs": [],
   "source": [
    "daily_collisions = data.groupby(by=data[\"datetime\"].dt.date)[\"COLLISION_ID\"].count()\n",
    "daily_injuries = data.groupby(by=data[\"datetime\"].dt.date)[\n",
    "    \"NUMBER OF PERSONS INJURED\"\n",
    "].sum()\n",
    "daily_deaths = data.groupby(by=data[\"datetime\"].dt.date)[\n",
    "    \"NUMBER OF PERSONS KILLED\"\n",
    "].sum()"
   ]
  },
  {
   "cell_type": "code",
   "execution_count": 15,
   "id": "a6175f94",
   "metadata": {},
   "outputs": [
    {
     "data": {
      "image/png": "[encoded data removed]",
      "text/plain": [
       "<Figure size 1296x720 with 1 Axes>"
      ]
     },
     "metadata": {
      "needs_background": "light"
     },
     "output_type": "display_data"
    }
   ],
   "source": [
    "fig, ax = plt.subplots()\n",
    "fig.set_size_inches((18, 10))\n",
    "ax.set_title(\"Daily NYC Vehicle Collisions, Injuries, and Deaths\", fontsize=20)\n",
    "ax.set_xlabel(\"Year\", fontsize=16, labelpad=10)\n",
    "ax.set_ylabel(\"Daily Sum\\n(log scale)\", fontsize=16, rotation=0, labelpad=25)\n",
    "ax.tick_params(axis=\"both\", which=\"major\", labelsize=14)\n",
    "ax.set_yscale(\"log\")\n",
    "ax.yaxis.set_major_formatter(\"{x:.0f}\")\n",
    "ax.scatter(y=daily_collisions, x=daily_collisions.index, s=4)  # s is marker size\n",
    "ax.scatter(y=daily_injuries, x=daily_injuries.index, s=4)\n",
    "ax.scatter(y=daily_deaths, x=daily_deaths.index, s=4)\n",
    "ax.legend([\"Collisions\", \"Injuries\", \"Deaths\"], fontsize=14, markerscale=3)\n",
    "plt.show()"
   ]
  },
  {
   "cell_type": "code",
   "execution_count": 16,
   "id": "45967bd1",
   "metadata": {},
   "outputs": [
    {
     "data": {
      "image/png": "[encoded data removed]",
      "text/plain": [
       "<Figure size 1800x1000 with 1 Axes>"
      ]
     },
     "metadata": {},
     "output_type": "display_data"
    }
   ],
   "source": [
    "annual = pd.DataFrame()\n",
    "annual[\"Collisions\"] = data.groupby(by=data[\"datetime\"].dt.year)[\"COLLISION_ID\"].count()\n",
    "annual[\"Injured\"] = data.groupby(by=data[\"datetime\"].dt.year)[\n",
    "    \"NUMBER OF PERSONS INJURED\"\n",
    "].sum()\n",
    "annual[\"Deaths\"] = data.groupby(by=data[\"datetime\"].dt.year)[\n",
    "    \"NUMBER OF PERSONS KILLED\"\n",
    "].sum()\n",
    "annual_labels = {\n",
    "    \"title\": \"Annual NYC Vehicle Collisions, Injuries, and Deaths\",\n",
    "    \"y_label\": \"(log scale)\",\n",
    "    \"x_label\": \"Year\",\n",
    "}\n",
    "groups = [\n",
    "    \"Collisions\",\n",
    "    \"Injuries\",\n",
    "    \"Deaths\",\n",
    "]\n",
    "viz.make_grouped_bar_chart(\n",
    "    annual,\n",
    "    **annual_labels,\n",
    "    legend_labels=groups,\n",
    "    colors=viz.CYCLE_COLORS,\n",
    "    legend_handleheight=2.0,\n",
    "    bar_label_bbox={\"facecolor\": \"white\", \"edgecolor\": \"none\", \"alpha\": 0.8},\n",
    "    logscale=True,\n",
    "    minor_ticks_off=True,\n",
    "    ylabel_rotation=\"vertical\",\n",
    "    ylabel_pad=10,\n",
    "    legend_bbox=(1.02, 0.9),\n",
    ")"
   ]
  },
  {
   "cell_type": "code",
   "execution_count": 17,
   "id": "22aa6a45",
   "metadata": {},
   "outputs": [
    {
     "data": {
      "text/plain": [
       "(Timestamp('2012-07-01 00:05:00'), Timestamp('2022-11-19 23:58:00'))"
      ]
     },
     "execution_count": 17,
     "metadata": {},
     "output_type": "execute_result"
    }
   ],
   "source": [
    "data[\"datetime\"].min(), data[\"datetime\"].max()"
   ]
  },
  {
   "cell_type": "markdown",
   "id": "41dac481",
   "metadata": {},
   "source": [
    "- __There does not appear to a significant gap in data collection going back to the start of the data set (July 2012)__\n",
    "- __Fatal collisions are a small percentage of the dataset. Collisions with injuries are more common__\n",
    "- __Let's limit the scope of analysis to 1 January 2013 to 31 December 2021, a 9 year span, for reproducibility purposes__"
   ]
  },
  {
   "cell_type": "code",
   "execution_count": 18,
   "id": "ae351ba3",
   "metadata": {},
   "outputs": [
    {
     "data": {
      "text/plain": [
       "(Timestamp('2013-01-01 00:01:00'), Timestamp('2021-12-31 23:57:00'))"
      ]
     },
     "execution_count": 18,
     "metadata": {},
     "output_type": "execute_result"
    }
   ],
   "source": [
    "start = datetime(year=2013, month=1, day=1)\n",
    "end = datetime(year=2022, month=1, day=1)\n",
    "crashes = data[data[\"datetime\"].between(start, end, inclusive=\"left\")].copy()\n",
    "crashes[\"datetime\"].min(), crashes[\"datetime\"].max()"
   ]
  },
  {
   "cell_type": "markdown",
   "id": "ff831fc9",
   "metadata": {},
   "source": [
    "# Does 'NUMBER OF PERSONS INJURED' match the separate 'INJURED' categories?"
   ]
  },
  {
   "cell_type": "code",
   "execution_count": 19,
   "id": "2e537552",
   "metadata": {},
   "outputs": [
    {
     "data": {
      "text/plain": [
       "2745"
      ]
     },
     "execution_count": 19,
     "metadata": {},
     "output_type": "execute_result"
    }
   ],
   "source": [
    "crashes[\"sum injured categories\"] = (\n",
    "    crashes[\"NUMBER OF PEDESTRIANS INJURED\"]\n",
    "    + crashes[\"NUMBER OF CYCLIST INJURED\"]\n",
    "    + crashes[\"NUMBER OF MOTORIST INJURED\"]\n",
    ")\n",
    "num_mismatch = len(\n",
    "    crashes[crashes[\"sum injured categories\"] != crashes[\"NUMBER OF PERSONS INJURED\"]]\n",
    ")\n",
    "num_mismatch"
   ]
  },
  {
   "cell_type": "code",
   "execution_count": 20,
   "id": "9ad525d8",
   "metadata": {},
   "outputs": [
    {
     "data": {
      "text/plain": [
       "0.0015642781554396704"
      ]
     },
     "execution_count": 20,
     "metadata": {},
     "output_type": "execute_result"
    }
   ],
   "source": [
    "num_mismatch / len(crashes)"
   ]
  },
  {
   "cell_type": "markdown",
   "id": "587868a1",
   "metadata": {},
   "source": [
    "There do appear to be ~2700 collisions (or < 0.2% of total collisions) where the 'NUMBER OF PERSONS INJURED' field does not match the sum of the distinct injured categories (pedestrian, cyclist, motorist)"
   ]
  },
  {
   "cell_type": "code",
   "execution_count": 21,
   "id": "5f8cf5db",
   "metadata": {
    "scrolled": false
   },
   "outputs": [
    {
     "data": {
      "text/plain": [
       "2412.0"
      ]
     },
     "execution_count": 21,
     "metadata": {},
     "output_type": "execute_result"
    }
   ],
   "source": [
    "total_injured = crashes[\"NUMBER OF PERSONS INJURED\"].sum()\n",
    "difference = (\n",
    "    crashes[\"NUMBER OF PERSONS INJURED\"].sum() - crashes[\"sum injured categories\"].sum()\n",
    ")\n",
    "difference"
   ]
  },
  {
   "cell_type": "code",
   "execution_count": 22,
   "id": "1dfe619e",
   "metadata": {},
   "outputs": [
    {
     "data": {
      "text/plain": [
       "0.004839505776507932"
      ]
     },
     "execution_count": 22,
     "metadata": {},
     "output_type": "execute_result"
    }
   ],
   "source": [
    "(difference / total_injured)"
   ]
  },
  {
   "cell_type": "markdown",
   "id": "0649abcf",
   "metadata": {},
   "source": [
    "- The cumulative discrepancy between the 'NUMBER OF PERSONS INJURED' field and the sum of the distinct injury fields (pedestrian, cyclist, motorist) is ~2400 injuries or < 0.5%\n",
    "- __Given the relatively small difference, we will use the separate 'injury' fields in our analyses going forward__\n"
   ]
  },
  {
   "cell_type": "markdown",
   "id": "6d308884",
   "metadata": {},
   "source": [
    "# Does 'NUMBER OF PERSONS KILLED' match the separate 'KILLED' categories?"
   ]
  },
  {
   "cell_type": "code",
   "execution_count": 23,
   "id": "3c0d5275",
   "metadata": {},
   "outputs": [
    {
     "data": {
      "text/plain": [
       "57"
      ]
     },
     "execution_count": 23,
     "metadata": {},
     "output_type": "execute_result"
    }
   ],
   "source": [
    "crashes[\"sum killed categories\"] = (\n",
    "    crashes[\"NUMBER OF PEDESTRIANS KILLED\"]\n",
    "    + crashes[\"NUMBER OF CYCLIST KILLED\"]\n",
    "    + crashes[\"NUMBER OF MOTORIST KILLED\"]\n",
    ")\n",
    "len(crashes[crashes[\"sum killed categories\"] != crashes[\"NUMBER OF PERSONS KILLED\"]])"
   ]
  },
  {
   "cell_type": "code",
   "execution_count": 24,
   "id": "8a47744c",
   "metadata": {},
   "outputs": [
    {
     "data": {
      "text/plain": [
       "14.0"
      ]
     },
     "execution_count": 24,
     "metadata": {},
     "output_type": "execute_result"
    }
   ],
   "source": [
    "total_killed = crashes[\"NUMBER OF PERSONS KILLED\"].sum()\n",
    "difference_deaths = (\n",
    "    crashes[\"NUMBER OF PERSONS KILLED\"].sum() - crashes[\"sum killed categories\"].sum()\n",
    ")\n",
    "difference_deaths"
   ]
  },
  {
   "cell_type": "code",
   "execution_count": 25,
   "id": "a1f5d702",
   "metadata": {},
   "outputs": [
    {
     "data": {
      "text/plain": [
       "0.00598035027765912"
      ]
     },
     "execution_count": 25,
     "metadata": {},
     "output_type": "execute_result"
    }
   ],
   "source": [
    "(difference_deaths / total_killed)"
   ]
  },
  {
   "cell_type": "markdown",
   "id": "53efc9f7",
   "metadata": {},
   "source": [
    "- There are ~60 collisions with differences between the 'NUMBER OF PERSONS KILLED' field and the sum of the separate killed fields (pedestrian, cyclist, motorist). The 14 death discrepancy represents a small percent of the total deaths (< 0.6%)\n",
    "\n",
    "- __Once again given the relatively small difference, we will use the separate 'killed' fields in our analyses going forward__"
   ]
  },
  {
   "cell_type": "markdown",
   "id": "ad73515e",
   "metadata": {},
   "source": [
    "# Are many serious collisions missing location information? \n",
    "\n",
    "- We define _serious_ as a collision that results in injury or death. \n",
    "- Future analyses will tend to focus on serious collisions"
   ]
  },
  {
   "cell_type": "code",
   "execution_count": 26,
   "id": "b991bdf5",
   "metadata": {
    "scrolled": true
   },
   "outputs": [],
   "source": [
    "crashes[\"serious_accident\"] = (crashes[\"NUMBER OF PERSONS INJURED\"] > 0) | (\n",
    "    crashes[\"NUMBER OF PERSONS KILLED\"] > 0\n",
    ")\n",
    "crashes[\"lat_long_missing\"] = crashes[\"LOCATION\"].isna()"
   ]
  },
  {
   "cell_type": "code",
   "execution_count": 27,
   "id": "e8023113",
   "metadata": {
    "scrolled": true
   },
   "outputs": [
    {
     "data": {
      "text/plain": [
       "0.885378586656166"
      ]
     },
     "execution_count": 27,
     "metadata": {},
     "output_type": "execute_result"
    }
   ],
   "source": [
    "(len(crashes) - crashes[\"lat_long_missing\"].sum()) / len(crashes)"
   ]
  },
  {
   "cell_type": "markdown",
   "id": "082290ad",
   "metadata": {},
   "source": [
    "~89% of collisions have lat_long coordinates"
   ]
  },
  {
   "cell_type": "code",
   "execution_count": 28,
   "id": "ce810689",
   "metadata": {
    "scrolled": true
   },
   "outputs": [
    {
     "data": {
      "text/html": [
       "<div>\n",
       "<style scoped>\n",
       "    .dataframe tbody tr th:only-of-type {\n",
       "        vertical-align: middle;\n",
       "    }\n",
       "\n",
       "    .dataframe tbody tr th {\n",
       "        vertical-align: top;\n",
       "    }\n",
       "\n",
       "    .dataframe thead th {\n",
       "        text-align: right;\n",
       "    }\n",
       "</style>\n",
       "<table border=\"1\" class=\"dataframe\">\n",
       "  <thead>\n",
       "    <tr style=\"text-align: right;\">\n",
       "      <th>serious_accident</th>\n",
       "      <th>False</th>\n",
       "      <th>True</th>\n",
       "      <th>All</th>\n",
       "    </tr>\n",
       "    <tr>\n",
       "      <th>lat_long_missing</th>\n",
       "      <th></th>\n",
       "      <th></th>\n",
       "      <th></th>\n",
       "    </tr>\n",
       "  </thead>\n",
       "  <tbody>\n",
       "    <tr>\n",
       "      <th>False</th>\n",
       "      <td>0.697970</td>\n",
       "      <td>0.187409</td>\n",
       "      <td>0.885379</td>\n",
       "    </tr>\n",
       "    <tr>\n",
       "      <th>True</th>\n",
       "      <td>0.092150</td>\n",
       "      <td>0.022471</td>\n",
       "      <td>0.114621</td>\n",
       "    </tr>\n",
       "    <tr>\n",
       "      <th>All</th>\n",
       "      <td>0.790119</td>\n",
       "      <td>0.209881</td>\n",
       "      <td>1.000000</td>\n",
       "    </tr>\n",
       "  </tbody>\n",
       "</table>\n",
       "</div>"
      ],
      "text/plain": [
       "serious_accident     False      True       All\n",
       "lat_long_missing                              \n",
       "False             0.697970  0.187409  0.885379\n",
       "True              0.092150  0.022471  0.114621\n",
       "All               0.790119  0.209881  1.000000"
      ]
     },
     "execution_count": 28,
     "metadata": {},
     "output_type": "execute_result"
    }
   ],
   "source": [
    "pd.crosstab(\n",
    "    index=crashes[\"lat_long_missing\"],\n",
    "    columns=crashes[\"serious_accident\"],\n",
    "    margins=True,\n",
    "    normalize=True,\n",
    ")"
   ]
  },
  {
   "cell_type": "code",
   "execution_count": 29,
   "id": "9eb9192b",
   "metadata": {},
   "outputs": [
    {
     "data": {
      "text/plain": [
       "6.3775179428329415e-59"
      ]
     },
     "execution_count": 29,
     "metadata": {},
     "output_type": "execute_result"
    }
   ],
   "source": [
    "contingency_table = pd.crosstab(\n",
    "    index=crashes[\"lat_long_missing\"], columns=crashes[\"serious_accident\"]\n",
    ")\n",
    "chi2_results = scipy.stats.chi2_contingency(contingency_table)\n",
    "p_val = chi2_results[1]\n",
    "p_val"
   ]
  },
  {
   "cell_type": "code",
   "execution_count": 30,
   "id": "e38d4c94",
   "metadata": {},
   "outputs": [
    {
     "data": {
      "text/plain": [
       "0.21167111314215098"
      ]
     },
     "execution_count": 30,
     "metadata": {},
     "output_type": "execute_result"
    }
   ],
   "source": [
    "# col, row indexing\n",
    "percent_with_lat_long_that_are_serious = contingency_table[1][0] / (\n",
    "    contingency_table[0][0] + contingency_table[1][0]\n",
    ")\n",
    "percent_with_lat_long_that_are_serious"
   ]
  },
  {
   "cell_type": "code",
   "execution_count": 31,
   "id": "ba953755",
   "metadata": {},
   "outputs": [
    {
     "data": {
      "text/plain": [
       "0.1960494784675198"
      ]
     },
     "execution_count": 31,
     "metadata": {},
     "output_type": "execute_result"
    }
   ],
   "source": [
    "percent_missing_lat_long_that_are_serious = contingency_table[1][1] / (\n",
    "    contingency_table[0][1] + contingency_table[1][1]\n",
    ")\n",
    "percent_missing_lat_long_that_are_serious"
   ]
  },
  {
   "cell_type": "code",
   "execution_count": 32,
   "id": "82c66fd8",
   "metadata": {},
   "outputs": [
    {
     "data": {
      "text/plain": [
       "0.1070678986367055"
      ]
     },
     "execution_count": 32,
     "metadata": {},
     "output_type": "execute_result"
    }
   ],
   "source": [
    "percent_serious_missing_lat_long = contingency_table[1][1] / (\n",
    "    contingency_table[1][0] + contingency_table[1][1]\n",
    ")\n",
    "percent_serious_missing_lat_long"
   ]
  },
  {
   "cell_type": "markdown",
   "id": "87853bc0",
   "metadata": {},
   "source": [
    "- The p-value of the Chi-squared test is ~0\n",
    "- Using the Chi-squared test, we reject the null hypothesis that the percentage of collisions with injuries is the same for the population with lat-longs coordinates as for the population without lat-longs coordinates\n",
    "- Approximately ~21% of the collisions that have lat-long coordinates are serious (with injuries or deaths)\n",
    "- Approximately ~20% of the collisions that are missing coordinates are serious\n",
    "- Serious collisions seem to be more likely to have lat-long coordinates with than less serious collisions\n",
    "- ___The good news is that an analysis requiring lat-longs will not exclude data with a higher concentration of serious collisions___\n",
    "- ___The bad news is that ~11% of serious accidents will be removed from the dataset by excluding collisions without lat-long coordinates___"
   ]
  },
  {
   "cell_type": "markdown",
   "id": "10a12814",
   "metadata": {},
   "source": [
    "A quick view of some serious accidents that are missing coordinates suggests that a more in-depth analysis could obtain approximate lat-long coordinates for some of the serious accidents based on other location data"
   ]
  },
  {
   "cell_type": "code",
   "execution_count": 33,
   "id": "50156a5c",
   "metadata": {
    "scrolled": false
   },
   "outputs": [
    {
     "data": {
      "text/html": [
       "<div>\n",
       "<style scoped>\n",
       "    .dataframe tbody tr th:only-of-type {\n",
       "        vertical-align: middle;\n",
       "    }\n",
       "\n",
       "    .dataframe tbody tr th {\n",
       "        vertical-align: top;\n",
       "    }\n",
       "\n",
       "    .dataframe thead th {\n",
       "        text-align: right;\n",
       "    }\n",
       "</style>\n",
       "<table border=\"1\" class=\"dataframe\">\n",
       "  <thead>\n",
       "    <tr style=\"text-align: right;\">\n",
       "      <th></th>\n",
       "      <th>ON STREET NAME</th>\n",
       "      <th>CROSS STREET NAME</th>\n",
       "      <th>OFF STREET NAME</th>\n",
       "    </tr>\n",
       "  </thead>\n",
       "  <tbody>\n",
       "    <tr>\n",
       "      <th>0</th>\n",
       "      <td>WHITESTONE EXPRESSWAY</td>\n",
       "      <td>20 AVENUE</td>\n",
       "      <td>NaN</td>\n",
       "    </tr>\n",
       "    <tr>\n",
       "      <th>17</th>\n",
       "      <td>MEEKER AVENUE</td>\n",
       "      <td>LORIMER STREET</td>\n",
       "      <td>NaN</td>\n",
       "    </tr>\n",
       "    <tr>\n",
       "      <th>33</th>\n",
       "      <td>KINGSLAND AVENUE</td>\n",
       "      <td>MEEKER AVENUE</td>\n",
       "      <td>NaN</td>\n",
       "    </tr>\n",
       "    <tr>\n",
       "      <th>36</th>\n",
       "      <td>THROGS NECK BRIDGE</td>\n",
       "      <td>NaN</td>\n",
       "      <td>NaN</td>\n",
       "    </tr>\n",
       "    <tr>\n",
       "      <th>82</th>\n",
       "      <td>OCEAN PARKWAY</td>\n",
       "      <td>NaN</td>\n",
       "      <td>NaN</td>\n",
       "    </tr>\n",
       "    <tr>\n",
       "      <th>282</th>\n",
       "      <td>CROSS BRONX EXPY RAMP</td>\n",
       "      <td>NaN</td>\n",
       "      <td>NaN</td>\n",
       "    </tr>\n",
       "    <tr>\n",
       "      <th>344</th>\n",
       "      <td>BRONX RIVER PARKWAY RAMP</td>\n",
       "      <td>NaN</td>\n",
       "      <td>NaN</td>\n",
       "    </tr>\n",
       "    <tr>\n",
       "      <th>384</th>\n",
       "      <td>LAYTON AVENUE</td>\n",
       "      <td>THROGMORTAN AVENUE</td>\n",
       "      <td>NaN</td>\n",
       "    </tr>\n",
       "    <tr>\n",
       "      <th>437</th>\n",
       "      <td>NEW ENGLAND THRUWAY</td>\n",
       "      <td>NaN</td>\n",
       "      <td>NaN</td>\n",
       "    </tr>\n",
       "    <tr>\n",
       "      <th>483</th>\n",
       "      <td>ROCKAWAY BOULEVARD</td>\n",
       "      <td>225 STREET</td>\n",
       "      <td>NaN</td>\n",
       "    </tr>\n",
       "    <tr>\n",
       "      <th>570</th>\n",
       "      <td>PARSONS BLVD</td>\n",
       "      <td>90 AVENUE</td>\n",
       "      <td>NaN</td>\n",
       "    </tr>\n",
       "    <tr>\n",
       "      <th>571</th>\n",
       "      <td>STATEN ISLAND EXPRESSWAY</td>\n",
       "      <td>NaN</td>\n",
       "      <td>NaN</td>\n",
       "    </tr>\n",
       "    <tr>\n",
       "      <th>605</th>\n",
       "      <td>Trans- Manhattan Expressway</td>\n",
       "      <td>Amsterdam Avenue</td>\n",
       "      <td>NaN</td>\n",
       "    </tr>\n",
       "    <tr>\n",
       "      <th>625</th>\n",
       "      <td>REVIEW AVENUE</td>\n",
       "      <td>RAILROAD AVENUE</td>\n",
       "      <td>NaN</td>\n",
       "    </tr>\n",
       "    <tr>\n",
       "      <th>642</th>\n",
       "      <td>ARCHER AVENUE</td>\n",
       "      <td>GUY R BREWER BLVD</td>\n",
       "      <td>NaN</td>\n",
       "    </tr>\n",
       "    <tr>\n",
       "      <th>651</th>\n",
       "      <td>WILLIAMSBURG BRIDGE OUTER ROADWA</td>\n",
       "      <td>NaN</td>\n",
       "      <td>NaN</td>\n",
       "    </tr>\n",
       "    <tr>\n",
       "      <th>696</th>\n",
       "      <td>BRUCKNER BOULEVARD</td>\n",
       "      <td>EAST 135 STREET</td>\n",
       "      <td>NaN</td>\n",
       "    </tr>\n",
       "    <tr>\n",
       "      <th>738</th>\n",
       "      <td>BRONX WHITESTONE BRIDGE</td>\n",
       "      <td>NaN</td>\n",
       "      <td>NaN</td>\n",
       "    </tr>\n",
       "    <tr>\n",
       "      <th>755</th>\n",
       "      <td>EAST 128 STREET</td>\n",
       "      <td>3 AVENUE BRIDGE</td>\n",
       "      <td>NaN</td>\n",
       "    </tr>\n",
       "    <tr>\n",
       "      <th>762</th>\n",
       "      <td>FRANCIS LEWIS BOULEVARD</td>\n",
       "      <td>UNDERHILL AVENUE</td>\n",
       "      <td>NaN</td>\n",
       "    </tr>\n",
       "  </tbody>\n",
       "</table>\n",
       "</div>"
      ],
      "text/plain": [
       "                       ON STREET NAME   CROSS STREET NAME OFF STREET NAME\n",
       "0               WHITESTONE EXPRESSWAY           20 AVENUE             NaN\n",
       "17                      MEEKER AVENUE      LORIMER STREET             NaN\n",
       "33                   KINGSLAND AVENUE       MEEKER AVENUE             NaN\n",
       "36                 THROGS NECK BRIDGE                 NaN             NaN\n",
       "82                      OCEAN PARKWAY                 NaN             NaN\n",
       "282             CROSS BRONX EXPY RAMP                 NaN             NaN\n",
       "344          BRONX RIVER PARKWAY RAMP                 NaN             NaN\n",
       "384                     LAYTON AVENUE  THROGMORTAN AVENUE             NaN\n",
       "437               NEW ENGLAND THRUWAY                 NaN             NaN\n",
       "483                ROCKAWAY BOULEVARD          225 STREET             NaN\n",
       "570                      PARSONS BLVD           90 AVENUE             NaN\n",
       "571          STATEN ISLAND EXPRESSWAY                 NaN             NaN\n",
       "605       Trans- Manhattan Expressway    Amsterdam Avenue             NaN\n",
       "625                     REVIEW AVENUE     RAILROAD AVENUE             NaN\n",
       "642                     ARCHER AVENUE   GUY R BREWER BLVD             NaN\n",
       "651  WILLIAMSBURG BRIDGE OUTER ROADWA                 NaN             NaN\n",
       "696                BRUCKNER BOULEVARD     EAST 135 STREET             NaN\n",
       "738           BRONX WHITESTONE BRIDGE                 NaN             NaN\n",
       "755                   EAST 128 STREET     3 AVENUE BRIDGE             NaN\n",
       "762           FRANCIS LEWIS BOULEVARD    UNDERHILL AVENUE             NaN"
      ]
     },
     "execution_count": 33,
     "metadata": {},
     "output_type": "execute_result"
    }
   ],
   "source": [
    "serious_missing_location = crashes[\n",
    "    (crashes[\"LOCATION\"].isna()) & (crashes[\"serious_accident\"] == True)\n",
    "]\n",
    "serious_missing_location[\n",
    "    [\"ON STREET NAME\", \"CROSS STREET NAME\", \"OFF STREET NAME\"]\n",
    "].head(20)"
   ]
  },
  {
   "cell_type": "markdown",
   "id": "edbdc282",
   "metadata": {},
   "source": [
    "# Does 'LOCATION' match the individual 'LATITUDE' and 'LONGITUDE' fields?"
   ]
  },
  {
   "cell_type": "code",
   "execution_count": 34,
   "id": "3cc6d5d4",
   "metadata": {},
   "outputs": [],
   "source": [
    "def loc_string_to_tuple(s):\n",
    "    \"\"\"Helper function to convert strings in 'LOCATION' to numeric tuple\"\"\"\n",
    "    s = str(s)  # to handle 'nan's without checking type\n",
    "    if s == \"nan\":\n",
    "        ret = (float(\"nan\"), float(\"nan\"))\n",
    "    else:\n",
    "        s_list = s.strip().split(\",\")\n",
    "        ret = tuple(float(s.strip(\"()\")) for s in s_list)\n",
    "    return ret\n",
    "\n",
    "\n",
    "def tuples_match(tup1, tup2):\n",
    "    \"\"\"Check for tuple equality given that values may be float('nan'). \n",
    "    float('nan') != float('nan'). Returns Boolean\"\"\"\n",
    "    if math.isnan(tup1[0]):\n",
    "        return all([math.isnan(x) for x in (tup1 + tup2)])\n",
    "    else:\n",
    "        return tup1 == tup2"
   ]
  },
  {
   "cell_type": "code",
   "execution_count": 35,
   "id": "109a44f2",
   "metadata": {},
   "outputs": [
    {
     "data": {
      "text/plain": [
       "True"
      ]
     },
     "execution_count": 35,
     "metadata": {},
     "output_type": "execute_result"
    }
   ],
   "source": [
    "location = crashes[\"LOCATION\"].apply(loc_string_to_tuple)\n",
    "lat_long = list(zip(crashes[\"LATITUDE\"], crashes[\"LONGITUDE\"]))\n",
    "matches = [tuples_match(x[0], x[1]) for x in zip(location, lat_long)]\n",
    "all(matches)"
   ]
  },
  {
   "cell_type": "markdown",
   "id": "eb49c4d8",
   "metadata": {},
   "source": [
    "__'LOCATION' matches the individual 'LATITUDE' and 'LONGITUDE' fields__"
   ]
  },
  {
   "cell_type": "markdown",
   "id": "66959ec6",
   "metadata": {},
   "source": [
    "# Are there obviously wrong lat-long coordinates (far outside NYC)?"
   ]
  },
  {
   "cell_type": "code",
   "execution_count": 36,
   "id": "5a3b9825",
   "metadata": {},
   "outputs": [],
   "source": [
    "NYC_WEST_LIMIT = -74.30  # west of Staten Island\n",
    "NYC_EAST_LIMIT = -73.70  # east of Queens / Lakeville Rd.\n",
    "NYC_SOUTH_LIMIT = 40.45  # south of Staten Island\n",
    "NYC_NORTH_LIMIT = 40.95  # north of the Bronx\n",
    "crashes[\"good_lat_long\"] = (\n",
    "    crashes[\"LONGITUDE\"].between(NYC_WEST_LIMIT, NYC_EAST_LIMIT)\n",
    ") & (crashes[\"LATITUDE\"].between(NYC_SOUTH_LIMIT, NYC_NORTH_LIMIT))"
   ]
  },
  {
   "cell_type": "code",
   "execution_count": 37,
   "id": "dbc9f953",
   "metadata": {
    "scrolled": true
   },
   "outputs": [
    {
     "data": {
      "text/plain": [
       "0.9985170548348582"
      ]
     },
     "execution_count": 37,
     "metadata": {},
     "output_type": "execute_result"
    }
   ],
   "source": [
    "with_lat_long_sum = crashes[~crashes[\"lat_long_missing\"]][\"good_lat_long\"].count()\n",
    "good_lat_long_sum = crashes[~crashes[\"lat_long_missing\"]][\"good_lat_long\"].sum()\n",
    "good_lat_long_sum / with_lat_long_sum"
   ]
  },
  {
   "cell_type": "code",
   "execution_count": 38,
   "id": "36f9c4d5",
   "metadata": {},
   "outputs": [
    {
     "data": {
      "text/plain": [
       "2304"
      ]
     },
     "execution_count": 38,
     "metadata": {},
     "output_type": "execute_result"
    }
   ],
   "source": [
    "with_lat_long_sum - good_lat_long_sum"
   ]
  },
  {
   "cell_type": "markdown",
   "id": "2e1d2d93",
   "metadata": {},
   "source": [
    "~99.9% (or all but ~2300) of the collisions that have coordinates, have coordinates that are in vicinity of NYC. "
   ]
  },
  {
   "cell_type": "markdown",
   "id": "a5183bac",
   "metadata": {},
   "source": [
    "# Conclusions\n",
    "\n",
    "- The data contains time, location (in most cases), and the number of people injured or killed in automobile collisions dating back to 2012\n",
    "- There do not appear to be any significant gaps in data collection going back to 2012\n",
    "- There are some minor inconsistencies betweeen the total number of people injured or killed and their respective breakdown into pedestrian, cyclist, and motorist categories. We will be using the distinct categories going forward rather than the provided sum. The sum injured and killed fields can be recomputed from the separate categories\n",
    "- ~11.5% of collisions are missing location data\n",
    "- The 'LOCATION' field matches \"LATITUDE' and 'LONGITUDE' with no inconsistencies \n",
    "- ~99.9% of collisions with location data have coordinates that correspond to the NYC area"
   ]
  }
 ],
 "metadata": {
  "kernelspec": {
   "display_name": "Python 3 (ipykernel)",
   "language": "python",
   "name": "python3"
  },
  "language_info": {
   "codemirror_mode": {
    "name": "ipython",
    "version": 3
   },
   "file_extension": ".py",
   "mimetype": "text/x-python",
   "name": "python",
   "nbconvert_exporter": "python",
   "pygments_lexer": "ipython3",
   "version": "3.9.12"
  }
 },
 "nbformat": 4,
 "nbformat_minor": 5
}
