{
 "cells": [
  {
   "cell_type": "markdown",
   "id": "64afafe5",
   "metadata": {},
   "source": [
    "# Profiling NYC Collisions Data \n",
    "\n",
    "\n",
    "### Key Questions\n",
    "- What fields are there and are they useful? \n",
    "- Are the fields missing data?\n",
    "- Are there significant gaps in the data over time?\n",
    "- Are there inconsistencies in the total number of people injured or killed and their respective breakdowns into motorist, pedestrian, and cyclist?\n",
    "- Are many collisions missing location data? \n",
    "- Does 'location' match 'latititude' and 'longitude'?\n",
    "- Are collision locations near NYC? \n",
    "\n",
    "### Data Sources\n",
    "- Collision data obtained from https://data.cityofnewyork.us/Public-Safety/Motor-Vehicle-Collisions-Crashes/h9gi-nx95\n",
    " "
   ]
  },
  {
   "cell_type": "code",
   "execution_count": 1,
   "id": "ff499edc",
   "metadata": {
    "scrolled": true
   },
   "outputs": [],
   "source": [
    "from datetime import datetime\n",
    "import math\n",
    "import matplotlib.pyplot as plt\n",
    "import pandas as pd\n",
    "import pandahelper.reports as ph\n",
    "import scipy.stats\n",
    "from src import visualizations as viz"
   ]
  },
  {
   "cell_type": "code",
   "execution_count": 2,
   "id": "040946b6",
   "metadata": {},
   "outputs": [],
   "source": [
    "DATA_LOC = \"data/raw/Collisions.csv\""
   ]
  },
  {
   "cell_type": "code",
   "execution_count": 3,
   "id": "52cd25c8",
   "metadata": {},
   "outputs": [],
   "source": [
    "data = pd.read_csv(\n",
    "    DATA_LOC, dtype={\"ZIP CODE\": \"object\"}, low_memory=False,\n",
    ")  # read_csv interprets zip code as mixed type"
   ]
  },
  {
   "cell_type": "markdown",
   "id": "0f61aeed",
   "metadata": {},
   "source": [
    "# Overview of DataFrame"
   ]
  },
  {
   "cell_type": "code",
   "execution_count": 4,
   "id": "bed9cf75",
   "metadata": {
    "scrolled": true
   },
   "outputs": [
    {
     "data": {
      "text/plain": [
       "DataFrame-Level Info\n",
       "----------------------  -------------\n",
       "DF Shape                (1901197, 29)\n",
       "Duplicated Rows         0\n",
       "\n",
       "Series Name                    Data Type\n",
       "-----------------------------  -----------\n",
       "CRASH DATE                     object\n",
       "CRASH TIME                     object\n",
       "BOROUGH                        object\n",
       "ZIP CODE                       object\n",
       "LATITUDE                       float64\n",
       "LONGITUDE                      float64\n",
       "LOCATION                       object\n",
       "ON STREET NAME                 object\n",
       "CROSS STREET NAME              object\n",
       "OFF STREET NAME                object\n",
       "NUMBER OF PERSONS INJURED      float64\n",
       "NUMBER OF PERSONS KILLED       float64\n",
       "NUMBER OF PEDESTRIANS INJURED  int64\n",
       "NUMBER OF PEDESTRIANS KILLED   int64\n",
       "NUMBER OF CYCLIST INJURED      int64\n",
       "NUMBER OF CYCLIST KILLED       int64\n",
       "NUMBER OF MOTORIST INJURED     int64\n",
       "NUMBER OF MOTORIST KILLED      int64\n",
       "CONTRIBUTING FACTOR VEHICLE 1  object\n",
       "CONTRIBUTING FACTOR VEHICLE 2  object\n",
       "CONTRIBUTING FACTOR VEHICLE 3  object\n",
       "CONTRIBUTING FACTOR VEHICLE 4  object\n",
       "CONTRIBUTING FACTOR VEHICLE 5  object\n",
       "COLLISION_ID                   int64\n",
       "VEHICLE TYPE CODE 1            object\n",
       "VEHICLE TYPE CODE 2            object\n",
       "VEHICLE TYPE CODE 3            object\n",
       "VEHICLE TYPE CODE 4            object\n",
       "VEHICLE TYPE CODE 5            object\n",
       "\n",
       "Summary of Nulls Per Row\n",
       "--------------------------  -----------\n",
       "count                        1.9012e+06\n",
       "min                          1\n",
       "1%                           4\n",
       "5%                           7\n",
       "25%                          7\n",
       "50%                          8\n",
       "75%                         10\n",
       "95%                         12\n",
       "99%                         14\n",
       "max                         18\n",
       "median                       8\n",
       "mean                         8.54058\n",
       "median absolute deviation    1\n",
       "standard deviation           2.11783\n",
       "skew                         0.649806\n"
      ]
     },
     "execution_count": 4,
     "metadata": {},
     "output_type": "execute_result"
    }
   ],
   "source": [
    "ph.DataFrameProfile(data)"
   ]
  },
  {
   "cell_type": "markdown",
   "id": "c943f20e",
   "metadata": {},
   "source": [
    "# Examining individual fields (columns)"
   ]
  },
  {
   "cell_type": "code",
   "execution_count": 5,
   "id": "4b7f0147",
   "metadata": {
    "scrolled": true
   },
   "outputs": [
    {
     "data": {
      "text/plain": [
       "COLLISION_ID Info\n",
       "-------------------  -------\n",
       "Data Type            int64\n",
       "Count                1901197\n",
       "Unique Values        1901197\n",
       "Null Values          0\n",
       "\n",
       "  Value    Count  % of total\n",
       "-------  -------  ------------\n",
       "4407480        1  0.00%\n",
       "3274692        1  0.00%\n",
       "3263857        1  0.00%\n",
       "3272030        1  0.00%\n",
       "3273296        1  0.00%\n",
       "3266200        1  0.00%\n",
       "3263259        1  0.00%\n",
       "3262279        1  0.00%\n",
       "3263329        1  0.00%\n",
       "3273479        1  0.00%\n",
       "3269801        1  0.00%\n",
       "3267890        1  0.00%\n",
       "3260345        1  0.00%\n",
       "3269825        1  0.00%\n",
       "3268016        1  0.00%\n",
       "3262562        1  0.00%\n",
       "3270693        1  0.00%\n",
       "3260122        1  0.00%\n",
       "3268554        1  0.00%\n",
       "3264820        1  0.00%\n",
       "3893296        1  0.00%\n",
       "3891182        1  0.00%\n",
       "3894339        1  0.00%\n",
       "3901584        1  0.00%\n",
       " 233172        1  0.00%\n",
       "\n",
       "Statistic                             Value\n",
       "-------------------------  ----------------\n",
       "count                           1.9012e+06\n",
       "min                            22\n",
       "1%                          19159\n",
       "5%                          95890.8\n",
       "25%                             3.0565e+06\n",
       "50%                             3.58679e+06\n",
       "75%                             4.06235e+06\n",
       "95%                             4.44268e+06\n",
       "99%                             4.51874e+06\n",
       "max                             4.5381e+06\n",
       "median                          3.58679e+06\n",
       "mean                            3.02535e+06\n",
       "median absolute deviation  484559\n",
       "standard deviation              1.50269e+06\n",
       "skew                           -1.15881\n"
      ]
     },
     "execution_count": 5,
     "metadata": {},
     "output_type": "execute_result"
    }
   ],
   "source": [
    "collision_id_report = ph.SeriesProfile(data[\"COLLISION_ID\"])\n",
    "collision_id_report"
   ]
  },
  {
   "cell_type": "markdown",
   "id": "1c4200bd",
   "metadata": {},
   "source": [
    "Collision_ID is the primary key according to the dataset dictionary. We confirm that all its values are unique."
   ]
  },
  {
   "cell_type": "code",
   "execution_count": 6,
   "id": "eb432080",
   "metadata": {
    "scrolled": true
   },
   "outputs": [
    {
     "data": {
      "text/plain": [
       "(CRASH TIME Info\n",
       " -----------------  -------\n",
       " Data Type          object\n",
       " Count              1901197\n",
       " Unique Values      1440\n",
       " Null Values        0\n",
       " \n",
       " Value      Count  % of total\n",
       " -------  -------  ------------\n",
       " 16:00      26840  1.41%\n",
       " 17:00      26305  1.38%\n",
       " 15:00      26156  1.38%\n",
       " 18:00      24312  1.28%\n",
       " 14:00      24002  1.26%\n",
       " 13:00      22289  1.17%\n",
       " 9:00       20124  1.06%\n",
       " 19:00      20079  1.06%\n",
       " 12:00      20058  1.06%\n",
       " 16:30      19404  1.02%\n",
       " 8:00       18655  0.98%\n",
       " 14:30      18637  0.98%\n",
       " 10:00      18501  0.97%\n",
       " 17:30      18235  0.96%\n",
       " 11:00      18138  0.95%\n",
       " 0:00       17867  0.94%\n",
       " 18:30      16246  0.85%\n",
       " 20:00      16139  0.85%\n",
       " 8:30       15701  0.83%\n",
       " 13:30      15617  0.82%\n",
       " 3:59          81  0.00%\n",
       " 2:31          80  0.00%\n",
       " 4:02          79  0.00%\n",
       " 4:31          79  0.00%\n",
       " 3:31          75  0.00%\n",
       " \n",
       " \n",
       " ,\n",
       " CRASH DATE Info\n",
       " -----------------  -------\n",
       " Data Type          object\n",
       " Count              1901197\n",
       " Unique Values      3636\n",
       " Null Values        0\n",
       " \n",
       " Value         Count  % of total\n",
       " ----------  -------  ------------\n",
       " 01/21/2014     1161  0.06%\n",
       " 11/15/2018     1065  0.06%\n",
       " 12/15/2017      999  0.05%\n",
       " 05/19/2017      974  0.05%\n",
       " 01/18/2015      961  0.05%\n",
       " 02/03/2014      960  0.05%\n",
       " 03/06/2015      939  0.05%\n",
       " 05/18/2017      911  0.05%\n",
       " 01/07/2017      896  0.05%\n",
       " 03/02/2018      884  0.05%\n",
       " 12/14/2017      883  0.05%\n",
       " 09/30/2016      872  0.05%\n",
       " 11/26/2013      867  0.05%\n",
       " 11/09/2018      867  0.05%\n",
       " 04/28/2017      857  0.05%\n",
       " 10/21/2016      851  0.04%\n",
       " 03/08/2013      851  0.04%\n",
       " 06/22/2017      845  0.04%\n",
       " 06/29/2018      845  0.04%\n",
       " 12/14/2018      841  0.04%\n",
       " 04/23/2020      108  0.01%\n",
       " 04/12/2020      106  0.01%\n",
       " 04/09/2020      103  0.01%\n",
       " 04/19/2020      102  0.01%\n",
       " 04/05/2020       94  0.00%\n",
       " \n",
       " \n",
       " )"
      ]
     },
     "execution_count": 6,
     "metadata": {},
     "output_type": "execute_result"
    }
   ],
   "source": [
    "time_report = ph.SeriesProfile(data[\"CRASH TIME\"])\n",
    "date_report = ph.SeriesProfile(data[\"CRASH DATE\"])\n",
    "time_report, date_report"
   ]
  },
  {
   "cell_type": "markdown",
   "id": "f9367ae3",
   "metadata": {},
   "source": [
    "__There are no obvious issues with the time and  date info__\n",
    "- There are no null values in CRASH TIME and CRASH DATE\n",
    "- All 1440 minutes in a day are represented in time data\n",
    "- Times tend to be rounded estimates. For example: 16:00 is more common that 16:02, which is unsurprising\n",
    "- ~3600 unique dates correspond to ~10 years of data (which is what we have)"
   ]
  },
  {
   "cell_type": "code",
   "execution_count": 7,
   "id": "e8a513d9",
   "metadata": {
    "scrolled": true
   },
   "outputs": [
    {
     "data": {
      "text/plain": [
       "(LOCATION Info\n",
       " ---------------  -------\n",
       " Data Type        object\n",
       " Count            1680691\n",
       " Unique Values    254669\n",
       " Null Values      220506\n",
       " \n",
       " Value                        Count  % of total\n",
       " -------------------------  -------  ------------\n",
       " (0.0, 0.0)                    3503  0.21%\n",
       " (40.861862, -73.91282)         685  0.04%\n",
       " (40.608757, -74.038086)        670  0.04%\n",
       " (40.696033, -73.98453)         646  0.04%\n",
       " (40.8047, -73.91243)           597  0.04%\n",
       " (40.6960346, -73.9845292)      587  0.03%\n",
       " (40.675735, -73.89686)         483  0.03%\n",
       " (40.7606005, -73.9643142)      474  0.03%\n",
       " (40.820305, -73.89083)         467  0.03%\n",
       " (40.798256, -73.82744)         462  0.03%\n",
       " (40.7572323, -73.9897922)      456  0.03%\n",
       " (40.77077, -73.91727)          444  0.03%\n",
       " (40.604153, -74.05198)         440  0.03%\n",
       " (40.6757357, -73.8968533)      435  0.03%\n",
       " (40.658577, -73.89063)         429  0.03%\n",
       " (40.6585778, -73.8906229)      418  0.02%\n",
       " (40.733536, -73.87035)         415  0.02%\n",
       " (40.7606, -73.96434)           408  0.02%\n",
       " (40.816864, -73.882744)        407  0.02%\n",
       " (40.83801, -73.87329)          391  0.02%\n",
       " (40.726715, -73.92291)           1  0.00%\n",
       " (40.667023, -73.77305)           1  0.00%\n",
       " (40.7223, -73.77445)             1  0.00%\n",
       " (40.719517, -73.798805)          1  0.00%\n",
       " (40.5473723, -74.1607719)        1  0.00%\n",
       " \n",
       " \n",
       " ,\n",
       " LATITUDE Info\n",
       " ---------------  -------\n",
       " Data Type        float64\n",
       " Count            1680691\n",
       " Unique Values    123672\n",
       " Null Values      220506\n",
       " \n",
       "   Value    Count  % of total\n",
       " -------  -------  ------------\n",
       "  0          3503  0.21%\n",
       " 40.8619      755  0.04%\n",
       " 40.8047      691  0.04%\n",
       " 40.696       686  0.04%\n",
       " 40.6088      670  0.04%\n",
       " 40.7983      626  0.04%\n",
       " 40.7593      592  0.04%\n",
       " 40.696       587  0.03%\n",
       " 40.6757      484  0.03%\n",
       " 40.7606      474  0.03%\n",
       " 40.8203      468  0.03%\n",
       " 40.7044      466  0.03%\n",
       " 40.7572      456  0.03%\n",
       " 40.7708      448  0.03%\n",
       " 40.759       443  0.03%\n",
       " 40.6586      441  0.03%\n",
       " 40.6042      441  0.03%\n",
       " 40.6757      435  0.03%\n",
       " 40.6917      430  0.03%\n",
       " 40.7606      430  0.03%\n",
       " 40.8693        1  0.00%\n",
       " 40.759         1  0.00%\n",
       " 40.6145        1  0.00%\n",
       " 40.8329        1  0.00%\n",
       " 40.5474        1  0.00%\n",
       " \n",
       " Statistic                          Value\n",
       " -------------------------  -------------\n",
       " count                        1.68069e+06\n",
       " min                          0\n",
       " 1%                          40.552\n",
       " 5%                          40.5969\n",
       " 25%                         40.6682\n",
       " 50%                         40.7215\n",
       " 75%                         40.7693\n",
       " 95%                         40.8619\n",
       " 99%                         40.8887\n",
       " max                         43.3444\n",
       " median                      40.7215\n",
       " mean                        40.6394\n",
       " median absolute deviation    0.0510958\n",
       " standard deviation           1.85897\n",
       " skew                       -21.7756\n",
       " ,\n",
       " LONGITUDE Info\n",
       " ----------------  -------\n",
       " Data Type         float64\n",
       " Count             1680691\n",
       " Unique Values     96631\n",
       " Null Values       220506\n",
       " \n",
       "    Value    Count  % of total\n",
       " --------  -------  ------------\n",
       "   0          3503  0.21%\n",
       " -73.9128      716  0.04%\n",
       " -73.9845      696  0.04%\n",
       " -74.0381      672  0.04%\n",
       " -73.9124      649  0.04%\n",
       " -73.8906      644  0.04%\n",
       " -73.9845      587  0.03%\n",
       " -73.8969      576  0.03%\n",
       " -73.8827      557  0.03%\n",
       " -73.8908      538  0.03%\n",
       " -73.9173      514  0.03%\n",
       " -73.9112      502  0.03%\n",
       " -73.9448      495  0.03%\n",
       " -73.8274      480  0.03%\n",
       " -73.9643      474  0.03%\n",
       " -73.9898      456  0.03%\n",
       " -73.9749      445  0.03%\n",
       " -74.052       440  0.03%\n",
       " -73.9772      437  0.03%\n",
       " -73.8969      435  0.03%\n",
       " -74.0838        1  0.00%\n",
       " -73.7514        1  0.00%\n",
       " -74.022         1  0.00%\n",
       " -73.8283        1  0.00%\n",
       " -74.1608        1  0.00%\n",
       " \n",
       " Statistic                           Value\n",
       " -------------------------  --------------\n",
       " count                         1.68069e+06\n",
       " min                        -201.36\n",
       " 1%                          -74.1679\n",
       " 5%                          -74.0346\n",
       " 25%                         -73.9753\n",
       " 50%                         -73.9276\n",
       " 75%                         -73.8666\n",
       " 95%                         -73.7633\n",
       " 99%                         -73.7284\n",
       " max                           0\n",
       " median                      -73.9276\n",
       " mean                        -73.7738\n",
       " median absolute deviation     0.05282\n",
       " standard deviation            3.52347\n",
       " skew                         16.1611\n",
       " )"
      ]
     },
     "execution_count": 7,
     "metadata": {},
     "output_type": "execute_result"
    }
   ],
   "source": [
    "loc_report = ph.SeriesProfile(data[\"LOCATION\"])\n",
    "lat_report = ph.SeriesProfile(data[\"LATITUDE\"])\n",
    "long_report = ph.SeriesProfile(data[\"LONGITUDE\"])\n",
    "loc_report, lat_report, long_report"
   ]
  },
  {
   "cell_type": "code",
   "execution_count": 8,
   "id": "56c3ebbe",
   "metadata": {},
   "outputs": [
    {
     "data": {
      "text/plain": [
       "0.1159827203598575"
      ]
     },
     "execution_count": 8,
     "metadata": {},
     "output_type": "execute_result"
    }
   ],
   "source": [
    "percent_missing_loc = sum(data[\"LOCATION\"].isna()) / len(data)\n",
    "percent_missing_loc"
   ]
  },
  {
   "cell_type": "markdown",
   "id": "a97fdf1a",
   "metadata": {},
   "source": [
    "__~12% of collisions are missing location data__\n",
    "- LOCATION is just the tuple, (LATITUDE, LONGITUDE)\n",
    "- Some lat-long coordinates are invalid. For example: (0, 0) or a latitiude of 43.3444 (max latitude), which is far from NYC"
   ]
  },
  {
   "cell_type": "code",
   "execution_count": 9,
   "id": "ea482bf8",
   "metadata": {
    "scrolled": true
   },
   "outputs": [
    {
     "data": {
      "text/plain": [
       "(NUMBER OF PERSONS INJURED Info\n",
       " --------------------------------  -------\n",
       " Data Type                         float64\n",
       " Count                             1901179\n",
       " Unique Values                     27\n",
       " Null Values                       18\n",
       " \n",
       "   Value    Count  % of total\n",
       " -------  -------  ------------\n",
       "       0  1498296  78.81%\n",
       "       1   312326  16.43%\n",
       "       2    58938  3.10%\n",
       "       3    19325  1.02%\n",
       "       4     7227  0.38%\n",
       "       5     2846  0.15%\n",
       "       6     1165  0.06%\n",
       "       7      513  0.03%\n",
       "       8      214  0.01%\n",
       "       9      116  0.01%\n",
       "      10       72  0.00%\n",
       "      11       42  0.00%\n",
       "      12       28  0.00%\n",
       "      13       20  0.00%\n",
       "      15        9  0.00%\n",
       "      16        8  0.00%\n",
       "      14        8  0.00%\n",
       "      17        5  0.00%\n",
       "      18        5  0.00%\n",
       "      19        4  0.00%\n",
       "      20        2  0.00%\n",
       "      31        1  0.00%\n",
       "      27        1  0.00%\n",
       "      32        1  0.00%\n",
       "      43        1  0.00%\n",
       " \n",
       " Statistic                         Value\n",
       " -------------------------  ------------\n",
       " count                       1.90118e+06\n",
       " min                         0\n",
       " 1%                          0\n",
       " 5%                          0\n",
       " 25%                         0\n",
       " 50%                         0\n",
       " 75%                         0\n",
       " 95%                         1\n",
       " 99%                         3\n",
       " max                        43\n",
       " median                      0\n",
       " mean                        0.287909\n",
       " median absolute deviation   0\n",
       " standard deviation          0.680249\n",
       " skew                        4.30785\n",
       " ,\n",
       " NUMBER OF PEDESTRIANS INJURED Info\n",
       " ------------------------------------  -------\n",
       " Data Type                             int64\n",
       " Count                                 1901197\n",
       " Unique Values                         13\n",
       " Null Values                           0\n",
       " \n",
       "   Value    Count  % of total\n",
       " -------  -------  ------------\n",
       "       0  1804417  94.91%\n",
       "       1    93256  4.91%\n",
       "       2     3110  0.16%\n",
       "       3      320  0.02%\n",
       "       4       53  0.00%\n",
       "       5       21  0.00%\n",
       "       6       11  0.00%\n",
       "       7        3  0.00%\n",
       "       9        2  0.00%\n",
       "      27        1  0.00%\n",
       "      13        1  0.00%\n",
       "      15        1  0.00%\n",
       "       8        1  0.00%\n",
       " \n",
       " Statistic                        Value\n",
       " -------------------------  -----------\n",
       " count                       1.9012e+06\n",
       " min                         0\n",
       " 1%                          0\n",
       " 5%                          0\n",
       " 25%                         0\n",
       " 50%                         0\n",
       " 75%                         0\n",
       " 95%                         1\n",
       " 99%                         1\n",
       " max                        27\n",
       " median                      0\n",
       " mean                        0.0530829\n",
       " median absolute deviation   0\n",
       " standard deviation          0.236662\n",
       " skew                        5.8007\n",
       " ,\n",
       " NUMBER OF CYCLIST INJURED Info\n",
       " --------------------------------  -------\n",
       " Data Type                         int64\n",
       " Count                             1901197\n",
       " Unique Values                     5\n",
       " Null Values                       0\n",
       " \n",
       "   Value    Count  % of total\n",
       " -------  -------  ------------\n",
       "       0  1855212  97.58%\n",
       "       1    45505  2.39%\n",
       "       2      460  0.02%\n",
       "       3       19  0.00%\n",
       "       4        1  0.00%\n",
       " \n",
       " Statistic                       Value\n",
       " -------------------------  ----------\n",
       " count                      1.9012e+06\n",
       " min                        0\n",
       " 1%                         0\n",
       " 5%                         0\n",
       " 25%                        0\n",
       " 50%                        0\n",
       " 75%                        0\n",
       " 95%                        0\n",
       " 99%                        1\n",
       " max                        4\n",
       " median                     0\n",
       " mean                       0.0244509\n",
       " median absolute deviation  0\n",
       " standard deviation         0.156215\n",
       " skew                       6.39254\n",
       " ,\n",
       " NUMBER OF MOTORIST INJURED Info\n",
       " ---------------------------------  -------\n",
       " Data Type                          int64\n",
       " Count                              1901197\n",
       " Unique Values                      27\n",
       " Null Values                        0\n",
       " \n",
       "   Value    Count  % of total\n",
       " -------  -------  ------------\n",
       "       0  1641907  86.36%\n",
       "       1   174383  9.17%\n",
       "       2    54120  2.85%\n",
       "       3    18763  0.99%\n",
       "       4     7080  0.37%\n",
       "       5     2806  0.15%\n",
       "       6     1125  0.06%\n",
       "       7      489  0.03%\n",
       "       8      206  0.01%\n",
       "       9      113  0.01%\n",
       "      10       70  0.00%\n",
       "      11       41  0.00%\n",
       "      12       27  0.00%\n",
       "      13       20  0.00%\n",
       "      14        9  0.00%\n",
       "      16        8  0.00%\n",
       "      15        7  0.00%\n",
       "      18        5  0.00%\n",
       "      17        4  0.00%\n",
       "      19        3  0.00%\n",
       "      22        2  0.00%\n",
       "      21        1  0.00%\n",
       "      31        1  0.00%\n",
       "      30        1  0.00%\n",
       "      43        1  0.00%\n",
       " \n",
       " Statistic                        Value\n",
       " -------------------------  -----------\n",
       " count                       1.9012e+06\n",
       " min                         0\n",
       " 1%                          0\n",
       " 5%                          0\n",
       " 25%                         0\n",
       " 50%                         0\n",
       " 75%                         0\n",
       " 95%                         1\n",
       " 99%                         3\n",
       " max                        43\n",
       " median                      0\n",
       " mean                        0.208653\n",
       " median absolute deviation   0\n",
       " standard deviation          0.641879\n",
       " skew                        5.16871\n",
       " )"
      ]
     },
     "execution_count": 9,
     "metadata": {},
     "output_type": "execute_result"
    }
   ],
   "source": [
    "injured_report = ph.SeriesProfile(data[\"NUMBER OF PERSONS INJURED\"])\n",
    "pedestrian_injured_report = ph.SeriesProfile(data[\"NUMBER OF PEDESTRIANS INJURED\"])\n",
    "cyclist_injured_report = ph.SeriesProfile(data[\"NUMBER OF CYCLIST INJURED\"])\n",
    "motorist_injured_report = ph.SeriesProfile(data[\"NUMBER OF MOTORIST INJURED\"])\n",
    "injured_report, pedestrian_injured_report, cyclist_injured_report, motorist_injured_report"
   ]
  },
  {
   "cell_type": "markdown",
   "id": "8a31c079",
   "metadata": {},
   "source": [
    "__A few observations (< 50) are missing the the total number of people injured.__\n",
    "\n",
    "There are no missing values for the individual pedestrian, cyclist, and motorist injured fields"
   ]
  },
  {
   "cell_type": "code",
   "execution_count": 10,
   "id": "7cdca086",
   "metadata": {
    "scrolled": true
   },
   "outputs": [
    {
     "data": {
      "text/plain": [
       "(NUMBER OF PERSONS KILLED Info\n",
       " -------------------------------  -------\n",
       " Data Type                        float64\n",
       " Count                            1901166\n",
       " Unique Values                    7\n",
       " Null Values                      31\n",
       " \n",
       "   Value    Count  % of total\n",
       " -------  -------  ------------\n",
       "       0  1898684  99.87%\n",
       "       1     2405  0.13%\n",
       "       2       62  0.00%\n",
       "       3       10  0.00%\n",
       "       4        3  0.00%\n",
       "       8        1  0.00%\n",
       "       5        1  0.00%\n",
       " \n",
       " Statistic                         Value\n",
       " -------------------------  ------------\n",
       " count                       1.90117e+06\n",
       " min                         0\n",
       " 1%                          0\n",
       " 5%                          0\n",
       " 25%                         0\n",
       " 50%                         0\n",
       " 75%                         0\n",
       " 95%                         0\n",
       " 99%                         0\n",
       " max                         8\n",
       " median                      0\n",
       " mean                        0.00135917\n",
       " median absolute deviation   0\n",
       " standard deviation          0.0388975\n",
       " skew                       35.6452\n",
       " ,\n",
       " NUMBER OF PEDESTRIANS KILLED Info\n",
       " -----------------------------------  -------\n",
       " Data Type                            int64\n",
       " Count                                1901197\n",
       " Unique Values                        4\n",
       " Null Values                          0\n",
       " \n",
       "   Value    Count  % of total\n",
       " -------  -------  ------------\n",
       "       0  1899888  99.93%\n",
       "       1     1297  0.07%\n",
       "       2       11  0.00%\n",
       "       6        1  0.00%\n",
       " \n",
       " Statistic                         Value\n",
       " -------------------------  ------------\n",
       " count                       1.9012e+06\n",
       " min                         0\n",
       " 1%                          0\n",
       " 5%                          0\n",
       " 25%                         0\n",
       " 50%                         0\n",
       " 75%                         0\n",
       " 95%                         0\n",
       " 99%                         0\n",
       " max                         6\n",
       " median                      0\n",
       " mean                        0.000696929\n",
       " median absolute deviation   0\n",
       " standard deviation          0.0269034\n",
       " skew                       43.1678\n",
       " ,\n",
       " NUMBER OF CYCLIST KILLED Info\n",
       " -------------------------------  -------\n",
       " Data Type                        int64\n",
       " Count                            1901197\n",
       " Unique Values                    3\n",
       " Null Values                      0\n",
       " \n",
       "   Value    Count  % of total\n",
       " -------  -------  ------------\n",
       "       0  1901007  99.99%\n",
       "       1      189  0.01%\n",
       "       2        1  0.00%\n",
       " \n",
       " Statistic                          Value\n",
       " -------------------------  -------------\n",
       " count                        1.9012e+06\n",
       " min                          0\n",
       " 1%                           0\n",
       " 5%                           0\n",
       " 25%                          0\n",
       " 50%                          0\n",
       " 75%                          0\n",
       " 95%                          0\n",
       " 99%                          0\n",
       " max                          2\n",
       " median                       0\n",
       " mean                         0.000100463\n",
       " median absolute deviation    0\n",
       " standard deviation           0.010075\n",
       " skew                       101.293\n",
       " ,\n",
       " NUMBER OF MOTORIST KILLED Info\n",
       " --------------------------------  -------\n",
       " Data Type                         int64\n",
       " Count                             1901197\n",
       " Unique Values                     6\n",
       " Null Values                       0\n",
       " \n",
       "   Value    Count  % of total\n",
       " -------  -------  ------------\n",
       "       0  1900226  99.95%\n",
       "       1      910  0.05%\n",
       "       2       48  0.00%\n",
       "       3       10  0.00%\n",
       "       4        2  0.00%\n",
       "       5        1  0.00%\n",
       " \n",
       " Statistic                         Value\n",
       " -------------------------  ------------\n",
       " count                       1.9012e+06\n",
       " min                         0\n",
       " 1%                          0\n",
       " 5%                          0\n",
       " 25%                         0\n",
       " 50%                         0\n",
       " 75%                         0\n",
       " 95%                         0\n",
       " 99%                         0\n",
       " max                         5\n",
       " median                      0\n",
       " mean                        0.000551758\n",
       " median absolute deviation   0\n",
       " standard deviation          0.0256252\n",
       " skew                       56.7326\n",
       " )"
      ]
     },
     "execution_count": 10,
     "metadata": {},
     "output_type": "execute_result"
    }
   ],
   "source": [
    "killed_report = ph.SeriesProfile(data[\"NUMBER OF PERSONS KILLED\"])\n",
    "pedestrian_killed_report = ph.SeriesProfile(data[\"NUMBER OF PEDESTRIANS KILLED\"])\n",
    "cyclist_killed_report = ph.SeriesProfile(data[\"NUMBER OF CYCLIST KILLED\"])\n",
    "motorist_killed_report = ph.SeriesProfile(data[\"NUMBER OF MOTORIST KILLED\"])\n",
    "killed_report, pedestrian_killed_report, cyclist_killed_report, motorist_killed_report"
   ]
  },
  {
   "cell_type": "markdown",
   "id": "908c5be8",
   "metadata": {},
   "source": [
    "__A few observations (< 50) are missing the the total number of people killed.__\n",
    "\n",
    "There are no missing values for the individual pedestrian, cyclist, and motorist killed fields"
   ]
  },
  {
   "cell_type": "code",
   "execution_count": 11,
   "id": "2a8f8f4e",
   "metadata": {
    "scrolled": true
   },
   "outputs": [
    {
     "data": {
      "text/plain": [
       "(CONTRIBUTING FACTOR VEHICLE 1 Info\n",
       " ------------------------------------  -------\n",
       " Data Type                             object\n",
       " Count                                 1895532\n",
       " Unique Values                         61\n",
       " Null Values                           5665\n",
       " \n",
       " Value                             Count  % of total\n",
       " ------------------------------  -------  ------------\n",
       " Unspecified                      665126  35.09%\n",
       " Driver Inattention/Distraction   371537  19.60%\n",
       " Failure to Yield Right-of-Way    111055  5.86%\n",
       " Following Too Closely             99992  5.28%\n",
       " Backing Unsafely                  71484  3.77%\n",
       " Other Vehicular                   59354  3.13%\n",
       " Passing or Lane Usage Improper    50168  2.65%\n",
       " Fatigued/Drowsy                   47208  2.49%\n",
       " Turning Improperly                47175  2.49%\n",
       " Passing Too Closely               45657  2.41%\n",
       " Unsafe Lane Changing              37312  1.97%\n",
       " Traffic Control Disregarded       31781  1.68%\n",
       " Driver Inexperience               28882  1.52%\n",
       " Unsafe Speed                      22547  1.19%\n",
       " Lost Consciousness                20152  1.06%\n",
       " Alcohol Involvement               19627  1.04%\n",
       " Pavement Slippery                 18688  0.99%\n",
       " Reaction to Uninvolved Vehicle    18041  0.95%\n",
       " Prescription Medication           15388  0.81%\n",
       " Outside Car Distraction           12390  0.65%\n",
       " Cell Phone (hand-held)               79  0.00%\n",
       " Windshield Inadequate                74  0.00%\n",
       " Texting                              45  0.00%\n",
       " Listening/Using Headphones           22  0.00%\n",
       " 1                                    10  0.00%\n",
       " \n",
       " \n",
       " ,\n",
       " CONTRIBUTING FACTOR VEHICLE 2 Info\n",
       " ------------------------------------  -------\n",
       " Data Type                             object\n",
       " Count                                 1620234\n",
       " Unique Values                         61\n",
       " Null Values                           280963\n",
       " \n",
       " Value                             Count  % of total\n",
       " ------------------------------  -------  ------------\n",
       " Unspecified                     1363951  84.18%\n",
       " Driver Inattention/Distraction    86426  5.33%\n",
       " Other Vehicular                   30064  1.86%\n",
       " Following Too Closely             16957  1.05%\n",
       " Failure to Yield Right-of-Way     15972  0.99%\n",
       " Passing or Lane Usage Improper    11516  0.71%\n",
       " Fatigued/Drowsy                   10832  0.67%\n",
       " Turning Improperly                 8338  0.51%\n",
       " Passing Too Closely                7945  0.49%\n",
       " Backing Unsafely                   7611  0.47%\n",
       " Traffic Control Disregarded        6528  0.40%\n",
       " Unsafe Lane Changing               6216  0.38%\n",
       " Driver Inexperience                6187  0.38%\n",
       " Lost Consciousness                 5227  0.32%\n",
       " Unsafe Speed                       4278  0.26%\n",
       " Pavement Slippery                  3918  0.24%\n",
       " Reaction to Uninvolved Vehicle     3056  0.19%\n",
       " Prescription Medication            3020  0.19%\n",
       " View Obstructed/Limited            2832  0.17%\n",
       " Outside Car Distraction            2512  0.16%\n",
       " Listening/Using Headphones           10  0.00%\n",
       " Eating or Drinking                    8  0.00%\n",
       " Windshield Inadequate                 7  0.00%\n",
       " 1                                     5  0.00%\n",
       " Texting                               3  0.00%\n",
       " \n",
       " \n",
       " ,\n",
       " CONTRIBUTING FACTOR VEHICLE 3 Info\n",
       " ------------------------------------  -------\n",
       " Data Type                             object\n",
       " Count                                 132146\n",
       " Unique Values                         50\n",
       " Null Values                           1769051\n",
       " \n",
       " Value                                   Count  % of total\n",
       " ------------------------------------  -------  ------------\n",
       " Unspecified                            123125  93.17%\n",
       " Other Vehicular                          2447  1.85%\n",
       " Driver Inattention/Distraction           1755  1.33%\n",
       " Following Too Closely                    1690  1.28%\n",
       " Fatigued/Drowsy                           853  0.65%\n",
       " Pavement Slippery                         368  0.28%\n",
       " Reaction to Uninvolved Vehicle            191  0.14%\n",
       " Driver Inexperience                       167  0.13%\n",
       " Outside Car Distraction                   156  0.12%\n",
       " Traffic Control Disregarded               150  0.11%\n",
       " Failure to Yield Right-of-Way             137  0.10%\n",
       " Unsafe Speed                              128  0.10%\n",
       " Passing or Lane Usage Improper             94  0.07%\n",
       " Alcohol Involvement                        92  0.07%\n",
       " Backing Unsafely                           90  0.07%\n",
       " Turning Improperly                         74  0.06%\n",
       " Unsafe Lane Changing                       64  0.05%\n",
       " Obstruction/Debris                         60  0.05%\n",
       " Fell Asleep                                57  0.04%\n",
       " Passing Too Closely                        42  0.03%\n",
       " Reaction to Other Uninvolved Vehicle        2  0.00%\n",
       " 1                                           1  0.00%\n",
       " Cell Phone (hand-Held)                      1  0.00%\n",
       " Tinted Windows                              1  0.00%\n",
       " Illnes                                      1  0.00%\n",
       " \n",
       " \n",
       " ,\n",
       " CONTRIBUTING FACTOR VEHICLE 4 Info\n",
       " ------------------------------------  -------\n",
       " Data Type                             object\n",
       " Count                                 29199\n",
       " Unique Values                         39\n",
       " Null Values                           1871998\n",
       " \n",
       " Value                             Count  % of total\n",
       " ------------------------------  -------  ------------\n",
       " Unspecified                       27552  94.36%\n",
       " Other Vehicular                     515  1.76%\n",
       " Following Too Closely               324  1.11%\n",
       " Driver Inattention/Distraction      242  0.83%\n",
       " Fatigued/Drowsy                     170  0.58%\n",
       " Pavement Slippery                   104  0.36%\n",
       " Reaction to Uninvolved Vehicle       38  0.13%\n",
       " Outside Car Distraction              26  0.09%\n",
       " Driver Inexperience                  24  0.08%\n",
       " Unsafe Speed                         24  0.08%\n",
       " Traffic Control Disregarded          22  0.08%\n",
       " Alcohol Involvement                  19  0.07%\n",
       " Fell Asleep                          19  0.07%\n",
       " Obstruction/Debris                   17  0.06%\n",
       " Failure to Yield Right-of-Way        16  0.05%\n",
       " Other Electronic Device               9  0.03%\n",
       " Backing Unsafely                      9  0.03%\n",
       " Passing or Lane Usage Improper        8  0.03%\n",
       " Failure to Keep Right                 7  0.02%\n",
       " Brakes Defective                      6  0.02%\n",
       " Animals Action                        1  0.00%\n",
       " Glare                                 1  0.00%\n",
       " Steering Failure                      1  0.00%\n",
       " Accelerator Defective                 1  0.00%\n",
       " Windshield Inadequate                 1  0.00%\n",
       " \n",
       " \n",
       " ,\n",
       " CONTRIBUTING FACTOR VEHICLE 5 Info\n",
       " ------------------------------------  -------\n",
       " Data Type                             object\n",
       " Count                                 7795\n",
       " Unique Values                         29\n",
       " Null Values                           1893402\n",
       " \n",
       " Value                                          Count  % of total\n",
       " -------------------------------------------  -------  ------------\n",
       " Unspecified                                     7350  94.29%\n",
       " Other Vehicular                                  152  1.95%\n",
       " Following Too Closely                             76  0.97%\n",
       " Driver Inattention/Distraction                    55  0.71%\n",
       " Pavement Slippery                                 44  0.56%\n",
       " Fatigued/Drowsy                                   41  0.53%\n",
       " Reaction to Uninvolved Vehicle                    11  0.14%\n",
       " Alcohol Involvement                                9  0.12%\n",
       " Driver Inexperience                                9  0.12%\n",
       " Obstruction/Debris                                 7  0.09%\n",
       " Outside Car Distraction                            6  0.08%\n",
       " Unsafe Speed                                       6  0.08%\n",
       " Failure to Yield Right-of-Way                      5  0.06%\n",
       " Fell Asleep                                        3  0.04%\n",
       " Traffic Control Disregarded                        3  0.04%\n",
       " Drugs (illegal)                                    2  0.03%\n",
       " Failure to Keep Right                              2  0.03%\n",
       " Passing Too Closely                                2  0.03%\n",
       " Other Electronic Device                            2  0.03%\n",
       " Backing Unsafely                                   1  0.01%\n",
       " Illness                                            1  0.01%\n",
       " Passing or Lane Usage Improper                     1  0.01%\n",
       " Tire Failure/Inadequate                            1  0.01%\n",
       " Pavement Defective                                 1  0.01%\n",
       " Traffic Control Device Improper/Non-Working        1  0.01%\n",
       " \n",
       " \n",
       " )"
      ]
     },
     "execution_count": 11,
     "metadata": {},
     "output_type": "execute_result"
    }
   ],
   "source": [
    "factor1_report = ph.SeriesProfile(data[\"CONTRIBUTING FACTOR VEHICLE 1\"])\n",
    "factor2_report = ph.SeriesProfile(data[\"CONTRIBUTING FACTOR VEHICLE 2\"])\n",
    "factor3_report = ph.SeriesProfile(data[\"CONTRIBUTING FACTOR VEHICLE 3\"])\n",
    "factor4_report = ph.SeriesProfile(data[\"CONTRIBUTING FACTOR VEHICLE 4\"])\n",
    "factor5_report = ph.SeriesProfile(data[\"CONTRIBUTING FACTOR VEHICLE 5\"])\n",
    "factor1_report, factor2_report, factor3_report, factor4_report, factor5_report"
   ]
  },
  {
   "cell_type": "markdown",
   "id": "8b8286e0",
   "metadata": {},
   "source": [
    "__The 'CONTRIBUTING FACTOR VEHICLE' fields seem to have some issues__\n",
    "- \"Unspecified\" is the most common response\n",
    "- They are not mutually exclusive and in some cases, difficult to differentiate. For example: 'Passing or Lane Usage Improper' vs 'Passing Too Closely'\n",
    "- Without knowing more about the processes that generated these _'contributing factor'_ fields, it would be difficult to use them with confidence"
   ]
  },
  {
   "cell_type": "code",
   "execution_count": 12,
   "id": "40426162",
   "metadata": {
    "scrolled": true
   },
   "outputs": [
    {
     "data": {
      "text/plain": [
       "(VEHICLE TYPE CODE 1 Info\n",
       " --------------------------  -------\n",
       " Data Type                   object\n",
       " Count                       1890226\n",
       " Unique Values               1383\n",
       " Null Values                 10971\n",
       " \n",
       " Value                                  Count  % of total\n",
       " -----------------------------------  -------  ------------\n",
       " Sedan                                 496499  26.27%\n",
       " PASSENGER VEHICLE                     416206  22.02%\n",
       " Station Wagon/Sport Utility Vehicle   393204  20.80%\n",
       " SPORT UTILITY / STATION WAGON         180291  9.54%\n",
       " Taxi                                   46961  2.48%\n",
       " 4 dr sedan                             40113  2.12%\n",
       " TAXI                                   31911  1.69%\n",
       " Pick-up Truck                          30832  1.63%\n",
       " VAN                                    25266  1.34%\n",
       " OTHER                                  22966  1.21%\n",
       " Box Truck                              21510  1.14%\n",
       " UNKNOWN                                19933  1.05%\n",
       " Bus                                    18365  0.97%\n",
       " LARGE COM VEH(6 OR MORE TIRES)         14397  0.76%\n",
       " BUS                                    13993  0.74%\n",
       " SMALL COM VEH(4 TIRES)                 13216  0.70%\n",
       " Bike                                   11788  0.62%\n",
       " PICK-UP TRUCK                          11505  0.61%\n",
       " LIVERY VEHICLE                         10481  0.55%\n",
       " Tractor Truck Diesel                    9140  0.48%\n",
       " ENGINE SP0                                 1  0.00%\n",
       " COMMU                                      1  0.00%\n",
       " GAS POWERE                                 1  0.00%\n",
       " UTILITY VA                                 1  0.00%\n",
       " Sprinter V                                 1  0.00%\n",
       " \n",
       " \n",
       " ,\n",
       " VEHICLE TYPE CODE 2 Info\n",
       " --------------------------  -------\n",
       " Data Type                   object\n",
       " Count                       1563374\n",
       " Unique Values               1529\n",
       " Null Values                 337823\n",
       " \n",
       " Value                                  Count  % of total\n",
       " -----------------------------------  -------  ------------\n",
       " Sedan                                 357359  22.86%\n",
       " PASSENGER VEHICLE                     318607  20.38%\n",
       " Station Wagon/Sport Utility Vehicle   291633  18.65%\n",
       " SPORT UTILITY / STATION WAGON         140204  8.97%\n",
       " UNKNOWN                                81478  5.21%\n",
       " Taxi                                   35321  2.26%\n",
       " 4 dr sedan                             30058  1.92%\n",
       " Pick-up Truck                          28293  1.81%\n",
       " TAXI                                   27702  1.77%\n",
       " Bike                                   25062  1.60%\n",
       " Box Truck                              24234  1.55%\n",
       " VAN                                    22769  1.46%\n",
       " OTHER                                  21691  1.39%\n",
       " BICYCLE                                18554  1.19%\n",
       " Bus                                    16318  1.04%\n",
       " LARGE COM VEH(6 OR MORE TIRES)         13687  0.88%\n",
       " SMALL COM VEH(4 TIRES)                 12962  0.83%\n",
       " BUS                                    11502  0.74%\n",
       " PICK-UP TRUCK                          10672  0.68%\n",
       " Tractor Truck Diesel                    8928  0.57%\n",
       " RD BLDNG M                                 1  0.00%\n",
       " omnibus                                    1  0.00%\n",
       " SCHOOLBUS                                  1  0.00%\n",
       " Fire Engin                                 1  0.00%\n",
       " LSA                                        1  0.00%\n",
       " \n",
       " \n",
       " ,\n",
       " VEHICLE TYPE CODE 3 Info\n",
       " --------------------------  -------\n",
       " Data Type                   object\n",
       " Count                       127924\n",
       " Unique Values               217\n",
       " Null Values                 1773273\n",
       " \n",
       " Value                                  Count  % of total\n",
       " -----------------------------------  -------  ------------\n",
       " Sedan                                  37203  29.08%\n",
       " Station Wagon/Sport Utility Vehicle    30074  23.51%\n",
       " PASSENGER VEHICLE                      27713  21.66%\n",
       " SPORT UTILITY / STATION WAGON          13358  10.44%\n",
       " UNKNOWN                                 3283  2.57%\n",
       " 4 dr sedan                              2560  2.00%\n",
       " Taxi                                    1991  1.56%\n",
       " Pick-up Truck                           1862  1.46%\n",
       " VAN                                     1366  1.07%\n",
       " OTHER                                   1045  0.82%\n",
       " TAXI                                     980  0.77%\n",
       " Box Truck                                657  0.51%\n",
       " PICK-UP TRUCK                            619  0.48%\n",
       " LARGE COM VEH(6 OR MORE TIRES)           441  0.34%\n",
       " SMALL COM VEH(4 TIRES)                   435  0.34%\n",
       " Bus                                      427  0.33%\n",
       " LIVERY VEHICLE                           424  0.33%\n",
       " BUS                                      395  0.31%\n",
       " Bike                                     374  0.29%\n",
       " Motorcycle                               330  0.26%\n",
       " FOOD TRUCK                                 1  0.00%\n",
       " UNKOWN                                     1  0.00%\n",
       " USPS POSTA                                 1  0.00%\n",
       " HOME MADE                                  1  0.00%\n",
       " JEEP                                       1  0.00%\n",
       " \n",
       " \n",
       " ,\n",
       " VEHICLE TYPE CODE 4 Info\n",
       " --------------------------  -------\n",
       " Data Type                   object\n",
       " Count                       28284\n",
       " Unique Values               87\n",
       " Null Values                 1872913\n",
       " \n",
       " Value                                  Count  % of total\n",
       " -----------------------------------  -------  ------------\n",
       " Sedan                                   8821  31.19%\n",
       " Station Wagon/Sport Utility Vehicle     7134  25.22%\n",
       " PASSENGER VEHICLE                       5969  21.10%\n",
       " SPORT UTILITY / STATION WAGON           2852  10.08%\n",
       " UNKNOWN                                  595  2.10%\n",
       " 4 dr sedan                               566  2.00%\n",
       " Taxi                                     399  1.41%\n",
       " Pick-up Truck                            389  1.38%\n",
       " VAN                                      242  0.86%\n",
       " OTHER                                    189  0.67%\n",
       " TAXI                                     144  0.51%\n",
       " PICK-UP TRUCK                            112  0.40%\n",
       " Box Truck                                 95  0.34%\n",
       " Bus                                       79  0.28%\n",
       " Motorcycle                                60  0.21%\n",
       " LARGE COM VEH(6 OR MORE TIRES)            58  0.21%\n",
       " SMALL COM VEH(4 TIRES)                    56  0.20%\n",
       " LIVERY VEHICLE                            54  0.19%\n",
       " BUS                                       52  0.18%\n",
       " Van                                       50  0.18%\n",
       " trail                                      1  0.00%\n",
       " dump                                       1  0.00%\n",
       " PAS 5                                      1  0.00%\n",
       " Box                                        1  0.00%\n",
       " Open Body                                  1  0.00%\n",
       " \n",
       " \n",
       " ,\n",
       " VEHICLE TYPE CODE 5 Info\n",
       " --------------------------  -------\n",
       " Data Type                   object\n",
       " Count                       7579\n",
       " Unique Values               58\n",
       " Null Values                 1893618\n",
       " \n",
       " Value                                  Count  % of total\n",
       " -----------------------------------  -------  ------------\n",
       " Sedan                                   2459  32.44%\n",
       " Station Wagon/Sport Utility Vehicle     1992  26.28%\n",
       " PASSENGER VEHICLE                       1487  19.62%\n",
       " SPORT UTILITY / STATION WAGON            802  10.58%\n",
       " Pick-up Truck                            123  1.62%\n",
       " 4 dr sedan                               123  1.62%\n",
       " UNKNOWN                                   94  1.24%\n",
       " Taxi                                      93  1.23%\n",
       " VAN                                       50  0.66%\n",
       " OTHER                                     49  0.65%\n",
       " PICK-UP TRUCK                             31  0.41%\n",
       " TAXI                                      31  0.41%\n",
       " Box Truck                                 29  0.38%\n",
       " Van                                       22  0.29%\n",
       " Motorcycle                                18  0.24%\n",
       " Bus                                       17  0.22%\n",
       " 2 dr sedan                                14  0.18%\n",
       " LARGE COM VEH(6 OR MORE TIRES)            13  0.17%\n",
       " Bike                                      12  0.16%\n",
       " Tractor Truck Diesel                      10  0.13%\n",
       " Tanker                                     1  0.01%\n",
       " Bulk Agriculture                           1  0.01%\n",
       " Flat Rack                                  1  0.01%\n",
       " OML                                        1  0.01%\n",
       " back                                       1  0.01%\n",
       " \n",
       " \n",
       " )"
      ]
     },
     "execution_count": 12,
     "metadata": {},
     "output_type": "execute_result"
    }
   ],
   "source": [
    "vtype1_report = ph.SeriesProfile(data[\"VEHICLE TYPE CODE 1\"])\n",
    "vtype2_report = ph.SeriesProfile(data[\"VEHICLE TYPE CODE 2\"])\n",
    "vtype3_report = ph.SeriesProfile(data[\"VEHICLE TYPE CODE 3\"])\n",
    "vtype4_report = ph.SeriesProfile(data[\"VEHICLE TYPE CODE 4\"])\n",
    "vtype5_report = ph.SeriesProfile(data[\"VEHICLE TYPE CODE 5\"])\n",
    "vtype1_report, vtype2_report, vtype3_report, vtype4_report, vtype5_report"
   ]
  },
  {
   "cell_type": "markdown",
   "id": "67fcfca4",
   "metadata": {},
   "source": [
    "__Vehicle type categories are somewhat unclear__\n",
    "- \"Passenger vehicle\" is one of the biggest categories. What does 'passenger vehicle' mean given that there are already categories for sedans and SUVs?"
   ]
  },
  {
   "cell_type": "markdown",
   "id": "1ed343a4",
   "metadata": {},
   "source": [
    "# Are there significant gaps in data collection over time?"
   ]
  },
  {
   "cell_type": "markdown",
   "id": "fe824301",
   "metadata": {},
   "source": [
    "Adding a datetime column to make temporal analysis easier"
   ]
  },
  {
   "cell_type": "code",
   "execution_count": 13,
   "id": "5c3c5a85",
   "metadata": {},
   "outputs": [],
   "source": [
    "dt_format = \"%m/%d/%Y %H:%M\"\n",
    "data[\"datetime\"] = data[\"CRASH DATE\"] + \" \" + data[\"CRASH TIME\"]\n",
    "data[\"datetime\"] = data[\"datetime\"].apply(lambda x: datetime.strptime(x, dt_format))"
   ]
  },
  {
   "cell_type": "markdown",
   "id": "1b02dbf2",
   "metadata": {},
   "source": [
    "Examining daily collisions, injuries, and deaths to check to gaps in the data"
   ]
  },
  {
   "cell_type": "code",
   "execution_count": 14,
   "id": "26cc8dc7",
   "metadata": {},
   "outputs": [],
   "source": [
    "daily_collisions = data.groupby(by=data[\"datetime\"].dt.date)[\"COLLISION_ID\"].count()\n",
    "daily_injuries = data.groupby(by=data[\"datetime\"].dt.date)[\n",
    "    \"NUMBER OF PERSONS INJURED\"\n",
    "].sum()\n",
    "daily_deaths = data.groupby(by=data[\"datetime\"].dt.date)[\n",
    "    \"NUMBER OF PERSONS KILLED\"\n",
    "].sum()"
   ]
  },
  {
   "cell_type": "code",
   "execution_count": 15,
   "id": "a6175f94",
   "metadata": {},
   "outputs": [
    {
     "data": {
      "image/png": "[encoded data removed]",
      "text/plain": [
       "<Figure size 1296x720 with 1 Axes>"
      ]
     },
     "metadata": {
      "needs_background": "light"
     },
     "output_type": "display_data"
    }
   ],
   "source": [
    "fig, ax = plt.subplots()\n",
    "fig.set_size_inches((18, 10))\n",
    "ax.set_title(\"Daily NYC Vehicle Collisions, Injuries, and Deaths\", fontsize=20)\n",
    "ax.set_xlabel(\"Year\", fontsize=16, labelpad=10)\n",
    "ax.set_ylabel(\"Daily Sum\\n(log scale)\", fontsize=16, rotation=0, labelpad=25)\n",
    "ax.tick_params(axis=\"both\", which=\"major\", labelsize=14)\n",
    "ax.set_yscale(\"log\")\n",
    "ax.yaxis.set_major_formatter(\"{x:.0f}\")\n",
    "ax.scatter(y=daily_collisions, x=daily_collisions.index, s=4)  # s is marker size\n",
    "ax.scatter(y=daily_injuries, x=daily_injuries.index, s=4)\n",
    "ax.scatter(y=daily_deaths, x=daily_deaths.index, s=4)\n",
    "ax.legend([\"Collisions\", \"Injuries\", \"Deaths\"], fontsize=14, markerscale=3)\n",
    "plt.show()"
   ]
  },
  {
   "cell_type": "code",
   "execution_count": 16,
   "id": "45967bd1",
   "metadata": {},
   "outputs": [
    {
     "data": {
      "image/png": "[encoded data removed]",
      "text/plain": [
       "<Figure size 1800x1000 with 1 Axes>"
      ]
     },
     "metadata": {},
     "output_type": "display_data"
    }
   ],
   "source": [
    "annual = pd.DataFrame()\n",
    "annual[\"Collisions\"] = data.groupby(by=data[\"datetime\"].dt.year)[\"COLLISION_ID\"].count()\n",
    "annual[\"Injured\"] = data.groupby(by=data[\"datetime\"].dt.year)[\n",
    "    \"NUMBER OF PERSONS INJURED\"\n",
    "].sum()\n",
    "annual[\"Deaths\"] = data.groupby(by=data[\"datetime\"].dt.year)[\n",
    "    \"NUMBER OF PERSONS KILLED\"\n",
    "].sum()\n",
    "annual_labels = {\n",
    "    \"title\": \"Annual NYC Vehicle Collisions, Injuries, and Deaths\",\n",
    "    \"y_label\": \"(log scale)\",\n",
    "    \"x_label\": \"Year\",\n",
    "}\n",
    "groups = [\n",
    "    \"Collisions\",\n",
    "    \"Injuries\",\n",
    "    \"Deaths\",\n",
    "]\n",
    "viz.make_grouped_bar_chart(\n",
    "    annual,\n",
    "    **annual_labels,\n",
    "    legend_labels=groups,\n",
    "    colors=viz.CYCLE_COLORS,\n",
    "    legend_handleheight=2.0,\n",
    "    bar_label_bbox={\"facecolor\": \"white\", \"edgecolor\": \"none\", \"alpha\": 0.8},\n",
    "    logscale=True,\n",
    "    minor_ticks_off=True,\n",
    "    ylabel_rotation=\"vertical\",\n",
    "    ylabel_pad=10,\n",
    "    legend_bbox=(1.02, 0.9),\n",
    ")"
   ]
  },
  {
   "cell_type": "code",
   "execution_count": 17,
   "id": "22aa6a45",
   "metadata": {},
   "outputs": [
    {
     "data": {
      "text/plain": [
       "(Timestamp('2012-07-01 00:05:00'), Timestamp('2022-06-14 23:55:00'))"
      ]
     },
     "execution_count": 17,
     "metadata": {},
     "output_type": "execute_result"
    }
   ],
   "source": [
    "data[\"datetime\"].min(), data[\"datetime\"].max()"
   ]
  },
  {
   "cell_type": "markdown",
   "id": "41dac481",
   "metadata": {},
   "source": [
    "- __There does not appear to a significant gap in data collection going back to the start of the data set (July 2012)__\n",
    "- __Fatal collisions are a small percentage of the dataset. Collisions with injuries are more common__\n",
    "- __Let's limit the scope of analysis to 1 January 2013 to 31 December 2021, a 9 year span, for reproducibility purposes__"
   ]
  },
  {
   "cell_type": "code",
   "execution_count": 18,
   "id": "ae351ba3",
   "metadata": {},
   "outputs": [
    {
     "data": {
      "text/plain": [
       "(Timestamp('2013-01-01 00:01:00'), Timestamp('2021-12-31 23:57:00'))"
      ]
     },
     "execution_count": 18,
     "metadata": {},
     "output_type": "execute_result"
    }
   ],
   "source": [
    "start = datetime(year=2013, month=1, day=1)\n",
    "end = datetime(year=2022, month=1, day=1)\n",
    "crashes = data[data[\"datetime\"].between(start, end, inclusive=\"left\")].copy()\n",
    "crashes[\"datetime\"].min(), crashes[\"datetime\"].max()"
   ]
  },
  {
   "cell_type": "markdown",
   "id": "ff831fc9",
   "metadata": {},
   "source": [
    "# Does 'NUMBER OF PERSONS INJURED' match the separate 'INJURED' categories?"
   ]
  },
  {
   "cell_type": "code",
   "execution_count": 19,
   "id": "2e537552",
   "metadata": {},
   "outputs": [
    {
     "data": {
      "text/plain": [
       "2744"
      ]
     },
     "execution_count": 19,
     "metadata": {},
     "output_type": "execute_result"
    }
   ],
   "source": [
    "crashes[\"sum injured categories\"] = (\n",
    "    crashes[\"NUMBER OF PEDESTRIANS INJURED\"]\n",
    "    + crashes[\"NUMBER OF CYCLIST INJURED\"]\n",
    "    + crashes[\"NUMBER OF MOTORIST INJURED\"]\n",
    ")\n",
    "num_mismatch = len(\n",
    "    crashes[crashes[\"sum injured categories\"] != crashes[\"NUMBER OF PERSONS INJURED\"]]\n",
    ")\n",
    "num_mismatch"
   ]
  },
  {
   "cell_type": "code",
   "execution_count": 20,
   "id": "9ad525d8",
   "metadata": {},
   "outputs": [
    {
     "data": {
      "text/plain": [
       "0.0015637261131433346"
      ]
     },
     "execution_count": 20,
     "metadata": {},
     "output_type": "execute_result"
    }
   ],
   "source": [
    "num_mismatch / len(crashes)"
   ]
  },
  {
   "cell_type": "markdown",
   "id": "587868a1",
   "metadata": {},
   "source": [
    "There do appear to be ~2700 collisions (or < 0.2% of total collisions) where the 'NUMBER OF PERSONS INJURED' field does not match the sum of the distinct injured categories (pedestrian, cyclist, motorist)"
   ]
  },
  {
   "cell_type": "code",
   "execution_count": 21,
   "id": "5f8cf5db",
   "metadata": {
    "scrolled": false
   },
   "outputs": [
    {
     "data": {
      "text/plain": [
       "2411.0"
      ]
     },
     "execution_count": 21,
     "metadata": {},
     "output_type": "execute_result"
    }
   ],
   "source": [
    "total_injured = crashes[\"NUMBER OF PERSONS INJURED\"].sum()\n",
    "difference = (\n",
    "    crashes[\"NUMBER OF PERSONS INJURED\"].sum() - crashes[\"sum injured categories\"].sum()\n",
    ")\n",
    "difference"
   ]
  },
  {
   "cell_type": "code",
   "execution_count": 22,
   "id": "1dfe619e",
   "metadata": {},
   "outputs": [
    {
     "data": {
      "text/plain": [
       "0.004837625530463397"
      ]
     },
     "execution_count": 22,
     "metadata": {},
     "output_type": "execute_result"
    }
   ],
   "source": [
    "(difference / total_injured)"
   ]
  },
  {
   "cell_type": "markdown",
   "id": "0649abcf",
   "metadata": {},
   "source": [
    "- The cumulative discrepancy between the 'NUMBER OF PERSONS INJURED' field and the sum of the distinct injury fields (pedestrian, cyclist, motorist) is ~2400 injuries or < 0.5%\n",
    "- __Given the relatively small difference, we will use the separate 'injury' fields in our analyses going forward__\n"
   ]
  },
  {
   "cell_type": "markdown",
   "id": "6d308884",
   "metadata": {},
   "source": [
    "# Does 'NUMBER OF PERSONS KILLED' match the separate 'KILLED' categories?"
   ]
  },
  {
   "cell_type": "code",
   "execution_count": 23,
   "id": "3c0d5275",
   "metadata": {},
   "outputs": [
    {
     "data": {
      "text/plain": [
       "57"
      ]
     },
     "execution_count": 23,
     "metadata": {},
     "output_type": "execute_result"
    }
   ],
   "source": [
    "crashes[\"sum killed categories\"] = (\n",
    "    crashes[\"NUMBER OF PEDESTRIANS KILLED\"]\n",
    "    + crashes[\"NUMBER OF CYCLIST KILLED\"]\n",
    "    + crashes[\"NUMBER OF MOTORIST KILLED\"]\n",
    ")\n",
    "len(crashes[crashes[\"sum killed categories\"] != crashes[\"NUMBER OF PERSONS KILLED\"]])"
   ]
  },
  {
   "cell_type": "code",
   "execution_count": 24,
   "id": "8a47744c",
   "metadata": {},
   "outputs": [
    {
     "data": {
      "text/plain": [
       "14.0"
      ]
     },
     "execution_count": 24,
     "metadata": {},
     "output_type": "execute_result"
    }
   ],
   "source": [
    "total_killed = crashes[\"NUMBER OF PERSONS KILLED\"].sum()\n",
    "difference_deaths = (\n",
    "    crashes[\"NUMBER OF PERSONS KILLED\"].sum() - crashes[\"sum killed categories\"].sum()\n",
    ")\n",
    "difference_deaths"
   ]
  },
  {
   "cell_type": "code",
   "execution_count": 25,
   "id": "a1f5d702",
   "metadata": {},
   "outputs": [
    {
     "data": {
      "text/plain": [
       "0.00598035027765912"
      ]
     },
     "execution_count": 25,
     "metadata": {},
     "output_type": "execute_result"
    }
   ],
   "source": [
    "(difference_deaths / total_killed)"
   ]
  },
  {
   "cell_type": "markdown",
   "id": "53efc9f7",
   "metadata": {},
   "source": [
    "- There are ~60 collisions with differences between the 'NUMBER OF PERSONS KILLED' field and the sum of the separate killed fields (pedestrian, cyclist, motorist). The 14 death discrepancy represents a small percent of the total deaths (< 0.6%)\n",
    "\n",
    "- __Once again given the relatively small difference, we will use the separate 'killed' fields in our analyses going forward__"
   ]
  },
  {
   "cell_type": "markdown",
   "id": "ad73515e",
   "metadata": {},
   "source": [
    "# Are many serious collisions missing location information? \n",
    "\n",
    "- We define _serious_ as a collision that results in injury or death. \n",
    "- Future analyses will tend to focus on serious collisions"
   ]
  },
  {
   "cell_type": "code",
   "execution_count": 26,
   "id": "b991bdf5",
   "metadata": {
    "scrolled": true
   },
   "outputs": [],
   "source": [
    "crashes[\"serious_accident\"] = (crashes[\"NUMBER OF PERSONS INJURED\"] > 0) | (\n",
    "    crashes[\"NUMBER OF PERSONS KILLED\"] > 0\n",
    ")\n",
    "crashes[\"lat_long_missing\"] = crashes[\"LOCATION\"].isna()"
   ]
  },
  {
   "cell_type": "code",
   "execution_count": 27,
   "id": "e8023113",
   "metadata": {
    "scrolled": true
   },
   "outputs": [
    {
     "data": {
      "text/plain": [
       "0.8853789898808001"
      ]
     },
     "execution_count": 27,
     "metadata": {},
     "output_type": "execute_result"
    }
   ],
   "source": [
    "(len(crashes) - crashes[\"lat_long_missing\"].sum()) / len(crashes)"
   ]
  },
  {
   "cell_type": "markdown",
   "id": "082290ad",
   "metadata": {},
   "source": [
    "~89% of collisions have lat_long coordinates"
   ]
  },
  {
   "cell_type": "code",
   "execution_count": 28,
   "id": "ce810689",
   "metadata": {
    "scrolled": true
   },
   "outputs": [
    {
     "data": {
      "text/html": [
       "<div>\n",
       "<style scoped>\n",
       "    .dataframe tbody tr th:only-of-type {\n",
       "        vertical-align: middle;\n",
       "    }\n",
       "\n",
       "    .dataframe tbody tr th {\n",
       "        vertical-align: top;\n",
       "    }\n",
       "\n",
       "    .dataframe thead th {\n",
       "        text-align: right;\n",
       "    }\n",
       "</style>\n",
       "<table border=\"1\" class=\"dataframe\">\n",
       "  <thead>\n",
       "    <tr style=\"text-align: right;\">\n",
       "      <th>serious_accident</th>\n",
       "      <th>False</th>\n",
       "      <th>True</th>\n",
       "      <th>All</th>\n",
       "    </tr>\n",
       "    <tr>\n",
       "      <th>lat_long_missing</th>\n",
       "      <th></th>\n",
       "      <th></th>\n",
       "      <th></th>\n",
       "    </tr>\n",
       "  </thead>\n",
       "  <tbody>\n",
       "    <tr>\n",
       "      <th>False</th>\n",
       "      <td>0.697972</td>\n",
       "      <td>0.187407</td>\n",
       "      <td>0.885379</td>\n",
       "    </tr>\n",
       "    <tr>\n",
       "      <th>True</th>\n",
       "      <td>0.092149</td>\n",
       "      <td>0.022472</td>\n",
       "      <td>0.114621</td>\n",
       "    </tr>\n",
       "    <tr>\n",
       "      <th>All</th>\n",
       "      <td>0.790122</td>\n",
       "      <td>0.209878</td>\n",
       "      <td>1.000000</td>\n",
       "    </tr>\n",
       "  </tbody>\n",
       "</table>\n",
       "</div>"
      ],
      "text/plain": [
       "serious_accident     False      True       All\n",
       "lat_long_missing                              \n",
       "False             0.697972  0.187407  0.885379\n",
       "True              0.092149  0.022472  0.114621\n",
       "All               0.790122  0.209878  1.000000"
      ]
     },
     "execution_count": 28,
     "metadata": {},
     "output_type": "execute_result"
    }
   ],
   "source": [
    "pd.crosstab(\n",
    "    index=crashes[\"lat_long_missing\"],\n",
    "    columns=crashes[\"serious_accident\"],\n",
    "    margins=True,\n",
    "    normalize=True,\n",
    ")"
   ]
  },
  {
   "cell_type": "code",
   "execution_count": 29,
   "id": "9eb9192b",
   "metadata": {},
   "outputs": [
    {
     "data": {
      "text/plain": [
       "7.032880091635499e-59"
      ]
     },
     "execution_count": 29,
     "metadata": {},
     "output_type": "execute_result"
    }
   ],
   "source": [
    "contingency_table = pd.crosstab(\n",
    "    index=crashes[\"lat_long_missing\"], columns=crashes[\"serious_accident\"]\n",
    ")\n",
    "chi2_results = scipy.stats.chi2_contingency(contingency_table)\n",
    "p_val = chi2_results[1]\n",
    "p_val"
   ]
  },
  {
   "cell_type": "code",
   "execution_count": 30,
   "id": "e38d4c94",
   "metadata": {},
   "outputs": [
    {
     "data": {
      "text/plain": [
       "0.21166828007373614"
      ]
     },
     "execution_count": 30,
     "metadata": {},
     "output_type": "execute_result"
    }
   ],
   "source": [
    "# col, row indexing\n",
    "percent_with_lat_long_that_are_serious = contingency_table[1][0] / (\n",
    "    contingency_table[0][0] + contingency_table[1][0]\n",
    ")\n",
    "percent_with_lat_long_that_are_serious"
   ]
  },
  {
   "cell_type": "code",
   "execution_count": 31,
   "id": "ba953755",
   "metadata": {},
   "outputs": [
    {
     "data": {
      "text/plain": [
       "0.19605240261515897"
      ]
     },
     "execution_count": 31,
     "metadata": {},
     "output_type": "execute_result"
    }
   ],
   "source": [
    "percent_missing_lat_long_that_are_serious = contingency_table[1][1] / (\n",
    "    contingency_table[0][1] + contingency_table[1][1]\n",
    ")\n",
    "percent_missing_lat_long_that_are_serious"
   ]
  },
  {
   "cell_type": "code",
   "execution_count": 32,
   "id": "82c66fd8",
   "metadata": {},
   "outputs": [
    {
     "data": {
      "text/plain": [
       "0.10707022436062787"
      ]
     },
     "execution_count": 32,
     "metadata": {},
     "output_type": "execute_result"
    }
   ],
   "source": [
    "percent_serious_missing_lat_long = contingency_table[1][1] / (\n",
    "    contingency_table[1][0] + contingency_table[1][1]\n",
    ")\n",
    "percent_serious_missing_lat_long"
   ]
  },
  {
   "cell_type": "markdown",
   "id": "87853bc0",
   "metadata": {},
   "source": [
    "- The p-value of the Chi-squared test is ~0\n",
    "- Using the Chi-squared test, we reject the null hypothesis that the percentage of collisions with injuries is the same for the population with lat-longs coordinates as for the population without lat-longs coordinates\n",
    "- Approximately ~21% of the collisions that have lat-long coordinates are serious (with injuries or deaths)\n",
    "- Approximately ~20% of the collisions that are missing coordinates are serious\n",
    "- Serious collisions seem to be more likely to have lat-long coordinates with than less serious collisions\n",
    "- ___The good news is that an analysis requiring lat-longs will not exclude data with a higher concentration of serious collisions___\n",
    "- ___The bad news is that ~11% of serious accidents will be removed from the dataset by excluding collisions without lat-long coordinates___"
   ]
  },
  {
   "cell_type": "markdown",
   "id": "10a12814",
   "metadata": {},
   "source": [
    "A quick view of some serious accidents that are missing coordinates suggests that a more in-depth analysis could obtain approximate lat-long coordinates for some of the serious accidents based on other location data"
   ]
  },
  {
   "cell_type": "code",
   "execution_count": 33,
   "id": "50156a5c",
   "metadata": {
    "scrolled": false
   },
   "outputs": [
    {
     "data": {
      "text/html": [
       "<div>\n",
       "<style scoped>\n",
       "    .dataframe tbody tr th:only-of-type {\n",
       "        vertical-align: middle;\n",
       "    }\n",
       "\n",
       "    .dataframe tbody tr th {\n",
       "        vertical-align: top;\n",
       "    }\n",
       "\n",
       "    .dataframe thead th {\n",
       "        text-align: right;\n",
       "    }\n",
       "</style>\n",
       "<table border=\"1\" class=\"dataframe\">\n",
       "  <thead>\n",
       "    <tr style=\"text-align: right;\">\n",
       "      <th></th>\n",
       "      <th>ON STREET NAME</th>\n",
       "      <th>CROSS STREET NAME</th>\n",
       "      <th>OFF STREET NAME</th>\n",
       "    </tr>\n",
       "  </thead>\n",
       "  <tbody>\n",
       "    <tr>\n",
       "      <th>8</th>\n",
       "      <td>GOWANUS RAMP</td>\n",
       "      <td>NaN</td>\n",
       "      <td>NaN</td>\n",
       "    </tr>\n",
       "    <tr>\n",
       "      <th>10</th>\n",
       "      <td>BEVERLEY ROAD</td>\n",
       "      <td>EAST 21 STREET</td>\n",
       "      <td>NaN</td>\n",
       "    </tr>\n",
       "    <tr>\n",
       "      <th>130</th>\n",
       "      <td>PARSONS BLVD</td>\n",
       "      <td>90 AVENUE</td>\n",
       "      <td>NaN</td>\n",
       "    </tr>\n",
       "    <tr>\n",
       "      <th>131</th>\n",
       "      <td>STATEN ISLAND EXPRESSWAY</td>\n",
       "      <td>NaN</td>\n",
       "      <td>NaN</td>\n",
       "    </tr>\n",
       "    <tr>\n",
       "      <th>164</th>\n",
       "      <td>Trans- Manhattan Expressway</td>\n",
       "      <td>Amsterdam Avenue</td>\n",
       "      <td>NaN</td>\n",
       "    </tr>\n",
       "    <tr>\n",
       "      <th>184</th>\n",
       "      <td>REVIEW AVENUE</td>\n",
       "      <td>RAILROAD AVENUE</td>\n",
       "      <td>NaN</td>\n",
       "    </tr>\n",
       "    <tr>\n",
       "      <th>200</th>\n",
       "      <td>ARCHER AVENUE</td>\n",
       "      <td>GUY R BREWER BLVD</td>\n",
       "      <td>NaN</td>\n",
       "    </tr>\n",
       "    <tr>\n",
       "      <th>208</th>\n",
       "      <td>WILLIAMSBURG BRIDGE OUTER ROADWA</td>\n",
       "      <td>NaN</td>\n",
       "      <td>NaN</td>\n",
       "    </tr>\n",
       "    <tr>\n",
       "      <th>250</th>\n",
       "      <td>BRUCKNER BOULEVARD</td>\n",
       "      <td>EAST 135 STREET</td>\n",
       "      <td>NaN</td>\n",
       "    </tr>\n",
       "    <tr>\n",
       "      <th>251</th>\n",
       "      <td>G.C.P. / LAGUARDIA (CDR)</td>\n",
       "      <td>NaN</td>\n",
       "      <td>NaN</td>\n",
       "    </tr>\n",
       "    <tr>\n",
       "      <th>292</th>\n",
       "      <td>BRONX WHITESTONE BRIDGE</td>\n",
       "      <td>NaN</td>\n",
       "      <td>NaN</td>\n",
       "    </tr>\n",
       "    <tr>\n",
       "      <th>309</th>\n",
       "      <td>EAST 128 STREET</td>\n",
       "      <td>3 AVENUE BRIDGE</td>\n",
       "      <td>NaN</td>\n",
       "    </tr>\n",
       "    <tr>\n",
       "      <th>340</th>\n",
       "      <td>THROGS NECK BRIDGE</td>\n",
       "      <td>NaN</td>\n",
       "      <td>NaN</td>\n",
       "    </tr>\n",
       "    <tr>\n",
       "      <th>408</th>\n",
       "      <td>Leonard street</td>\n",
       "      <td>Wallabout Street</td>\n",
       "      <td>NaN</td>\n",
       "    </tr>\n",
       "    <tr>\n",
       "      <th>447</th>\n",
       "      <td>FDR DRIVE</td>\n",
       "      <td>NaN</td>\n",
       "      <td>NaN</td>\n",
       "    </tr>\n",
       "    <tr>\n",
       "      <th>498</th>\n",
       "      <td>PELHAM PARKWAY</td>\n",
       "      <td>NaN</td>\n",
       "      <td>NaN</td>\n",
       "    </tr>\n",
       "    <tr>\n",
       "      <th>503</th>\n",
       "      <td>CROSS ISLAND PARKWAY</td>\n",
       "      <td>NaN</td>\n",
       "      <td>NaN</td>\n",
       "    </tr>\n",
       "    <tr>\n",
       "      <th>524</th>\n",
       "      <td>CLEARVIEW EXPRESSWAY</td>\n",
       "      <td>26 AVENUE</td>\n",
       "      <td>NaN</td>\n",
       "    </tr>\n",
       "    <tr>\n",
       "      <th>639</th>\n",
       "      <td>381A Marcus Garvey Blvd</td>\n",
       "      <td>STUYVESANT AVENUE</td>\n",
       "      <td>NaN</td>\n",
       "    </tr>\n",
       "    <tr>\n",
       "      <th>667</th>\n",
       "      <td>MACOMBS ROAD</td>\n",
       "      <td>FEATHERBED LANE</td>\n",
       "      <td>NaN</td>\n",
       "    </tr>\n",
       "  </tbody>\n",
       "</table>\n",
       "</div>"
      ],
      "text/plain": [
       "                       ON STREET NAME  CROSS STREET NAME OFF STREET NAME\n",
       "8    GOWANUS RAMP                                    NaN             NaN\n",
       "10   BEVERLEY ROAD                        EAST 21 STREET             NaN\n",
       "130                      PARSONS BLVD          90 AVENUE             NaN\n",
       "131          STATEN ISLAND EXPRESSWAY                NaN             NaN\n",
       "164       Trans- Manhattan Expressway   Amsterdam Avenue             NaN\n",
       "184                     REVIEW AVENUE    RAILROAD AVENUE             NaN\n",
       "200                     ARCHER AVENUE  GUY R BREWER BLVD             NaN\n",
       "208  WILLIAMSBURG BRIDGE OUTER ROADWA                NaN             NaN\n",
       "250                BRUCKNER BOULEVARD    EAST 135 STREET             NaN\n",
       "251  G.C.P. / LAGUARDIA (CDR)                        NaN             NaN\n",
       "292           BRONX WHITESTONE BRIDGE                NaN             NaN\n",
       "309                   EAST 128 STREET    3 AVENUE BRIDGE             NaN\n",
       "340                THROGS NECK BRIDGE                NaN             NaN\n",
       "408                    Leonard street   Wallabout Street             NaN\n",
       "447                         FDR DRIVE                NaN             NaN\n",
       "498                    PELHAM PARKWAY                NaN             NaN\n",
       "503  CROSS ISLAND PARKWAY                            NaN             NaN\n",
       "524              CLEARVIEW EXPRESSWAY          26 AVENUE             NaN\n",
       "639           381A Marcus Garvey Blvd  STUYVESANT AVENUE             NaN\n",
       "667                      MACOMBS ROAD    FEATHERBED LANE             NaN"
      ]
     },
     "execution_count": 33,
     "metadata": {},
     "output_type": "execute_result"
    }
   ],
   "source": [
    "serious_missing_location = crashes[\n",
    "    (crashes[\"LOCATION\"].isna()) & (crashes[\"serious_accident\"] == True)\n",
    "]\n",
    "serious_missing_location[\n",
    "    [\"ON STREET NAME\", \"CROSS STREET NAME\", \"OFF STREET NAME\"]\n",
    "].head(20)"
   ]
  },
  {
   "cell_type": "markdown",
   "id": "edbdc282",
   "metadata": {},
   "source": [
    "# Does 'LOCATION' match the individual 'LATITUDE' and 'LONGITUDE' fields?"
   ]
  },
  {
   "cell_type": "code",
   "execution_count": 34,
   "id": "3cc6d5d4",
   "metadata": {},
   "outputs": [],
   "source": [
    "def loc_string_to_tuple(s):\n",
    "    \"\"\"Helper function to convert strings in 'LOCATION' to numeric tuple\"\"\"\n",
    "    s = str(s)  # to handle 'nan's without checking type\n",
    "    if s == \"nan\":\n",
    "        ret = (float(\"nan\"), float(\"nan\"))\n",
    "    else:\n",
    "        s_list = s.strip().split(\",\")\n",
    "        ret = tuple(float(s.strip(\"()\")) for s in s_list)\n",
    "    return ret\n",
    "\n",
    "\n",
    "def tuples_match(tup1, tup2):\n",
    "    \"\"\"Check for tuple equality given that values may be float('nan'). \n",
    "    float('nan') != float('nan'). Returns Boolean\"\"\"\n",
    "    if math.isnan(tup1[0]):\n",
    "        return all([math.isnan(x) for x in (tup1 + tup2)])\n",
    "    else:\n",
    "        return tup1 == tup2"
   ]
  },
  {
   "cell_type": "code",
   "execution_count": 35,
   "id": "109a44f2",
   "metadata": {},
   "outputs": [
    {
     "data": {
      "text/plain": [
       "True"
      ]
     },
     "execution_count": 35,
     "metadata": {},
     "output_type": "execute_result"
    }
   ],
   "source": [
    "location = crashes[\"LOCATION\"].apply(loc_string_to_tuple)\n",
    "lat_long = list(zip(crashes[\"LATITUDE\"], crashes[\"LONGITUDE\"]))\n",
    "matches = [tuples_match(x[0], x[1]) for x in zip(location, lat_long)]\n",
    "all(matches)"
   ]
  },
  {
   "cell_type": "markdown",
   "id": "eb49c4d8",
   "metadata": {},
   "source": [
    "__'LOCATION' matches the individual 'LATITUDE' and 'LONGITUDE' fields__"
   ]
  },
  {
   "cell_type": "markdown",
   "id": "66959ec6",
   "metadata": {},
   "source": [
    "# Are there obviously wrong lat-long coordinates (far outside NYC)?"
   ]
  },
  {
   "cell_type": "code",
   "execution_count": 36,
   "id": "5a3b9825",
   "metadata": {},
   "outputs": [],
   "source": [
    "NYC_WEST_LIMIT = -74.30  # west of Staten Island\n",
    "NYC_EAST_LIMIT = -73.70  # east of Queens / Lakeville Rd.\n",
    "NYC_SOUTH_LIMIT = 40.45  # south of Staten Island\n",
    "NYC_NORTH_LIMIT = 40.95  # north of the Bronx\n",
    "crashes[\"good_lat_long\"] = (\n",
    "    crashes[\"LONGITUDE\"].between(NYC_WEST_LIMIT, NYC_EAST_LIMIT)\n",
    ") & (crashes[\"LATITUDE\"].between(NYC_SOUTH_LIMIT, NYC_NORTH_LIMIT))"
   ]
  },
  {
   "cell_type": "code",
   "execution_count": 37,
   "id": "dbc9f953",
   "metadata": {
    "scrolled": true
   },
   "outputs": [
    {
     "data": {
      "text/plain": [
       "0.9985170386084878"
      ]
     },
     "execution_count": 37,
     "metadata": {},
     "output_type": "execute_result"
    }
   ],
   "source": [
    "with_lat_long_sum = crashes[~crashes[\"lat_long_missing\"]][\"good_lat_long\"].count()\n",
    "good_lat_long_sum = crashes[~crashes[\"lat_long_missing\"]][\"good_lat_long\"].sum()\n",
    "good_lat_long_sum / with_lat_long_sum"
   ]
  },
  {
   "cell_type": "code",
   "execution_count": 38,
   "id": "36f9c4d5",
   "metadata": {},
   "outputs": [
    {
     "data": {
      "text/plain": [
       "2304"
      ]
     },
     "execution_count": 38,
     "metadata": {},
     "output_type": "execute_result"
    }
   ],
   "source": [
    "with_lat_long_sum - good_lat_long_sum"
   ]
  },
  {
   "cell_type": "markdown",
   "id": "2e1d2d93",
   "metadata": {},
   "source": [
    "~99.9% (or all but ~2300) of the collisions that have coordinates, have coordinates that are in vicinity of NYC. "
   ]
  },
  {
   "cell_type": "markdown",
   "id": "a5183bac",
   "metadata": {},
   "source": [
    "# Conclusions\n",
    "\n",
    "- The data contains time, location (in most cases), and the number of people injured or killed in automobile collisions dating back to 2012\n",
    "- There do not appear to be any significant gaps in data collection going back to 2012\n",
    "- There are some minor inconsistencies betweeen the total number of people injured or killed and their respective breakdown into pedestrian, cyclist, and motorist categories. We will be using the distinct categories going forward rather than the provided sum. The sum injured and killed fields can be recomputed from the separate categories\n",
    "- ~12% of collisions are missing location data\n",
    "- The 'LOCATION' field matches \"LATITUDE' and 'LONGITUDE' with no inconsistencies \n",
    "- ~99.9% of collisions with location data have coordinates that correspond to the NYC area"
   ]
  }
 ],
 "metadata": {
  "kernelspec": {
   "display_name": "Python 3 (ipykernel)",
   "language": "python",
   "name": "python3"
  },
  "language_info": {
   "codemirror_mode": {
    "name": "ipython",
    "version": 3
   },
   "file_extension": ".py",
   "mimetype": "text/x-python",
   "name": "python",
   "nbconvert_exporter": "python",
   "pygments_lexer": "ipython3",
   "version": "3.9.12"
  }
 },
 "nbformat": 4,
 "nbformat_minor": 5
}
