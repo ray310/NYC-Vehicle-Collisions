{
 "cells": [
  {
   "cell_type": "markdown",
   "id": "64afafe5",
   "metadata": {},
   "source": [
    "# Profiling NYC Collisions Data \n",
    "\n",
    "\n",
    "### Key Questions\n",
    "- What fields are there and are they useful? \n",
    "- Are the fields missing data?\n",
    "- Are there significant gaps in the data over time?\n",
    "- Are there inconsistencies in the total number of people injured or killed and their respective breakdowns into motorist, pedestrian, and cyclist?\n",
    "- Are many collisions missing location data? \n",
    "- Does 'location' match 'latititude' and 'longitude'?\n",
    "- Are collision locations near NYC? \n",
    "\n",
    "### Data Sources\n",
    "- Collision data obtained from https://data.cityofnewyork.us/Public-Safety/Motor-Vehicle-Collisions-Crashes/h9gi-nx95\n",
    " "
   ]
  },
  {
   "cell_type": "code",
   "execution_count": 1,
   "id": "ff499edc",
   "metadata": {
    "scrolled": true
   },
   "outputs": [],
   "source": [
    "from datetime import datetime\n",
    "import math\n",
    "import matplotlib.pyplot as plt\n",
    "import pandas as pd\n",
    "import pandahelper.reports as ph\n",
    "import scipy.stats\n",
    "from src import visualizations as viz\n",
    "from src.constants import NYC_WEST_LIMIT, NYC_EAST_LIMIT, NYC_SOUTH_LIMIT, NYC_NORTH_LIMIT"
   ]
  },
  {
   "cell_type": "code",
   "execution_count": 2,
   "id": "040946b6",
   "metadata": {},
   "outputs": [],
   "source": [
    "DATA_LOC = \"data/raw/Collisions.csv\""
   ]
  },
  {
   "cell_type": "code",
   "execution_count": 3,
   "id": "52cd25c8",
   "metadata": {},
   "outputs": [],
   "source": [
    "data = pd.read_csv(\n",
    "    DATA_LOC,\n",
    "    dtype={\"ZIP CODE\": \"object\"},\n",
    "    low_memory=False,\n",
    ")  # read_csv interprets zip code as mixed type"
   ]
  },
  {
   "cell_type": "markdown",
   "id": "0f61aeed",
   "metadata": {},
   "source": [
    "# Overview of DataFrame"
   ]
  },
  {
   "cell_type": "code",
   "execution_count": 4,
   "id": "bed9cf75",
   "metadata": {
    "scrolled": true
   },
   "outputs": [
    {
     "data": {
      "text/plain": [
       "DataFrame-Level Info\n",
       "----------------------  -------------\n",
       "DF Shape                (2093912, 29)\n",
       "Duplicated Rows         0\n",
       "\n",
       "Series Name                    Data Type\n",
       "-----------------------------  -----------\n",
       "CRASH DATE                     object\n",
       "CRASH TIME                     object\n",
       "BOROUGH                        object\n",
       "ZIP CODE                       object\n",
       "LATITUDE                       float64\n",
       "LONGITUDE                      float64\n",
       "LOCATION                       object\n",
       "ON STREET NAME                 object\n",
       "CROSS STREET NAME              object\n",
       "OFF STREET NAME                object\n",
       "NUMBER OF PERSONS INJURED      float64\n",
       "NUMBER OF PERSONS KILLED       float64\n",
       "NUMBER OF PEDESTRIANS INJURED  int64\n",
       "NUMBER OF PEDESTRIANS KILLED   int64\n",
       "NUMBER OF CYCLIST INJURED      int64\n",
       "NUMBER OF CYCLIST KILLED       int64\n",
       "NUMBER OF MOTORIST INJURED     int64\n",
       "NUMBER OF MOTORIST KILLED      int64\n",
       "CONTRIBUTING FACTOR VEHICLE 1  object\n",
       "CONTRIBUTING FACTOR VEHICLE 2  object\n",
       "CONTRIBUTING FACTOR VEHICLE 3  object\n",
       "CONTRIBUTING FACTOR VEHICLE 4  object\n",
       "CONTRIBUTING FACTOR VEHICLE 5  object\n",
       "COLLISION_ID                   int64\n",
       "VEHICLE TYPE CODE 1            object\n",
       "VEHICLE TYPE CODE 2            object\n",
       "VEHICLE TYPE CODE 3            object\n",
       "VEHICLE TYPE CODE 4            object\n",
       "VEHICLE TYPE CODE 5            object\n",
       "\n",
       "Summary of Nulls Per Row\n",
       "--------------------------  ------------\n",
       "count                        2.09391e+06\n",
       "min                          1\n",
       "1%                           4\n",
       "5%                           7\n",
       "25%                          7\n",
       "50%                          8\n",
       "75%                         10\n",
       "95%                         12\n",
       "99%                         14\n",
       "max                         18\n",
       "median                       8\n",
       "mean                         8.55919\n",
       "median absolute deviation    1\n",
       "standard deviation           2.10974\n",
       "skew                         0.610835\n"
      ]
     },
     "execution_count": 4,
     "metadata": {},
     "output_type": "execute_result"
    }
   ],
   "source": [
    "ph.DataFrameProfile(data)"
   ]
  },
  {
   "cell_type": "markdown",
   "id": "c943f20e",
   "metadata": {},
   "source": [
    "# Examining individual fields (columns)"
   ]
  },
  {
   "cell_type": "code",
   "execution_count": 5,
   "id": "4b7f0147",
   "metadata": {
    "scrolled": true
   },
   "outputs": [
    {
     "data": {
      "text/plain": [
       "COLLISION_ID Info\n",
       "-------------------  -------\n",
       "Data Type            int64\n",
       "Count                2093912\n",
       "Unique Values        2093912\n",
       "Null Values          0\n",
       "\n",
       "  Value    Count  % of total\n",
       "-------  -------  ------------\n",
       "4455765        1  0.00%\n",
       "3163026        1  0.00%\n",
       "3161700        1  0.00%\n",
       "3169238        1  0.00%\n",
       "3162313        1  0.00%\n",
       "3168566        1  0.00%\n",
       "3173657        1  0.00%\n",
       "3170268        1  0.00%\n",
       "3165347        1  0.00%\n",
       "3171253        1  0.00%\n",
       "3161746        1  0.00%\n",
       "3174082        1  0.00%\n",
       "3162715        1  0.00%\n",
       "3160573        1  0.00%\n",
       "3170674        1  0.00%\n",
       "3159869        1  0.00%\n",
       "3166093        1  0.00%\n",
       "3170118        1  0.00%\n",
       "3174533        1  0.00%\n",
       "3164891        1  0.00%\n",
       "3864835        1  0.00%\n",
       "3859987        1  0.00%\n",
       "3869251        1  0.00%\n",
       "3854438        1  0.00%\n",
       "4730198        1  0.00%\n",
       "\n",
       "Statistic                             Value\n",
       "-------------------------  ----------------\n",
       "count                           2.09391e+06\n",
       "min                            22\n",
       "1%                          21086.1\n",
       "5%                         105550\n",
       "25%                             3.1596e+06\n",
       "50%                             3.6832e+06\n",
       "75%                             4.20692e+06\n",
       "95%                             4.62578e+06\n",
       "99%                             4.70954e+06\n",
       "max                             4.73068e+06\n",
       "median                          3.6832e+06\n",
       "mean                            3.17341e+06\n",
       "median absolute deviation  523663\n",
       "standard deviation              1.50559e+06\n",
       "skew                           -1.22937\n"
      ]
     },
     "execution_count": 5,
     "metadata": {},
     "output_type": "execute_result"
    }
   ],
   "source": [
    "collision_id_report = ph.SeriesProfile(data[\"COLLISION_ID\"])\n",
    "collision_id_report"
   ]
  },
  {
   "cell_type": "markdown",
   "id": "1c4200bd",
   "metadata": {},
   "source": [
    "Collision_ID is the primary key according to the dataset dictionary. We confirm that all its values are unique."
   ]
  },
  {
   "cell_type": "code",
   "execution_count": 6,
   "id": "eb432080",
   "metadata": {
    "scrolled": true
   },
   "outputs": [
    {
     "data": {
      "text/plain": [
       "(CRASH TIME Info\n",
       " -----------------  -------\n",
       " Data Type          object\n",
       " Count              2093912\n",
       " Unique Values      1440\n",
       " Null Values        0\n",
       " \n",
       " Value      Count  % of total\n",
       " -------  -------  ------------\n",
       " 16:00      28567  1.36%\n",
       " 17:00      28053  1.34%\n",
       " 15:00      28019  1.34%\n",
       " 18:00      25920  1.24%\n",
       " 14:00      25677  1.23%\n",
       " 13:00      23875  1.14%\n",
       " 9:00       21700  1.04%\n",
       " 12:00      21584  1.03%\n",
       " 19:00      21566  1.03%\n",
       " 0:00       21044  1.01%\n",
       " 16:30      20599  0.98%\n",
       " 8:00       20331  0.97%\n",
       " 10:00      20013  0.96%\n",
       " 14:30      19934  0.95%\n",
       " 11:00      19571  0.93%\n",
       " 17:30      19439  0.93%\n",
       " 20:00      17380  0.83%\n",
       " 18:30      17321  0.83%\n",
       " 8:30       16916  0.81%\n",
       " 13:30      16653  0.80%\n",
       " 3:41         105  0.01%\n",
       " 3:31         101  0.00%\n",
       " 3:59         101  0.00%\n",
       " 2:31          99  0.00%\n",
       " 4:31          95  0.00%\n",
       " \n",
       " \n",
       " ,\n",
       " CRASH DATE Info\n",
       " -----------------  -------\n",
       " Data Type          object\n",
       " Count              2093912\n",
       " Unique Values      4357\n",
       " Null Values        0\n",
       " \n",
       " Value         Count  % of total\n",
       " ----------  -------  ------------\n",
       " 01/21/2014     1161  0.06%\n",
       " 11/15/2018     1065  0.05%\n",
       " 12/15/2017      999  0.05%\n",
       " 05/19/2017      974  0.05%\n",
       " 01/18/2015      961  0.05%\n",
       " 02/03/2014      960  0.05%\n",
       " 03/06/2015      939  0.04%\n",
       " 05/18/2017      911  0.04%\n",
       " 01/07/2017      896  0.04%\n",
       " 03/02/2018      884  0.04%\n",
       " 12/14/2017      883  0.04%\n",
       " 09/30/2016      872  0.04%\n",
       " 11/09/2018      867  0.04%\n",
       " 11/26/2013      867  0.04%\n",
       " 04/28/2017      857  0.04%\n",
       " 03/08/2013      851  0.04%\n",
       " 10/21/2016      851  0.04%\n",
       " 06/22/2017      845  0.04%\n",
       " 06/29/2018      845  0.04%\n",
       " 12/14/2018      841  0.04%\n",
       " 04/23/2020      108  0.01%\n",
       " 04/12/2020      106  0.01%\n",
       " 04/09/2020      103  0.00%\n",
       " 04/19/2020      102  0.00%\n",
       " 04/05/2020       94  0.00%\n",
       " \n",
       " \n",
       " )"
      ]
     },
     "execution_count": 6,
     "metadata": {},
     "output_type": "execute_result"
    }
   ],
   "source": [
    "time_report = ph.SeriesProfile(data[\"CRASH TIME\"])\n",
    "date_report = ph.SeriesProfile(data[\"CRASH DATE\"])\n",
    "time_report, date_report"
   ]
  },
  {
   "cell_type": "markdown",
   "id": "f9367ae3",
   "metadata": {},
   "source": [
    "#### __There are no obvious issues with the time and  date info__\n",
    "- There are no null values in CRASH TIME and CRASH DATE\n",
    "- All 1440 minutes in a day are represented in time data\n",
    "- Times tend to be rounded estimates. For example: 16:00 is more common that 4:31, which is unsurprising\n",
    "- ~3800 unique dates correspond to ~11+ years of data (which is what we have)"
   ]
  },
  {
   "cell_type": "code",
   "execution_count": 7,
   "id": "e8a513d9",
   "metadata": {
    "scrolled": true
   },
   "outputs": [
    {
     "data": {
      "text/plain": [
       "(LOCATION Info\n",
       " ---------------  -------\n",
       " Data Type        object\n",
       " Count            1859026\n",
       " Unique Values    285842\n",
       " Null Values      234886\n",
       " \n",
       " Value                        Count  % of total\n",
       " -------------------------  -------  ------------\n",
       " (0.0, 0.0)                    4432  0.24%\n",
       " (40.861862, -73.91282)         685  0.04%\n",
       " (40.608757, -74.038086)        670  0.04%\n",
       " (40.696033, -73.98453)         646  0.03%\n",
       " (40.8047, -73.91243)           597  0.03%\n",
       " (40.6960346, -73.9845292)      587  0.03%\n",
       " (40.675735, -73.89686)         563  0.03%\n",
       " (40.658577, -73.89063)         513  0.03%\n",
       " (40.7606005, -73.9643142)      474  0.03%\n",
       " (40.820305, -73.89083)         467  0.03%\n",
       " (40.77077, -73.91727)          467  0.03%\n",
       " (40.798256, -73.82744)         462  0.02%\n",
       " (40.7572323, -73.9897922)      456  0.02%\n",
       " (40.83801, -73.87329)          442  0.02%\n",
       " (40.604153, -74.05198)         440  0.02%\n",
       " (40.6757357, -73.8968533)      435  0.02%\n",
       " (40.826275, -73.85971)         435  0.02%\n",
       " (40.75898, -73.99595)          423  0.02%\n",
       " (40.704494, -73.81743)         419  0.02%\n",
       " (40.6585778, -73.8906229)      418  0.02%\n",
       " (40.62101, -73.98717)            1  0.00%\n",
       " (40.612286, -73.97725)           1  0.00%\n",
       " (40.59902, -73.96126)            1  0.00%\n",
       " (40.607414, -74.15939)           1  0.00%\n",
       " (40.76764, -73.74379)            1  0.00%\n",
       " \n",
       " \n",
       " ,\n",
       " LATITUDE Info\n",
       " ---------------  -------\n",
       " Data Type        float64\n",
       " Count            1859026\n",
       " Unique Values    126836\n",
       " Null Values      234886\n",
       " \n",
       "   Value    Count  % of total\n",
       " -------  -------  ------------\n",
       "  0          4432  0.24%\n",
       " 40.8619      895  0.05%\n",
       " 40.696       773  0.04%\n",
       " 40.8047      692  0.04%\n",
       " 40.6088      671  0.04%\n",
       " 40.7983      627  0.03%\n",
       " 40.7593      625  0.03%\n",
       " 40.696       587  0.03%\n",
       " 40.6757      564  0.03%\n",
       " 40.6586      525  0.03%\n",
       " 40.759       494  0.03%\n",
       " 40.6917      479  0.03%\n",
       " 40.7044      477  0.03%\n",
       " 40.7606      474  0.03%\n",
       " 40.7708      472  0.03%\n",
       " 40.8203      469  0.03%\n",
       " 40.7606      465  0.03%\n",
       " 40.7572      456  0.02%\n",
       " 40.838       450  0.02%\n",
       " 40.7664      449  0.02%\n",
       " 40.6207        1  0.00%\n",
       " 40.6537        1  0.00%\n",
       " 40.8518        1  0.00%\n",
       " 40.7625        1  0.00%\n",
       " 40.794         1  0.00%\n",
       " \n",
       " Statistic                          Value\n",
       " -------------------------  -------------\n",
       " count                        1.85903e+06\n",
       " min                          0\n",
       " 1%                          40.5511\n",
       " 5%                          40.5966\n",
       " 25%                         40.6677\n",
       " 50%                         40.7207\n",
       " 75%                         40.7696\n",
       " 95%                         40.862\n",
       " 99%                         40.8887\n",
       " max                         43.3444\n",
       " median                      40.7207\n",
       " mean                        40.627\n",
       " median absolute deviation    0.0513199\n",
       " standard deviation           1.98764\n",
       " skew                       -20.3581\n",
       " ,\n",
       " LONGITUDE Info\n",
       " ----------------  -------\n",
       " Data Type         float64\n",
       " Count             1859026\n",
       " Unique Values     98511\n",
       " Null Values       234886\n",
       " \n",
       "    Value    Count  % of total\n",
       " --------  -------  ------------\n",
       "   0          4432  0.24%\n",
       " -73.8906      771  0.04%\n",
       " -73.9128      719  0.04%\n",
       " -73.9845      701  0.04%\n",
       " -74.0381      672  0.04%\n",
       " -73.8969      664  0.04%\n",
       " -73.9124      654  0.04%\n",
       " -73.9448      596  0.03%\n",
       " -73.9845      587  0.03%\n",
       " -73.9112      585  0.03%\n",
       " -73.8827      561  0.03%\n",
       " -73.8908      544  0.03%\n",
       " -73.9173      543  0.03%\n",
       " -73.9992      481  0.03%\n",
       " -73.8274      480  0.03%\n",
       " -73.8716      479  0.03%\n",
       " -73.9643      474  0.03%\n",
       " -73.9749      474  0.03%\n",
       " -73.9898      456  0.02%\n",
       " -73.8733      454  0.02%\n",
       " -74.0001        1  0.00%\n",
       " -74.1372        1  0.00%\n",
       " -73.9066        1  0.00%\n",
       " -73.9072        1  0.00%\n",
       " -74.0162        1  0.00%\n",
       " \n",
       " Statistic                           Value\n",
       " -------------------------  --------------\n",
       " count                         1.85903e+06\n",
       " min                        -201.36\n",
       " 1%                          -74.168\n",
       " 5%                          -74.0364\n",
       " 25%                         -73.9748\n",
       " 50%                         -73.9272\n",
       " 75%                         -73.8667\n",
       " 95%                         -73.7632\n",
       " 99%                         -73.7283\n",
       " max                           0\n",
       " median                      -73.9272\n",
       " mean                        -73.7508\n",
       " median absolute deviation     0.0526032\n",
       " standard deviation            3.73441\n",
       " skew                         16.1063\n",
       " )"
      ]
     },
     "execution_count": 7,
     "metadata": {},
     "output_type": "execute_result"
    }
   ],
   "source": [
    "loc_report = ph.SeriesProfile(data[\"LOCATION\"])\n",
    "lat_report = ph.SeriesProfile(data[\"LATITUDE\"])\n",
    "long_report = ph.SeriesProfile(data[\"LONGITUDE\"])\n",
    "loc_report, lat_report, long_report"
   ]
  },
  {
   "cell_type": "code",
   "execution_count": 8,
   "id": "56c3ebbe",
   "metadata": {},
   "outputs": [
    {
     "data": {
      "text/plain": [
       "0.11217567882508911"
      ]
     },
     "execution_count": 8,
     "metadata": {},
     "output_type": "execute_result"
    }
   ],
   "source": [
    "percent_missing_loc = sum(data[\"LOCATION\"].isna()) / len(data)\n",
    "percent_missing_loc"
   ]
  },
  {
   "cell_type": "markdown",
   "id": "a97fdf1a",
   "metadata": {},
   "source": [
    "__~11.2% of collisions are missing location data__\n",
    "- LOCATION is just the tuple, (LATITUDE, LONGITUDE)\n",
    "- Some lat-long coordinates are invalid. For example: (0, 0) or a latitiude of 43.3444 (max latitude), which is far from NYC"
   ]
  },
  {
   "cell_type": "code",
   "execution_count": 9,
   "id": "ea482bf8",
   "metadata": {
    "scrolled": true
   },
   "outputs": [
    {
     "data": {
      "text/plain": [
       "(NUMBER OF PERSONS INJURED Info\n",
       " --------------------------------  -------\n",
       " Data Type                         float64\n",
       " Count                             2093894\n",
       " Unique Values                     32\n",
       " Null Values                       18\n",
       " \n",
       "   Value    Count  % of total\n",
       " -------  -------  ------------\n",
       "       0  1611736  76.97%\n",
       "       1   374201  17.87%\n",
       "       2    70505  3.37%\n",
       "       3    23037  1.10%\n",
       "       4     8536  0.41%\n",
       "       5     3272  0.16%\n",
       "       6     1374  0.07%\n",
       "       7      581  0.03%\n",
       "       8      261  0.01%\n",
       "       9      131  0.01%\n",
       "      10       85  0.00%\n",
       "      11       51  0.00%\n",
       "      12       32  0.00%\n",
       "      13       27  0.00%\n",
       "      15       15  0.00%\n",
       "      14        9  0.00%\n",
       "      16        8  0.00%\n",
       "      17        6  0.00%\n",
       "      18        6  0.00%\n",
       "      19        4  0.00%\n",
       "      31        1  0.00%\n",
       "      32        1  0.00%\n",
       "      27        1  0.00%\n",
       "      40        1  0.00%\n",
       "      25        1  0.00%\n",
       " \n",
       " Statistic                         Value\n",
       " -------------------------  ------------\n",
       " count                       2.09389e+06\n",
       " min                         0\n",
       " 1%                          0\n",
       " 5%                          0\n",
       " 25%                         0\n",
       " 50%                         0\n",
       " 75%                         0\n",
       " 95%                         2\n",
       " 99%                         3\n",
       " max                        43\n",
       " median                      0\n",
       " mean                        0.312226\n",
       " median absolute deviation   0\n",
       " standard deviation          0.702075\n",
       " skew                        4.23576\n",
       " ,\n",
       " NUMBER OF PEDESTRIANS INJURED Info\n",
       " ------------------------------------  -------\n",
       " Data Type                             int64\n",
       " Count                                 2093912\n",
       " Unique Values                         14\n",
       " Null Values                           0\n",
       " \n",
       "   Value    Count  % of total\n",
       " -------  -------  ------------\n",
       "       0  1979735  94.55%\n",
       "       1   109996  5.25%\n",
       "       2     3702  0.18%\n",
       "       3      369  0.02%\n",
       "       4       61  0.00%\n",
       "       5       26  0.00%\n",
       "       6       11  0.00%\n",
       "       7        4  0.00%\n",
       "       9        2  0.00%\n",
       "       8        2  0.00%\n",
       "      27        1  0.00%\n",
       "      13        1  0.00%\n",
       "      15        1  0.00%\n",
       "      19        1  0.00%\n",
       " \n",
       " Statistic                         Value\n",
       " -------------------------  ------------\n",
       " count                       2.09391e+06\n",
       " min                         0\n",
       " 1%                          0\n",
       " 5%                          0\n",
       " 25%                         0\n",
       " 50%                         0\n",
       " 75%                         0\n",
       " 95%                         1\n",
       " 99%                         1\n",
       " max                        27\n",
       " median                      0\n",
       " mean                        0.0568711\n",
       " median absolute deviation   0\n",
       " standard deviation          0.244666\n",
       " skew                        5.651\n",
       " ,\n",
       " NUMBER OF CYCLIST INJURED Info\n",
       " --------------------------------  -------\n",
       " Data Type                         int64\n",
       " Count                             2093912\n",
       " Unique Values                     5\n",
       " Null Values                       0\n",
       " \n",
       "   Value    Count  % of total\n",
       " -------  -------  ------------\n",
       "       0  2037940  97.33%\n",
       "       1    55328  2.64%\n",
       "       2      619  0.03%\n",
       "       3       24  0.00%\n",
       "       4        1  0.00%\n",
       " \n",
       " Statistic                        Value\n",
       " -------------------------  -----------\n",
       " count                      2.09391e+06\n",
       " min                        0\n",
       " 1%                         0\n",
       " 5%                         0\n",
       " 25%                        0\n",
       " 50%                        0\n",
       " 75%                        0\n",
       " 95%                        0\n",
       " 99%                        1\n",
       " max                        4\n",
       " median                     0\n",
       " mean                       0.0270508\n",
       " median absolute deviation  0\n",
       " standard deviation         0.164271\n",
       " skew                       6.07259\n",
       " ,\n",
       " NUMBER OF MOTORIST INJURED Info\n",
       " ---------------------------------  -------\n",
       " Data Type                          int64\n",
       " Count                              2093912\n",
       " Unique Values                      31\n",
       " Null Values                        0\n",
       " \n",
       "   Value    Count  % of total\n",
       " -------  -------  ------------\n",
       "       0  1786399  85.31%\n",
       "       1   206767  9.87%\n",
       "       2    64316  3.07%\n",
       "       3    22341  1.07%\n",
       "       4     8359  0.40%\n",
       "       5     3220  0.15%\n",
       "       6     1327  0.06%\n",
       "       7      555  0.03%\n",
       "       8      253  0.01%\n",
       "       9      126  0.01%\n",
       "      10       83  0.00%\n",
       "      11       50  0.00%\n",
       "      12       29  0.00%\n",
       "      13       27  0.00%\n",
       "      15       13  0.00%\n",
       "      14       10  0.00%\n",
       "      16        8  0.00%\n",
       "      18        6  0.00%\n",
       "      17        5  0.00%\n",
       "      19        3  0.00%\n",
       "      30        1  0.00%\n",
       "      43        1  0.00%\n",
       "      23        1  0.00%\n",
       "      34        1  0.00%\n",
       "      25        1  0.00%\n",
       " \n",
       " Statistic                         Value\n",
       " -------------------------  ------------\n",
       " count                       2.09391e+06\n",
       " min                         0\n",
       " 1%                          0\n",
       " 5%                          0\n",
       " 25%                         0\n",
       " 50%                         0\n",
       " 75%                         0\n",
       " 95%                         1\n",
       " 99%                         3\n",
       " max                        43\n",
       " median                      0\n",
       " mean                        0.224536\n",
       " median absolute deviation   0\n",
       " standard deviation          0.663279\n",
       " skew                        5.09775\n",
       " )"
      ]
     },
     "execution_count": 9,
     "metadata": {},
     "output_type": "execute_result"
    }
   ],
   "source": [
    "injured_report = ph.SeriesProfile(data[\"NUMBER OF PERSONS INJURED\"])\n",
    "pedestrian_injured_report = ph.SeriesProfile(data[\"NUMBER OF PEDESTRIANS INJURED\"])\n",
    "cyclist_injured_report = ph.SeriesProfile(data[\"NUMBER OF CYCLIST INJURED\"])\n",
    "motorist_injured_report = ph.SeriesProfile(data[\"NUMBER OF MOTORIST INJURED\"])\n",
    "injured_report, pedestrian_injured_report, cyclist_injured_report, motorist_injured_report"
   ]
  },
  {
   "cell_type": "markdown",
   "id": "8a31c079",
   "metadata": {},
   "source": [
    "__A few observations (< 50) are missing the the total number of people injured.__\n",
    "\n",
    "There are no missing values for the individual pedestrian, cyclist, and motorist injured fields"
   ]
  },
  {
   "cell_type": "code",
   "execution_count": 10,
   "id": "7cdca086",
   "metadata": {
    "scrolled": true
   },
   "outputs": [
    {
     "data": {
      "text/plain": [
       "(NUMBER OF PERSONS KILLED Info\n",
       " -------------------------------  -------\n",
       " Data Type                        float64\n",
       " Count                            2093881\n",
       " Unique Values                    7\n",
       " Null Values                      31\n",
       " \n",
       "   Value    Count  % of total\n",
       " -------  -------  ------------\n",
       "       0  2090855  99.86%\n",
       "       1     2932  0.14%\n",
       "       2       76  0.00%\n",
       "       3       12  0.00%\n",
       "       4        3  0.00%\n",
       "       5        2  0.00%\n",
       "       8        1  0.00%\n",
       " \n",
       " Statistic                         Value\n",
       " -------------------------  ------------\n",
       " count                       2.09388e+06\n",
       " min                         0\n",
       " 1%                          0\n",
       " 5%                          0\n",
       " 25%                         0\n",
       " 50%                         0\n",
       " 75%                         0\n",
       " 95%                         0\n",
       " 99%                         0\n",
       " max                         8\n",
       " median                      0\n",
       " mean                        0.00150438\n",
       " median absolute deviation   0\n",
       " standard deviation          0.0408918\n",
       " skew                       33.5412\n",
       " ,\n",
       " NUMBER OF PEDESTRIANS KILLED Info\n",
       " -----------------------------------  -------\n",
       " Data Type                            int64\n",
       " Count                                2093912\n",
       " Unique Values                        4\n",
       " Null Values                          0\n",
       " \n",
       "   Value    Count  % of total\n",
       " -------  -------  ------------\n",
       "       0  2092368  99.93%\n",
       "       1     1531  0.07%\n",
       "       2       12  0.00%\n",
       "       6        1  0.00%\n",
       " \n",
       " Statistic                         Value\n",
       " -------------------------  ------------\n",
       " count                       2.09391e+06\n",
       " min                         0\n",
       " 1%                          0\n",
       " 5%                          0\n",
       " 25%                         0\n",
       " 50%                         0\n",
       " 75%                         0\n",
       " 95%                         0\n",
       " 99%                         0\n",
       " max                         6\n",
       " median                      0\n",
       " mean                        0.000745495\n",
       " median absolute deviation   0\n",
       " standard deviation          0.027762\n",
       " skew                       41.0548\n",
       " ,\n",
       " NUMBER OF CYCLIST KILLED Info\n",
       " -------------------------------  -------\n",
       " Data Type                        int64\n",
       " Count                            2093912\n",
       " Unique Values                    3\n",
       " Null Values                      0\n",
       " \n",
       "   Value    Count  % of total\n",
       " -------  -------  ------------\n",
       "       0  2093669  99.99%\n",
       "       1      242  0.01%\n",
       "       2        1  0.00%\n",
       " \n",
       " Statistic                         Value\n",
       " -------------------------  ------------\n",
       " count                       2.09391e+06\n",
       " min                         0\n",
       " 1%                          0\n",
       " 5%                          0\n",
       " 25%                         0\n",
       " 50%                         0\n",
       " 75%                         0\n",
       " 95%                         0\n",
       " 99%                         0\n",
       " max                         2\n",
       " median                      0\n",
       " mean                        0.000116528\n",
       " median absolute deviation   0\n",
       " standard deviation          0.0108384\n",
       " skew                       93.7438\n",
       " ,\n",
       " NUMBER OF MOTORIST KILLED Info\n",
       " --------------------------------  -------\n",
       " Data Type                         int64\n",
       " Count                             2093912\n",
       " Unique Values                     6\n",
       " Null Values                       0\n",
       " \n",
       "   Value    Count  % of total\n",
       " -------  -------  ------------\n",
       "       0  2092714  99.94%\n",
       "       1     1122  0.05%\n",
       "       2       60  0.00%\n",
       "       3       12  0.00%\n",
       "       4        2  0.00%\n",
       "       5        2  0.00%\n",
       " \n",
       " Statistic                         Value\n",
       " -------------------------  ------------\n",
       " count                       2.09391e+06\n",
       " min                         0\n",
       " 1%                          0\n",
       " 5%                          0\n",
       " 25%                         0\n",
       " 50%                         0\n",
       " 75%                         0\n",
       " 95%                         0\n",
       " 99%                         0\n",
       " max                         5\n",
       " median                      0\n",
       " mean                        0.000618937\n",
       " median absolute deviation   0\n",
       " standard deviation          0.0272179\n",
       " skew                       54.5027\n",
       " )"
      ]
     },
     "execution_count": 10,
     "metadata": {},
     "output_type": "execute_result"
    }
   ],
   "source": [
    "killed_report = ph.SeriesProfile(data[\"NUMBER OF PERSONS KILLED\"])\n",
    "pedestrian_killed_report = ph.SeriesProfile(data[\"NUMBER OF PEDESTRIANS KILLED\"])\n",
    "cyclist_killed_report = ph.SeriesProfile(data[\"NUMBER OF CYCLIST KILLED\"])\n",
    "motorist_killed_report = ph.SeriesProfile(data[\"NUMBER OF MOTORIST KILLED\"])\n",
    "killed_report, pedestrian_killed_report, cyclist_killed_report, motorist_killed_report"
   ]
  },
  {
   "cell_type": "markdown",
   "id": "908c5be8",
   "metadata": {},
   "source": [
    "__A few observations (< 50) are missing the the total number of people killed.__\n",
    "\n",
    "There are no missing values for the individual pedestrian, cyclist, and motorist killed fields"
   ]
  },
  {
   "cell_type": "code",
   "execution_count": 11,
   "id": "2a8f8f4e",
   "metadata": {
    "scrolled": true
   },
   "outputs": [
    {
     "data": {
      "text/plain": [
       "(CONTRIBUTING FACTOR VEHICLE 1 Info\n",
       " ------------------------------------  -------\n",
       " Data Type                             object\n",
       " Count                                 2086982\n",
       " Unique Values                         61\n",
       " Null Values                           6930\n",
       " \n",
       " Value                             Count  % of total\n",
       " ------------------------------  -------  ------------\n",
       " Unspecified                      711277  34.08%\n",
       " Driver Inattention/Distraction   419758  20.11%\n",
       " Failure to Yield Right-of-Way    124543  5.97%\n",
       " Following Too Closely            112135  5.37%\n",
       " Backing Unsafely                  77300  3.70%\n",
       " Other Vehicular                   64993  3.11%\n",
       " Passing or Lane Usage Improper    58604  2.81%\n",
       " Passing Too Closely               52230  2.50%\n",
       " Turning Improperly                51692  2.48%\n",
       " Fatigued/Drowsy                   47422  2.27%\n",
       " Unsafe Lane Changing              41143  1.97%\n",
       " Traffic Control Disregarded       37356  1.79%\n",
       " Driver Inexperience               32932  1.58%\n",
       " Unsafe Speed                      29824  1.43%\n",
       " Alcohol Involvement               23080  1.11%\n",
       " Lost Consciousness                20539  0.98%\n",
       " Reaction to Uninvolved Vehicle    20336  0.97%\n",
       " Pavement Slippery                 19897  0.95%\n",
       " Prescription Medication           15418  0.74%\n",
       " View Obstructed/Limited           13893  0.67%\n",
       " Windshield Inadequate                81  0.00%\n",
       " Cell Phone (hand-held)               79  0.00%\n",
       " Texting                              53  0.00%\n",
       " Listening/Using Headphones           26  0.00%\n",
       " 1                                    10  0.00%\n",
       " \n",
       " \n",
       " ,\n",
       " CONTRIBUTING FACTOR VEHICLE 2 Info\n",
       " ------------------------------------  -------\n",
       " Data Type                             object\n",
       " Count                                 1767970\n",
       " Unique Values                         61\n",
       " Null Values                           325942\n",
       " \n",
       " Value                             Count  % of total\n",
       " ------------------------------  -------  ------------\n",
       " Unspecified                     1488536  84.19%\n",
       " Driver Inattention/Distraction    95035  5.38%\n",
       " Other Vehicular                   32295  1.83%\n",
       " Following Too Closely             19243  1.09%\n",
       " Failure to Yield Right-of-Way     17248  0.98%\n",
       " Passing or Lane Usage Improper    12978  0.73%\n",
       " Fatigued/Drowsy                   10837  0.61%\n",
       " Passing Too Closely                8785  0.50%\n",
       " Turning Improperly                 8777  0.50%\n",
       " Backing Unsafely                   7927  0.45%\n",
       " Traffic Control Disregarded        7488  0.42%\n",
       " Unsafe Lane Changing               6763  0.38%\n",
       " Driver Inexperience                6762  0.38%\n",
       " Unsafe Speed                       5437  0.31%\n",
       " Lost Consciousness                 5235  0.30%\n",
       " Pavement Slippery                  4142  0.23%\n",
       " Reaction to Uninvolved Vehicle     3368  0.19%\n",
       " View Obstructed/Limited            3209  0.18%\n",
       " Prescription Medication            3022  0.17%\n",
       " Outside Car Distraction            2589  0.15%\n",
       " Eating or Drinking                   12  0.00%\n",
       " Listening/Using Headphones           11  0.00%\n",
       " Windshield Inadequate                 7  0.00%\n",
       " 1                                     5  0.00%\n",
       " Texting                               3  0.00%\n",
       " \n",
       " \n",
       " ,\n",
       " CONTRIBUTING FACTOR VEHICLE 3 Info\n",
       " ------------------------------------  -------\n",
       " Data Type                             object\n",
       " Count                                 149913\n",
       " Unique Values                         51\n",
       " Null Values                           1943999\n",
       " \n",
       " Value                                   Count  % of total\n",
       " ------------------------------------  -------  ------------\n",
       " Unspecified                            139739  93.21%\n",
       " Other Vehicular                          2819  1.88%\n",
       " Following Too Closely                    1986  1.32%\n",
       " Driver Inattention/Distraction           1982  1.32%\n",
       " Fatigued/Drowsy                           853  0.57%\n",
       " Pavement Slippery                         399  0.27%\n",
       " Reaction to Uninvolved Vehicle            213  0.14%\n",
       " Driver Inexperience                       183  0.12%\n",
       " Unsafe Speed                              165  0.11%\n",
       " Outside Car Distraction                   163  0.11%\n",
       " Traffic Control Disregarded               156  0.10%\n",
       " Failure to Yield Right-of-Way             147  0.10%\n",
       " Passing or Lane Usage Improper            117  0.08%\n",
       " Alcohol Involvement                       107  0.07%\n",
       " Backing Unsafely                           93  0.06%\n",
       " Unsafe Lane Changing                       82  0.05%\n",
       " Turning Improperly                         78  0.05%\n",
       " Obstruction/Debris                         72  0.05%\n",
       " Fell Asleep                                58  0.04%\n",
       " Passing Too Closely                        54  0.04%\n",
       " Reaction to Other Uninvolved Vehicle        2  0.00%\n",
       " Eating or Drinking                          1  0.00%\n",
       " Cell Phone (hand-Held)                      1  0.00%\n",
       " 1                                           1  0.00%\n",
       " Illnes                                      1  0.00%\n",
       " \n",
       " \n",
       " ,\n",
       " CONTRIBUTING FACTOR VEHICLE 4 Info\n",
       " ------------------------------------  -------\n",
       " Data Type                             object\n",
       " Count                                 33904\n",
       " Unique Values                         42\n",
       " Null Values                           2060008\n",
       " \n",
       " Value                             Count  % of total\n",
       " ------------------------------  -------  ------------\n",
       " Unspecified                       31978  94.32%\n",
       " Other Vehicular                     628  1.85%\n",
       " Following Too Closely               393  1.16%\n",
       " Driver Inattention/Distraction      280  0.83%\n",
       " Fatigued/Drowsy                     170  0.50%\n",
       " Pavement Slippery                   119  0.35%\n",
       " Reaction to Uninvolved Vehicle       42  0.12%\n",
       " Unsafe Speed                         33  0.10%\n",
       " Outside Car Distraction              29  0.09%\n",
       " Driver Inexperience                  27  0.08%\n",
       " Traffic Control Disregarded          23  0.07%\n",
       " Obstruction/Debris                   22  0.06%\n",
       " Alcohol Involvement                  20  0.06%\n",
       " Fell Asleep                          19  0.06%\n",
       " Failure to Yield Right-of-Way        16  0.05%\n",
       " Passing or Lane Usage Improper       15  0.04%\n",
       " Unsafe Lane Changing                 10  0.03%\n",
       " Other Electronic Device               9  0.03%\n",
       " Backing Unsafely                      9  0.03%\n",
       " Brakes Defective                      7  0.02%\n",
       " Animals Action                        1  0.00%\n",
       " Windshield Inadequate                 1  0.00%\n",
       " Tire Failure/Inadequate               1  0.00%\n",
       " Oversized Vehicle                     1  0.00%\n",
       " Passenger Distraction                 1  0.00%\n",
       " \n",
       " \n",
       " ,\n",
       " CONTRIBUTING FACTOR VEHICLE 5 Info\n",
       " ------------------------------------  -------\n",
       " Data Type                             object\n",
       " Count                                 9196\n",
       " Unique Values                         30\n",
       " Null Values                           2084716\n",
       " \n",
       " Value                             Count  % of total\n",
       " ------------------------------  -------  ------------\n",
       " Unspecified                        8669  94.27%\n",
       " Other Vehicular                     182  1.98%\n",
       " Following Too Closely                99  1.08%\n",
       " Driver Inattention/Distraction       65  0.71%\n",
       " Pavement Slippery                    50  0.54%\n",
       " Fatigued/Drowsy                      41  0.45%\n",
       " Reaction to Uninvolved Vehicle       12  0.13%\n",
       " Alcohol Involvement                  11  0.12%\n",
       " Obstruction/Debris                   10  0.11%\n",
       " Driver Inexperience                  10  0.11%\n",
       " Unsafe Speed                          9  0.10%\n",
       " Outside Car Distraction               7  0.08%\n",
       " Failure to Yield Right-of-Way         5  0.05%\n",
       " Traffic Control Disregarded           4  0.04%\n",
       " Fell Asleep                           3  0.03%\n",
       " Drugs (illegal)                       2  0.02%\n",
       " Passing Too Closely                   2  0.02%\n",
       " Other Electronic Device               2  0.02%\n",
       " Failure to Keep Right                 2  0.02%\n",
       " Glare                                 1  0.01%\n",
       " Illness                               1  0.01%\n",
       " Passing or Lane Usage Improper        1  0.01%\n",
       " Aggressive Driving/Road Rage          1  0.01%\n",
       " Pavement Defective                    1  0.01%\n",
       " Oversized Vehicle                     1  0.01%\n",
       " \n",
       " \n",
       " )"
      ]
     },
     "execution_count": 11,
     "metadata": {},
     "output_type": "execute_result"
    }
   ],
   "source": [
    "factor1_report = ph.SeriesProfile(data[\"CONTRIBUTING FACTOR VEHICLE 1\"])\n",
    "factor2_report = ph.SeriesProfile(data[\"CONTRIBUTING FACTOR VEHICLE 2\"])\n",
    "factor3_report = ph.SeriesProfile(data[\"CONTRIBUTING FACTOR VEHICLE 3\"])\n",
    "factor4_report = ph.SeriesProfile(data[\"CONTRIBUTING FACTOR VEHICLE 4\"])\n",
    "factor5_report = ph.SeriesProfile(data[\"CONTRIBUTING FACTOR VEHICLE 5\"])\n",
    "factor1_report, factor2_report, factor3_report, factor4_report, factor5_report"
   ]
  },
  {
   "cell_type": "markdown",
   "id": "8b8286e0",
   "metadata": {},
   "source": [
    "__The 'CONTRIBUTING FACTOR VEHICLE' fields seem to have some issues__\n",
    "- \"Unspecified\" is the most common response\n",
    "- They are not mutually exclusive and in some cases, difficult to differentiate. For example: 'Passing or Lane Usage Improper' vs 'Passing Too Closely'\n",
    "- Without knowing more about the processes that generated these _'contributing factor'_ fields, it would be difficult to use them with confidence"
   ]
  },
  {
   "cell_type": "code",
   "execution_count": 12,
   "id": "40426162",
   "metadata": {
    "scrolled": true
   },
   "outputs": [
    {
     "data": {
      "text/plain": [
       "(VEHICLE TYPE CODE 1 Info\n",
       " --------------------------  -------\n",
       " Data Type                   object\n",
       " Count                       2079921\n",
       " Unique Values               1671\n",
       " Null Values                 13991\n",
       " \n",
       " Value                                  Count  % of total\n",
       " -----------------------------------  -------  ------------\n",
       " Sedan                                 584855  28.12%\n",
       " Station Wagon/Sport Utility Vehicle   459960  22.11%\n",
       " PASSENGER VEHICLE                     416206  20.01%\n",
       " SPORT UTILITY / STATION WAGON         180291  8.67%\n",
       " Taxi                                   52057  2.50%\n",
       " 4 dr sedan                             40179  1.93%\n",
       " Pick-up Truck                          35147  1.69%\n",
       " TAXI                                   31911  1.53%\n",
       " VAN                                    25266  1.21%\n",
       " Box Truck                              24603  1.18%\n",
       " OTHER                                  22968  1.10%\n",
       " Bus                                    21892  1.05%\n",
       " UNKNOWN                                19937  0.96%\n",
       " Bike                                   15231  0.73%\n",
       " LARGE COM VEH(6 OR MORE TIRES)         14397  0.69%\n",
       " BUS                                    13993  0.67%\n",
       " SMALL COM VEH(4 TIRES)                 13216  0.64%\n",
       " PICK-UP TRUCK                          11505  0.55%\n",
       " Tractor Truck Diesel                   10513  0.51%\n",
       " LIVERY VEHICLE                         10481  0.50%\n",
       " Pas                                        1  0.00%\n",
       " Attac                                      1  0.00%\n",
       " NTTRL                                      1  0.00%\n",
       " freight                                    1  0.00%\n",
       " COT                                        1  0.00%\n",
       " \n",
       " \n",
       " ,\n",
       " VEHICLE TYPE CODE 2 Info\n",
       " --------------------------  -------\n",
       " Data Type                   object\n",
       " Count                       1691225\n",
       " Unique Values               1849\n",
       " Null Values                 402687\n",
       " \n",
       " Value                                  Count  % of total\n",
       " -----------------------------------  -------  ------------\n",
       " Sedan                                 408420  24.15%\n",
       " Station Wagon/Sport Utility Vehicle   330362  19.53%\n",
       " PASSENGER VEHICLE                     318607  18.84%\n",
       " SPORT UTILITY / STATION WAGON         140204  8.29%\n",
       " UNKNOWN                                81509  4.82%\n",
       " Taxi                                   37530  2.22%\n",
       " Bike                                   32446  1.92%\n",
       " Pick-up Truck                          31740  1.88%\n",
       " 4 dr sedan                             30084  1.78%\n",
       " Box Truck                              28475  1.68%\n",
       " TAXI                                   27702  1.64%\n",
       " VAN                                    22769  1.35%\n",
       " OTHER                                  21692  1.28%\n",
       " Bus                                    19464  1.15%\n",
       " BICYCLE                                18554  1.10%\n",
       " LARGE COM VEH(6 OR MORE TIRES)         13687  0.81%\n",
       " SMALL COM VEH(4 TIRES)                 12962  0.77%\n",
       " BUS                                    11502  0.68%\n",
       " PICK-UP TRUCK                          10672  0.63%\n",
       " Tractor Truck Diesel                   10313  0.61%\n",
       " SELF-                                      1  0.00%\n",
       " DETAC                                      1  0.00%\n",
       " ASPHA                                      1  0.00%\n",
       " Depar                                      1  0.00%\n",
       " Dodge                                      1  0.00%\n",
       " \n",
       " \n",
       " ,\n",
       " VEHICLE TYPE CODE 3 Info\n",
       " --------------------------  -------\n",
       " Data Type                   object\n",
       " Count                       144412\n",
       " Unique Values               265\n",
       " Null Values                 1949500\n",
       " \n",
       " Value                                  Count  % of total\n",
       " -----------------------------------  -------  ------------\n",
       " Sedan                                  45129  31.25%\n",
       " Station Wagon/Sport Utility Vehicle    36714  25.42%\n",
       " PASSENGER VEHICLE                      27713  19.19%\n",
       " SPORT UTILITY / STATION WAGON          13358  9.25%\n",
       " UNKNOWN                                 3284  2.27%\n",
       " 4 dr sedan                              2564  1.78%\n",
       " Pick-up Truck                           2355  1.63%\n",
       " Taxi                                    2243  1.55%\n",
       " VAN                                     1366  0.95%\n",
       " OTHER                                   1045  0.72%\n",
       " TAXI                                     980  0.68%\n",
       " Box Truck                                872  0.60%\n",
       " PICK-UP TRUCK                            619  0.43%\n",
       " Bus                                      591  0.41%\n",
       " Bike                                     460  0.32%\n",
       " LARGE COM VEH(6 OR MORE TIRES)           441  0.31%\n",
       " SMALL COM VEH(4 TIRES)                   435  0.30%\n",
       " LIVERY VEHICLE                           424  0.29%\n",
       " Van                                      397  0.27%\n",
       " BUS                                      395  0.27%\n",
       " Pickup with mounted Camper                 1  0.00%\n",
       " DIRT-                                      1  0.00%\n",
       " scoot                                      1  0.00%\n",
       " 38AB-                                      1  0.00%\n",
       " PICK-UP TR                                 1  0.00%\n",
       " \n",
       " \n",
       " ,\n",
       " VEHICLE TYPE CODE 4 Info\n",
       " --------------------------  -------\n",
       " Data Type                   object\n",
       " Count                       32721\n",
       " Unique Values               103\n",
       " Null Values                 2061191\n",
       " \n",
       " Value                                  Count  % of total\n",
       " -----------------------------------  -------  ------------\n",
       " Sedan                                  10996  33.61%\n",
       " Station Wagon/Sport Utility Vehicle     9034  27.61%\n",
       " PASSENGER VEHICLE                       5969  18.24%\n",
       " SPORT UTILITY / STATION WAGON           2852  8.72%\n",
       " UNKNOWN                                  595  1.82%\n",
       " 4 dr sedan                               568  1.74%\n",
       " Pick-up Truck                            496  1.52%\n",
       " Taxi                                     449  1.37%\n",
       " VAN                                      242  0.74%\n",
       " OTHER                                    189  0.58%\n",
       " TAXI                                     144  0.44%\n",
       " Box Truck                                138  0.42%\n",
       " PICK-UP TRUCK                            112  0.34%\n",
       " Bus                                      100  0.31%\n",
       " Motorcycle                                74  0.23%\n",
       " Van                                       73  0.22%\n",
       " LARGE COM VEH(6 OR MORE TIRES)            58  0.18%\n",
       " SMALL COM VEH(4 TIRES)                    56  0.17%\n",
       " LIVERY VEHICLE                            54  0.17%\n",
       " BUS                                       52  0.16%\n",
       " TOW T                                      1  0.00%\n",
       " trail                                      1  0.00%\n",
       " dump                                       1  0.00%\n",
       " PAS 5                                      1  0.00%\n",
       " FIRETRUCK                                  1  0.00%\n",
       " \n",
       " \n",
       " ,\n",
       " VEHICLE TYPE CODE 5 Info\n",
       " --------------------------  -------\n",
       " Data Type                   object\n",
       " Count                       8915\n",
       " Unique Values               71\n",
       " Null Values                 2084997\n",
       " \n",
       " Value                                  Count  % of total\n",
       " -----------------------------------  -------  ------------\n",
       " Sedan                                   3112  34.91%\n",
       " Station Wagon/Sport Utility Vehicle     2572  28.85%\n",
       " PASSENGER VEHICLE                       1487  16.68%\n",
       " SPORT UTILITY / STATION WAGON            802  9.00%\n",
       " Pick-up Truck                            155  1.74%\n",
       " 4 dr sedan                               123  1.38%\n",
       " Taxi                                     112  1.26%\n",
       " UNKNOWN                                   94  1.05%\n",
       " VAN                                       50  0.56%\n",
       " OTHER                                     49  0.55%\n",
       " Box Truck                                 38  0.43%\n",
       " Van                                       31  0.35%\n",
       " PICK-UP TRUCK                             31  0.35%\n",
       " TAXI                                      31  0.35%\n",
       " Motorcycle                                22  0.25%\n",
       " Bus                                       20  0.22%\n",
       " 2 dr sedan                                14  0.16%\n",
       " Convertible                               14  0.16%\n",
       " LARGE COM VEH(6 OR MORE TIRES)            13  0.15%\n",
       " Tractor Truck Diesel                      13  0.15%\n",
       " Bulk Agriculture                           1  0.01%\n",
       " Flat Rack                                  1  0.01%\n",
       " OML                                        1  0.01%\n",
       " dump                                       1  0.01%\n",
       " Soccer                                     1  0.01%\n",
       " \n",
       " \n",
       " )"
      ]
     },
     "execution_count": 12,
     "metadata": {},
     "output_type": "execute_result"
    }
   ],
   "source": [
    "vtype1_report = ph.SeriesProfile(data[\"VEHICLE TYPE CODE 1\"])\n",
    "vtype2_report = ph.SeriesProfile(data[\"VEHICLE TYPE CODE 2\"])\n",
    "vtype3_report = ph.SeriesProfile(data[\"VEHICLE TYPE CODE 3\"])\n",
    "vtype4_report = ph.SeriesProfile(data[\"VEHICLE TYPE CODE 4\"])\n",
    "vtype5_report = ph.SeriesProfile(data[\"VEHICLE TYPE CODE 5\"])\n",
    "vtype1_report, vtype2_report, vtype3_report, vtype4_report, vtype5_report"
   ]
  },
  {
   "cell_type": "markdown",
   "id": "67fcfca4",
   "metadata": {},
   "source": [
    "__Vehicle type categories are somewhat unclear__\n",
    "- \"Passenger vehicle\" is one of the biggest categories. What does 'passenger vehicle' mean given that there are already categories for sedans and SUVs?"
   ]
  },
  {
   "cell_type": "markdown",
   "id": "1ed343a4",
   "metadata": {},
   "source": [
    "# Are there significant gaps in data collection over time?"
   ]
  },
  {
   "cell_type": "markdown",
   "id": "fe824301",
   "metadata": {},
   "source": [
    "Adding a datetime column to make temporal analysis easier"
   ]
  },
  {
   "cell_type": "code",
   "execution_count": 13,
   "id": "5c3c5a85",
   "metadata": {},
   "outputs": [],
   "source": [
    "dt_format = \"%m/%d/%Y %H:%M\"\n",
    "data[\"datetime\"] = data[\"CRASH DATE\"] + \" \" + data[\"CRASH TIME\"]\n",
    "data[\"datetime\"] = data[\"datetime\"].apply(lambda x: datetime.strptime(x, dt_format))"
   ]
  },
  {
   "cell_type": "markdown",
   "id": "1b02dbf2",
   "metadata": {},
   "source": [
    "Examining daily collisions, injuries, and deaths to check to gaps in the data"
   ]
  },
  {
   "cell_type": "code",
   "execution_count": 14,
   "id": "26cc8dc7",
   "metadata": {},
   "outputs": [],
   "source": [
    "daily_collisions = data.groupby(by=data[\"datetime\"].dt.date)[\"COLLISION_ID\"].count()\n",
    "daily_injuries = data.groupby(by=data[\"datetime\"].dt.date)[\n",
    "    \"NUMBER OF PERSONS INJURED\"\n",
    "].sum()\n",
    "daily_deaths = data.groupby(by=data[\"datetime\"].dt.date)[\n",
    "    \"NUMBER OF PERSONS KILLED\"\n",
    "].sum()"
   ]
  },
  {
   "cell_type": "code",
   "execution_count": 15,
   "id": "a6175f94",
   "metadata": {},
   "outputs": [
    {
     "data": {
      "image/png": "[encoded data removed]",
      "text/plain": [
       "<Figure size 1800x1000 with 1 Axes>"
      ]
     },
     "metadata": {},
     "output_type": "display_data"
    }
   ],
   "source": [
    "fig, ax = plt.subplots()\n",
    "fig.set_size_inches((18, 10))\n",
    "ax.set_title(\"Daily NYC Vehicle Collisions, Injuries, and Deaths\", fontsize=20)\n",
    "ax.set_xlabel(\"Year\", fontsize=16, labelpad=10)\n",
    "ax.set_ylabel(\"Daily Sum\\n(log scale)\", fontsize=16, rotation=0, labelpad=25)\n",
    "ax.tick_params(axis=\"both\", which=\"major\", labelsize=14)\n",
    "ax.set_yscale(\"log\")\n",
    "ax.yaxis.set_major_formatter(\"{x:.0f}\")\n",
    "ax.scatter(y=daily_collisions, x=daily_collisions.index, s=4)  # s is marker size\n",
    "ax.scatter(y=daily_injuries, x=daily_injuries.index, s=4)\n",
    "ax.scatter(y=daily_deaths, x=daily_deaths.index, s=4)\n",
    "ax.legend([\"Collisions\", \"Injuries\", \"Deaths\"], fontsize=14, markerscale=3)\n",
    "plt.show()"
   ]
  },
  {
   "cell_type": "code",
   "execution_count": 16,
   "id": "45967bd1",
   "metadata": {},
   "outputs": [
    {
     "data": {
      "image/png": "[encoded data removed]",
      "text/plain": [
       "<Figure size 1800x1000 with 1 Axes>"
      ]
     },
     "metadata": {},
     "output_type": "display_data"
    }
   ],
   "source": [
    "annual = pd.DataFrame()\n",
    "annual[\"Collisions\"] = data.groupby(by=data[\"datetime\"].dt.year)[\"COLLISION_ID\"].count()\n",
    "annual[\"Injured\"] = data.groupby(by=data[\"datetime\"].dt.year)[\n",
    "    \"NUMBER OF PERSONS INJURED\"\n",
    "].sum()\n",
    "annual[\"Deaths\"] = data.groupby(by=data[\"datetime\"].dt.year)[\n",
    "    \"NUMBER OF PERSONS KILLED\"\n",
    "].sum()\n",
    "annual_labels = {\n",
    "    \"title\": \"Annual NYC Vehicle Collisions, Injuries, and Deaths\",\n",
    "    \"y_label\": \"(log scale)\",\n",
    "    \"x_label\": \"Year\",\n",
    "}\n",
    "groups = [\n",
    "    \"Collisions\",\n",
    "    \"Injuries\",\n",
    "    \"Deaths\",\n",
    "]\n",
    "viz.make_grouped_bar_chart(\n",
    "    annual,\n",
    "    **annual_labels,\n",
    "    legend_labels=groups,\n",
    "    colors=viz.CYCLE_COLORS,\n",
    "    legend_handleheight=2.0,\n",
    "    bar_label_bbox={\"facecolor\": \"white\", \"edgecolor\": \"none\", \"alpha\": 0.8},\n",
    "    logscale=True,\n",
    "    minor_ticks_off=True,\n",
    "    ylabel_rotation=\"vertical\",\n",
    "    ylabel_pad=10,\n",
    "    legend_bbox=(1.02, 0.9),\n",
    ")"
   ]
  },
  {
   "cell_type": "code",
   "execution_count": 17,
   "id": "22aa6a45",
   "metadata": {},
   "outputs": [
    {
     "data": {
      "text/plain": [
       "(Timestamp('2012-07-01 00:05:00'), Timestamp('2024-06-04 23:58:00'))"
      ]
     },
     "execution_count": 17,
     "metadata": {},
     "output_type": "execute_result"
    }
   ],
   "source": [
    "data[\"datetime\"].min(), data[\"datetime\"].max()"
   ]
  },
  {
   "cell_type": "markdown",
   "id": "c2fe3a18-08be-47ef-bc2b-f7eee543e7c0",
   "metadata": {},
   "source": [
    "__It appears that the dramatic drop in overall collisions (but not injuries and deaths) starting in 2020 may be due to a change in New York Police Department (NYPD) policy where police will no longer respond to collisions without injuries. As a result it is likely that fewer MV104-AN forms are being filled out by motorists and going into the dataset.__\n",
    "\n",
    "- https://nyc.streetsblog.org/2020/03/30/breaking-nypd-will-no-longer-respond-to-minor-car-crashes\n",
    "- https://nyc.streetsblog.org/2020/04/03/nypd-gives-a-few-details-of-new-no-report-crash-policy"
   ]
  },
  {
   "cell_type": "markdown",
   "id": "41dac481",
   "metadata": {},
   "source": [
    "### __There does not appear to a major gaps in data regarding injuries and deaths going back to the start of the data set (July 2012)__\n",
    "- __Total collisions numbers after 2018 are unlikely to be accurate or consistent with previous years due to a change in police policy and the data generating process__\n",
    "- __Fatal collisions are a small percentage of the dataset. Collisions with injuries are more common__\n",
    "- __Let's limit the scope of analysis to 1 January 2013 to 31 December 2023, a 11 year span__"
   ]
  },
  {
   "cell_type": "code",
   "execution_count": 18,
   "id": "ae351ba3",
   "metadata": {},
   "outputs": [
    {
     "data": {
      "text/plain": [
       "(Timestamp('2013-01-01 00:01:00'), Timestamp('2023-12-31 23:18:00'))"
      ]
     },
     "execution_count": 18,
     "metadata": {},
     "output_type": "execute_result"
    }
   ],
   "source": [
    "start = datetime(year=2013, month=1, day=1)\n",
    "end = datetime(year=2024, month=1, day=1)\n",
    "crashes = data[data[\"datetime\"].between(start, end, inclusive=\"left\")].copy()\n",
    "crashes[\"datetime\"].min(), crashes[\"datetime\"].max()"
   ]
  },
  {
   "cell_type": "markdown",
   "id": "ff831fc9",
   "metadata": {},
   "source": [
    "# Does 'NUMBER OF PERSONS INJURED' match the separate 'INJURED' categories?"
   ]
  },
  {
   "cell_type": "code",
   "execution_count": 19,
   "id": "2e537552",
   "metadata": {},
   "outputs": [
    {
     "data": {
      "text/plain": [
       "7314"
      ]
     },
     "execution_count": 19,
     "metadata": {},
     "output_type": "execute_result"
    }
   ],
   "source": [
    "crashes[\"sum injured categories\"] = (\n",
    "    crashes[\"NUMBER OF PEDESTRIANS INJURED\"]\n",
    "    + crashes[\"NUMBER OF CYCLIST INJURED\"]\n",
    "    + crashes[\"NUMBER OF MOTORIST INJURED\"]\n",
    ")\n",
    "num_mismatch = len(\n",
    "    crashes[crashes[\"sum injured categories\"] != crashes[\"NUMBER OF PERSONS INJURED\"]]\n",
    ")\n",
    "num_mismatch"
   ]
  },
  {
   "cell_type": "code",
   "execution_count": 20,
   "id": "9ad525d8",
   "metadata": {},
   "outputs": [
    {
     "data": {
      "text/plain": [
       "0.0037406043781539294"
      ]
     },
     "execution_count": 20,
     "metadata": {},
     "output_type": "execute_result"
    }
   ],
   "source": [
    "num_mismatch / len(crashes)"
   ]
  },
  {
   "cell_type": "markdown",
   "id": "587868a1",
   "metadata": {},
   "source": [
    "### There do appear to be ~7300 collisions (or < 0.4% of total collisions) where the 'NUMBER OF PERSONS INJURED' field does not match the sum of the distinct injured categories (pedestrian, cyclist, motorist)"
   ]
  },
  {
   "cell_type": "code",
   "execution_count": 21,
   "id": "5f8cf5db",
   "metadata": {},
   "outputs": [
    {
     "data": {
      "text/plain": [
       "7214.0"
      ]
     },
     "execution_count": 21,
     "metadata": {},
     "output_type": "execute_result"
    }
   ],
   "source": [
    "total_injured = crashes[\"NUMBER OF PERSONS INJURED\"].sum()\n",
    "difference = (\n",
    "    crashes[\"NUMBER OF PERSONS INJURED\"].sum() - crashes[\"sum injured categories\"].sum()\n",
    ")\n",
    "difference"
   ]
  },
  {
   "cell_type": "code",
   "execution_count": 22,
   "id": "1dfe619e",
   "metadata": {},
   "outputs": [
    {
     "data": {
      "text/plain": [
       "0.011932171542746749"
      ]
     },
     "execution_count": 22,
     "metadata": {},
     "output_type": "execute_result"
    }
   ],
   "source": [
    "(difference / total_injured)"
   ]
  },
  {
   "cell_type": "markdown",
   "id": "0649abcf",
   "metadata": {},
   "source": [
    "- The cumulative discrepancy between the 'NUMBER OF PERSONS INJURED' field and the sum of the distinct injury fields (pedestrian, cyclist, motorist) is ~7200 injuries or < 1.2%\n",
    "- __Given the relatively small difference, we will use the separate 'injury' fields in our analyses going forward__\n"
   ]
  },
  {
   "cell_type": "markdown",
   "id": "6d308884",
   "metadata": {},
   "source": [
    "# Does 'NUMBER OF PERSONS KILLED' match the separate 'KILLED' categories?"
   ]
  },
  {
   "cell_type": "code",
   "execution_count": 23,
   "id": "3c0d5275",
   "metadata": {},
   "outputs": [
    {
     "data": {
      "text/plain": [
       "91"
      ]
     },
     "execution_count": 23,
     "metadata": {},
     "output_type": "execute_result"
    }
   ],
   "source": [
    "crashes[\"sum killed categories\"] = (\n",
    "    crashes[\"NUMBER OF PEDESTRIANS KILLED\"]\n",
    "    + crashes[\"NUMBER OF CYCLIST KILLED\"]\n",
    "    + crashes[\"NUMBER OF MOTORIST KILLED\"]\n",
    ")\n",
    "len(crashes[crashes[\"sum killed categories\"] != crashes[\"NUMBER OF PERSONS KILLED\"]])"
   ]
  },
  {
   "cell_type": "code",
   "execution_count": 24,
   "id": "8a47744c",
   "metadata": {},
   "outputs": [
    {
     "data": {
      "text/plain": [
       "48.0"
      ]
     },
     "execution_count": 24,
     "metadata": {},
     "output_type": "execute_result"
    }
   ],
   "source": [
    "total_killed = crashes[\"NUMBER OF PERSONS KILLED\"].sum()\n",
    "difference_deaths = (\n",
    "    crashes[\"NUMBER OF PERSONS KILLED\"].sum() - crashes[\"sum killed categories\"].sum()\n",
    ")\n",
    "difference_deaths"
   ]
  },
  {
   "cell_type": "code",
   "execution_count": 25,
   "id": "a1f5d702",
   "metadata": {},
   "outputs": [
    {
     "data": {
      "text/plain": [
       "0.016506189821182942"
      ]
     },
     "execution_count": 25,
     "metadata": {},
     "output_type": "execute_result"
    }
   ],
   "source": [
    "(difference_deaths / total_killed)"
   ]
  },
  {
   "cell_type": "markdown",
   "id": "53efc9f7",
   "metadata": {},
   "source": [
    "- There are ~90 collisions with differences between the 'NUMBER OF PERSONS KILLED' field and the sum of the separate killed fields (pedestrian, cyclist, motorist). The 48 death discrepancy represents a small percent of the total deaths (< 1.7%)\n",
    "\n",
    "- __Once again given the relatively small difference, we will use the separate 'killed' fields in our analyses going forward__"
   ]
  },
  {
   "cell_type": "markdown",
   "id": "ad73515e",
   "metadata": {},
   "source": [
    "# Are many serious collisions missing location information? \n",
    "\n",
    "- We define _serious_ as a collision that results in injury or death. \n",
    "- Future analyses will tend to focus on serious collisions"
   ]
  },
  {
   "cell_type": "code",
   "execution_count": 26,
   "id": "b991bdf5",
   "metadata": {
    "scrolled": true
   },
   "outputs": [],
   "source": [
    "crashes[\"serious_accident\"] = (crashes[\"NUMBER OF PERSONS INJURED\"] > 0) | (\n",
    "    crashes[\"NUMBER OF PERSONS KILLED\"] > 0\n",
    ")\n",
    "crashes[\"lat_long_missing\"] = crashes[\"LOCATION\"].isna()"
   ]
  },
  {
   "cell_type": "code",
   "execution_count": 27,
   "id": "e8023113",
   "metadata": {
    "scrolled": true
   },
   "outputs": [
    {
     "data": {
      "text/plain": [
       "0.8888308130879216"
      ]
     },
     "execution_count": 27,
     "metadata": {},
     "output_type": "execute_result"
    }
   ],
   "source": [
    "(len(crashes) - crashes[\"lat_long_missing\"].sum()) / len(crashes)"
   ]
  },
  {
   "cell_type": "markdown",
   "id": "082290ad",
   "metadata": {},
   "source": [
    "~89% of collisions have lat_long coordinates"
   ]
  },
  {
   "cell_type": "code",
   "execution_count": 28,
   "id": "ce810689",
   "metadata": {
    "scrolled": true
   },
   "outputs": [
    {
     "data": {
      "text/html": [
       "<div>\n",
       "<style scoped>\n",
       "    .dataframe tbody tr th:only-of-type {\n",
       "        vertical-align: middle;\n",
       "    }\n",
       "\n",
       "    .dataframe tbody tr th {\n",
       "        vertical-align: top;\n",
       "    }\n",
       "\n",
       "    .dataframe thead th {\n",
       "        text-align: right;\n",
       "    }\n",
       "</style>\n",
       "<table border=\"1\" class=\"dataframe\">\n",
       "  <thead>\n",
       "    <tr style=\"text-align: right;\">\n",
       "      <th>serious_accident</th>\n",
       "      <th>False</th>\n",
       "      <th>True</th>\n",
       "      <th>All</th>\n",
       "    </tr>\n",
       "    <tr>\n",
       "      <th>lat_long_missing</th>\n",
       "      <th></th>\n",
       "      <th></th>\n",
       "      <th></th>\n",
       "    </tr>\n",
       "  </thead>\n",
       "  <tbody>\n",
       "    <tr>\n",
       "      <th>False</th>\n",
       "      <td>0.683194</td>\n",
       "      <td>0.205637</td>\n",
       "      <td>0.888831</td>\n",
       "    </tr>\n",
       "    <tr>\n",
       "      <th>True</th>\n",
       "      <td>0.087632</td>\n",
       "      <td>0.023537</td>\n",
       "      <td>0.111169</td>\n",
       "    </tr>\n",
       "    <tr>\n",
       "      <th>All</th>\n",
       "      <td>0.770826</td>\n",
       "      <td>0.229174</td>\n",
       "      <td>1.000000</td>\n",
       "    </tr>\n",
       "  </tbody>\n",
       "</table>\n",
       "</div>"
      ],
      "text/plain": [
       "serious_accident     False      True       All\n",
       "lat_long_missing                              \n",
       "False             0.683194  0.205637  0.888831\n",
       "True              0.087632  0.023537  0.111169\n",
       "All               0.770826  0.229174  1.000000"
      ]
     },
     "execution_count": 28,
     "metadata": {},
     "output_type": "execute_result"
    }
   ],
   "source": [
    "pd.crosstab(\n",
    "    index=crashes[\"lat_long_missing\"],\n",
    "    columns=crashes[\"serious_accident\"],\n",
    "    margins=True,\n",
    "    normalize=True,\n",
    ")"
   ]
  },
  {
   "cell_type": "code",
   "execution_count": 29,
   "id": "9eb9192b",
   "metadata": {},
   "outputs": [
    {
     "data": {
      "text/plain": [
       "1.152463904854277e-93"
      ]
     },
     "execution_count": 29,
     "metadata": {},
     "output_type": "execute_result"
    }
   ],
   "source": [
    "contingency_table = pd.crosstab(\n",
    "    index=crashes[\"lat_long_missing\"], columns=crashes[\"serious_accident\"]\n",
    ")\n",
    "chi2_results = scipy.stats.chi2_contingency(contingency_table)\n",
    "p_val = chi2_results[1]\n",
    "p_val"
   ]
  },
  {
   "cell_type": "code",
   "execution_count": 30,
   "id": "f71ab91d-5ce8-4b60-998f-2939522ee2c3",
   "metadata": {},
   "outputs": [
    {
     "data": {
      "text/html": [
       "<div>\n",
       "<style scoped>\n",
       "    .dataframe tbody tr th:only-of-type {\n",
       "        vertical-align: middle;\n",
       "    }\n",
       "\n",
       "    .dataframe tbody tr th {\n",
       "        vertical-align: top;\n",
       "    }\n",
       "\n",
       "    .dataframe thead th {\n",
       "        text-align: right;\n",
       "    }\n",
       "</style>\n",
       "<table border=\"1\" class=\"dataframe\">\n",
       "  <thead>\n",
       "    <tr style=\"text-align: right;\">\n",
       "      <th>serious_accident</th>\n",
       "      <th>False</th>\n",
       "      <th>True</th>\n",
       "    </tr>\n",
       "    <tr>\n",
       "      <th>lat_long_missing</th>\n",
       "      <th></th>\n",
       "      <th></th>\n",
       "    </tr>\n",
       "  </thead>\n",
       "  <tbody>\n",
       "    <tr>\n",
       "      <th>False</th>\n",
       "      <td>1335848</td>\n",
       "      <td>402082</td>\n",
       "    </tr>\n",
       "    <tr>\n",
       "      <th>True</th>\n",
       "      <td>171347</td>\n",
       "      <td>46022</td>\n",
       "    </tr>\n",
       "  </tbody>\n",
       "</table>\n",
       "</div>"
      ],
      "text/plain": [
       "serious_accident    False   True \n",
       "lat_long_missing                 \n",
       "False             1335848  402082\n",
       "True               171347   46022"
      ]
     },
     "execution_count": 30,
     "metadata": {},
     "output_type": "execute_result"
    }
   ],
   "source": [
    "contingency_table"
   ]
  },
  {
   "cell_type": "code",
   "execution_count": 31,
   "id": "e38d4c94",
   "metadata": {},
   "outputs": [
    {
     "data": {
      "text/plain": [
       "0.23135684406161353"
      ]
     },
     "execution_count": 31,
     "metadata": {},
     "output_type": "execute_result"
    }
   ],
   "source": [
    "# col, row indexing\n",
    "percent_with_lat_long_that_are_serious = contingency_table.iloc[0].iloc[1] / (\n",
    "    contingency_table.iloc[0].iloc[0] + contingency_table.iloc[0].iloc[1]\n",
    ")\n",
    "\n",
    "percent_with_lat_long_that_are_serious"
   ]
  },
  {
   "cell_type": "code",
   "execution_count": 32,
   "id": "ba953755",
   "metadata": {},
   "outputs": [
    {
     "data": {
      "text/plain": [
       "0.2117229227718764"
      ]
     },
     "execution_count": 32,
     "metadata": {},
     "output_type": "execute_result"
    }
   ],
   "source": [
    "percent_missing_lat_long_that_are_serious = contingency_table.iloc[1].iloc[1] / (\n",
    "    contingency_table.iloc[1].iloc[0] + contingency_table.iloc[1].iloc[1]\n",
    ")\n",
    "percent_missing_lat_long_that_are_serious"
   ]
  },
  {
   "cell_type": "code",
   "execution_count": 33,
   "id": "82c66fd8",
   "metadata": {},
   "outputs": [
    {
     "data": {
      "text/plain": [
       "0.10270383660935854"
      ]
     },
     "execution_count": 33,
     "metadata": {},
     "output_type": "execute_result"
    }
   ],
   "source": [
    "percent_serious_missing_lat_long = contingency_table.iloc[1].iloc[1] / (\n",
    "    contingency_table.iloc[0].iloc[1] + contingency_table.iloc[1].iloc[1]\n",
    ")\n",
    "percent_serious_missing_lat_long"
   ]
  },
  {
   "cell_type": "markdown",
   "id": "87853bc0",
   "metadata": {},
   "source": [
    "- The p-value of the Chi-squared test is ~0\n",
    "- Using the Chi-squared test, we reject the null hypothesis that the percentage of collisions with injuries is the same for the population with lat-longs coordinates as for the population without lat-longs coordinates\n",
    "- Approximately ~23% of the collisions that have lat-long coordinates are serious (with injuries or deaths)\n",
    "- Approximately ~21% of the collisions that are missing coordinates are serious\n",
    "- Serious collisions seem to be more likely to have lat-long coordinates with than less serious collisions\n",
    "- ___The good news is that an analysis requiring lat-longs will not exclude data with a higher concentration of serious collisions___\n",
    "- ___The bad news is that ~10% of serious accidents will be removed from the dataset by excluding collisions without lat-long coordinates___"
   ]
  },
  {
   "cell_type": "markdown",
   "id": "10a12814",
   "metadata": {},
   "source": [
    "A quick view of some serious accidents that are missing coordinates suggests that a more in-depth analysis could obtain approximate lat-long coordinates for some of the serious accidents based on other location data"
   ]
  },
  {
   "cell_type": "code",
   "execution_count": 34,
   "id": "50156a5c",
   "metadata": {},
   "outputs": [
    {
     "data": {
      "text/html": [
       "<div>\n",
       "<style scoped>\n",
       "    .dataframe tbody tr th:only-of-type {\n",
       "        vertical-align: middle;\n",
       "    }\n",
       "\n",
       "    .dataframe tbody tr th {\n",
       "        vertical-align: top;\n",
       "    }\n",
       "\n",
       "    .dataframe thead th {\n",
       "        text-align: right;\n",
       "    }\n",
       "</style>\n",
       "<table border=\"1\" class=\"dataframe\">\n",
       "  <thead>\n",
       "    <tr style=\"text-align: right;\">\n",
       "      <th></th>\n",
       "      <th>ON STREET NAME</th>\n",
       "      <th>CROSS STREET NAME</th>\n",
       "      <th>OFF STREET NAME</th>\n",
       "    </tr>\n",
       "  </thead>\n",
       "  <tbody>\n",
       "    <tr>\n",
       "      <th>0</th>\n",
       "      <td>WHITESTONE EXPRESSWAY</td>\n",
       "      <td>20 AVENUE</td>\n",
       "      <td>NaN</td>\n",
       "    </tr>\n",
       "    <tr>\n",
       "      <th>1</th>\n",
       "      <td>QUEENSBORO BRIDGE UPPER</td>\n",
       "      <td>NaN</td>\n",
       "      <td>NaN</td>\n",
       "    </tr>\n",
       "    <tr>\n",
       "      <th>17</th>\n",
       "      <td>MEEKER AVENUE</td>\n",
       "      <td>LORIMER STREET</td>\n",
       "      <td>NaN</td>\n",
       "    </tr>\n",
       "    <tr>\n",
       "      <th>33</th>\n",
       "      <td>KINGSLAND AVENUE</td>\n",
       "      <td>MEEKER AVENUE</td>\n",
       "      <td>NaN</td>\n",
       "    </tr>\n",
       "    <tr>\n",
       "      <th>34</th>\n",
       "      <td>WILLIAMSBURG BRIDGE OUTER ROADWA</td>\n",
       "      <td>NaN</td>\n",
       "      <td>NaN</td>\n",
       "    </tr>\n",
       "    <tr>\n",
       "      <th>36</th>\n",
       "      <td>THROGS NECK BRIDGE</td>\n",
       "      <td>NaN</td>\n",
       "      <td>NaN</td>\n",
       "    </tr>\n",
       "    <tr>\n",
       "      <th>61</th>\n",
       "      <td>VANWYCK EXPRESSWAY</td>\n",
       "      <td>109 AVENUE</td>\n",
       "      <td>NaN</td>\n",
       "    </tr>\n",
       "    <tr>\n",
       "      <th>82</th>\n",
       "      <td>OCEAN PARKWAY</td>\n",
       "      <td>NaN</td>\n",
       "      <td>NaN</td>\n",
       "    </tr>\n",
       "    <tr>\n",
       "      <th>125</th>\n",
       "      <td>GRAND AVENUE</td>\n",
       "      <td>GREENE AVENUE</td>\n",
       "      <td>NaN</td>\n",
       "    </tr>\n",
       "    <tr>\n",
       "      <th>144</th>\n",
       "      <td>49 street</td>\n",
       "      <td>5 avenue</td>\n",
       "      <td>NaN</td>\n",
       "    </tr>\n",
       "    <tr>\n",
       "      <th>282</th>\n",
       "      <td>CROSS BRONX EXPY RAMP</td>\n",
       "      <td>NaN</td>\n",
       "      <td>NaN</td>\n",
       "    </tr>\n",
       "    <tr>\n",
       "      <th>344</th>\n",
       "      <td>BRONX RIVER PARKWAY RAMP</td>\n",
       "      <td>NaN</td>\n",
       "      <td>NaN</td>\n",
       "    </tr>\n",
       "    <tr>\n",
       "      <th>384</th>\n",
       "      <td>LAYTON AVENUE</td>\n",
       "      <td>THROGMORTAN AVENUE</td>\n",
       "      <td>NaN</td>\n",
       "    </tr>\n",
       "    <tr>\n",
       "      <th>437</th>\n",
       "      <td>NEW ENGLAND THRUWAY</td>\n",
       "      <td>NaN</td>\n",
       "      <td>NaN</td>\n",
       "    </tr>\n",
       "    <tr>\n",
       "      <th>483</th>\n",
       "      <td>ROCKAWAY BOULEVARD</td>\n",
       "      <td>225 STREET</td>\n",
       "      <td>NaN</td>\n",
       "    </tr>\n",
       "    <tr>\n",
       "      <th>570</th>\n",
       "      <td>PARSONS BLVD</td>\n",
       "      <td>90 AVENUE</td>\n",
       "      <td>NaN</td>\n",
       "    </tr>\n",
       "    <tr>\n",
       "      <th>571</th>\n",
       "      <td>STATEN ISLAND EXPRESSWAY</td>\n",
       "      <td>NaN</td>\n",
       "      <td>NaN</td>\n",
       "    </tr>\n",
       "    <tr>\n",
       "      <th>605</th>\n",
       "      <td>Trans- Manhattan Expressway</td>\n",
       "      <td>Amsterdam Avenue</td>\n",
       "      <td>NaN</td>\n",
       "    </tr>\n",
       "    <tr>\n",
       "      <th>625</th>\n",
       "      <td>REVIEW AVENUE</td>\n",
       "      <td>RAILROAD AVENUE</td>\n",
       "      <td>NaN</td>\n",
       "    </tr>\n",
       "    <tr>\n",
       "      <th>642</th>\n",
       "      <td>ARCHER AVENUE</td>\n",
       "      <td>GUY R BREWER BLVD</td>\n",
       "      <td>NaN</td>\n",
       "    </tr>\n",
       "  </tbody>\n",
       "</table>\n",
       "</div>"
      ],
      "text/plain": [
       "                       ON STREET NAME   CROSS STREET NAME OFF STREET NAME\n",
       "0               WHITESTONE EXPRESSWAY           20 AVENUE             NaN\n",
       "1             QUEENSBORO BRIDGE UPPER                 NaN             NaN\n",
       "17                      MEEKER AVENUE      LORIMER STREET             NaN\n",
       "33                   KINGSLAND AVENUE       MEEKER AVENUE             NaN\n",
       "34   WILLIAMSBURG BRIDGE OUTER ROADWA                 NaN             NaN\n",
       "36                 THROGS NECK BRIDGE                 NaN             NaN\n",
       "61                 VANWYCK EXPRESSWAY          109 AVENUE             NaN\n",
       "82                      OCEAN PARKWAY                 NaN             NaN\n",
       "125                      GRAND AVENUE       GREENE AVENUE             NaN\n",
       "144                         49 street            5 avenue             NaN\n",
       "282             CROSS BRONX EXPY RAMP                 NaN             NaN\n",
       "344          BRONX RIVER PARKWAY RAMP                 NaN             NaN\n",
       "384                     LAYTON AVENUE  THROGMORTAN AVENUE             NaN\n",
       "437               NEW ENGLAND THRUWAY                 NaN             NaN\n",
       "483                ROCKAWAY BOULEVARD          225 STREET             NaN\n",
       "570                      PARSONS BLVD           90 AVENUE             NaN\n",
       "571          STATEN ISLAND EXPRESSWAY                 NaN             NaN\n",
       "605       Trans- Manhattan Expressway    Amsterdam Avenue             NaN\n",
       "625                     REVIEW AVENUE     RAILROAD AVENUE             NaN\n",
       "642                     ARCHER AVENUE   GUY R BREWER BLVD             NaN"
      ]
     },
     "execution_count": 34,
     "metadata": {},
     "output_type": "execute_result"
    }
   ],
   "source": [
    "serious_missing_location = crashes[\n",
    "    (crashes[\"LOCATION\"].isna()) & (crashes[\"serious_accident\"])\n",
    "]\n",
    "serious_missing_location[\n",
    "    [\"ON STREET NAME\", \"CROSS STREET NAME\", \"OFF STREET NAME\"]\n",
    "].head(20)"
   ]
  },
  {
   "cell_type": "markdown",
   "id": "edbdc282",
   "metadata": {},
   "source": [
    "# Does 'LOCATION' match the individual 'LATITUDE' and 'LONGITUDE' fields?"
   ]
  },
  {
   "cell_type": "code",
   "execution_count": 35,
   "id": "3cc6d5d4",
   "metadata": {},
   "outputs": [],
   "source": [
    "def loc_string_to_tuple(s):\n",
    "    \"\"\"Helper function to convert strings in 'LOCATION' to numeric tuple\"\"\"\n",
    "    s = str(s)  # to handle 'nan's without checking type\n",
    "    if s == \"nan\":\n",
    "        ret = (float(\"nan\"), float(\"nan\"))\n",
    "    else:\n",
    "        s_list = s.strip().split(\",\")\n",
    "        ret = tuple(float(s.strip(\"()\")) for s in s_list)\n",
    "    return ret\n",
    "\n",
    "\n",
    "def tuples_match(tup1, tup2):\n",
    "    \"\"\"Check for tuple equality given that values may be float('nan').\n",
    "    float('nan') != float('nan'). Returns Boolean\"\"\"\n",
    "    if math.isnan(tup1[0]):\n",
    "        return all(math.isnan(x) for x in (tup1 + tup2))\n",
    "    return tup1 == tup2"
   ]
  },
  {
   "cell_type": "code",
   "execution_count": 36,
   "id": "109a44f2",
   "metadata": {},
   "outputs": [
    {
     "data": {
      "text/plain": [
       "True"
      ]
     },
     "execution_count": 36,
     "metadata": {},
     "output_type": "execute_result"
    }
   ],
   "source": [
    "location = crashes[\"LOCATION\"].apply(loc_string_to_tuple)\n",
    "lat_long = list(zip(crashes[\"LATITUDE\"], crashes[\"LONGITUDE\"]))\n",
    "matches = [tuples_match(x[0], x[1]) for x in zip(location, lat_long)]\n",
    "all(matches)"
   ]
  },
  {
   "cell_type": "markdown",
   "id": "eb49c4d8",
   "metadata": {},
   "source": [
    "__'LOCATION' matches the individual 'LATITUDE' and 'LONGITUDE' fields__"
   ]
  },
  {
   "cell_type": "markdown",
   "id": "66959ec6",
   "metadata": {},
   "source": [
    "# Are there obviously wrong lat-long coordinates (far outside NYC)?"
   ]
  },
  {
   "cell_type": "code",
   "execution_count": 37,
   "id": "5a3b9825",
   "metadata": {},
   "outputs": [],
   "source": [
    "crashes[\"good_lat_long\"] = (\n",
    "    crashes[\"LONGITUDE\"].between(NYC_WEST_LIMIT, NYC_EAST_LIMIT)\n",
    ") & (crashes[\"LATITUDE\"].between(NYC_SOUTH_LIMIT, NYC_NORTH_LIMIT))"
   ]
  },
  {
   "cell_type": "code",
   "execution_count": 38,
   "id": "dbc9f953",
   "metadata": {
    "scrolled": true
   },
   "outputs": [
    {
     "data": {
      "text/plain": [
       "0.9974239468793334"
      ]
     },
     "execution_count": 38,
     "metadata": {},
     "output_type": "execute_result"
    }
   ],
   "source": [
    "with_lat_long_sum = crashes[~crashes[\"lat_long_missing\"]][\"good_lat_long\"].count()\n",
    "good_lat_long_sum = crashes[~crashes[\"lat_long_missing\"]][\"good_lat_long\"].sum()\n",
    "good_lat_long_sum / with_lat_long_sum"
   ]
  },
  {
   "cell_type": "code",
   "execution_count": 39,
   "id": "36f9c4d5",
   "metadata": {},
   "outputs": [
    {
     "data": {
      "text/plain": [
       "4477"
      ]
     },
     "execution_count": 39,
     "metadata": {},
     "output_type": "execute_result"
    }
   ],
   "source": [
    "with_lat_long_sum - good_lat_long_sum"
   ]
  },
  {
   "cell_type": "markdown",
   "id": "2e1d2d93",
   "metadata": {},
   "source": [
    "~99.7% (or all but ~4500) of the collisions that have coordinates, have coordinates that are in vicinity of NYC. "
   ]
  },
  {
   "cell_type": "markdown",
   "id": "a5183bac",
   "metadata": {},
   "source": [
    "# Conclusions\n",
    "\n",
    "- The data contains time, location (in most cases), and the number of people injured or killed in automobile collisions dating back to 2012\n",
    "- There do not appear to be any significant gaps regarding injuries and deaths going back to 2012. The total number of collisions appears to be inconsistent with previous years and less accurate after 2018 due to changes in the data generating process\n",
    "- There are some minor inconsistencies betweeen the total number of people injured or killed and their respective breakdown into pedestrian, cyclist, and motorist categories. We will be using the distinct categories going forward rather than the provided sum. The sum injured and killed fields can be recomputed from the separate categories\n",
    "- ~10% of serious collisions are missing location data\n",
    "- The 'LOCATION' field matches \"LATITUDE' and 'LONGITUDE' with no inconsistencies \n",
    "- ~99.7% of collisions with location data have coordinates that correspond to the NYC area"
   ]
  }
 ],
 "metadata": {
  "kernelspec": {
   "display_name": "Python 3 (ipykernel)",
   "language": "python",
   "name": "python3"
  },
  "language_info": {
   "codemirror_mode": {
    "name": "ipython",
    "version": 3
   },
   "file_extension": ".py",
   "mimetype": "text/x-python",
   "name": "python",
   "nbconvert_exporter": "python",
   "pygments_lexer": "ipython3",
   "version": "3.12.3"
  }
 },
 "nbformat": 4,
 "nbformat_minor": 5
}
