{
 "cells": [
  {
   "cell_type": "markdown",
   "id": "64afafe5",
   "metadata": {},
   "source": [
    "# Profiling NYC Collisions Data \n",
    "\n",
    "\n",
    "### Key Questions\n",
    "- What fields are there and are they useful? \n",
    "- Are the fields missing data?\n",
    "- Are there significant gaps in the data over time?\n",
    "- Are there inconsistencies in the total number of people injured or killed and their respective breakdowns into motorist, pedestrian, and cyclist?\n",
    "- Are many collisions missing location data? \n",
    "- Does 'location' match 'latititude' and 'longitude'?\n",
    "- Are collision locations near NYC? \n",
    "\n",
    "### Data Sources\n",
    "- Collision data obtained from https://data.cityofnewyork.us/Public-Safety/Motor-Vehicle-Collisions-Crashes/h9gi-nx95\n",
    " "
   ]
  },
  {
   "cell_type": "code",
   "execution_count": 1,
   "id": "ff499edc",
   "metadata": {
    "scrolled": true
   },
   "outputs": [],
   "source": [
    "from datetime import datetime\n",
    "import math\n",
    "import matplotlib.pyplot as plt\n",
    "import pandas as pd\n",
    "import pandahelper.reports as ph\n",
    "import scipy.stats"
   ]
  },
  {
   "cell_type": "code",
   "execution_count": 2,
   "id": "040946b6",
   "metadata": {},
   "outputs": [],
   "source": [
    "DATA_LOC = \"data/raw/Collisions.csv\""
   ]
  },
  {
   "cell_type": "code",
   "execution_count": 3,
   "id": "52cd25c8",
   "metadata": {},
   "outputs": [],
   "source": [
    "data = pd.read_csv(\n",
    "    DATA_LOC, dtype={\"ZIP CODE\": \"object\"}\n",
    ")  # read_csv interprets zip code as mixed type"
   ]
  },
  {
   "cell_type": "markdown",
   "id": "0f61aeed",
   "metadata": {},
   "source": [
    "# Overview of DataFrame"
   ]
  },
  {
   "cell_type": "code",
   "execution_count": 4,
   "id": "bed9cf75",
   "metadata": {
    "scrolled": true
   },
   "outputs": [
    {
     "data": {
      "text/plain": [
       "DataFrame-Level Info\n",
       "----------------------  -------------\n",
       "DF Shape                (1843227, 29)\n",
       "Duplicated Rows         0\n",
       "\n",
       "Series Name                    Data Type\n",
       "-----------------------------  -----------\n",
       "CRASH DATE                     object\n",
       "CRASH TIME                     object\n",
       "BOROUGH                        object\n",
       "ZIP CODE                       object\n",
       "LATITUDE                       float64\n",
       "LONGITUDE                      float64\n",
       "LOCATION                       object\n",
       "ON STREET NAME                 object\n",
       "CROSS STREET NAME              object\n",
       "OFF STREET NAME                object\n",
       "NUMBER OF PERSONS INJURED      float64\n",
       "NUMBER OF PERSONS KILLED       float64\n",
       "NUMBER OF PEDESTRIANS INJURED  int64\n",
       "NUMBER OF PEDESTRIANS KILLED   int64\n",
       "NUMBER OF CYCLIST INJURED      int64\n",
       "NUMBER OF CYCLIST KILLED       int64\n",
       "NUMBER OF MOTORIST INJURED     int64\n",
       "NUMBER OF MOTORIST KILLED      int64\n",
       "CONTRIBUTING FACTOR VEHICLE 1  object\n",
       "CONTRIBUTING FACTOR VEHICLE 2  object\n",
       "CONTRIBUTING FACTOR VEHICLE 3  object\n",
       "CONTRIBUTING FACTOR VEHICLE 4  object\n",
       "CONTRIBUTING FACTOR VEHICLE 5  object\n",
       "COLLISION_ID                   int64\n",
       "VEHICLE TYPE CODE 1            object\n",
       "VEHICLE TYPE CODE 2            object\n",
       "VEHICLE TYPE CODE 3            object\n",
       "VEHICLE TYPE CODE 4            object\n",
       "VEHICLE TYPE CODE 5            object\n",
       "\n",
       "Summary of Nulls Per Row\n",
       "--------------------------  ------------\n",
       "count                        1.84323e+06\n",
       "min                          1\n",
       "1%                           5\n",
       "5%                           7\n",
       "25%                          7\n",
       "50%                          8\n",
       "75%                         10\n",
       "95%                         12\n",
       "99%                         14\n",
       "max                         18\n",
       "median                       8\n",
       "mean                         8.53171\n",
       "median absolute deviation    1\n",
       "standard deviation           2.1184\n",
       "skew                         0.66684\n"
      ]
     },
     "execution_count": 4,
     "metadata": {},
     "output_type": "execute_result"
    }
   ],
   "source": [
    "ph.DataFrameProfile(data)"
   ]
  },
  {
   "cell_type": "markdown",
   "id": "c943f20e",
   "metadata": {},
   "source": [
    "# Examining individual fields (columns)"
   ]
  },
  {
   "cell_type": "code",
   "execution_count": 5,
   "id": "4b7f0147",
   "metadata": {
    "scrolled": true
   },
   "outputs": [
    {
     "data": {
      "text/plain": [
       "COLLISION_ID Info\n",
       "-------------------  -------\n",
       "Data Type            int64\n",
       "Count                1843227\n",
       "Unique Values        1843227\n",
       "Null Values          0\n",
       "\n",
       "  Value    Count  % of total\n",
       "-------  -------  ------------\n",
       "4407480        1  0.00%\n",
       "3243891        1  0.00%\n",
       "3245102        1  0.00%\n",
       "3250580        1  0.00%\n",
       "3244768        1  0.00%\n",
       "3242226        1  0.00%\n",
       "3240484        1  0.00%\n",
       "3247558        1  0.00%\n",
       "3248872        1  0.00%\n",
       "3249533        1  0.00%\n",
       "3254650        1  0.00%\n",
       "3245742        1  0.00%\n",
       "3253876        1  0.00%\n",
       "3244652        1  0.00%\n",
       "3249707        1  0.00%\n",
       "3244030        1  0.00%\n",
       "3251000        1  0.00%\n",
       "3250339        1  0.00%\n",
       "3255595        1  0.00%\n",
       "3246354        1  0.00%\n",
       "3868944        1  0.00%\n",
       "3863860        1  0.00%\n",
       "3863359        1  0.00%\n",
       "3869882        1  0.00%\n",
       " 233172        1  0.00%\n",
       "\n",
       "Statistic                             Value\n",
       "-------------------------  ----------------\n",
       "count                           1.84323e+06\n",
       "min                            22\n",
       "1%                          18579.3\n",
       "5%                          92979.3\n",
       "25%                             2.98321e+06\n",
       "50%                             3.5578e+06\n",
       "75%                             4.01884e+06\n",
       "95%                             4.38759e+06\n",
       "99%                             4.46134e+06\n",
       "max                             4.4801e+06\n",
       "median                          3.5578e+06\n",
       "mean                            2.97869e+06\n",
       "median absolute deviation  478759\n",
       "standard deviation              1.50256e+06\n",
       "skew                           -1.13265\n"
      ]
     },
     "execution_count": 5,
     "metadata": {},
     "output_type": "execute_result"
    }
   ],
   "source": [
    "collision_id_report = ph.SeriesProfile(data[\"COLLISION_ID\"])\n",
    "collision_id_report"
   ]
  },
  {
   "cell_type": "markdown",
   "id": "1c4200bd",
   "metadata": {},
   "source": [
    "Collision_ID is the primary key according to the dataset dictionary. We confirm that all its values are unique."
   ]
  },
  {
   "cell_type": "code",
   "execution_count": 6,
   "id": "eb432080",
   "metadata": {
    "scrolled": true
   },
   "outputs": [
    {
     "data": {
      "text/plain": [
       "(CRASH TIME Info\n",
       " -----------------  -------\n",
       " Data Type          object\n",
       " Count              1843227\n",
       " Unique Values      1440\n",
       " Null Values        0\n",
       " \n",
       " Value      Count  % of total\n",
       " -------  -------  ------------\n",
       " 16:00      26281  1.43%\n",
       " 17:00      25760  1.40%\n",
       " 15:00      25521  1.38%\n",
       " 18:00      23802  1.29%\n",
       " 14:00      23411  1.27%\n",
       " 13:00      21776  1.18%\n",
       " 9:00       19629  1.06%\n",
       " 19:00      19599  1.06%\n",
       " 12:00      19539  1.06%\n",
       " 16:30      19059  1.03%\n",
       " 14:30      18268  0.99%\n",
       " 8:00       18085  0.98%\n",
       " 10:00      18030  0.98%\n",
       " 17:30      17846  0.97%\n",
       " 11:00      17752  0.96%\n",
       " 0:00       16998  0.92%\n",
       " 18:30      15877  0.86%\n",
       " 20:00      15764  0.86%\n",
       " 13:30      15329  0.83%\n",
       " 8:30       15282  0.83%\n",
       " 3:59          75  0.00%\n",
       " 3:51          75  0.00%\n",
       " 4:02          74  0.00%\n",
       " 4:31          73  0.00%\n",
       " 3:31          70  0.00%\n",
       " \n",
       " \n",
       " ,\n",
       " CRASH DATE Info\n",
       " -----------------  -------\n",
       " Data Type          object\n",
       " Count              1843227\n",
       " Unique Values      3430\n",
       " Null Values        0\n",
       " \n",
       " Value         Count  % of total\n",
       " ----------  -------  ------------\n",
       " 01/21/2014     1161  0.06%\n",
       " 11/15/2018     1065  0.06%\n",
       " 12/15/2017      999  0.05%\n",
       " 05/19/2017      974  0.05%\n",
       " 01/18/2015      961  0.05%\n",
       " 02/03/2014      960  0.05%\n",
       " 03/06/2015      939  0.05%\n",
       " 05/18/2017      911  0.05%\n",
       " 01/07/2017      896  0.05%\n",
       " 03/02/2018      884  0.05%\n",
       " 12/14/2017      883  0.05%\n",
       " 09/30/2016      872  0.05%\n",
       " 11/09/2018      867  0.05%\n",
       " 11/26/2013      867  0.05%\n",
       " 04/28/2017      857  0.05%\n",
       " 03/08/2013      851  0.05%\n",
       " 10/21/2016      851  0.05%\n",
       " 06/29/2018      845  0.05%\n",
       " 06/22/2017      845  0.05%\n",
       " 12/14/2018      841  0.05%\n",
       " 04/23/2020      108  0.01%\n",
       " 04/12/2020      106  0.01%\n",
       " 04/09/2020      103  0.01%\n",
       " 04/19/2020      102  0.01%\n",
       " 04/05/2020       94  0.01%\n",
       " \n",
       " \n",
       " )"
      ]
     },
     "execution_count": 6,
     "metadata": {},
     "output_type": "execute_result"
    }
   ],
   "source": [
    "time_report = ph.SeriesProfile(data[\"CRASH TIME\"])\n",
    "date_report = ph.SeriesProfile(data[\"CRASH DATE\"])\n",
    "time_report, date_report"
   ]
  },
  {
   "cell_type": "markdown",
   "id": "f9367ae3",
   "metadata": {},
   "source": [
    "__There are no obvious issues with the time and  date info__\n",
    "- There are no null values in CRASH TIME and CRASH DATE\n",
    "- All 1440 minutes in a day are represented in time data\n",
    "- Times tend to be rounded estimates. For example: 16:00 is more common that 16:02, which is unsurprising\n",
    "- ~3400 unique dates correspond to 9+ years of data (which is what we have)"
   ]
  },
  {
   "cell_type": "code",
   "execution_count": 7,
   "id": "e8a513d9",
   "metadata": {
    "scrolled": true
   },
   "outputs": [
    {
     "data": {
      "text/plain": [
       "(LOCATION Info\n",
       " ---------------  -------\n",
       " Data Type        object\n",
       " Count            1627931\n",
       " Unique Values    243859\n",
       " Null Values      215296\n",
       " \n",
       " Value                        Count  % of total\n",
       " -------------------------  -------  ------------\n",
       " (0.0, 0.0)                    2086  0.13%\n",
       " (40.861862, -73.91282)         685  0.04%\n",
       " (40.608757, -74.038086)        670  0.04%\n",
       " (40.696033, -73.98453)         646  0.04%\n",
       " (40.8047, -73.91243)           597  0.04%\n",
       " (40.6960346, -73.9845292)      587  0.04%\n",
       " (40.7606005, -73.9643142)      474  0.03%\n",
       " (40.820305, -73.89083)         467  0.03%\n",
       " (40.798256, -73.82744)         462  0.03%\n",
       " (40.7572323, -73.9897922)      456  0.03%\n",
       " (40.675735, -73.89686)         448  0.03%\n",
       " (40.77077, -73.91727)          443  0.03%\n",
       " (40.604153, -74.05198)         440  0.03%\n",
       " (40.6757357, -73.8968533)      435  0.03%\n",
       " (40.6585778, -73.8906229)      418  0.03%\n",
       " (40.733536, -73.87035)         415  0.03%\n",
       " (40.658577, -73.89063)         408  0.03%\n",
       " (40.7606, -73.96434)           408  0.03%\n",
       " (40.816864, -73.882744)        407  0.03%\n",
       " (40.704422, -73.99491)         382  0.02%\n",
       " (40.683205, -73.98462)           1  0.00%\n",
       " (40.744354, -73.9749)            1  0.00%\n",
       " (40.63886, -73.977516)           1  0.00%\n",
       " (40.578133, -73.95728)           1  0.00%\n",
       " (40.5473723, -74.1607719)        1  0.00%\n",
       " \n",
       " \n",
       " ,\n",
       " LATITUDE Info\n",
       " ---------------  -------\n",
       " Data Type        float64\n",
       " Count            1627931\n",
       " Unique Values    122406\n",
       " Null Values      215296\n",
       " \n",
       "   Value    Count  % of total\n",
       " -------  -------  ------------\n",
       "  0          2086  0.13%\n",
       " 40.8619      723  0.04%\n",
       " 40.8047      691  0.04%\n",
       " 40.6088      670  0.04%\n",
       " 40.696       660  0.04%\n",
       " 40.7983      626  0.04%\n",
       " 40.696       587  0.04%\n",
       " 40.7593      579  0.04%\n",
       " 40.7606      474  0.03%\n",
       " 40.8203      467  0.03%\n",
       " 40.7044      462  0.03%\n",
       " 40.7572      456  0.03%\n",
       " 40.6757      449  0.03%\n",
       " 40.7708      447  0.03%\n",
       " 40.6042      441  0.03%\n",
       " 40.6757      435  0.03%\n",
       " 40.759       429  0.03%\n",
       " 40.6586      419  0.03%\n",
       " 40.7606      418  0.03%\n",
       " 40.6586      418  0.03%\n",
       " 40.8778        1  0.00%\n",
       " 40.585         1  0.00%\n",
       " 40.6041        1  0.00%\n",
       " 40.5895        1  0.00%\n",
       " 40.5474        1  0.00%\n",
       " \n",
       " Statistic                          Value\n",
       " -------------------------  -------------\n",
       " count                        1.62793e+06\n",
       " min                          0\n",
       " 1%                          40.5552\n",
       " 5%                          40.5973\n",
       " 25%                         40.6684\n",
       " 50%                         40.7216\n",
       " 75%                         40.7691\n",
       " 95%                         40.8619\n",
       " 99%                         40.8887\n",
       " max                         43.3444\n",
       " median                      40.7216\n",
       " mean                        40.672\n",
       " median absolute deviation    0.050902\n",
       " standard deviation           1.459\n",
       " skew                       -27.7584\n",
       " ,\n",
       " LONGITUDE Info\n",
       " ----------------  -------\n",
       " Data Type         float64\n",
       " Count             1627931\n",
       " Unique Values     96001\n",
       " Null Values       215296\n",
       " \n",
       "    Value    Count  % of total\n",
       " --------  -------  ------------\n",
       "   0          2086  0.13%\n",
       " -73.9128      716  0.04%\n",
       " -73.9845      695  0.04%\n",
       " -74.0381      672  0.04%\n",
       " -73.9124      645  0.04%\n",
       " -73.8906      609  0.04%\n",
       " -73.9845      587  0.04%\n",
       " -73.8827      552  0.03%\n",
       " -73.8969      541  0.03%\n",
       " -73.8908      538  0.03%\n",
       " -73.9173      509  0.03%\n",
       " -73.8274      479  0.03%\n",
       " -73.9112      476  0.03%\n",
       " -73.9643      474  0.03%\n",
       " -73.9448      470  0.03%\n",
       " -73.9898      456  0.03%\n",
       " -74.052       440  0.03%\n",
       " -73.9749      438  0.03%\n",
       " -73.8969      435  0.03%\n",
       " -73.9772      434  0.03%\n",
       " -74.0155        1  0.00%\n",
       " -73.8236        1  0.00%\n",
       " -73.8552        1  0.00%\n",
       " -73.8158        1  0.00%\n",
       " -74.1608        1  0.00%\n",
       " \n",
       " Statistic                           Value\n",
       " -------------------------  --------------\n",
       " count                         1.62793e+06\n",
       " min                        -201.36\n",
       " 1%                          -74.1681\n",
       " 5%                          -74.0349\n",
       " 25%                         -73.9756\n",
       " 50%                         -73.928\n",
       " 75%                         -73.8667\n",
       " 95%                         -73.7639\n",
       " 99%                         -73.7295\n",
       " max                           0\n",
       " median                      -73.928\n",
       " mean                        -73.8335\n",
       " median absolute deviation     0.052824\n",
       " standard deviation            2.84172\n",
       " skew                         16.6378\n",
       " )"
      ]
     },
     "execution_count": 7,
     "metadata": {},
     "output_type": "execute_result"
    }
   ],
   "source": [
    "loc_report = ph.SeriesProfile(data[\"LOCATION\"])\n",
    "lat_report = ph.SeriesProfile(data[\"LATITUDE\"])\n",
    "long_report = ph.SeriesProfile(data[\"LONGITUDE\"])\n",
    "loc_report, lat_report, long_report"
   ]
  },
  {
   "cell_type": "code",
   "execution_count": 8,
   "id": "56c3ebbe",
   "metadata": {},
   "outputs": [
    {
     "data": {
      "text/plain": [
       "0.11680384456173873"
      ]
     },
     "execution_count": 8,
     "metadata": {},
     "output_type": "execute_result"
    }
   ],
   "source": [
    "percent_missing_loc = sum(data[\"LOCATION\"].isna()) / len(data)\n",
    "percent_missing_loc"
   ]
  },
  {
   "cell_type": "markdown",
   "id": "a97fdf1a",
   "metadata": {},
   "source": [
    "__~12% of collisions are missing location data__\n",
    "- LOCATION is just the tuple, (LATITUDE, LONGITUDE)\n",
    "- Some lat-long coordinates are invalid. For example: (0, 0) or a latitiude of 43.3444 (max latitude), which is far from NYC"
   ]
  },
  {
   "cell_type": "code",
   "execution_count": 9,
   "id": "ea482bf8",
   "metadata": {
    "scrolled": true
   },
   "outputs": [
    {
     "data": {
      "text/plain": [
       "(NUMBER OF PERSONS INJURED Info\n",
       " --------------------------------  -------\n",
       " Data Type                         float64\n",
       " Count                             1843209\n",
       " Unique Values                     27\n",
       " Null Values                       18\n",
       " \n",
       "   Value    Count  % of total\n",
       " -------  -------  ------------\n",
       "       0  1460903  79.26%\n",
       "       1   296177  16.07%\n",
       "       2    55877  3.03%\n",
       "       3    18453  1.00%\n",
       "       4     6922  0.38%\n",
       "       5     2736  0.15%\n",
       "       6     1126  0.06%\n",
       "       7      487  0.03%\n",
       "       8      207  0.01%\n",
       "       9      115  0.01%\n",
       "      10       71  0.00%\n",
       "      11       41  0.00%\n",
       "      12       27  0.00%\n",
       "      13       18  0.00%\n",
       "      16        8  0.00%\n",
       "      14        8  0.00%\n",
       "      15        7  0.00%\n",
       "      17        5  0.00%\n",
       "      18        5  0.00%\n",
       "      19        4  0.00%\n",
       "      20        2  0.00%\n",
       "      31        1  0.00%\n",
       "      27        1  0.00%\n",
       "      32        1  0.00%\n",
       "      43        1  0.00%\n",
       " \n",
       " Statistic                         Value\n",
       " -------------------------  ------------\n",
       " count                       1.84321e+06\n",
       " min                         0\n",
       " 1%                          0\n",
       " 5%                          0\n",
       " 25%                         0\n",
       " 50%                         0\n",
       " 75%                         0\n",
       " 95%                         1\n",
       " 99%                         3\n",
       " max                        43\n",
       " median                      0\n",
       " mean                        0.282193\n",
       " median absolute deviation   0\n",
       " standard deviation          0.676011\n",
       " skew                        4.38062\n",
       " ,\n",
       " NUMBER OF PEDESTRIANS INJURED Info\n",
       " ------------------------------------  -------\n",
       " Data Type                             int64\n",
       " Count                                 1843227\n",
       " Unique Values                         13\n",
       " Null Values                           0\n",
       " \n",
       "   Value    Count  % of total\n",
       " -------  -------  ------------\n",
       "       0  1751107  95.00%\n",
       "       1    88778  4.82%\n",
       "       2     2946  0.16%\n",
       "       3      306  0.02%\n",
       "       4       50  0.00%\n",
       "       5       20  0.00%\n",
       "       6       11  0.00%\n",
       "       7        3  0.00%\n",
       "       9        2  0.00%\n",
       "      27        1  0.00%\n",
       "      13        1  0.00%\n",
       "      15        1  0.00%\n",
       "       8        1  0.00%\n",
       " \n",
       " Statistic                         Value\n",
       " -------------------------  ------------\n",
       " count                       1.84323e+06\n",
       " min                         0\n",
       " 1%                          0\n",
       " 5%                          0\n",
       " 25%                         0\n",
       " 50%                         0\n",
       " 75%                         0\n",
       " 95%                         0\n",
       " 99%                         1\n",
       " max                        27\n",
       " median                      0\n",
       " mean                        0.052113\n",
       " median absolute deviation   0\n",
       " standard deviation          0.234665\n",
       " skew                        5.9116\n",
       " ,\n",
       " NUMBER OF CYCLIST INJURED Info\n",
       " --------------------------------  -------\n",
       " Data Type                         int64\n",
       " Count                             1843227\n",
       " Unique Values                     5\n",
       " Null Values                       0\n",
       " \n",
       "   Value    Count  % of total\n",
       " -------  -------  ------------\n",
       "       0  1799474  97.63%\n",
       "       1    43300  2.35%\n",
       "       2      435  0.02%\n",
       "       3       17  0.00%\n",
       "       4        1  0.00%\n",
       " \n",
       " Statistic                        Value\n",
       " -------------------------  -----------\n",
       " count                      1.84323e+06\n",
       " min                        0\n",
       " 1%                         0\n",
       " 5%                         0\n",
       " 25%                        0\n",
       " 50%                        0\n",
       " 75%                        0\n",
       " 95%                        0\n",
       " 99%                        1\n",
       " max                        4\n",
       " median                     0\n",
       " mean                       0.0239932\n",
       " median absolute deviation  0\n",
       " standard deviation         0.154762\n",
       " skew                       6.45448\n",
       " ,\n",
       " NUMBER OF MOTORIST INJURED Info\n",
       " ---------------------------------  -------\n",
       " Data Type                          int64\n",
       " Count                              1843227\n",
       " Unique Values                      27\n",
       " Null Values                        0\n",
       " \n",
       "   Value    Count  % of total\n",
       " -------  -------  ------------\n",
       "       0  1596693  86.62%\n",
       "       1   165718  8.99%\n",
       "       2    51358  2.79%\n",
       "       3    17917  0.97%\n",
       "       4     6785  0.37%\n",
       "       5     2696  0.15%\n",
       "       6     1088  0.06%\n",
       "       7      463  0.03%\n",
       "       8      199  0.01%\n",
       "       9      112  0.01%\n",
       "      10       69  0.00%\n",
       "      11       40  0.00%\n",
       "      12       26  0.00%\n",
       "      13       18  0.00%\n",
       "      14        9  0.00%\n",
       "      16        8  0.00%\n",
       "      18        5  0.00%\n",
       "      15        5  0.00%\n",
       "      17        4  0.00%\n",
       "      19        3  0.00%\n",
       "      22        2  0.00%\n",
       "      21        1  0.00%\n",
       "      31        1  0.00%\n",
       "      30        1  0.00%\n",
       "      43        1  0.00%\n",
       " \n",
       " Statistic                         Value\n",
       " -------------------------  ------------\n",
       " count                       1.84323e+06\n",
       " min                         0\n",
       " 1%                          0\n",
       " 5%                          0\n",
       " 25%                         0\n",
       " 50%                         0\n",
       " 75%                         0\n",
       " 95%                         1\n",
       " 99%                         3\n",
       " max                        43\n",
       " median                      0\n",
       " mean                        0.204899\n",
       " median absolute deviation   0\n",
       " standard deviation          0.637718\n",
       " skew                        5.24448\n",
       " )"
      ]
     },
     "execution_count": 9,
     "metadata": {},
     "output_type": "execute_result"
    }
   ],
   "source": [
    "injured_report = ph.SeriesProfile(data[\"NUMBER OF PERSONS INJURED\"])\n",
    "pedestrian_injured_report = ph.SeriesProfile(data[\"NUMBER OF PEDESTRIANS INJURED\"])\n",
    "cyclist_injured_report = ph.SeriesProfile(data[\"NUMBER OF CYCLIST INJURED\"])\n",
    "motorist_injured_report = ph.SeriesProfile(data[\"NUMBER OF MOTORIST INJURED\"])\n",
    "injured_report, pedestrian_injured_report, cyclist_injured_report, motorist_injured_report"
   ]
  },
  {
   "cell_type": "markdown",
   "id": "8a31c079",
   "metadata": {},
   "source": [
    "__A few observations (< 50) are missing the the total number of people injured.__\n",
    "\n",
    "There are no missing values for the individual pedestrian, cyclist, and motorist injured fields"
   ]
  },
  {
   "cell_type": "code",
   "execution_count": 10,
   "id": "7cdca086",
   "metadata": {
    "scrolled": true
   },
   "outputs": [
    {
     "data": {
      "text/plain": [
       "(NUMBER OF PERSONS KILLED Info\n",
       " -------------------------------  -------\n",
       " Data Type                        float64\n",
       " Count                            1843196\n",
       " Unique Values                    7\n",
       " Null Values                      31\n",
       " \n",
       "   Value    Count  % of total\n",
       " -------  -------  ------------\n",
       "       0  1840853  99.87%\n",
       "       1     2272  0.12%\n",
       "       2       57  0.00%\n",
       "       3        9  0.00%\n",
       "       4        3  0.00%\n",
       "       8        1  0.00%\n",
       "       5        1  0.00%\n",
       " \n",
       " Statistic                        Value\n",
       " -------------------------  -----------\n",
       " count                       1.8432e+06\n",
       " min                         0\n",
       " 1%                          0\n",
       " 5%                          0\n",
       " 25%                         0\n",
       " 50%                         0\n",
       " 75%                         0\n",
       " 95%                         0\n",
       " 99%                         0\n",
       " max                         8\n",
       " median                      0\n",
       " mean                        0.0013227\n",
       " median absolute deviation   0\n",
       " standard deviation          0.0383779\n",
       " skew                       36.3693\n",
       " ,\n",
       " NUMBER OF PEDESTRIANS KILLED Info\n",
       " -----------------------------------  -------\n",
       " Data Type                            int64\n",
       " Count                                1843227\n",
       " Unique Values                        4\n",
       " Null Values                          0\n",
       " \n",
       "   Value    Count  % of total\n",
       " -------  -------  ------------\n",
       "       0  1841984  99.93%\n",
       "       1     1231  0.07%\n",
       "       2       11  0.00%\n",
       "       6        1  0.00%\n",
       " \n",
       " Statistic                         Value\n",
       " -------------------------  ------------\n",
       " count                       1.84323e+06\n",
       " min                         0\n",
       " 1%                          0\n",
       " 5%                          0\n",
       " 25%                         0\n",
       " 50%                         0\n",
       " 75%                         0\n",
       " 95%                         0\n",
       " 99%                         0\n",
       " max                         6\n",
       " median                      0\n",
       " mean                        0.000683041\n",
       " median absolute deviation   0\n",
       " standard deviation          0.0266606\n",
       " skew                       43.8693\n",
       " ,\n",
       " NUMBER OF CYCLIST KILLED Info\n",
       " -------------------------------  -------\n",
       " Data Type                        int64\n",
       " Count                            1843227\n",
       " Unique Values                    3\n",
       " Null Values                      0\n",
       " \n",
       "   Value    Count  % of total\n",
       " -------  -------  ------------\n",
       "       0  1843045  99.99%\n",
       "       1      181  0.01%\n",
       "       2        1  0.00%\n",
       " \n",
       " Statistic                          Value\n",
       " -------------------------  -------------\n",
       " count                        1.84323e+06\n",
       " min                          0\n",
       " 1%                           0\n",
       " 5%                           0\n",
       " 25%                          0\n",
       " 50%                          0\n",
       " 75%                          0\n",
       " 95%                          0\n",
       " 99%                          0\n",
       " max                          2\n",
       " median                       0\n",
       " mean                         9.92824e-05\n",
       " median absolute deviation    0\n",
       " standard deviation           0.0100179\n",
       " skew                       101.96\n",
       " ,\n",
       " NUMBER OF MOTORIST KILLED Info\n",
       " --------------------------------  -------\n",
       " Data Type                         int64\n",
       " Count                             1843227\n",
       " Unique Values                     6\n",
       " Null Values                       0\n",
       " \n",
       "   Value    Count  % of total\n",
       " -------  -------  ------------\n",
       "       0  1842316  99.95%\n",
       "       1      855  0.05%\n",
       "       2       44  0.00%\n",
       "       3        9  0.00%\n",
       "       4        2  0.00%\n",
       "       5        1  0.00%\n",
       " \n",
       " Statistic                         Value\n",
       " -------------------------  ------------\n",
       " count                       1.84323e+06\n",
       " min                         0\n",
       " 1%                          0\n",
       " 5%                          0\n",
       " 25%                         0\n",
       " 50%                         0\n",
       " 75%                         0\n",
       " 95%                         0\n",
       " 99%                         0\n",
       " max                         5\n",
       " median                      0\n",
       " mean                        0.000533304\n",
       " median absolute deviation   0\n",
       " standard deviation          0.025178\n",
       " skew                       57.8226\n",
       " )"
      ]
     },
     "execution_count": 10,
     "metadata": {},
     "output_type": "execute_result"
    }
   ],
   "source": [
    "killed_report = ph.SeriesProfile(data[\"NUMBER OF PERSONS KILLED\"])\n",
    "pedestrian_killed_report = ph.SeriesProfile(data[\"NUMBER OF PEDESTRIANS KILLED\"])\n",
    "cyclist_killed_report = ph.SeriesProfile(data[\"NUMBER OF CYCLIST KILLED\"])\n",
    "motorist_killed_report = ph.SeriesProfile(data[\"NUMBER OF MOTORIST KILLED\"])\n",
    "killed_report, pedestrian_killed_report, cyclist_killed_report, motorist_killed_report"
   ]
  },
  {
   "cell_type": "markdown",
   "id": "908c5be8",
   "metadata": {},
   "source": [
    "__A few observations (< 50) are missing the the total number of people killed.__\n",
    "\n",
    "There are no missing values for the individual pedestrian, cyclist, and motorist killed fields"
   ]
  },
  {
   "cell_type": "code",
   "execution_count": 11,
   "id": "2a8f8f4e",
   "metadata": {
    "scrolled": true
   },
   "outputs": [
    {
     "data": {
      "text/plain": [
       "(CONTRIBUTING FACTOR VEHICLE 1 Info\n",
       " ------------------------------------  -------\n",
       " Data Type                             object\n",
       " Count                                 1837900\n",
       " Unique Values                         61\n",
       " Null Values                           5327\n",
       " \n",
       " Value                             Count  % of total\n",
       " ------------------------------  -------  ------------\n",
       " Unspecified                      651164  35.43%\n",
       " Driver Inattention/Distraction   357689  19.46%\n",
       " Failure to Yield Right-of-Way    106874  5.82%\n",
       " Following Too Closely             96169  5.23%\n",
       " Backing Unsafely                  69661  3.79%\n",
       " Other Vehicular                   57866  3.15%\n",
       " Passing or Lane Usage Improper    47477  2.58%\n",
       " Fatigued/Drowsy                   47145  2.57%\n",
       " Turning Improperly                45836  2.49%\n",
       " Passing Too Closely               43410  2.36%\n",
       " Unsafe Lane Changing              36030  1.96%\n",
       " Traffic Control Disregarded       30188  1.64%\n",
       " Driver Inexperience               27887  1.52%\n",
       " Unsafe Speed                      20568  1.12%\n",
       " Lost Consciousness                20047  1.09%\n",
       " Alcohol Involvement               18572  1.01%\n",
       " Pavement Slippery                 18011  0.98%\n",
       " Reaction to Uninvolved Vehicle    17250  0.94%\n",
       " Prescription Medication           15378  0.84%\n",
       " Outside Car Distraction           12282  0.67%\n",
       " Cell Phone (hand-held)               79  0.00%\n",
       " Windshield Inadequate                72  0.00%\n",
       " Texting                              42  0.00%\n",
       " Listening/Using Headphones           20  0.00%\n",
       " 1                                    10  0.00%\n",
       " \n",
       " \n",
       " ,\n",
       " CONTRIBUTING FACTOR VEHICLE 2 Info\n",
       " ------------------------------------  -------\n",
       " Data Type                             object\n",
       " Count                                 1576056\n",
       " Unique Values                         61\n",
       " Null Values                           267171\n",
       " \n",
       " Value                             Count  % of total\n",
       " ------------------------------  -------  ------------\n",
       " Unspecified                     1326270  84.15%\n",
       " Driver Inattention/Distraction    84060  5.33%\n",
       " Other Vehicular                   29516  1.87%\n",
       " Following Too Closely             16312  1.03%\n",
       " Failure to Yield Right-of-Way     15570  0.99%\n",
       " Passing or Lane Usage Improper    11090  0.70%\n",
       " Fatigued/Drowsy                   10831  0.69%\n",
       " Turning Improperly                 8214  0.52%\n",
       " Passing Too Closely                7702  0.49%\n",
       " Backing Unsafely                   7519  0.48%\n",
       " Traffic Control Disregarded        6260  0.40%\n",
       " Driver Inexperience                6049  0.38%\n",
       " Unsafe Lane Changing               6029  0.38%\n",
       " Lost Consciousness                 5227  0.33%\n",
       " Unsafe Speed                       3958  0.25%\n",
       " Pavement Slippery                  3789  0.24%\n",
       " Prescription Medication            3020  0.19%\n",
       " Reaction to Uninvolved Vehicle     2959  0.19%\n",
       " View Obstructed/Limited            2709  0.17%\n",
       " Outside Car Distraction            2498  0.16%\n",
       " Listening/Using Headphones            9  0.00%\n",
       " Eating or Drinking                    8  0.00%\n",
       " Windshield Inadequate                 7  0.00%\n",
       " 1                                     5  0.00%\n",
       " Texting                               3  0.00%\n",
       " \n",
       " \n",
       " ,\n",
       " CONTRIBUTING FACTOR VEHICLE 3 Info\n",
       " ------------------------------------  -------\n",
       " Data Type                             object\n",
       " Count                                 126348\n",
       " Unique Values                         50\n",
       " Null Values                           1716879\n",
       " \n",
       " Value                                   Count  % of total\n",
       " ------------------------------------  -------  ------------\n",
       " Unspecified                            117680  93.14%\n",
       " Other Vehicular                          2337  1.85%\n",
       " Driver Inattention/Distraction           1673  1.32%\n",
       " Following Too Closely                    1630  1.29%\n",
       " Fatigued/Drowsy                           853  0.68%\n",
       " Pavement Slippery                         330  0.26%\n",
       " Reaction to Uninvolved Vehicle            185  0.15%\n",
       " Driver Inexperience                       166  0.13%\n",
       " Outside Car Distraction                   153  0.12%\n",
       " Traffic Control Disregarded               147  0.12%\n",
       " Failure to Yield Right-of-Way             132  0.10%\n",
       " Unsafe Speed                              113  0.09%\n",
       " Passing or Lane Usage Improper             91  0.07%\n",
       " Backing Unsafely                           90  0.07%\n",
       " Alcohol Involvement                        88  0.07%\n",
       " Turning Improperly                         72  0.06%\n",
       " Unsafe Lane Changing                       62  0.05%\n",
       " Fell Asleep                                56  0.04%\n",
       " Obstruction/Debris                         56  0.04%\n",
       " Passing Too Closely                        40  0.03%\n",
       " Reaction to Other Uninvolved Vehicle        2  0.00%\n",
       " 1                                           1  0.00%\n",
       " Cell Phone (hand-Held)                      1  0.00%\n",
       " Tinted Windows                              1  0.00%\n",
       " Illnes                                      1  0.00%\n",
       " \n",
       " \n",
       " ,\n",
       " CONTRIBUTING FACTOR VEHICLE 4 Info\n",
       " ------------------------------------  -------\n",
       " Data Type                             object\n",
       " Count                                 27641\n",
       " Unique Values                         39\n",
       " Null Values                           1815586\n",
       " \n",
       " Value                             Count  % of total\n",
       " ------------------------------  -------  ------------\n",
       " Unspecified                       26075  94.33%\n",
       " Other Vehicular                     492  1.78%\n",
       " Following Too Closely               308  1.11%\n",
       " Driver Inattention/Distraction      227  0.82%\n",
       " Fatigued/Drowsy                     170  0.62%\n",
       " Pavement Slippery                    86  0.31%\n",
       " Reaction to Uninvolved Vehicle       37  0.13%\n",
       " Driver Inexperience                  24  0.09%\n",
       " Outside Car Distraction              24  0.09%\n",
       " Unsafe Speed                         23  0.08%\n",
       " Traffic Control Disregarded          22  0.08%\n",
       " Fell Asleep                          19  0.07%\n",
       " Alcohol Involvement                  17  0.06%\n",
       " Obstruction/Debris                   17  0.06%\n",
       " Failure to Yield Right-of-Way        16  0.06%\n",
       " Other Electronic Device               9  0.03%\n",
       " Backing Unsafely                      9  0.03%\n",
       " Passing or Lane Usage Improper        8  0.03%\n",
       " Failure to Keep Right                 7  0.03%\n",
       " Brakes Defective                      6  0.02%\n",
       " Accelerator Defective                 1  0.00%\n",
       " Animals Action                        1  0.00%\n",
       " Glare                                 1  0.00%\n",
       " Steering Failure                      1  0.00%\n",
       " Windshield Inadequate                 1  0.00%\n",
       " \n",
       " \n",
       " ,\n",
       " CONTRIBUTING FACTOR VEHICLE 5 Info\n",
       " ------------------------------------  -------\n",
       " Data Type                             object\n",
       " Count                                 7333\n",
       " Unique Values                         29\n",
       " Null Values                           1835894\n",
       " \n",
       " Value                                          Count  % of total\n",
       " -------------------------------------------  -------  ------------\n",
       " Unspecified                                     6912  94.26%\n",
       " Other Vehicular                                  145  1.98%\n",
       " Following Too Closely                             73  1.00%\n",
       " Driver Inattention/Distraction                    51  0.70%\n",
       " Fatigued/Drowsy                                   41  0.56%\n",
       " Pavement Slippery                                 35  0.48%\n",
       " Reaction to Uninvolved Vehicle                    11  0.15%\n",
       " Driver Inexperience                                9  0.12%\n",
       " Alcohol Involvement                                8  0.11%\n",
       " Obstruction/Debris                                 7  0.10%\n",
       " Outside Car Distraction                            6  0.08%\n",
       " Unsafe Speed                                       6  0.08%\n",
       " Failure to Yield Right-of-Way                      5  0.07%\n",
       " Fell Asleep                                        3  0.04%\n",
       " Traffic Control Disregarded                        3  0.04%\n",
       " Drugs (illegal)                                    2  0.03%\n",
       " Failure to Keep Right                              2  0.03%\n",
       " Passing Too Closely                                2  0.03%\n",
       " Other Electronic Device                            2  0.03%\n",
       " Backing Unsafely                                   1  0.01%\n",
       " Illness                                            1  0.01%\n",
       " Passing or Lane Usage Improper                     1  0.01%\n",
       " Tire Failure/Inadequate                            1  0.01%\n",
       " Pavement Defective                                 1  0.01%\n",
       " Traffic Control Device Improper/Non-Working        1  0.01%\n",
       " \n",
       " \n",
       " )"
      ]
     },
     "execution_count": 11,
     "metadata": {},
     "output_type": "execute_result"
    }
   ],
   "source": [
    "factor1_report = ph.SeriesProfile(data[\"CONTRIBUTING FACTOR VEHICLE 1\"])\n",
    "factor2_report = ph.SeriesProfile(data[\"CONTRIBUTING FACTOR VEHICLE 2\"])\n",
    "factor3_report = ph.SeriesProfile(data[\"CONTRIBUTING FACTOR VEHICLE 3\"])\n",
    "factor4_report = ph.SeriesProfile(data[\"CONTRIBUTING FACTOR VEHICLE 4\"])\n",
    "factor5_report = ph.SeriesProfile(data[\"CONTRIBUTING FACTOR VEHICLE 5\"])\n",
    "factor1_report, factor2_report, factor3_report, factor4_report, factor5_report"
   ]
  },
  {
   "cell_type": "markdown",
   "id": "8b8286e0",
   "metadata": {},
   "source": [
    "__The 'CONTRIBUTING FACTOR VEHICLE' fields seem to have some issues__\n",
    "- \"Unspecified\" is the most common response\n",
    "- They are not mutually exclusive and in some cases, difficult to differentiate. For example: 'Passing or Lane Usage Improper' vs 'Passing Too Closely'\n",
    "- Without knowing more about the processes that generated these _'contributing factor'_ fields, it would be difficult to use them with confidence"
   ]
  },
  {
   "cell_type": "code",
   "execution_count": 12,
   "id": "40426162",
   "metadata": {
    "scrolled": true
   },
   "outputs": [
    {
     "data": {
      "text/plain": [
       "(VEHICLE TYPE CODE 1 Info\n",
       " --------------------------  -------\n",
       " Data Type                   object\n",
       " Count                       1833071\n",
       " Unique Values               1310\n",
       " Null Values                 10156\n",
       " \n",
       " Value                                  Count  % of total\n",
       " -----------------------------------  -------  ------------\n",
       " Sedan                                 468909  25.58%\n",
       " PASSENGER VEHICLE                     416206  22.71%\n",
       " Station Wagon/Sport Utility Vehicle   372890  20.34%\n",
       " SPORT UTILITY / STATION WAGON         180291  9.84%\n",
       " Taxi                                   45473  2.48%\n",
       " 4 dr sedan                             40079  2.19%\n",
       " TAXI                                   31911  1.74%\n",
       " Pick-up Truck                          29625  1.62%\n",
       " VAN                                    25266  1.38%\n",
       " OTHER                                  22966  1.25%\n",
       " Box Truck                              20538  1.12%\n",
       " UNKNOWN                                19931  1.09%\n",
       " Bus                                    17216  0.94%\n",
       " LARGE COM VEH(6 OR MORE TIRES)         14397  0.79%\n",
       " BUS                                    13993  0.76%\n",
       " SMALL COM VEH(4 TIRES)                 13216  0.72%\n",
       " PICK-UP TRUCK                          11505  0.63%\n",
       " Bike                                   11056  0.60%\n",
       " LIVERY VEHICLE                         10481  0.57%\n",
       " Tractor Truck Diesel                    8729  0.48%\n",
       " BTM                                        1  0.00%\n",
       " mini van                                   1  0.00%\n",
       " Pas                                        1  0.00%\n",
       " Attac                                      1  0.00%\n",
       " moter                                      1  0.00%\n",
       " \n",
       " \n",
       " ,\n",
       " VEHICLE TYPE CODE 2 Info\n",
       " --------------------------  -------\n",
       " Data Type                   object\n",
       " Count                       1525449\n",
       " Unique Values               1447\n",
       " Null Values                 317778\n",
       " \n",
       " Value                                  Count  % of total\n",
       " -----------------------------------  -------  ------------\n",
       " Sedan                                 341080  22.36%\n",
       " PASSENGER VEHICLE                     318607  20.89%\n",
       " Station Wagon/Sport Utility Vehicle   279624  18.33%\n",
       " SPORT UTILITY / STATION WAGON         140204  9.19%\n",
       " UNKNOWN                                81462  5.34%\n",
       " Taxi                                   34720  2.28%\n",
       " 4 dr sedan                             30047  1.97%\n",
       " TAXI                                   27702  1.82%\n",
       " Pick-up Truck                          27291  1.79%\n",
       " Bike                                   23413  1.53%\n",
       " Box Truck                              23008  1.51%\n",
       " VAN                                    22769  1.49%\n",
       " OTHER                                  21691  1.42%\n",
       " BICYCLE                                18554  1.22%\n",
       " Bus                                    15332  1.01%\n",
       " LARGE COM VEH(6 OR MORE TIRES)         13687  0.90%\n",
       " SMALL COM VEH(4 TIRES)                 12962  0.85%\n",
       " BUS                                    11502  0.75%\n",
       " PICK-UP TRUCK                          10672  0.70%\n",
       " Tractor Truck Diesel                    8538  0.56%\n",
       " BROWN                                      1  0.00%\n",
       " Sciss                                      1  0.00%\n",
       " Fire Appar                                 1  0.00%\n",
       " EMS A                                      1  0.00%\n",
       " LSA                                        1  0.00%\n",
       " \n",
       " \n",
       " ,\n",
       " VEHICLE TYPE CODE 3 Info\n",
       " --------------------------  -------\n",
       " Data Type                   object\n",
       " Count                       122561\n",
       " Unique Values               200\n",
       " Null Values                 1720666\n",
       " \n",
       " Value                                  Count  % of total\n",
       " -----------------------------------  -------  ------------\n",
       " Sedan                                  34566  28.20%\n",
       " Station Wagon/Sport Utility Vehicle    27864  22.73%\n",
       " PASSENGER VEHICLE                      27713  22.61%\n",
       " SPORT UTILITY / STATION WAGON          13358  10.90%\n",
       " UNKNOWN                                 3283  2.68%\n",
       " 4 dr sedan                              2560  2.09%\n",
       " Taxi                                    1915  1.56%\n",
       " Pick-up Truck                           1726  1.41%\n",
       " VAN                                     1366  1.11%\n",
       " OTHER                                   1045  0.85%\n",
       " TAXI                                     980  0.80%\n",
       " PICK-UP TRUCK                            619  0.51%\n",
       " Box Truck                                594  0.48%\n",
       " LARGE COM VEH(6 OR MORE TIRES)           441  0.36%\n",
       " SMALL COM VEH(4 TIRES)                   435  0.35%\n",
       " LIVERY VEHICLE                           424  0.35%\n",
       " BUS                                      395  0.32%\n",
       " Bus                                      374  0.31%\n",
       " Bike                                     346  0.28%\n",
       " Motorcycle                               313  0.26%\n",
       " DELIV                                      1  0.00%\n",
       " Box truck                                  1  0.00%\n",
       " FOOD TRUCK                                 1  0.00%\n",
       " Garbage tr                                 1  0.00%\n",
       " Trailer                                    1  0.00%\n",
       " \n",
       " \n",
       " ,\n",
       " VEHICLE TYPE CODE 4 Info\n",
       " --------------------------  -------\n",
       " Data Type                   object\n",
       " Count                       26810\n",
       " Unique Values               84\n",
       " Null Values                 1816417\n",
       " \n",
       " Value                                  Count  % of total\n",
       " -----------------------------------  -------  ------------\n",
       " Sedan                                   8106  30.23%\n",
       " Station Wagon/Sport Utility Vehicle     6498  24.24%\n",
       " PASSENGER VEHICLE                       5969  22.26%\n",
       " SPORT UTILITY / STATION WAGON           2852  10.64%\n",
       " UNKNOWN                                  595  2.22%\n",
       " 4 dr sedan                               566  2.11%\n",
       " Taxi                                     379  1.41%\n",
       " Pick-up Truck                            350  1.31%\n",
       " VAN                                      242  0.90%\n",
       " OTHER                                    189  0.70%\n",
       " TAXI                                     144  0.54%\n",
       " PICK-UP TRUCK                            112  0.42%\n",
       " Box Truck                                 82  0.31%\n",
       " Bus                                       72  0.27%\n",
       " LARGE COM VEH(6 OR MORE TIRES)            58  0.22%\n",
       " SMALL COM VEH(4 TIRES)                    56  0.21%\n",
       " LIVERY VEHICLE                            54  0.20%\n",
       " BUS                                       52  0.19%\n",
       " Motorcycle                                51  0.19%\n",
       " Van                                       45  0.17%\n",
       " TOW T                                      1  0.00%\n",
       " trail                                      1  0.00%\n",
       " dump                                       1  0.00%\n",
       " Lift Boom                                  1  0.00%\n",
       " PICK-UP TR                                 1  0.00%\n",
       " \n",
       " \n",
       " ,\n",
       " VEHICLE TYPE CODE 5 Info\n",
       " --------------------------  -------\n",
       " Data Type                   object\n",
       " Count                       7131\n",
       " Unique Values               55\n",
       " Null Values                 1836096\n",
       " \n",
       " Value                                  Count  % of total\n",
       " -----------------------------------  -------  ------------\n",
       " Sedan                                   2248  31.52%\n",
       " Station Wagon/Sport Utility Vehicle     1789  25.09%\n",
       " PASSENGER VEHICLE                       1487  20.85%\n",
       " SPORT UTILITY / STATION WAGON            802  11.25%\n",
       " 4 dr sedan                               123  1.72%\n",
       " Pick-up Truck                            110  1.54%\n",
       " UNKNOWN                                   94  1.32%\n",
       " Taxi                                      88  1.23%\n",
       " VAN                                       50  0.70%\n",
       " OTHER                                     49  0.69%\n",
       " TAXI                                      31  0.43%\n",
       " PICK-UP TRUCK                             31  0.43%\n",
       " Box Truck                                 26  0.36%\n",
       " Van                                       21  0.29%\n",
       " Bus                                       16  0.22%\n",
       " Motorcycle                                16  0.22%\n",
       " 2 dr sedan                                14  0.20%\n",
       " LARGE COM VEH(6 OR MORE TIRES)            13  0.18%\n",
       " Bike                                      11  0.15%\n",
       " Convertible                               10  0.14%\n",
       " dump                                       1  0.01%\n",
       " Chassis Cab                                1  0.01%\n",
       " Tanker                                     1  0.01%\n",
       " Bulk Agriculture                           1  0.01%\n",
       " Wagon                                      1  0.01%\n",
       " \n",
       " \n",
       " )"
      ]
     },
     "execution_count": 12,
     "metadata": {},
     "output_type": "execute_result"
    }
   ],
   "source": [
    "vtype1_report = ph.SeriesProfile(data[\"VEHICLE TYPE CODE 1\"])\n",
    "vtype2_report = ph.SeriesProfile(data[\"VEHICLE TYPE CODE 2\"])\n",
    "vtype3_report = ph.SeriesProfile(data[\"VEHICLE TYPE CODE 3\"])\n",
    "vtype4_report = ph.SeriesProfile(data[\"VEHICLE TYPE CODE 4\"])\n",
    "vtype5_report = ph.SeriesProfile(data[\"VEHICLE TYPE CODE 5\"])\n",
    "vtype1_report, vtype2_report, vtype3_report, vtype4_report, vtype5_report"
   ]
  },
  {
   "cell_type": "markdown",
   "id": "67fcfca4",
   "metadata": {},
   "source": [
    "__Vehicle type categories are somewhat unclear__\n",
    "- \"Passenger vehicle\" is one of the biggest categories. What does 'passenger vehicle' mean given that there are already categories for sedans and SUVs?"
   ]
  },
  {
   "cell_type": "markdown",
   "id": "1ed343a4",
   "metadata": {},
   "source": [
    "# Are there significant gaps in data collection over time?"
   ]
  },
  {
   "cell_type": "markdown",
   "id": "fe824301",
   "metadata": {},
   "source": [
    "Adding a datetime column to make temporal analysis easier"
   ]
  },
  {
   "cell_type": "code",
   "execution_count": 13,
   "id": "5c3c5a85",
   "metadata": {},
   "outputs": [],
   "source": [
    "dt_format = \"%m/%d/%Y %H:%M\"\n",
    "data[\"datetime\"] = data[\"CRASH DATE\"] + \" \" + data[\"CRASH TIME\"]\n",
    "data[\"datetime\"] = data[\"datetime\"].apply(lambda x: datetime.strptime(x, dt_format))"
   ]
  },
  {
   "cell_type": "markdown",
   "id": "1b02dbf2",
   "metadata": {},
   "source": [
    "Examining daily collisions, injuries, and deaths to check to gaps in the data"
   ]
  },
  {
   "cell_type": "code",
   "execution_count": 14,
   "id": "26cc8dc7",
   "metadata": {},
   "outputs": [],
   "source": [
    "daily_collisions = data.groupby(by=data[\"datetime\"].dt.date)[\"COLLISION_ID\"].count()\n",
    "daily_injuries = data.groupby(by=data[\"datetime\"].dt.date)[\n",
    "    \"NUMBER OF PERSONS INJURED\"\n",
    "].sum()\n",
    "daily_deaths = data.groupby(by=data[\"datetime\"].dt.date)[\n",
    "    \"NUMBER OF PERSONS KILLED\"\n",
    "].sum()"
   ]
  },
  {
   "cell_type": "code",
   "execution_count": 15,
   "id": "a6175f94",
   "metadata": {
    "scrolled": false
   },
   "outputs": [
    {
     "data": {
      "image/png": "[encoded data removed]",
      "text/plain": [
       "<Figure size 1296x720 with 1 Axes>"
      ]
     },
     "metadata": {
      "needs_background": "light"
     },
     "output_type": "display_data"
    }
   ],
   "source": [
    "fig, ax = plt.subplots()\n",
    "fig.set_size_inches((18, 10))\n",
    "ax.set_title(\"Daily NYC Vehicle Collisions, Injuries, and Deaths\", fontsize=20)\n",
    "ax.set_xlabel(\"Year\", fontsize=16, labelpad=10)\n",
    "ax.set_ylabel(\"Daily Sum\\n(log scale)\", fontsize=16, rotation=0, labelpad=25)\n",
    "ax.tick_params(axis=\"both\", which=\"major\", labelsize=14)\n",
    "ax.set_yscale(\"log\")\n",
    "ax.yaxis.set_major_formatter(\"{x:.0f}\")\n",
    "ax.scatter(y=daily_collisions, x=daily_collisions.index, s=4)  # s is marker size\n",
    "ax.scatter(y=daily_injuries, x=daily_injuries.index, s=4)\n",
    "ax.scatter(y=daily_deaths, x=daily_deaths.index, s=4)\n",
    "ax.legend([\"Collisions\", \"Injuries\", \"Deaths\"], fontsize=14, markerscale=3)\n",
    "plt.show()"
   ]
  },
  {
   "cell_type": "code",
   "execution_count": 16,
   "id": "8f64a3d3",
   "metadata": {},
   "outputs": [
    {
     "data": {
      "image/png": "[encoded data removed]",
      "text/plain": [
       "<Figure size 1296x720 with 1 Axes>"
      ]
     },
     "metadata": {
      "needs_background": "light"
     },
     "output_type": "display_data"
    }
   ],
   "source": [
    "annual_collisions = data.groupby(by=data[\"datetime\"].dt.year)[\"COLLISION_ID\"].count()\n",
    "annual_injuries = data.groupby(by=data[\"datetime\"].dt.year)[\n",
    "    \"NUMBER OF PERSONS INJURED\"\n",
    "].sum()\n",
    "annual_deaths = data.groupby(by=data[\"datetime\"].dt.year)[\n",
    "    \"NUMBER OF PERSONS KILLED\"\n",
    "].sum()\n",
    "fig, ax = plt.subplots()\n",
    "fig.set_size_inches((18, 10))\n",
    "ax.set_title(\"Annual NYC Vehicle Collisions, Injuries, and Deaths\", fontsize=20)\n",
    "ax.set_xlabel(\"Year\", fontsize=16, labelpad=10)\n",
    "ax.set_ylabel(\"Daily Sum\\n(log scale)\", fontsize=16, rotation=0, labelpad=25)\n",
    "ax.tick_params(axis=\"both\", which=\"major\", labelsize=14)\n",
    "ax.set_yscale(\"log\")\n",
    "ax.yaxis.set_major_formatter(\"{x:.0f}\")\n",
    "ax.scatter(y=annual_collisions, x=annual_collisions.index, s=50)  # s is marker size\n",
    "ax.scatter(y=annual_injuries, x=annual_injuries.index, s=50)\n",
    "ax.scatter(y=annual_deaths, x=annual_deaths.index, s=50)\n",
    "ax.legend([\"Collisions\", \"Injuries\", \"Deaths\"], fontsize=14, markerscale=3)\n",
    "plt.show()"
   ]
  },
  {
   "cell_type": "code",
   "execution_count": 17,
   "id": "22aa6a45",
   "metadata": {},
   "outputs": [
    {
     "data": {
      "text/plain": [
       "(Timestamp('2012-07-01 00:05:00'), Timestamp('2021-11-20 23:49:00'))"
      ]
     },
     "execution_count": 17,
     "metadata": {},
     "output_type": "execute_result"
    }
   ],
   "source": [
    "data[\"datetime\"].min(), data[\"datetime\"].max()"
   ]
  },
  {
   "cell_type": "markdown",
   "id": "41dac481",
   "metadata": {},
   "source": [
    "- __There does not appear to a significant gap in data collection going back to the start of the data set (July 2012)__\n",
    "- __Fatal collisions are a small percentage of the dataset. Collisions with injuries are more common__\n",
    "- __Let's limit the scope of analysis to 1 October 2012 to 30 September 2021, a 9 year span, for reproducibility purposes__"
   ]
  },
  {
   "cell_type": "code",
   "execution_count": 18,
   "id": "ae351ba3",
   "metadata": {},
   "outputs": [
    {
     "data": {
      "text/plain": [
       "(Timestamp('2012-10-01 00:08:00'), Timestamp('2021-09-30 23:50:00'))"
      ]
     },
     "execution_count": 18,
     "metadata": {},
     "output_type": "execute_result"
    }
   ],
   "source": [
    "start = datetime(year=2012, month=10, day=1)\n",
    "end = datetime(year=2021, month=10, day=1)\n",
    "crashes = data[data[\"datetime\"].between(start, end, inclusive=\"left\")].copy()\n",
    "crashes[\"datetime\"].min(), crashes[\"datetime\"].max()"
   ]
  },
  {
   "cell_type": "markdown",
   "id": "ff831fc9",
   "metadata": {},
   "source": [
    "# Does 'NUMBER OF PERSONS INJURED' match the separate 'INJURED' categories?"
   ]
  },
  {
   "cell_type": "code",
   "execution_count": 19,
   "id": "2e537552",
   "metadata": {},
   "outputs": [
    {
     "data": {
      "text/plain": [
       "2149"
      ]
     },
     "execution_count": 19,
     "metadata": {},
     "output_type": "execute_result"
    }
   ],
   "source": [
    "crashes[\"sum injured categories\"] = (\n",
    "    crashes[\"NUMBER OF PEDESTRIANS INJURED\"]\n",
    "    + crashes[\"NUMBER OF CYCLIST INJURED\"]\n",
    "    + crashes[\"NUMBER OF MOTORIST INJURED\"]\n",
    ")\n",
    "num_mismatch = len(\n",
    "    crashes[crashes[\"sum injured categories\"] != crashes[\"NUMBER OF PERSONS INJURED\"]]\n",
    ")\n",
    "num_mismatch"
   ]
  },
  {
   "cell_type": "code",
   "execution_count": 20,
   "id": "9ad525d8",
   "metadata": {},
   "outputs": [
    {
     "data": {
      "text/plain": [
       "0.0012097738921899497"
      ]
     },
     "execution_count": 20,
     "metadata": {},
     "output_type": "execute_result"
    }
   ],
   "source": [
    "num_mismatch / len(crashes)"
   ]
  },
  {
   "cell_type": "markdown",
   "id": "587868a1",
   "metadata": {},
   "source": [
    "There do appear to be ~2100 collisions (or < 0.2% of total collisions) where the 'NUMBER OF PERSONS INJURED' field does not match the sum of the distinct injured categories (pedestrian, cyclist, motorist)"
   ]
  },
  {
   "cell_type": "code",
   "execution_count": 21,
   "id": "5f8cf5db",
   "metadata": {
    "scrolled": false
   },
   "outputs": [
    {
     "data": {
      "text/plain": [
       "1799.0"
      ]
     },
     "execution_count": 21,
     "metadata": {},
     "output_type": "execute_result"
    }
   ],
   "source": [
    "total_injured = crashes[\"NUMBER OF PERSONS INJURED\"].sum()\n",
    "difference = (\n",
    "    crashes[\"NUMBER OF PERSONS INJURED\"].sum() - crashes[\"sum injured categories\"].sum()\n",
    ")\n",
    "difference"
   ]
  },
  {
   "cell_type": "code",
   "execution_count": 22,
   "id": "1dfe619e",
   "metadata": {},
   "outputs": [
    {
     "data": {
      "text/plain": [
       "0.0036135236978057737"
      ]
     },
     "execution_count": 22,
     "metadata": {},
     "output_type": "execute_result"
    }
   ],
   "source": [
    "(difference / total_injured)"
   ]
  },
  {
   "cell_type": "markdown",
   "id": "0649abcf",
   "metadata": {},
   "source": [
    "- The cumulative discrepancy between the 'NUMBER OF PERSONS INJURED' field and the sum of the distinct injury fields (pedestrian, cyclist, motorist) is ~1800 injuries or < 0.4%\n",
    "- __Given the relatively small difference, we will use the distinct 'injury' fields in our analyses going forward__\n"
   ]
  },
  {
   "cell_type": "markdown",
   "id": "6d308884",
   "metadata": {},
   "source": [
    "# Does 'NUMBER OF PERSONS KILLED' match the separate 'KILLED' categories?"
   ]
  },
  {
   "cell_type": "code",
   "execution_count": 23,
   "id": "3c0d5275",
   "metadata": {},
   "outputs": [
    {
     "data": {
      "text/plain": [
       "53"
      ]
     },
     "execution_count": 23,
     "metadata": {},
     "output_type": "execute_result"
    }
   ],
   "source": [
    "crashes[\"sum killed categories\"] = (\n",
    "    crashes[\"NUMBER OF PEDESTRIANS KILLED\"]\n",
    "    + crashes[\"NUMBER OF CYCLIST KILLED\"]\n",
    "    + crashes[\"NUMBER OF MOTORIST KILLED\"]\n",
    ")\n",
    "len(crashes[crashes[\"sum killed categories\"] != crashes[\"NUMBER OF PERSONS KILLED\"]])"
   ]
  },
  {
   "cell_type": "code",
   "execution_count": 24,
   "id": "8a47744c",
   "metadata": {},
   "outputs": [
    {
     "data": {
      "text/plain": [
       "10.0"
      ]
     },
     "execution_count": 24,
     "metadata": {},
     "output_type": "execute_result"
    }
   ],
   "source": [
    "total_killed = crashes[\"NUMBER OF PERSONS KILLED\"].sum()\n",
    "difference_deaths = (\n",
    "    crashes[\"NUMBER OF PERSONS KILLED\"].sum() - crashes[\"sum killed categories\"].sum()\n",
    ")\n",
    "difference_deaths"
   ]
  },
  {
   "cell_type": "code",
   "execution_count": 25,
   "id": "a1f5d702",
   "metadata": {},
   "outputs": [
    {
     "data": {
      "text/plain": [
       "0.004312203536006899"
      ]
     },
     "execution_count": 25,
     "metadata": {},
     "output_type": "execute_result"
    }
   ],
   "source": [
    "(difference_deaths / total_killed)"
   ]
  },
  {
   "cell_type": "markdown",
   "id": "53efc9f7",
   "metadata": {},
   "source": [
    "- There are ~50 collisions with differences between the 'NUMBER OF PERSONS KILLED' field and the sum of the separate killed fields (pedestrian, cyclist, motorist). The 10 death discrepancy represents a small percent of the total deaths (< 0.5%)\n",
    "\n",
    "- __Once again given the relatively small difference, we will use the distinct 'killed' fields in our analyses going forward__"
   ]
  },
  {
   "cell_type": "markdown",
   "id": "ad73515e",
   "metadata": {},
   "source": [
    "# Are many serious collisions missing location information? \n",
    "\n",
    "- We define _serious_ as a collision that results in injury or death. \n",
    "- Future analyses will tend to focus on serious collisions"
   ]
  },
  {
   "cell_type": "code",
   "execution_count": 26,
   "id": "b991bdf5",
   "metadata": {
    "scrolled": true
   },
   "outputs": [],
   "source": [
    "crashes[\"serious_accident\"] = (crashes[\"NUMBER OF PERSONS INJURED\"] > 0) | (\n",
    "    crashes[\"NUMBER OF PERSONS KILLED\"] > 0\n",
    ")\n",
    "crashes[\"lat_long_missing\"] = crashes[\"LOCATION\"].isna()"
   ]
  },
  {
   "cell_type": "code",
   "execution_count": 27,
   "id": "e8023113",
   "metadata": {
    "scrolled": true
   },
   "outputs": [
    {
     "data": {
      "text/plain": [
       "0.88375474634999"
      ]
     },
     "execution_count": 27,
     "metadata": {},
     "output_type": "execute_result"
    }
   ],
   "source": [
    "(len(crashes) - crashes[\"lat_long_missing\"].sum()) / len(crashes)"
   ]
  },
  {
   "cell_type": "markdown",
   "id": "082290ad",
   "metadata": {},
   "source": [
    "~88% of collisions have lat_long coordinates"
   ]
  },
  {
   "cell_type": "code",
   "execution_count": 28,
   "id": "ce810689",
   "metadata": {
    "scrolled": true
   },
   "outputs": [
    {
     "data": {
      "text/html": [
       "<div>\n",
       "<style scoped>\n",
       "    .dataframe tbody tr th:only-of-type {\n",
       "        vertical-align: middle;\n",
       "    }\n",
       "\n",
       "    .dataframe tbody tr th {\n",
       "        vertical-align: top;\n",
       "    }\n",
       "\n",
       "    .dataframe thead th {\n",
       "        text-align: right;\n",
       "    }\n",
       "</style>\n",
       "<table border=\"1\" class=\"dataframe\">\n",
       "  <thead>\n",
       "    <tr style=\"text-align: right;\">\n",
       "      <th>serious_accident</th>\n",
       "      <th>False</th>\n",
       "      <th>True</th>\n",
       "      <th>All</th>\n",
       "    </tr>\n",
       "    <tr>\n",
       "      <th>lat_long_missing</th>\n",
       "      <th></th>\n",
       "      <th></th>\n",
       "      <th></th>\n",
       "    </tr>\n",
       "  </thead>\n",
       "  <tbody>\n",
       "    <tr>\n",
       "      <th>False</th>\n",
       "      <td>0.699298</td>\n",
       "      <td>0.184457</td>\n",
       "      <td>0.883755</td>\n",
       "    </tr>\n",
       "    <tr>\n",
       "      <th>True</th>\n",
       "      <td>0.093780</td>\n",
       "      <td>0.022465</td>\n",
       "      <td>0.116245</td>\n",
       "    </tr>\n",
       "    <tr>\n",
       "      <th>All</th>\n",
       "      <td>0.793078</td>\n",
       "      <td>0.206922</td>\n",
       "      <td>1.000000</td>\n",
       "    </tr>\n",
       "  </tbody>\n",
       "</table>\n",
       "</div>"
      ],
      "text/plain": [
       "serious_accident     False      True       All\n",
       "lat_long_missing                              \n",
       "False             0.699298  0.184457  0.883755\n",
       "True              0.093780  0.022465  0.116245\n",
       "All               0.793078  0.206922  1.000000"
      ]
     },
     "execution_count": 28,
     "metadata": {},
     "output_type": "execute_result"
    }
   ],
   "source": [
    "pd.crosstab(\n",
    "    index=crashes[\"lat_long_missing\"],\n",
    "    columns=crashes[\"serious_accident\"],\n",
    "    margins=True,\n",
    "    normalize=True,\n",
    ")"
   ]
  },
  {
   "cell_type": "code",
   "execution_count": 29,
   "id": "9eb9192b",
   "metadata": {},
   "outputs": [
    {
     "data": {
      "text/plain": [
       "9.084356722808761e-60"
      ]
     },
     "execution_count": 29,
     "metadata": {},
     "output_type": "execute_result"
    }
   ],
   "source": [
    "contingency_table = pd.crosstab(\n",
    "    index=crashes[\"lat_long_missing\"], columns=crashes[\"serious_accident\"]\n",
    ")\n",
    "chi2_results = scipy.stats.chi2_contingency(contingency_table)\n",
    "p_val = chi2_results[1]\n",
    "p_val"
   ]
  },
  {
   "cell_type": "code",
   "execution_count": 30,
   "id": "e38d4c94",
   "metadata": {},
   "outputs": [
    {
     "data": {
      "text/plain": [
       "0.20871969735092882"
      ]
     },
     "execution_count": 30,
     "metadata": {},
     "output_type": "execute_result"
    }
   ],
   "source": [
    "# col, row indexing\n",
    "percent_with_lat_long_that_are_serious = contingency_table[1][0] / (\n",
    "    contingency_table[0][0] + contingency_table[1][0]\n",
    ")\n",
    "percent_with_lat_long_that_are_serious"
   ]
  },
  {
   "cell_type": "code",
   "execution_count": 31,
   "id": "ba953755",
   "metadata": {},
   "outputs": [
    {
     "data": {
      "text/plain": [
       "0.1932550098307941"
      ]
     },
     "execution_count": 31,
     "metadata": {},
     "output_type": "execute_result"
    }
   ],
   "source": [
    "percent_missing_lat_long_that_are_serious = contingency_table[1][1] / (\n",
    "    contingency_table[0][1] + contingency_table[1][1]\n",
    ")\n",
    "percent_missing_lat_long_that_are_serious"
   ]
  },
  {
   "cell_type": "code",
   "execution_count": 32,
   "id": "82c66fd8",
   "metadata": {},
   "outputs": [
    {
     "data": {
      "text/plain": [
       "0.10856737102421586"
      ]
     },
     "execution_count": 32,
     "metadata": {},
     "output_type": "execute_result"
    }
   ],
   "source": [
    "percent_serious_missing_lat_long = contingency_table[1][1] / (\n",
    "    contingency_table[1][0] + contingency_table[1][1]\n",
    ")\n",
    "percent_serious_missing_lat_long"
   ]
  },
  {
   "cell_type": "markdown",
   "id": "87853bc0",
   "metadata": {},
   "source": [
    "- The p-value of the Chi-squared test is ~0\n",
    "- Using the Chi-squared test, we reject the null hypothesis that the percentage of collisions with injuries is the same for the population with lat-longs coordinates as for the population without lat-longs coordinates\n",
    "- Approximately ~21% of the collisions that have lat-long coordinates are serious (with injuries or deaths)\n",
    "- Approximately ~19% of the collisions that are missing coordinates are serious\n",
    "- Serious collisions seem to be more likely to have lat-long coordinates with than less serious collisions\n",
    "- ___The good news is that an analysis requiring lat-longs will not exclude data with a higher concentration of serious collisions___\n",
    "- ___The bad news is that ~11% of serious accidents will be removed from the dataset by excluding collisions without lat-long coordinates___"
   ]
  },
  {
   "cell_type": "markdown",
   "id": "10a12814",
   "metadata": {},
   "source": [
    "A quick view of some serious accidents that are missing coordinates suggests that a more in-depth analysis could obtain approximate lat-long coordinates for some of the serious accidents based on other location data"
   ]
  },
  {
   "cell_type": "code",
   "execution_count": 33,
   "id": "50156a5c",
   "metadata": {
    "scrolled": false
   },
   "outputs": [
    {
     "data": {
      "text/html": [
       "<div>\n",
       "<style scoped>\n",
       "    .dataframe tbody tr th:only-of-type {\n",
       "        vertical-align: middle;\n",
       "    }\n",
       "\n",
       "    .dataframe tbody tr th {\n",
       "        vertical-align: top;\n",
       "    }\n",
       "\n",
       "    .dataframe thead th {\n",
       "        text-align: right;\n",
       "    }\n",
       "</style>\n",
       "<table border=\"1\" class=\"dataframe\">\n",
       "  <thead>\n",
       "    <tr style=\"text-align: right;\">\n",
       "      <th></th>\n",
       "      <th>ON STREET NAME</th>\n",
       "      <th>CROSS STREET NAME</th>\n",
       "      <th>OFF STREET NAME</th>\n",
       "    </tr>\n",
       "  </thead>\n",
       "  <tbody>\n",
       "    <tr>\n",
       "      <th>8</th>\n",
       "      <td>GOWANUS RAMP</td>\n",
       "      <td>NaN</td>\n",
       "      <td>NaN</td>\n",
       "    </tr>\n",
       "    <tr>\n",
       "      <th>10</th>\n",
       "      <td>BEVERLEY ROAD</td>\n",
       "      <td>EAST 21 STREET</td>\n",
       "      <td>NaN</td>\n",
       "    </tr>\n",
       "    <tr>\n",
       "      <th>129</th>\n",
       "      <td>PARSONS BLVD</td>\n",
       "      <td>90 AVENUE</td>\n",
       "      <td>NaN</td>\n",
       "    </tr>\n",
       "    <tr>\n",
       "      <th>130</th>\n",
       "      <td>STATEN ISLAND EXPRESSWAY</td>\n",
       "      <td>NaN</td>\n",
       "      <td>NaN</td>\n",
       "    </tr>\n",
       "    <tr>\n",
       "      <th>163</th>\n",
       "      <td>Trans- Manhattan Expressway</td>\n",
       "      <td>Amsterdam Avenue</td>\n",
       "      <td>NaN</td>\n",
       "    </tr>\n",
       "    <tr>\n",
       "      <th>183</th>\n",
       "      <td>REVIEW AVENUE</td>\n",
       "      <td>RAILROAD AVENUE</td>\n",
       "      <td>NaN</td>\n",
       "    </tr>\n",
       "    <tr>\n",
       "      <th>199</th>\n",
       "      <td>ARCHER AVENUE</td>\n",
       "      <td>GUY R BREWER BLVD</td>\n",
       "      <td>NaN</td>\n",
       "    </tr>\n",
       "    <tr>\n",
       "      <th>207</th>\n",
       "      <td>WILLIAMSBURG BRIDGE OUTER ROADWA</td>\n",
       "      <td>NaN</td>\n",
       "      <td>NaN</td>\n",
       "    </tr>\n",
       "    <tr>\n",
       "      <th>249</th>\n",
       "      <td>BRUCKNER BOULEVARD</td>\n",
       "      <td>EAST 135 STREET</td>\n",
       "      <td>NaN</td>\n",
       "    </tr>\n",
       "    <tr>\n",
       "      <th>252</th>\n",
       "      <td>G.C.P. / LAGUARDIA (CDR)</td>\n",
       "      <td>NaN</td>\n",
       "      <td>NaN</td>\n",
       "    </tr>\n",
       "    <tr>\n",
       "      <th>291</th>\n",
       "      <td>BRONX WHITESTONE BRIDGE</td>\n",
       "      <td>NaN</td>\n",
       "      <td>NaN</td>\n",
       "    </tr>\n",
       "    <tr>\n",
       "      <th>308</th>\n",
       "      <td>EAST 128 STREET</td>\n",
       "      <td>3 AVENUE BRIDGE</td>\n",
       "      <td>NaN</td>\n",
       "    </tr>\n",
       "    <tr>\n",
       "      <th>339</th>\n",
       "      <td>THROGS NECK BRIDGE</td>\n",
       "      <td>NaN</td>\n",
       "      <td>NaN</td>\n",
       "    </tr>\n",
       "    <tr>\n",
       "      <th>407</th>\n",
       "      <td>Leonard street</td>\n",
       "      <td>Wallabout Street</td>\n",
       "      <td>NaN</td>\n",
       "    </tr>\n",
       "    <tr>\n",
       "      <th>446</th>\n",
       "      <td>FDR DRIVE</td>\n",
       "      <td>NaN</td>\n",
       "      <td>NaN</td>\n",
       "    </tr>\n",
       "    <tr>\n",
       "      <th>497</th>\n",
       "      <td>PELHAM PARKWAY</td>\n",
       "      <td>NaN</td>\n",
       "      <td>NaN</td>\n",
       "    </tr>\n",
       "    <tr>\n",
       "      <th>502</th>\n",
       "      <td>CROSS ISLAND PARKWAY</td>\n",
       "      <td>NaN</td>\n",
       "      <td>NaN</td>\n",
       "    </tr>\n",
       "    <tr>\n",
       "      <th>523</th>\n",
       "      <td>CLEARVIEW EXPRESSWAY</td>\n",
       "      <td>26 AVENUE</td>\n",
       "      <td>NaN</td>\n",
       "    </tr>\n",
       "    <tr>\n",
       "      <th>638</th>\n",
       "      <td>381A Marcus Garvey Blvd</td>\n",
       "      <td>STUYVESANT AVENUE</td>\n",
       "      <td>NaN</td>\n",
       "    </tr>\n",
       "    <tr>\n",
       "      <th>666</th>\n",
       "      <td>MACOMBS ROAD</td>\n",
       "      <td>FEATHERBED LANE</td>\n",
       "      <td>NaN</td>\n",
       "    </tr>\n",
       "  </tbody>\n",
       "</table>\n",
       "</div>"
      ],
      "text/plain": [
       "                       ON STREET NAME  CROSS STREET NAME OFF STREET NAME\n",
       "8    GOWANUS RAMP                                    NaN             NaN\n",
       "10   BEVERLEY ROAD                        EAST 21 STREET             NaN\n",
       "129                      PARSONS BLVD          90 AVENUE             NaN\n",
       "130          STATEN ISLAND EXPRESSWAY                NaN             NaN\n",
       "163       Trans- Manhattan Expressway   Amsterdam Avenue             NaN\n",
       "183                     REVIEW AVENUE    RAILROAD AVENUE             NaN\n",
       "199                     ARCHER AVENUE  GUY R BREWER BLVD             NaN\n",
       "207  WILLIAMSBURG BRIDGE OUTER ROADWA                NaN             NaN\n",
       "249                BRUCKNER BOULEVARD    EAST 135 STREET             NaN\n",
       "252  G.C.P. / LAGUARDIA (CDR)                        NaN             NaN\n",
       "291           BRONX WHITESTONE BRIDGE                NaN             NaN\n",
       "308                   EAST 128 STREET    3 AVENUE BRIDGE             NaN\n",
       "339                THROGS NECK BRIDGE                NaN             NaN\n",
       "407                    Leonard street   Wallabout Street             NaN\n",
       "446                         FDR DRIVE                NaN             NaN\n",
       "497                    PELHAM PARKWAY                NaN             NaN\n",
       "502  CROSS ISLAND PARKWAY                            NaN             NaN\n",
       "523              CLEARVIEW EXPRESSWAY          26 AVENUE             NaN\n",
       "638           381A Marcus Garvey Blvd  STUYVESANT AVENUE             NaN\n",
       "666                      MACOMBS ROAD    FEATHERBED LANE             NaN"
      ]
     },
     "execution_count": 33,
     "metadata": {},
     "output_type": "execute_result"
    }
   ],
   "source": [
    "serious_missing_location = crashes[\n",
    "    (crashes[\"LOCATION\"].isna()) & (crashes[\"serious_accident\"] == True)\n",
    "]\n",
    "serious_missing_location[\n",
    "    [\"ON STREET NAME\", \"CROSS STREET NAME\", \"OFF STREET NAME\"]\n",
    "].head(20)"
   ]
  },
  {
   "cell_type": "markdown",
   "id": "edbdc282",
   "metadata": {},
   "source": [
    "# Does 'LOCATION' match the individual 'LATITUDE' and 'LONGITUDE' fields?"
   ]
  },
  {
   "cell_type": "code",
   "execution_count": 34,
   "id": "3cc6d5d4",
   "metadata": {},
   "outputs": [],
   "source": [
    "def loc_string_to_tuple(s):\n",
    "    \"\"\"Helper function to convert strings in 'LOCATION' to numeric tuple\"\"\"\n",
    "    s = str(s)  # to handle 'nan's without checking type\n",
    "    if s == \"nan\":\n",
    "        ret = (float(\"nan\"), float(\"nan\"))\n",
    "    else:\n",
    "        s_list = s.strip().split(\",\")\n",
    "        ret = tuple(float(s.strip(\"()\")) for s in s_list)\n",
    "    return ret\n",
    "\n",
    "\n",
    "def tuples_match(tup1, tup2):\n",
    "    \"\"\"Check for tuple equality given that values may be float('nan'). \n",
    "    float('nan') != float('nan'). Returns Boolean\"\"\"\n",
    "    if math.isnan(tup1[0]):\n",
    "        return all([math.isnan(x) for x in (tup1 + tup2)])\n",
    "    else:\n",
    "        return tup1 == tup2"
   ]
  },
  {
   "cell_type": "code",
   "execution_count": 35,
   "id": "109a44f2",
   "metadata": {},
   "outputs": [
    {
     "data": {
      "text/plain": [
       "True"
      ]
     },
     "execution_count": 35,
     "metadata": {},
     "output_type": "execute_result"
    }
   ],
   "source": [
    "location = crashes[\"LOCATION\"].apply(loc_string_to_tuple)\n",
    "lat_long = list(zip(crashes[\"LATITUDE\"], crashes[\"LONGITUDE\"]))\n",
    "matches = [tuples_match(x[0], x[1]) for x in zip(location, lat_long)]\n",
    "all(matches)"
   ]
  },
  {
   "cell_type": "markdown",
   "id": "eb49c4d8",
   "metadata": {},
   "source": [
    "__'LOCATION' matches the individual 'LATITUDE' and 'LONGITUDE' fields__"
   ]
  },
  {
   "cell_type": "markdown",
   "id": "66959ec6",
   "metadata": {},
   "source": [
    "# Are there obviously wrong lat-long coordinates (far outside NYC)?"
   ]
  },
  {
   "cell_type": "code",
   "execution_count": 36,
   "id": "5a3b9825",
   "metadata": {},
   "outputs": [],
   "source": [
    "NYC_WEST_LIMIT = -74.30  # west of Staten Island\n",
    "NYC_EAST_LIMIT = -73.70  # east of Queens / Lakeville Rd.\n",
    "NYC_SOUTH_LIMIT = 40.45  # south of Staten Island\n",
    "NYC_NORTH_LIMIT = 40.95  # north of the Bronx\n",
    "crashes[\"good_lat_long\"] = (\n",
    "    crashes[\"LONGITUDE\"].between(NYC_WEST_LIMIT, NYC_EAST_LIMIT)\n",
    ") & (crashes[\"LATITUDE\"].between(NYC_SOUTH_LIMIT, NYC_NORTH_LIMIT))"
   ]
  },
  {
   "cell_type": "code",
   "execution_count": 37,
   "id": "dbc9f953",
   "metadata": {
    "scrolled": true
   },
   "outputs": [
    {
     "data": {
      "text/plain": [
       "0.9986310977143982"
      ]
     },
     "execution_count": 37,
     "metadata": {},
     "output_type": "execute_result"
    }
   ],
   "source": [
    "with_lat_long_sum = crashes[~crashes[\"lat_long_missing\"]][\"good_lat_long\"].count()\n",
    "good_lat_long_sum = crashes[~crashes[\"lat_long_missing\"]][\"good_lat_long\"].sum()\n",
    "good_lat_long_sum / with_lat_long_sum"
   ]
  },
  {
   "cell_type": "code",
   "execution_count": 38,
   "id": "36f9c4d5",
   "metadata": {},
   "outputs": [
    {
     "data": {
      "text/plain": [
       "2149"
      ]
     },
     "execution_count": 38,
     "metadata": {},
     "output_type": "execute_result"
    }
   ],
   "source": [
    "with_lat_long_sum - good_lat_long_sum"
   ]
  },
  {
   "cell_type": "markdown",
   "id": "2e1d2d93",
   "metadata": {},
   "source": [
    "- ~99.9% (or all but 2149) of the collisions that have coordinates, have coordinates that are in vicinity of NYC. "
   ]
  },
  {
   "cell_type": "markdown",
   "id": "a5183bac",
   "metadata": {},
   "source": [
    "# Conclusions\n",
    "\n",
    "- The data contains time, location (in most cases), and the number of people injured or killed in automobile collisions dating back to 2012\n",
    "- There do not appear to be any significant gaps in data collection going back to 2012\n",
    "- There are some minor inconsistencies betweeen the total number of people injured or killed and their respective breakdown into pedestrian, cyclist, and motorist categories. We will be using the distinct categories going forward rather than the provided sum. The sum injured and killed fields can be recomputed from the separate categories\n",
    "- ~12% of collisions are missing location data\n",
    "- The 'LOCATION' field matches \"LATITUDE' and 'LONGITUDE' with no inconsistencies \n",
    "- ~99.9% of collisions with location data have coordinates that correspond to the NYC area"
   ]
  }
 ],
 "metadata": {
  "kernelspec": {
   "display_name": "Python 3 (ipykernel)",
   "language": "python",
   "name": "python3"
  },
  "language_info": {
   "codemirror_mode": {
    "name": "ipython",
    "version": 3
   },
   "file_extension": ".py",
   "mimetype": "text/x-python",
   "name": "python",
   "nbconvert_exporter": "python",
   "pygments_lexer": "ipython3",
   "version": "3.9.12"
  }
 },
 "nbformat": 4,
 "nbformat_minor": 5
}
